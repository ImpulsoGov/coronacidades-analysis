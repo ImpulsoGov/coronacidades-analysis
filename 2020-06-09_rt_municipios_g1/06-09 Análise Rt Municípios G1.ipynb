{
 "cells": [
  {
   "cell_type": "markdown",
   "metadata": {},
   "source": [
    "# Análise dos Ritmos de contágio municipais para o G1 "
   ]
  },
  {
   "cell_type": "markdown",
   "metadata": {},
   "source": [
    "Para uma melhor compreensão da situação dos municípios no combate a Pandemia da Covid-19, analisamos as 5% cidades com mais mortes para a verificação dos ritmos de contágio usando os dados do datasource do coronacidades. Usando indicadores como a quantidade de mortes e o ritmo de contágio de cada município podemos formar uma compreensão de como as mortes causadas pelo coronavírus e a variação de Rt se relaciona nos municípios onde a situação é mais grave, além da situação dos munícipios na curva de mortes.\n",
    "\n",
    "*Code made by: Francisco Nogueira*\n",
    "\n",
    "<img src=\"https://coronacidades.org/wp-content/uploads/2020/05/logo-coronacidades-azul.svg\" width=\"150\" height=\"75\" align=\"left\"></img>"
   ]
  },
  {
   "cell_type": "markdown",
   "metadata": {},
   "source": [
    "## Importando as bibliotecas necessárias"
   ]
  },
  {
   "cell_type": "code",
   "execution_count": 1,
   "metadata": {},
   "outputs": [
    {
     "data": {
      "text/html": [
       "        <script type=\"text/javascript\">\n",
       "        window.PlotlyConfig = {MathJaxConfig: 'local'};\n",
       "        if (window.MathJax) {MathJax.Hub.Config({SVG: {font: \"STIX-Web\"}});}\n",
       "        if (typeof require !== 'undefined') {\n",
       "        require.undef(\"plotly\");\n",
       "        requirejs.config({\n",
       "            paths: {\n",
       "                'plotly': ['https://cdn.plot.ly/plotly-latest.min']\n",
       "            }\n",
       "        });\n",
       "        require(['plotly'], function(Plotly) {\n",
       "            window._Plotly = Plotly;\n",
       "        });\n",
       "        }\n",
       "        </script>\n",
       "        "
      ]
     },
     "metadata": {},
     "output_type": "display_data"
    }
   ],
   "source": [
    "%reload_ext autoreload\n",
    "%autoreload 2\n",
    "import sys\n",
    "sys.path.append(\"..\")\n",
    "\n",
    "import numpy as np\n",
    "import pandas as pd\n",
    "pd.options.display.max_columns = 999\n",
    "import warnings\n",
    "\n",
    "warnings.filterwarnings('ignore')\n",
    "\n",
    "# Plotting\n",
    "import plotly\n",
    "import plotly.graph_objs as go\n",
    "import cufflinks as cf\n",
    "plotly.offline.init_notebook_mode(connected=True)\n",
    "\n",
    "# Centering and fixing title\n",
    "def iplottitle(title, width=40):\n",
    "    return '<br>'.join(textwrap.wrap(title, width))\n"
   ]
  },
  {
   "cell_type": "code",
   "execution_count": 2,
   "metadata": {},
   "outputs": [
    {
     "data": {
      "text/html": [
       "        <script type=\"text/javascript\">\n",
       "        window.PlotlyConfig = {MathJaxConfig: 'local'};\n",
       "        if (window.MathJax) {MathJax.Hub.Config({SVG: {font: \"STIX-Web\"}});}\n",
       "        if (typeof require !== 'undefined') {\n",
       "        require.undef(\"plotly\");\n",
       "        requirejs.config({\n",
       "            paths: {\n",
       "                'plotly': ['https://cdn.plot.ly/plotly-latest.min']\n",
       "            }\n",
       "        });\n",
       "        require(['plotly'], function(Plotly) {\n",
       "            window._Plotly = Plotly;\n",
       "        });\n",
       "        }\n",
       "        </script>\n",
       "        "
      ]
     },
     "metadata": {},
     "output_type": "display_data"
    }
   ],
   "source": [
    "from scripts.aux import *\n",
    "import matplotlib.pyplot as plt"
   ]
  },
  {
   "cell_type": "markdown",
   "metadata": {},
   "source": [
    "## Load Data\n",
    "\n",
    "Aqui estaremos os usando os dados do datasource padrão do coronacidades para fazer essa análise."
   ]
  },
  {
   "cell_type": "code",
   "execution_count": 3,
   "metadata": {},
   "outputs": [
    {
     "data": {
      "text/html": [
       "<div>\n",
       "<style scoped>\n",
       "    .dataframe tbody tr th:only-of-type {\n",
       "        vertical-align: middle;\n",
       "    }\n",
       "\n",
       "    .dataframe tbody tr th {\n",
       "        vertical-align: top;\n",
       "    }\n",
       "\n",
       "    .dataframe thead th {\n",
       "        text-align: right;\n",
       "    }\n",
       "</style>\n",
       "<table border=\"1\" class=\"dataframe\">\n",
       "  <thead>\n",
       "    <tr style=\"text-align: right;\">\n",
       "      <th></th>\n",
       "      <th>city_id</th>\n",
       "      <th>city_name</th>\n",
       "      <th>state_id</th>\n",
       "      <th>state_name</th>\n",
       "      <th>population</th>\n",
       "      <th>health_system_region</th>\n",
       "      <th>last_updated_number_beds</th>\n",
       "      <th>author_number_beds</th>\n",
       "      <th>number_beds</th>\n",
       "      <th>last_updated_number_ventilators</th>\n",
       "      <th>author_number_ventilators</th>\n",
       "      <th>number_ventilators</th>\n",
       "      <th>confirmed_cases</th>\n",
       "      <th>active_cases</th>\n",
       "      <th>deaths</th>\n",
       "      <th>notification_rate</th>\n",
       "      <th>state_notification_rate</th>\n",
       "      <th>last_updated_subnotification</th>\n",
       "      <th>subnotification_place_type</th>\n",
       "      <th>subnotification_rate</th>\n",
       "      <th>subnotification_rank</th>\n",
       "      <th>subnotification_classification</th>\n",
       "      <th>last_updated_rt</th>\n",
       "      <th>rt_10days_ago_low</th>\n",
       "      <th>rt_10days_ago_high</th>\n",
       "      <th>rt_10days_ago_most_likely</th>\n",
       "      <th>rt_17days_ago_low</th>\n",
       "      <th>rt_17days_ago_high</th>\n",
       "      <th>rt_17days_ago_most_likely</th>\n",
       "      <th>rt_classification</th>\n",
       "      <th>rt_10days_ago_avg</th>\n",
       "      <th>rt_17days_ago_avg</th>\n",
       "      <th>rt_ratio_week_avg</th>\n",
       "      <th>rt_growth</th>\n",
       "      <th>last_updated_inloco</th>\n",
       "      <th>inloco_today_7days_avg</th>\n",
       "      <th>inloco_last_week_7days_avg</th>\n",
       "      <th>inloco_ratio_week_avgs</th>\n",
       "      <th>inloco_growth</th>\n",
       "      <th>dday_beds_best</th>\n",
       "      <th>dday_beds_worst</th>\n",
       "      <th>dday_classification</th>\n",
       "      <th>dday_beds_best_months</th>\n",
       "      <th>overall_alert</th>\n",
       "      <th>data_last_refreshed</th>\n",
       "    </tr>\n",
       "  </thead>\n",
       "  <tbody>\n",
       "    <tr>\n",
       "      <th>0</th>\n",
       "      <td>5200050</td>\n",
       "      <td>Abadia de Goiás</td>\n",
       "      <td>GO</td>\n",
       "      <td>Goiás</td>\n",
       "      <td>8773</td>\n",
       "      <td>Central</td>\n",
       "      <td>2020-04-01</td>\n",
       "      <td>DataSUS</td>\n",
       "      <td>0</td>\n",
       "      <td>2020-04-01</td>\n",
       "      <td>DataSUS</td>\n",
       "      <td>0.0</td>\n",
       "      <td>10.0</td>\n",
       "      <td>6.0</td>\n",
       "      <td>0.0</td>\n",
       "      <td>0.660313</td>\n",
       "      <td>0.660313</td>\n",
       "      <td>2020-06-10 12:53:24</td>\n",
       "      <td>state</td>\n",
       "      <td>0.339687</td>\n",
       "      <td>NaN</td>\n",
       "      <td>NaN</td>\n",
       "      <td>2020-06-10 13:35:27</td>\n",
       "      <td>0.57</td>\n",
       "      <td>2.67</td>\n",
       "      <td>1.54</td>\n",
       "      <td>0.61</td>\n",
       "      <td>4.04</td>\n",
       "      <td>2.09</td>\n",
       "      <td>NaN</td>\n",
       "      <td>1.70</td>\n",
       "      <td>NaN</td>\n",
       "      <td>NaN</td>\n",
       "      <td>NaN</td>\n",
       "      <td>2020-06-10 12:54:43</td>\n",
       "      <td>0.341017</td>\n",
       "      <td>0.360402</td>\n",
       "      <td>0.946212</td>\n",
       "      <td>estabilizando</td>\n",
       "      <td>NaN</td>\n",
       "      <td>NaN</td>\n",
       "      <td>NaN</td>\n",
       "      <td>NaN</td>\n",
       "      <td>NaN</td>\n",
       "      <td>2020-06-10 13:36:23</td>\n",
       "    </tr>\n",
       "    <tr>\n",
       "      <th>1</th>\n",
       "      <td>3100104</td>\n",
       "      <td>Abadia dos Dourados</td>\n",
       "      <td>MG</td>\n",
       "      <td>Minas Gerais</td>\n",
       "      <td>6989</td>\n",
       "      <td>Uberlândia</td>\n",
       "      <td>2020-04-01</td>\n",
       "      <td>DataSUS</td>\n",
       "      <td>11</td>\n",
       "      <td>2020-04-01</td>\n",
       "      <td>DataSUS</td>\n",
       "      <td>0.0</td>\n",
       "      <td>5.0</td>\n",
       "      <td>0.0</td>\n",
       "      <td>0.0</td>\n",
       "      <td>0.820360</td>\n",
       "      <td>0.820360</td>\n",
       "      <td>2020-06-10 12:53:24</td>\n",
       "      <td>state</td>\n",
       "      <td>0.179640</td>\n",
       "      <td>NaN</td>\n",
       "      <td>NaN</td>\n",
       "      <td>2020-06-10 13:35:27</td>\n",
       "      <td>NaN</td>\n",
       "      <td>NaN</td>\n",
       "      <td>NaN</td>\n",
       "      <td>NaN</td>\n",
       "      <td>NaN</td>\n",
       "      <td>NaN</td>\n",
       "      <td>NaN</td>\n",
       "      <td>NaN</td>\n",
       "      <td>NaN</td>\n",
       "      <td>NaN</td>\n",
       "      <td>NaN</td>\n",
       "      <td>2020-06-10 12:54:43</td>\n",
       "      <td>0.399017</td>\n",
       "      <td>0.424621</td>\n",
       "      <td>0.939701</td>\n",
       "      <td>estabilizando</td>\n",
       "      <td>NaN</td>\n",
       "      <td>NaN</td>\n",
       "      <td>NaN</td>\n",
       "      <td>NaN</td>\n",
       "      <td>NaN</td>\n",
       "      <td>2020-06-10 13:36:23</td>\n",
       "    </tr>\n",
       "    <tr>\n",
       "      <th>2</th>\n",
       "      <td>5200100</td>\n",
       "      <td>Abadiânia</td>\n",
       "      <td>GO</td>\n",
       "      <td>Goiás</td>\n",
       "      <td>20042</td>\n",
       "      <td>Pirineus</td>\n",
       "      <td>2020-04-01</td>\n",
       "      <td>DataSUS</td>\n",
       "      <td>9</td>\n",
       "      <td>2020-04-01</td>\n",
       "      <td>DataSUS</td>\n",
       "      <td>0.0</td>\n",
       "      <td>14.0</td>\n",
       "      <td>21.0</td>\n",
       "      <td>0.0</td>\n",
       "      <td>0.660313</td>\n",
       "      <td>0.660313</td>\n",
       "      <td>2020-06-10 12:53:24</td>\n",
       "      <td>state</td>\n",
       "      <td>0.339687</td>\n",
       "      <td>NaN</td>\n",
       "      <td>NaN</td>\n",
       "      <td>2020-06-10 13:35:27</td>\n",
       "      <td>NaN</td>\n",
       "      <td>NaN</td>\n",
       "      <td>NaN</td>\n",
       "      <td>NaN</td>\n",
       "      <td>NaN</td>\n",
       "      <td>NaN</td>\n",
       "      <td>NaN</td>\n",
       "      <td>NaN</td>\n",
       "      <td>NaN</td>\n",
       "      <td>NaN</td>\n",
       "      <td>NaN</td>\n",
       "      <td>2020-06-10 12:54:43</td>\n",
       "      <td>0.383641</td>\n",
       "      <td>0.383686</td>\n",
       "      <td>0.999882</td>\n",
       "      <td>estabilizando</td>\n",
       "      <td>NaN</td>\n",
       "      <td>NaN</td>\n",
       "      <td>NaN</td>\n",
       "      <td>NaN</td>\n",
       "      <td>NaN</td>\n",
       "      <td>2020-06-10 13:36:23</td>\n",
       "    </tr>\n",
       "    <tr>\n",
       "      <th>3</th>\n",
       "      <td>1500107</td>\n",
       "      <td>Abaetetuba</td>\n",
       "      <td>PA</td>\n",
       "      <td>Pará</td>\n",
       "      <td>157698</td>\n",
       "      <td>Alça Viária</td>\n",
       "      <td>2020-04-01</td>\n",
       "      <td>DataSUS</td>\n",
       "      <td>214</td>\n",
       "      <td>2020-04-01</td>\n",
       "      <td>DataSUS</td>\n",
       "      <td>10.0</td>\n",
       "      <td>1735.0</td>\n",
       "      <td>785.0</td>\n",
       "      <td>68.0</td>\n",
       "      <td>0.523409</td>\n",
       "      <td>0.294076</td>\n",
       "      <td>2020-06-10 12:53:24</td>\n",
       "      <td>city</td>\n",
       "      <td>0.476591</td>\n",
       "      <td>49.0</td>\n",
       "      <td>bom</td>\n",
       "      <td>2020-06-10 13:35:27</td>\n",
       "      <td>1.63</td>\n",
       "      <td>1.85</td>\n",
       "      <td>1.75</td>\n",
       "      <td>1.59</td>\n",
       "      <td>1.91</td>\n",
       "      <td>1.77</td>\n",
       "      <td>ruim</td>\n",
       "      <td>1.97</td>\n",
       "      <td>1.648571</td>\n",
       "      <td>1.194974</td>\n",
       "      <td>piorando</td>\n",
       "      <td>2020-06-10 12:54:43</td>\n",
       "      <td>0.444223</td>\n",
       "      <td>0.477182</td>\n",
       "      <td>0.930930</td>\n",
       "      <td>estabilizando</td>\n",
       "      <td>10.0</td>\n",
       "      <td>9.0</td>\n",
       "      <td>ruim</td>\n",
       "      <td>1.0</td>\n",
       "      <td>alto</td>\n",
       "      <td>2020-06-10 13:36:23</td>\n",
       "    </tr>\n",
       "    <tr>\n",
       "      <th>4</th>\n",
       "      <td>3100203</td>\n",
       "      <td>Abaeté</td>\n",
       "      <td>MG</td>\n",
       "      <td>Minas Gerais</td>\n",
       "      <td>23237</td>\n",
       "      <td>Sete Lagoas</td>\n",
       "      <td>2020-04-01</td>\n",
       "      <td>DataSUS</td>\n",
       "      <td>32</td>\n",
       "      <td>2020-04-01</td>\n",
       "      <td>DataSUS</td>\n",
       "      <td>2.0</td>\n",
       "      <td>2.0</td>\n",
       "      <td>0.0</td>\n",
       "      <td>0.0</td>\n",
       "      <td>0.820360</td>\n",
       "      <td>0.820360</td>\n",
       "      <td>2020-06-10 12:53:24</td>\n",
       "      <td>state</td>\n",
       "      <td>0.179640</td>\n",
       "      <td>NaN</td>\n",
       "      <td>NaN</td>\n",
       "      <td>2020-06-10 13:35:27</td>\n",
       "      <td>NaN</td>\n",
       "      <td>NaN</td>\n",
       "      <td>NaN</td>\n",
       "      <td>NaN</td>\n",
       "      <td>NaN</td>\n",
       "      <td>NaN</td>\n",
       "      <td>NaN</td>\n",
       "      <td>NaN</td>\n",
       "      <td>NaN</td>\n",
       "      <td>NaN</td>\n",
       "      <td>NaN</td>\n",
       "      <td>2020-06-10 12:54:43</td>\n",
       "      <td>0.344277</td>\n",
       "      <td>0.363129</td>\n",
       "      <td>0.948084</td>\n",
       "      <td>estabilizando</td>\n",
       "      <td>NaN</td>\n",
       "      <td>NaN</td>\n",
       "      <td>NaN</td>\n",
       "      <td>NaN</td>\n",
       "      <td>NaN</td>\n",
       "      <td>2020-06-10 13:36:23</td>\n",
       "    </tr>\n",
       "  </tbody>\n",
       "</table>\n",
       "</div>"
      ],
      "text/plain": [
       "   city_id            city_name state_id    state_name  population  \\\n",
       "0  5200050      Abadia de Goiás       GO         Goiás        8773   \n",
       "1  3100104  Abadia dos Dourados       MG  Minas Gerais        6989   \n",
       "2  5200100            Abadiânia       GO         Goiás       20042   \n",
       "3  1500107           Abaetetuba       PA          Pará      157698   \n",
       "4  3100203               Abaeté       MG  Minas Gerais       23237   \n",
       "\n",
       "  health_system_region last_updated_number_beds author_number_beds  \\\n",
       "0              Central               2020-04-01            DataSUS   \n",
       "1           Uberlândia               2020-04-01            DataSUS   \n",
       "2             Pirineus               2020-04-01            DataSUS   \n",
       "3          Alça Viária               2020-04-01            DataSUS   \n",
       "4          Sete Lagoas               2020-04-01            DataSUS   \n",
       "\n",
       "   number_beds last_updated_number_ventilators author_number_ventilators  \\\n",
       "0            0                      2020-04-01                   DataSUS   \n",
       "1           11                      2020-04-01                   DataSUS   \n",
       "2            9                      2020-04-01                   DataSUS   \n",
       "3          214                      2020-04-01                   DataSUS   \n",
       "4           32                      2020-04-01                   DataSUS   \n",
       "\n",
       "   number_ventilators  confirmed_cases  active_cases  deaths  \\\n",
       "0                 0.0             10.0           6.0     0.0   \n",
       "1                 0.0              5.0           0.0     0.0   \n",
       "2                 0.0             14.0          21.0     0.0   \n",
       "3                10.0           1735.0         785.0    68.0   \n",
       "4                 2.0              2.0           0.0     0.0   \n",
       "\n",
       "   notification_rate  state_notification_rate last_updated_subnotification  \\\n",
       "0           0.660313                 0.660313          2020-06-10 12:53:24   \n",
       "1           0.820360                 0.820360          2020-06-10 12:53:24   \n",
       "2           0.660313                 0.660313          2020-06-10 12:53:24   \n",
       "3           0.523409                 0.294076          2020-06-10 12:53:24   \n",
       "4           0.820360                 0.820360          2020-06-10 12:53:24   \n",
       "\n",
       "  subnotification_place_type  subnotification_rate  subnotification_rank  \\\n",
       "0                      state              0.339687                   NaN   \n",
       "1                      state              0.179640                   NaN   \n",
       "2                      state              0.339687                   NaN   \n",
       "3                       city              0.476591                  49.0   \n",
       "4                      state              0.179640                   NaN   \n",
       "\n",
       "  subnotification_classification      last_updated_rt  rt_10days_ago_low  \\\n",
       "0                            NaN  2020-06-10 13:35:27               0.57   \n",
       "1                            NaN  2020-06-10 13:35:27                NaN   \n",
       "2                            NaN  2020-06-10 13:35:27                NaN   \n",
       "3                            bom  2020-06-10 13:35:27               1.63   \n",
       "4                            NaN  2020-06-10 13:35:27                NaN   \n",
       "\n",
       "   rt_10days_ago_high  rt_10days_ago_most_likely  rt_17days_ago_low  \\\n",
       "0                2.67                       1.54               0.61   \n",
       "1                 NaN                        NaN                NaN   \n",
       "2                 NaN                        NaN                NaN   \n",
       "3                1.85                       1.75               1.59   \n",
       "4                 NaN                        NaN                NaN   \n",
       "\n",
       "   rt_17days_ago_high  rt_17days_ago_most_likely rt_classification  \\\n",
       "0                4.04                       2.09               NaN   \n",
       "1                 NaN                        NaN               NaN   \n",
       "2                 NaN                        NaN               NaN   \n",
       "3                1.91                       1.77              ruim   \n",
       "4                 NaN                        NaN               NaN   \n",
       "\n",
       "   rt_10days_ago_avg  rt_17days_ago_avg  rt_ratio_week_avg rt_growth  \\\n",
       "0               1.70                NaN                NaN       NaN   \n",
       "1                NaN                NaN                NaN       NaN   \n",
       "2                NaN                NaN                NaN       NaN   \n",
       "3               1.97           1.648571           1.194974  piorando   \n",
       "4                NaN                NaN                NaN       NaN   \n",
       "\n",
       "   last_updated_inloco  inloco_today_7days_avg  inloco_last_week_7days_avg  \\\n",
       "0  2020-06-10 12:54:43                0.341017                    0.360402   \n",
       "1  2020-06-10 12:54:43                0.399017                    0.424621   \n",
       "2  2020-06-10 12:54:43                0.383641                    0.383686   \n",
       "3  2020-06-10 12:54:43                0.444223                    0.477182   \n",
       "4  2020-06-10 12:54:43                0.344277                    0.363129   \n",
       "\n",
       "   inloco_ratio_week_avgs  inloco_growth  dday_beds_best  dday_beds_worst  \\\n",
       "0                0.946212  estabilizando             NaN              NaN   \n",
       "1                0.939701  estabilizando             NaN              NaN   \n",
       "2                0.999882  estabilizando             NaN              NaN   \n",
       "3                0.930930  estabilizando            10.0              9.0   \n",
       "4                0.948084  estabilizando             NaN              NaN   \n",
       "\n",
       "  dday_classification  dday_beds_best_months overall_alert  \\\n",
       "0                 NaN                    NaN           NaN   \n",
       "1                 NaN                    NaN           NaN   \n",
       "2                 NaN                    NaN           NaN   \n",
       "3                ruim                    1.0          alto   \n",
       "4                 NaN                    NaN           NaN   \n",
       "\n",
       "   data_last_refreshed  \n",
       "0  2020-06-10 13:36:23  \n",
       "1  2020-06-10 13:36:23  \n",
       "2  2020-06-10 13:36:23  \n",
       "3  2020-06-10 13:36:23  \n",
       "4  2020-06-10 13:36:23  "
      ]
     },
     "execution_count": 3,
     "metadata": {},
     "output_type": "execute_result"
    }
   ],
   "source": [
    "df = pd.read_csv('http://datasource.coronacidades.org:7000/br/cities/farolcovid/main')\n",
    "df = df.sort_values('city_name')\\\n",
    "                    .reset_index(drop=True)\n",
    "\n",
    "df.head()"
   ]
  },
  {
   "cell_type": "code",
   "execution_count": 4,
   "metadata": {},
   "outputs": [
    {
     "name": "stdout",
     "output_type": "stream",
     "text": [
      "Total de mortos:  38264.0\n",
      "Atualizado em:  2020-06-10 13:36:23\n",
      "Rt atualizado em:  2020-06-10 12:53:24\n"
     ]
    }
   ],
   "source": [
    "# Indicador sobre atualização dos dados e total de mortos\n",
    "print(\"Total de mortos: \", df['deaths'].sum())\n",
    "\n",
    "print(\"Atualizado em: \", df['data_last_refreshed'].max())\n",
    "\n",
    "print(\"Rt atualizado em: \", df['last_updated_subnotification'].min())"
   ]
  },
  {
   "cell_type": "markdown",
   "metadata": {},
   "source": [
    "Carregando os dados por estado"
   ]
  },
  {
   "cell_type": "code",
   "execution_count": 5,
   "metadata": {},
   "outputs": [],
   "source": [
    "dfstates = pd.read_csv('http://datasource.coronacidades.org:7000/br/states/farolcovid/main')"
   ]
  },
  {
   "cell_type": "markdown",
   "metadata": {},
   "source": [
    "Filtrando dados que apresentam cálculo de Rt<p>\n",
    "O rt_ratio_week_avg é a coluna que representa a razão entre o Rt médio nos últimos 10 dias e o Rt médio nos ultimos 17 dias, portanto descreve a variação do Rt. Se o ratio é maior que 1, então o local teve um Rt em média maior nos últimos 10 dias do que nos últimos 17, portanto houve um crescimento médio. O inverso vale para um ratio menor que 1."
   ]
  },
  {
   "cell_type": "code",
   "execution_count": 6,
   "metadata": {},
   "outputs": [],
   "source": [
    "dfna = df.loc[df['rt_ratio_week_avg'].isna()]\n",
    "dfnna = df.loc[~df['rt_ratio_week_avg'].isna()]"
   ]
  },
  {
   "cell_type": "code",
   "execution_count": 7,
   "metadata": {},
   "outputs": [
    {
     "name": "stdout",
     "output_type": "stream",
     "text": [
      "95° Percentil de Mortos: 35.00\n"
     ]
    }
   ],
   "source": [
    "# 95° Percentil\n",
    "p95_deaths = np.percentile(dfnna['deaths'],95)\n",
    "print(f\"95° Percentil de Mortos: {p95_deaths:.2f}\")"
   ]
  },
  {
   "cell_type": "markdown",
   "metadata": {},
   "source": [
    "Filtrando os municípios que concentram mais mortes"
   ]
  },
  {
   "cell_type": "code",
   "execution_count": 8,
   "metadata": {},
   "outputs": [
    {
     "name": "stdout",
     "output_type": "stream",
     "text": [
      "Total de Municípios analisado: 127\n"
     ]
    }
   ],
   "source": [
    "dfnfilt = dfnna.query(f\"deaths >= {p95_deaths}\")\\\n",
    "            .sort_values(['rt_ratio_week_avg'])\\\n",
    "            .reset_index(drop=True)\n",
    "\n",
    "print(\"Total de Municípios analisado: %d\" % dfnfilt.shape[0])"
   ]
  },
  {
   "cell_type": "code",
   "execution_count": 9,
   "metadata": {},
   "outputs": [
    {
     "data": {
      "text/html": [
       "<div>\n",
       "<style scoped>\n",
       "    .dataframe tbody tr th:only-of-type {\n",
       "        vertical-align: middle;\n",
       "    }\n",
       "\n",
       "    .dataframe tbody tr th {\n",
       "        vertical-align: top;\n",
       "    }\n",
       "\n",
       "    .dataframe thead th {\n",
       "        text-align: right;\n",
       "    }\n",
       "</style>\n",
       "<table border=\"1\" class=\"dataframe\">\n",
       "  <thead>\n",
       "    <tr style=\"text-align: right;\">\n",
       "      <th></th>\n",
       "      <th>city_id</th>\n",
       "      <th>city_name</th>\n",
       "      <th>state_id</th>\n",
       "      <th>state_name</th>\n",
       "      <th>population</th>\n",
       "      <th>health_system_region</th>\n",
       "      <th>last_updated_number_beds</th>\n",
       "      <th>author_number_beds</th>\n",
       "      <th>number_beds</th>\n",
       "      <th>last_updated_number_ventilators</th>\n",
       "      <th>author_number_ventilators</th>\n",
       "      <th>number_ventilators</th>\n",
       "      <th>confirmed_cases</th>\n",
       "      <th>active_cases</th>\n",
       "      <th>deaths</th>\n",
       "      <th>notification_rate</th>\n",
       "      <th>state_notification_rate</th>\n",
       "      <th>last_updated_subnotification</th>\n",
       "      <th>subnotification_place_type</th>\n",
       "      <th>subnotification_rate</th>\n",
       "      <th>subnotification_rank</th>\n",
       "      <th>subnotification_classification</th>\n",
       "      <th>last_updated_rt</th>\n",
       "      <th>rt_10days_ago_low</th>\n",
       "      <th>rt_10days_ago_high</th>\n",
       "      <th>rt_10days_ago_most_likely</th>\n",
       "      <th>rt_17days_ago_low</th>\n",
       "      <th>rt_17days_ago_high</th>\n",
       "      <th>rt_17days_ago_most_likely</th>\n",
       "      <th>rt_classification</th>\n",
       "      <th>rt_10days_ago_avg</th>\n",
       "      <th>rt_17days_ago_avg</th>\n",
       "      <th>rt_ratio_week_avg</th>\n",
       "      <th>rt_growth</th>\n",
       "      <th>last_updated_inloco</th>\n",
       "      <th>inloco_today_7days_avg</th>\n",
       "      <th>inloco_last_week_7days_avg</th>\n",
       "      <th>inloco_ratio_week_avgs</th>\n",
       "      <th>inloco_growth</th>\n",
       "      <th>dday_beds_best</th>\n",
       "      <th>dday_beds_worst</th>\n",
       "      <th>dday_classification</th>\n",
       "      <th>dday_beds_best_months</th>\n",
       "      <th>overall_alert</th>\n",
       "      <th>data_last_refreshed</th>\n",
       "    </tr>\n",
       "  </thead>\n",
       "  <tbody>\n",
       "    <tr>\n",
       "      <th>0</th>\n",
       "      <td>1505536</td>\n",
       "      <td>Parauapebas</td>\n",
       "      <td>PA</td>\n",
       "      <td>Pará</td>\n",
       "      <td>208273</td>\n",
       "      <td>Serra dos Carajás</td>\n",
       "      <td>2020-04-01</td>\n",
       "      <td>DataSUS</td>\n",
       "      <td>182</td>\n",
       "      <td>2020-04-01</td>\n",
       "      <td>DataSUS</td>\n",
       "      <td>46.0</td>\n",
       "      <td>4325.0</td>\n",
       "      <td>3934.0</td>\n",
       "      <td>88.0</td>\n",
       "      <td>0.819842</td>\n",
       "      <td>0.294076</td>\n",
       "      <td>2020-06-10 12:53:24</td>\n",
       "      <td>city</td>\n",
       "      <td>0.180158</td>\n",
       "      <td>19.0</td>\n",
       "      <td>bom</td>\n",
       "      <td>2020-06-10 13:35:27</td>\n",
       "      <td>1.33</td>\n",
       "      <td>1.50</td>\n",
       "      <td>1.42</td>\n",
       "      <td>1.86</td>\n",
       "      <td>2.07</td>\n",
       "      <td>1.98</td>\n",
       "      <td>ruim</td>\n",
       "      <td>1.584286</td>\n",
       "      <td>2.084286</td>\n",
       "      <td>0.760110</td>\n",
       "      <td>melhorando</td>\n",
       "      <td>2020-06-10 12:54:43</td>\n",
       "      <td>0.386839</td>\n",
       "      <td>0.423252</td>\n",
       "      <td>0.913969</td>\n",
       "      <td>estabilizando</td>\n",
       "      <td>1.0</td>\n",
       "      <td>1.0</td>\n",
       "      <td>ruim</td>\n",
       "      <td>1.0</td>\n",
       "      <td>alto</td>\n",
       "      <td>2020-06-10 13:36:23</td>\n",
       "    </tr>\n",
       "    <tr>\n",
       "      <th>1</th>\n",
       "      <td>1504422</td>\n",
       "      <td>Marituba</td>\n",
       "      <td>PA</td>\n",
       "      <td>Pará</td>\n",
       "      <td>131521</td>\n",
       "      <td>Metropolitana</td>\n",
       "      <td>2020-04-01</td>\n",
       "      <td>DataSUS</td>\n",
       "      <td>106</td>\n",
       "      <td>2020-04-01</td>\n",
       "      <td>DataSUS</td>\n",
       "      <td>20.0</td>\n",
       "      <td>510.0</td>\n",
       "      <td>738.0</td>\n",
       "      <td>50.0</td>\n",
       "      <td>0.206007</td>\n",
       "      <td>0.294076</td>\n",
       "      <td>2020-06-10 12:53:24</td>\n",
       "      <td>city</td>\n",
       "      <td>0.793993</td>\n",
       "      <td>111.0</td>\n",
       "      <td>ruim</td>\n",
       "      <td>2020-06-10 13:35:27</td>\n",
       "      <td>1.41</td>\n",
       "      <td>1.66</td>\n",
       "      <td>1.56</td>\n",
       "      <td>1.84</td>\n",
       "      <td>2.17</td>\n",
       "      <td>2.02</td>\n",
       "      <td>ruim</td>\n",
       "      <td>1.742857</td>\n",
       "      <td>2.245714</td>\n",
       "      <td>0.776081</td>\n",
       "      <td>melhorando</td>\n",
       "      <td>2020-06-10 12:54:43</td>\n",
       "      <td>0.379520</td>\n",
       "      <td>0.403175</td>\n",
       "      <td>0.941329</td>\n",
       "      <td>estabilizando</td>\n",
       "      <td>1.0</td>\n",
       "      <td>1.0</td>\n",
       "      <td>ruim</td>\n",
       "      <td>1.0</td>\n",
       "      <td>alto</td>\n",
       "      <td>2020-06-10 13:36:23</td>\n",
       "    </tr>\n",
       "    <tr>\n",
       "      <th>2</th>\n",
       "      <td>1501808</td>\n",
       "      <td>Breves</td>\n",
       "      <td>PA</td>\n",
       "      <td>Pará</td>\n",
       "      <td>102701</td>\n",
       "      <td>Marajó Ocidental</td>\n",
       "      <td>2020-04-01</td>\n",
       "      <td>DataSUS</td>\n",
       "      <td>88</td>\n",
       "      <td>2020-04-01</td>\n",
       "      <td>DataSUS</td>\n",
       "      <td>26.0</td>\n",
       "      <td>649.0</td>\n",
       "      <td>912.0</td>\n",
       "      <td>63.0</td>\n",
       "      <td>0.194036</td>\n",
       "      <td>0.294076</td>\n",
       "      <td>2020-06-10 12:53:24</td>\n",
       "      <td>city</td>\n",
       "      <td>0.805964</td>\n",
       "      <td>117.0</td>\n",
       "      <td>ruim</td>\n",
       "      <td>2020-06-10 13:35:27</td>\n",
       "      <td>0.94</td>\n",
       "      <td>1.14</td>\n",
       "      <td>1.06</td>\n",
       "      <td>1.21</td>\n",
       "      <td>1.41</td>\n",
       "      <td>1.32</td>\n",
       "      <td>insatisfatório</td>\n",
       "      <td>1.155714</td>\n",
       "      <td>1.484286</td>\n",
       "      <td>0.778633</td>\n",
       "      <td>melhorando</td>\n",
       "      <td>2020-06-10 12:54:43</td>\n",
       "      <td>0.440908</td>\n",
       "      <td>0.480991</td>\n",
       "      <td>0.916665</td>\n",
       "      <td>estabilizando</td>\n",
       "      <td>1.0</td>\n",
       "      <td>1.0</td>\n",
       "      <td>ruim</td>\n",
       "      <td>1.0</td>\n",
       "      <td>alto</td>\n",
       "      <td>2020-06-10 13:36:23</td>\n",
       "    </tr>\n",
       "    <tr>\n",
       "      <th>3</th>\n",
       "      <td>2306405</td>\n",
       "      <td>Itapipoca</td>\n",
       "      <td>CE</td>\n",
       "      <td>Ceará</td>\n",
       "      <td>129358</td>\n",
       "      <td>Itapipoca</td>\n",
       "      <td>2020-04-01</td>\n",
       "      <td>DataSUS</td>\n",
       "      <td>85</td>\n",
       "      <td>2020-04-01</td>\n",
       "      <td>DataSUS</td>\n",
       "      <td>20.0</td>\n",
       "      <td>1236.0</td>\n",
       "      <td>1450.0</td>\n",
       "      <td>65.0</td>\n",
       "      <td>0.369001</td>\n",
       "      <td>0.307393</td>\n",
       "      <td>2020-06-10 12:53:24</td>\n",
       "      <td>city</td>\n",
       "      <td>0.630999</td>\n",
       "      <td>84.0</td>\n",
       "      <td>insatisfatório</td>\n",
       "      <td>2020-06-10 13:35:27</td>\n",
       "      <td>1.27</td>\n",
       "      <td>1.48</td>\n",
       "      <td>1.38</td>\n",
       "      <td>1.54</td>\n",
       "      <td>1.78</td>\n",
       "      <td>1.67</td>\n",
       "      <td>ruim</td>\n",
       "      <td>1.457143</td>\n",
       "      <td>1.824286</td>\n",
       "      <td>0.798747</td>\n",
       "      <td>melhorando</td>\n",
       "      <td>2020-06-10 12:54:43</td>\n",
       "      <td>0.470121</td>\n",
       "      <td>0.509744</td>\n",
       "      <td>0.922268</td>\n",
       "      <td>estabilizando</td>\n",
       "      <td>1.0</td>\n",
       "      <td>1.0</td>\n",
       "      <td>ruim</td>\n",
       "      <td>1.0</td>\n",
       "      <td>alto</td>\n",
       "      <td>2020-06-10 13:36:23</td>\n",
       "    </tr>\n",
       "    <tr>\n",
       "      <th>4</th>\n",
       "      <td>1501402</td>\n",
       "      <td>Belém</td>\n",
       "      <td>PA</td>\n",
       "      <td>Pará</td>\n",
       "      <td>1492745</td>\n",
       "      <td>Metropolitana</td>\n",
       "      <td>2020-04-01</td>\n",
       "      <td>DataSUS</td>\n",
       "      <td>2957</td>\n",
       "      <td>2020-04-01</td>\n",
       "      <td>DataSUS</td>\n",
       "      <td>732.0</td>\n",
       "      <td>14880.0</td>\n",
       "      <td>25697.0</td>\n",
       "      <td>1644.0</td>\n",
       "      <td>0.180835</td>\n",
       "      <td>0.294076</td>\n",
       "      <td>2020-06-10 12:53:24</td>\n",
       "      <td>city</td>\n",
       "      <td>0.819165</td>\n",
       "      <td>118.0</td>\n",
       "      <td>ruim</td>\n",
       "      <td>2020-06-10 13:35:27</td>\n",
       "      <td>1.02</td>\n",
       "      <td>1.10</td>\n",
       "      <td>1.07</td>\n",
       "      <td>1.49</td>\n",
       "      <td>1.58</td>\n",
       "      <td>1.54</td>\n",
       "      <td>insatisfatório</td>\n",
       "      <td>1.292857</td>\n",
       "      <td>1.617143</td>\n",
       "      <td>0.799470</td>\n",
       "      <td>melhorando</td>\n",
       "      <td>2020-06-10 12:54:43</td>\n",
       "      <td>0.409748</td>\n",
       "      <td>0.446016</td>\n",
       "      <td>0.918685</td>\n",
       "      <td>estabilizando</td>\n",
       "      <td>1.0</td>\n",
       "      <td>1.0</td>\n",
       "      <td>ruim</td>\n",
       "      <td>1.0</td>\n",
       "      <td>alto</td>\n",
       "      <td>2020-06-10 13:36:23</td>\n",
       "    </tr>\n",
       "    <tr>\n",
       "      <th>...</th>\n",
       "      <td>...</td>\n",
       "      <td>...</td>\n",
       "      <td>...</td>\n",
       "      <td>...</td>\n",
       "      <td>...</td>\n",
       "      <td>...</td>\n",
       "      <td>...</td>\n",
       "      <td>...</td>\n",
       "      <td>...</td>\n",
       "      <td>...</td>\n",
       "      <td>...</td>\n",
       "      <td>...</td>\n",
       "      <td>...</td>\n",
       "      <td>...</td>\n",
       "      <td>...</td>\n",
       "      <td>...</td>\n",
       "      <td>...</td>\n",
       "      <td>...</td>\n",
       "      <td>...</td>\n",
       "      <td>...</td>\n",
       "      <td>...</td>\n",
       "      <td>...</td>\n",
       "      <td>...</td>\n",
       "      <td>...</td>\n",
       "      <td>...</td>\n",
       "      <td>...</td>\n",
       "      <td>...</td>\n",
       "      <td>...</td>\n",
       "      <td>...</td>\n",
       "      <td>...</td>\n",
       "      <td>...</td>\n",
       "      <td>...</td>\n",
       "      <td>...</td>\n",
       "      <td>...</td>\n",
       "      <td>...</td>\n",
       "      <td>...</td>\n",
       "      <td>...</td>\n",
       "      <td>...</td>\n",
       "      <td>...</td>\n",
       "      <td>...</td>\n",
       "      <td>...</td>\n",
       "      <td>...</td>\n",
       "      <td>...</td>\n",
       "      <td>...</td>\n",
       "      <td>...</td>\n",
       "    </tr>\n",
       "    <tr>\n",
       "      <th>122</th>\n",
       "      <td>3518701</td>\n",
       "      <td>Guarujá</td>\n",
       "      <td>SP</td>\n",
       "      <td>São Paulo</td>\n",
       "      <td>320459</td>\n",
       "      <td>Baixada Santista</td>\n",
       "      <td>2020-04-01</td>\n",
       "      <td>DataSUS</td>\n",
       "      <td>336</td>\n",
       "      <td>2020-04-01</td>\n",
       "      <td>DataSUS</td>\n",
       "      <td>144.0</td>\n",
       "      <td>1917.0</td>\n",
       "      <td>2907.0</td>\n",
       "      <td>81.0</td>\n",
       "      <td>0.468810</td>\n",
       "      <td>0.307050</td>\n",
       "      <td>2020-06-10 12:53:24</td>\n",
       "      <td>city</td>\n",
       "      <td>0.531190</td>\n",
       "      <td>62.0</td>\n",
       "      <td>insatisfatório</td>\n",
       "      <td>2020-06-10 13:35:27</td>\n",
       "      <td>1.54</td>\n",
       "      <td>1.80</td>\n",
       "      <td>1.69</td>\n",
       "      <td>1.22</td>\n",
       "      <td>1.54</td>\n",
       "      <td>1.40</td>\n",
       "      <td>ruim</td>\n",
       "      <td>1.538571</td>\n",
       "      <td>1.381429</td>\n",
       "      <td>1.113754</td>\n",
       "      <td>piorando</td>\n",
       "      <td>2020-06-10 12:54:43</td>\n",
       "      <td>0.428972</td>\n",
       "      <td>0.438579</td>\n",
       "      <td>0.978094</td>\n",
       "      <td>estabilizando</td>\n",
       "      <td>1.0</td>\n",
       "      <td>1.0</td>\n",
       "      <td>ruim</td>\n",
       "      <td>1.0</td>\n",
       "      <td>alto</td>\n",
       "      <td>2020-06-10 13:36:23</td>\n",
       "    </tr>\n",
       "    <tr>\n",
       "      <th>123</th>\n",
       "      <td>2504009</td>\n",
       "      <td>Campina Grande</td>\n",
       "      <td>PB</td>\n",
       "      <td>Paraíba</td>\n",
       "      <td>409731</td>\n",
       "      <td>III Núcleo Regional de Saúde</td>\n",
       "      <td>2020-04-01</td>\n",
       "      <td>DataSUS</td>\n",
       "      <td>1087</td>\n",
       "      <td>2020-04-01</td>\n",
       "      <td>DataSUS</td>\n",
       "      <td>170.0</td>\n",
       "      <td>2967.0</td>\n",
       "      <td>2031.0</td>\n",
       "      <td>45.0</td>\n",
       "      <td>1.000000</td>\n",
       "      <td>0.818477</td>\n",
       "      <td>2020-06-10 12:53:24</td>\n",
       "      <td>city</td>\n",
       "      <td>0.000000</td>\n",
       "      <td>6.0</td>\n",
       "      <td>bom</td>\n",
       "      <td>2020-06-10 13:35:27</td>\n",
       "      <td>1.61</td>\n",
       "      <td>1.91</td>\n",
       "      <td>1.78</td>\n",
       "      <td>1.59</td>\n",
       "      <td>2.01</td>\n",
       "      <td>1.82</td>\n",
       "      <td>ruim</td>\n",
       "      <td>1.828571</td>\n",
       "      <td>1.632857</td>\n",
       "      <td>1.119860</td>\n",
       "      <td>piorando</td>\n",
       "      <td>2020-06-10 12:54:43</td>\n",
       "      <td>0.415434</td>\n",
       "      <td>0.470505</td>\n",
       "      <td>0.882953</td>\n",
       "      <td>piorando</td>\n",
       "      <td>27.0</td>\n",
       "      <td>21.0</td>\n",
       "      <td>ruim</td>\n",
       "      <td>1.0</td>\n",
       "      <td>alto</td>\n",
       "      <td>2020-06-10 13:36:23</td>\n",
       "    </tr>\n",
       "    <tr>\n",
       "      <th>124</th>\n",
       "      <td>3548807</td>\n",
       "      <td>São Caetano do Sul</td>\n",
       "      <td>SP</td>\n",
       "      <td>São Paulo</td>\n",
       "      <td>161127</td>\n",
       "      <td>Grande São Paulo</td>\n",
       "      <td>2020-04-01</td>\n",
       "      <td>DataSUS</td>\n",
       "      <td>708</td>\n",
       "      <td>2020-04-01</td>\n",
       "      <td>DataSUS</td>\n",
       "      <td>103.0</td>\n",
       "      <td>885.0</td>\n",
       "      <td>1250.0</td>\n",
       "      <td>51.0</td>\n",
       "      <td>0.362295</td>\n",
       "      <td>0.307050</td>\n",
       "      <td>2020-06-10 12:53:24</td>\n",
       "      <td>city</td>\n",
       "      <td>0.637705</td>\n",
       "      <td>102.0</td>\n",
       "      <td>insatisfatório</td>\n",
       "      <td>2020-06-10 13:35:27</td>\n",
       "      <td>1.31</td>\n",
       "      <td>1.58</td>\n",
       "      <td>1.46</td>\n",
       "      <td>1.12</td>\n",
       "      <td>1.43</td>\n",
       "      <td>1.28</td>\n",
       "      <td>ruim</td>\n",
       "      <td>1.374286</td>\n",
       "      <td>1.221429</td>\n",
       "      <td>1.125146</td>\n",
       "      <td>piorando</td>\n",
       "      <td>2020-06-10 12:54:43</td>\n",
       "      <td>0.472062</td>\n",
       "      <td>0.487938</td>\n",
       "      <td>0.967464</td>\n",
       "      <td>estabilizando</td>\n",
       "      <td>57.0</td>\n",
       "      <td>31.0</td>\n",
       "      <td>insatisfatório</td>\n",
       "      <td>2.0</td>\n",
       "      <td>alto</td>\n",
       "      <td>2020-06-10 13:36:23</td>\n",
       "    </tr>\n",
       "    <tr>\n",
       "      <th>125</th>\n",
       "      <td>1500107</td>\n",
       "      <td>Abaetetuba</td>\n",
       "      <td>PA</td>\n",
       "      <td>Pará</td>\n",
       "      <td>157698</td>\n",
       "      <td>Alça Viária</td>\n",
       "      <td>2020-04-01</td>\n",
       "      <td>DataSUS</td>\n",
       "      <td>214</td>\n",
       "      <td>2020-04-01</td>\n",
       "      <td>DataSUS</td>\n",
       "      <td>10.0</td>\n",
       "      <td>1735.0</td>\n",
       "      <td>785.0</td>\n",
       "      <td>68.0</td>\n",
       "      <td>0.523409</td>\n",
       "      <td>0.294076</td>\n",
       "      <td>2020-06-10 12:53:24</td>\n",
       "      <td>city</td>\n",
       "      <td>0.476591</td>\n",
       "      <td>49.0</td>\n",
       "      <td>bom</td>\n",
       "      <td>2020-06-10 13:35:27</td>\n",
       "      <td>1.63</td>\n",
       "      <td>1.85</td>\n",
       "      <td>1.75</td>\n",
       "      <td>1.59</td>\n",
       "      <td>1.91</td>\n",
       "      <td>1.77</td>\n",
       "      <td>ruim</td>\n",
       "      <td>1.970000</td>\n",
       "      <td>1.648571</td>\n",
       "      <td>1.194974</td>\n",
       "      <td>piorando</td>\n",
       "      <td>2020-06-10 12:54:43</td>\n",
       "      <td>0.444223</td>\n",
       "      <td>0.477182</td>\n",
       "      <td>0.930930</td>\n",
       "      <td>estabilizando</td>\n",
       "      <td>10.0</td>\n",
       "      <td>9.0</td>\n",
       "      <td>ruim</td>\n",
       "      <td>1.0</td>\n",
       "      <td>alto</td>\n",
       "      <td>2020-06-10 13:36:23</td>\n",
       "    </tr>\n",
       "    <tr>\n",
       "      <th>126</th>\n",
       "      <td>1505502</td>\n",
       "      <td>Paragominas</td>\n",
       "      <td>PA</td>\n",
       "      <td>Pará</td>\n",
       "      <td>113145</td>\n",
       "      <td>Rodovia BR 010</td>\n",
       "      <td>2020-04-01</td>\n",
       "      <td>DataSUS</td>\n",
       "      <td>120</td>\n",
       "      <td>2020-04-01</td>\n",
       "      <td>DataSUS</td>\n",
       "      <td>34.0</td>\n",
       "      <td>955.0</td>\n",
       "      <td>2320.0</td>\n",
       "      <td>64.0</td>\n",
       "      <td>0.273754</td>\n",
       "      <td>0.294076</td>\n",
       "      <td>2020-06-10 12:53:24</td>\n",
       "      <td>city</td>\n",
       "      <td>0.726246</td>\n",
       "      <td>87.0</td>\n",
       "      <td>ruim</td>\n",
       "      <td>2020-06-10 13:35:27</td>\n",
       "      <td>2.03</td>\n",
       "      <td>2.32</td>\n",
       "      <td>2.18</td>\n",
       "      <td>1.35</td>\n",
       "      <td>1.84</td>\n",
       "      <td>1.60</td>\n",
       "      <td>ruim</td>\n",
       "      <td>2.244286</td>\n",
       "      <td>1.402857</td>\n",
       "      <td>1.599796</td>\n",
       "      <td>piorando</td>\n",
       "      <td>2020-06-10 12:54:43</td>\n",
       "      <td>0.405599</td>\n",
       "      <td>0.437809</td>\n",
       "      <td>0.926429</td>\n",
       "      <td>estabilizando</td>\n",
       "      <td>1.0</td>\n",
       "      <td>1.0</td>\n",
       "      <td>ruim</td>\n",
       "      <td>1.0</td>\n",
       "      <td>alto</td>\n",
       "      <td>2020-06-10 13:36:23</td>\n",
       "    </tr>\n",
       "  </tbody>\n",
       "</table>\n",
       "<p>127 rows × 45 columns</p>\n",
       "</div>"
      ],
      "text/plain": [
       "     city_id           city_name state_id state_name  population  \\\n",
       "0    1505536         Parauapebas       PA       Pará      208273   \n",
       "1    1504422            Marituba       PA       Pará      131521   \n",
       "2    1501808              Breves       PA       Pará      102701   \n",
       "3    2306405           Itapipoca       CE      Ceará      129358   \n",
       "4    1501402               Belém       PA       Pará     1492745   \n",
       "..       ...                 ...      ...        ...         ...   \n",
       "122  3518701             Guarujá       SP  São Paulo      320459   \n",
       "123  2504009      Campina Grande       PB    Paraíba      409731   \n",
       "124  3548807  São Caetano do Sul       SP  São Paulo      161127   \n",
       "125  1500107          Abaetetuba       PA       Pará      157698   \n",
       "126  1505502         Paragominas       PA       Pará      113145   \n",
       "\n",
       "             health_system_region last_updated_number_beds author_number_beds  \\\n",
       "0               Serra dos Carajás               2020-04-01            DataSUS   \n",
       "1                   Metropolitana               2020-04-01            DataSUS   \n",
       "2                Marajó Ocidental               2020-04-01            DataSUS   \n",
       "3                       Itapipoca               2020-04-01            DataSUS   \n",
       "4                   Metropolitana               2020-04-01            DataSUS   \n",
       "..                            ...                      ...                ...   \n",
       "122              Baixada Santista               2020-04-01            DataSUS   \n",
       "123  III Núcleo Regional de Saúde               2020-04-01            DataSUS   \n",
       "124              Grande São Paulo               2020-04-01            DataSUS   \n",
       "125                   Alça Viária               2020-04-01            DataSUS   \n",
       "126                Rodovia BR 010               2020-04-01            DataSUS   \n",
       "\n",
       "     number_beds last_updated_number_ventilators author_number_ventilators  \\\n",
       "0            182                      2020-04-01                   DataSUS   \n",
       "1            106                      2020-04-01                   DataSUS   \n",
       "2             88                      2020-04-01                   DataSUS   \n",
       "3             85                      2020-04-01                   DataSUS   \n",
       "4           2957                      2020-04-01                   DataSUS   \n",
       "..           ...                             ...                       ...   \n",
       "122          336                      2020-04-01                   DataSUS   \n",
       "123         1087                      2020-04-01                   DataSUS   \n",
       "124          708                      2020-04-01                   DataSUS   \n",
       "125          214                      2020-04-01                   DataSUS   \n",
       "126          120                      2020-04-01                   DataSUS   \n",
       "\n",
       "     number_ventilators  confirmed_cases  active_cases  deaths  \\\n",
       "0                  46.0           4325.0        3934.0    88.0   \n",
       "1                  20.0            510.0         738.0    50.0   \n",
       "2                  26.0            649.0         912.0    63.0   \n",
       "3                  20.0           1236.0        1450.0    65.0   \n",
       "4                 732.0          14880.0       25697.0  1644.0   \n",
       "..                  ...              ...           ...     ...   \n",
       "122               144.0           1917.0        2907.0    81.0   \n",
       "123               170.0           2967.0        2031.0    45.0   \n",
       "124               103.0            885.0        1250.0    51.0   \n",
       "125                10.0           1735.0         785.0    68.0   \n",
       "126                34.0            955.0        2320.0    64.0   \n",
       "\n",
       "     notification_rate  state_notification_rate last_updated_subnotification  \\\n",
       "0             0.819842                 0.294076          2020-06-10 12:53:24   \n",
       "1             0.206007                 0.294076          2020-06-10 12:53:24   \n",
       "2             0.194036                 0.294076          2020-06-10 12:53:24   \n",
       "3             0.369001                 0.307393          2020-06-10 12:53:24   \n",
       "4             0.180835                 0.294076          2020-06-10 12:53:24   \n",
       "..                 ...                      ...                          ...   \n",
       "122           0.468810                 0.307050          2020-06-10 12:53:24   \n",
       "123           1.000000                 0.818477          2020-06-10 12:53:24   \n",
       "124           0.362295                 0.307050          2020-06-10 12:53:24   \n",
       "125           0.523409                 0.294076          2020-06-10 12:53:24   \n",
       "126           0.273754                 0.294076          2020-06-10 12:53:24   \n",
       "\n",
       "    subnotification_place_type  subnotification_rate  subnotification_rank  \\\n",
       "0                         city              0.180158                  19.0   \n",
       "1                         city              0.793993                 111.0   \n",
       "2                         city              0.805964                 117.0   \n",
       "3                         city              0.630999                  84.0   \n",
       "4                         city              0.819165                 118.0   \n",
       "..                         ...                   ...                   ...   \n",
       "122                       city              0.531190                  62.0   \n",
       "123                       city              0.000000                   6.0   \n",
       "124                       city              0.637705                 102.0   \n",
       "125                       city              0.476591                  49.0   \n",
       "126                       city              0.726246                  87.0   \n",
       "\n",
       "    subnotification_classification      last_updated_rt  rt_10days_ago_low  \\\n",
       "0                              bom  2020-06-10 13:35:27               1.33   \n",
       "1                             ruim  2020-06-10 13:35:27               1.41   \n",
       "2                             ruim  2020-06-10 13:35:27               0.94   \n",
       "3                   insatisfatório  2020-06-10 13:35:27               1.27   \n",
       "4                             ruim  2020-06-10 13:35:27               1.02   \n",
       "..                             ...                  ...                ...   \n",
       "122                 insatisfatório  2020-06-10 13:35:27               1.54   \n",
       "123                            bom  2020-06-10 13:35:27               1.61   \n",
       "124                 insatisfatório  2020-06-10 13:35:27               1.31   \n",
       "125                            bom  2020-06-10 13:35:27               1.63   \n",
       "126                           ruim  2020-06-10 13:35:27               2.03   \n",
       "\n",
       "     rt_10days_ago_high  rt_10days_ago_most_likely  rt_17days_ago_low  \\\n",
       "0                  1.50                       1.42               1.86   \n",
       "1                  1.66                       1.56               1.84   \n",
       "2                  1.14                       1.06               1.21   \n",
       "3                  1.48                       1.38               1.54   \n",
       "4                  1.10                       1.07               1.49   \n",
       "..                  ...                        ...                ...   \n",
       "122                1.80                       1.69               1.22   \n",
       "123                1.91                       1.78               1.59   \n",
       "124                1.58                       1.46               1.12   \n",
       "125                1.85                       1.75               1.59   \n",
       "126                2.32                       2.18               1.35   \n",
       "\n",
       "     rt_17days_ago_high  rt_17days_ago_most_likely rt_classification  \\\n",
       "0                  2.07                       1.98              ruim   \n",
       "1                  2.17                       2.02              ruim   \n",
       "2                  1.41                       1.32    insatisfatório   \n",
       "3                  1.78                       1.67              ruim   \n",
       "4                  1.58                       1.54    insatisfatório   \n",
       "..                  ...                        ...               ...   \n",
       "122                1.54                       1.40              ruim   \n",
       "123                2.01                       1.82              ruim   \n",
       "124                1.43                       1.28              ruim   \n",
       "125                1.91                       1.77              ruim   \n",
       "126                1.84                       1.60              ruim   \n",
       "\n",
       "     rt_10days_ago_avg  rt_17days_ago_avg  rt_ratio_week_avg   rt_growth  \\\n",
       "0             1.584286           2.084286           0.760110  melhorando   \n",
       "1             1.742857           2.245714           0.776081  melhorando   \n",
       "2             1.155714           1.484286           0.778633  melhorando   \n",
       "3             1.457143           1.824286           0.798747  melhorando   \n",
       "4             1.292857           1.617143           0.799470  melhorando   \n",
       "..                 ...                ...                ...         ...   \n",
       "122           1.538571           1.381429           1.113754    piorando   \n",
       "123           1.828571           1.632857           1.119860    piorando   \n",
       "124           1.374286           1.221429           1.125146    piorando   \n",
       "125           1.970000           1.648571           1.194974    piorando   \n",
       "126           2.244286           1.402857           1.599796    piorando   \n",
       "\n",
       "     last_updated_inloco  inloco_today_7days_avg  inloco_last_week_7days_avg  \\\n",
       "0    2020-06-10 12:54:43                0.386839                    0.423252   \n",
       "1    2020-06-10 12:54:43                0.379520                    0.403175   \n",
       "2    2020-06-10 12:54:43                0.440908                    0.480991   \n",
       "3    2020-06-10 12:54:43                0.470121                    0.509744   \n",
       "4    2020-06-10 12:54:43                0.409748                    0.446016   \n",
       "..                   ...                     ...                         ...   \n",
       "122  2020-06-10 12:54:43                0.428972                    0.438579   \n",
       "123  2020-06-10 12:54:43                0.415434                    0.470505   \n",
       "124  2020-06-10 12:54:43                0.472062                    0.487938   \n",
       "125  2020-06-10 12:54:43                0.444223                    0.477182   \n",
       "126  2020-06-10 12:54:43                0.405599                    0.437809   \n",
       "\n",
       "     inloco_ratio_week_avgs  inloco_growth  dday_beds_best  dday_beds_worst  \\\n",
       "0                  0.913969  estabilizando             1.0              1.0   \n",
       "1                  0.941329  estabilizando             1.0              1.0   \n",
       "2                  0.916665  estabilizando             1.0              1.0   \n",
       "3                  0.922268  estabilizando             1.0              1.0   \n",
       "4                  0.918685  estabilizando             1.0              1.0   \n",
       "..                      ...            ...             ...              ...   \n",
       "122                0.978094  estabilizando             1.0              1.0   \n",
       "123                0.882953       piorando            27.0             21.0   \n",
       "124                0.967464  estabilizando            57.0             31.0   \n",
       "125                0.930930  estabilizando            10.0              9.0   \n",
       "126                0.926429  estabilizando             1.0              1.0   \n",
       "\n",
       "    dday_classification  dday_beds_best_months overall_alert  \\\n",
       "0                  ruim                    1.0          alto   \n",
       "1                  ruim                    1.0          alto   \n",
       "2                  ruim                    1.0          alto   \n",
       "3                  ruim                    1.0          alto   \n",
       "4                  ruim                    1.0          alto   \n",
       "..                  ...                    ...           ...   \n",
       "122                ruim                    1.0          alto   \n",
       "123                ruim                    1.0          alto   \n",
       "124      insatisfatório                    2.0          alto   \n",
       "125                ruim                    1.0          alto   \n",
       "126                ruim                    1.0          alto   \n",
       "\n",
       "     data_last_refreshed  \n",
       "0    2020-06-10 13:36:23  \n",
       "1    2020-06-10 13:36:23  \n",
       "2    2020-06-10 13:36:23  \n",
       "3    2020-06-10 13:36:23  \n",
       "4    2020-06-10 13:36:23  \n",
       "..                   ...  \n",
       "122  2020-06-10 13:36:23  \n",
       "123  2020-06-10 13:36:23  \n",
       "124  2020-06-10 13:36:23  \n",
       "125  2020-06-10 13:36:23  \n",
       "126  2020-06-10 13:36:23  \n",
       "\n",
       "[127 rows x 45 columns]"
      ]
     },
     "execution_count": 9,
     "metadata": {},
     "output_type": "execute_result"
    }
   ],
   "source": [
    "dfnfilt"
   ]
  },
  {
   "cell_type": "markdown",
   "metadata": {},
   "source": [
    "Quantidade de municípios por estado presente na lista"
   ]
  },
  {
   "cell_type": "code",
   "execution_count": 10,
   "metadata": {},
   "outputs": [
    {
     "data": {
      "text/plain": [
       "{'DF': 1,\n",
       " 'ES': 4,\n",
       " 'AC': 1,\n",
       " 'SP': 33,\n",
       " 'AL': 1,\n",
       " 'PA': 17,\n",
       " 'PR': 1,\n",
       " 'MA': 4,\n",
       " 'CE': 8,\n",
       " 'GO': 1,\n",
       " 'RN': 2,\n",
       " 'AM': 7,\n",
       " 'SE': 1,\n",
       " 'RS': 2,\n",
       " 'RO': 1,\n",
       " 'RR': 1,\n",
       " 'BA': 2,\n",
       " 'PI': 1,\n",
       " 'RJ': 19,\n",
       " 'PE': 13,\n",
       " 'AP': 2,\n",
       " 'MG': 2,\n",
       " 'PB': 3}"
      ]
     },
     "execution_count": 10,
     "metadata": {},
     "output_type": "execute_result"
    }
   ],
   "source": [
    "x = list(set(dfnfilt['state_id']))\n",
    "dict(zip(x,[sum(dfnfilt['state_id']==i) for i in x]))"
   ]
  },
  {
   "cell_type": "code",
   "execution_count": 11,
   "metadata": {},
   "outputs": [],
   "source": [
    "#Calculo de mortes/100k Hab.\n",
    "def deaths_per_100khab(df, col_deaths=\"deaths\",col_pop='population'):\n",
    "    return 100e3 * df[col_deaths]/df[col_pop]\n",
    "\n",
    "dfnfilt['deaths_100khab'] = deaths_per_100khab(dfnfilt)\n",
    "dfnfilt['cases_100khab'] = deaths_per_100khab(dfnfilt, col_deaths=\"confirmed_cases\")"
   ]
  },
  {
   "cell_type": "markdown",
   "metadata": {},
   "source": [
    "Salvando os dados como desmontrando anteriormente mais as colunas de mortes e casos por 100 mil habitantes em .csv"
   ]
  },
  {
   "cell_type": "code",
   "execution_count": 12,
   "metadata": {
    "scrolled": true
   },
   "outputs": [],
   "source": [
    "dfnfilt[['city_name','deaths','deaths_100khab',\"inloco_today_7days_avg\",\"inloco_last_week_7days_avg\", \"inloco_ratio_week_avgs\",'rt_17days_ago_avg','rt_10days_ago_avg','rt_ratio_week_avg']].to_csv(\"../data/output/dfnfilt.csv\", index=False)"
   ]
  },
  {
   "cell_type": "markdown",
   "metadata": {},
   "source": [
    "DataFrame com os dados ordenados. \n",
    "Alterando o nome da coluna, altera a ordenação dos dados, as 10 primeiras linhas serão\n",
    "as 10 menores observações, as 10 ultimas, serão as 10 maiores\n",
    "e.g. Municipios com o maior Rt, municípios com o menor Rt ..."
   ]
  },
  {
   "cell_type": "code",
   "execution_count": 13,
   "metadata": {},
   "outputs": [],
   "source": [
    "dfexib = dfnfilt.sort_values('rt_10days_ago_avg')#Try me"
   ]
  },
  {
   "cell_type": "markdown",
   "metadata": {},
   "source": [
    "### Visualização da relação do Rt com outras variáveis\n"
   ]
  },
  {
   "cell_type": "code",
   "execution_count": 14,
   "metadata": {
    "code_folding": []
   },
   "outputs": [
    {
     "data": {
      "application/vnd.plotly.v1+json": {
       "config": {
        "plotlyServerURL": "https://plotly.com"
       },
       "data": [
        {
         "mode": "markers",
         "text": [
          "Belo Horizonte",
          "Porto Alegre",
          "Curitiba",
          "Goiânia",
          "Ribeirão Preto",
          "Juiz de Fora",
          "São José dos Campos",
          "Brasília",
          "Campos dos Goytacazes",
          "Piracicaba",
          "Sorocaba",
          "Campinas",
          "Campina Grande",
          "Caruaru",
          "Volta Redonda",
          "Macaé",
          "Aracaju",
          "Passo Fundo",
          "Teresina",
          "Petrópolis",
          "Natal",
          "Praia Grande",
          "Teresópolis",
          "Mauá",
          "Jundiaí",
          "Angra dos Reis",
          "Ilhéus",
          "Salvador",
          "São Gonçalo",
          "Embu das Artes",
          "Maricá",
          "Cotia",
          "Itapecerica da Serra",
          "Carapicuíba",
          "São João de Meriti",
          "João Pessoa",
          "Santo André",
          "Niterói",
          "Itaquaquecetuba",
          "Mogi das Cruzes",
          "Guarujá",
          "Ferraz de Vasconcelos",
          "Belford Roxo",
          "Nilópolis",
          "Suzano",
          "Mossoró",
          "Diadema",
          "São Vicente",
          "Taboão da Serra",
          "São José de Ribamar",
          "Guarulhos",
          "São Bernardo do Campo",
          "Poá",
          "Boa Vista",
          "Nova Iguaçu",
          "Vila Velha",
          "São Caetano do Sul",
          "Franco da Rocha",
          "Duque de Caxias",
          "Macapá",
          "Porto Velho",
          "Paço do Lumiar",
          "Bragança",
          "Itapevi",
          "Cubatão",
          "Marituba",
          "Vitória",
          "Marabá",
          "Itaboraí",
          "Rio Branco",
          "Cariacica",
          "Mesquita",
          "Maceió",
          "Magé",
          "Serra",
          "Caieiras",
          "São Paulo",
          "Parauapebas",
          "Itaguaí",
          "Abaetetuba",
          "Santos",
          "Santarém",
          "Olinda",
          "Goiana",
          "Igarassu",
          "Cametá",
          "Abreu e Lima",
          "Maranguape",
          "Imperatriz",
          "Cascavel",
          "Itacoatiara",
          "Caucaia",
          "Ipojuca",
          "Paulista",
          "Camaragibe",
          "Itapipoca",
          "Vitória de Santo Antão",
          "Osasco",
          "Jaboatão dos Guararapes",
          "São Luís",
          "Cabo de Santo Agostinho",
          "Tucuruí",
          "Parintins",
          "Ananindeua",
          "São Lourenço da Mata",
          "Barueri",
          "Pacatuba",
          "Capanema",
          "Paragominas",
          "Santa Rita",
          "Barcarena",
          "Breves",
          "Castanhal",
          "Sobral",
          "Rio de Janeiro",
          "Benevides",
          "Manaus",
          "Maracanaú",
          "Laranjal do Jari",
          "Coari",
          "Recife",
          "Fortaleza",
          "Curuçá",
          "Tabatinga",
          "Tefé",
          "Belém",
          "Manacapuru"
         ],
         "type": "scatter",
         "x": [
          2.468084090013415,
          3.1002088597229625,
          3.2072753420015983,
          5.342609686744986,
          6.39847119194987,
          6.504087907142719,
          6.9257449331250065,
          7.097213249369542,
          9.063182201486361,
          9.155197925481637,
          9.27318812207637,
          9.633967375732203,
          10.982815554595575,
          12.461300738262839,
          13.918802103936823,
          16.36329634708889,
          17.199050855919136,
          17.218054359857337,
          17.45977602923067,
          17.63605070037983,
          18.436369641293847,
          19.380262279549516,
          20.263535494046902,
          21.357038941705856,
          21.72034695270693,
          22.08209632701131,
          22.177456615350497,
          22.281430481762822,
          22.307457604308105,
          22.650387613891265,
          23.57217738683804,
          23.674812407206772,
          23.90533487389936,
          24.193930565913494,
          24.34346727179587,
          24.474206287893303,
          24.625298946955436,
          24.728184678650425,
          24.809813899428566,
          25.12100699350891,
          25.27624438695746,
          25.736580946694392,
          25.8364552383413,
          25.848539865218328,
          25.870439495089656,
          25.892971235262863,
          26.186409489388605,
          27.06411735438685,
          27.61820592134335,
          28.13936866512463,
          29.43773918163085,
          29.442055174649795,
          29.799407417498212,
          29.80864851595514,
          30.324139476427547,
          31.589306614719806,
          31.65205086670763,
          32.3647638343183,
          32.514278009038755,
          33.775259423794076,
          33.991509676249756,
          36.007430624319746,
          36.025875977006095,
          36.600757257046695,
          36.72392027848973,
          38.01674257342934,
          38.111334808076286,
          39.01929128079929,
          39.07029327658442,
          39.281251304260294,
          39.602921698991565,
          39.749464801848916,
          39.8450166249897,
          39.98841152155906,
          40.38569303008637,
          40.406031339312115,
          41.40540709073106,
          42.25223624761731,
          42.851021282673905,
          43.120394678436,
          43.84841372593818,
          43.993709556156,
          47.39070836369566,
          47.644123473507356,
          47.85547646108751,
          47.864239611284354,
          48.004800480048004,
          48.07021352478717,
          48.321877826829855,
          48.78524734120402,
          49.34031992263438,
          49.52960708356392,
          49.893975302482225,
          50.0340593295436,
          50.054489697645536,
          50.24814854898808,
          51.16858969277226,
          52.11778619680478,
          52.68418819361582,
          53.18164162470823,
          53.61075692593022,
          53.66930907363253,
          54.25603598400322,
          54.46684684073442,
          54.75580676499161,
          55.072907776586355,
          55.134720490938726,
          56.49963057933852,
          56.56458526669318,
          57.106877718067736,
          57.74783445620789,
          61.34312226755338,
          62.751191525600994,
          65.57063201474142,
          67.2133531322003,
          68.54009595613434,
          68.76605476636722,
          73.28225516266906,
          73.39813529061693,
          75.20829171416149,
          77.16954270058157,
          98.78839054718354,
          99.83527180152748,
          101.7556649049268,
          106.9357884008087,
          110.13267503826843,
          120.1515758341292
         ],
         "y": [
          1.0445783132530122,
          0.9390243902439019,
          1.0300925925925921,
          0.9773662551440332,
          0.9748633879781424,
          0.8912830558276198,
          0.9928057553956832,
          0.9902818270165205,
          0.9331703341483292,
          1.033119658119658,
          0.9263271939328278,
          0.9620512820512824,
          1.1198600174978128,
          0.9246753246753248,
          1.0073619631901842,
          1.1118077324973878,
          0.8648648648648647,
          1.0353591160220994,
          0.980042016806723,
          0.8816287878787882,
          1.0350378787878791,
          1.0034965034965029,
          0.9119746233148294,
          0.9338085539714872,
          1.0194075587334013,
          0.8787878787878788,
          0.9189463019250252,
          0.99207135777998,
          0.983316977428852,
          0.9241164241164236,
          1.0532481363152288,
          0.9518716577540108,
          0.9164237123420796,
          0.9552511415525112,
          0.8919999999999998,
          1.0235690235690242,
          0.9602446483180428,
          0.8403211418376451,
          0.9037111334002008,
          0.9637139807897548,
          1.1137538779731126,
          0.9160447761194028,
          0.8893967093235831,
          0.8954501452081317,
          0.9178644763860372,
          0.9508881922675024,
          0.949454905847374,
          1.1131105398457586,
          0.994753410283316,
          0.9225206611570248,
          0.957023060796646,
          0.9864583333333332,
          0.9540347293156284,
          0.9870009285051066,
          0.8944392082940624,
          1.011340206185567,
          1.1251461988304092,
          0.9692470837751858,
          0.8677494199535964,
          0.9611752360965377,
          0.9613572101790759,
          0.9251282051282051,
          0.9955156950672645,
          0.9432773109243694,
          0.9618117229129662,
          0.7760814249363871,
          0.9194756554307116,
          0.8583333333333334,
          1.056429232192414,
          1.0198019801980205,
          0.9490616621983916,
          0.8368932038834952,
          1.0019646365422394,
          1.0371287128712872,
          0.9670987038883354,
          0.9407744874715258,
          1.0372208436724564,
          0.76010966415353,
          1.0151380231522706,
          1.1949740034662044,
          1.0081716036772217,
          1.061619718309859,
          0.9051254089422028,
          0.9912109374999996,
          0.9180497925311204,
          0.8763440860215057,
          0.8970718722271516,
          0.923146473779385,
          0.8934563758389265,
          0.9752321981424152,
          0.8618784530386736,
          0.9851537645811242,
          0.8879003558718861,
          0.9173469387755102,
          0.9404761904761904,
          0.7987470634299142,
          0.8612132352941176,
          0.9198266522210186,
          0.8654037886340976,
          0.8896631823461092,
          0.8892185954500494,
          0.8510506798516685,
          0.9063786008230448,
          0.8192862566438873,
          0.9464285714285716,
          0.8897266729500471,
          0.8201612903225806,
          0.9855465221318882,
          1.5997963340122203,
          0.9185929648241208,
          1.018018018018018,
          0.7786333012512032,
          0.9209419680403704,
          0.8916857360793287,
          0.8629441624365481,
          1.078020134228188,
          0.8817966903073288,
          0.8891820580474935,
          0.8958990536277606,
          0.8627087198515773,
          0.8617021276595742,
          0.8425381903642775,
          0.9174311926605504,
          0.8400383141762456,
          0.8069306930693071,
          0.7994699646643109,
          0.8856243441762854
         ]
        }
       ],
       "layout": {
        "template": {
         "data": {
          "bar": [
           {
            "error_x": {
             "color": "#2a3f5f"
            },
            "error_y": {
             "color": "#2a3f5f"
            },
            "marker": {
             "line": {
              "color": "#E5ECF6",
              "width": 0.5
             }
            },
            "type": "bar"
           }
          ],
          "barpolar": [
           {
            "marker": {
             "line": {
              "color": "#E5ECF6",
              "width": 0.5
             }
            },
            "type": "barpolar"
           }
          ],
          "carpet": [
           {
            "aaxis": {
             "endlinecolor": "#2a3f5f",
             "gridcolor": "white",
             "linecolor": "white",
             "minorgridcolor": "white",
             "startlinecolor": "#2a3f5f"
            },
            "baxis": {
             "endlinecolor": "#2a3f5f",
             "gridcolor": "white",
             "linecolor": "white",
             "minorgridcolor": "white",
             "startlinecolor": "#2a3f5f"
            },
            "type": "carpet"
           }
          ],
          "choropleth": [
           {
            "colorbar": {
             "outlinewidth": 0,
             "ticks": ""
            },
            "type": "choropleth"
           }
          ],
          "contour": [
           {
            "colorbar": {
             "outlinewidth": 0,
             "ticks": ""
            },
            "colorscale": [
             [
              0,
              "#0d0887"
             ],
             [
              0.1111111111111111,
              "#46039f"
             ],
             [
              0.2222222222222222,
              "#7201a8"
             ],
             [
              0.3333333333333333,
              "#9c179e"
             ],
             [
              0.4444444444444444,
              "#bd3786"
             ],
             [
              0.5555555555555556,
              "#d8576b"
             ],
             [
              0.6666666666666666,
              "#ed7953"
             ],
             [
              0.7777777777777778,
              "#fb9f3a"
             ],
             [
              0.8888888888888888,
              "#fdca26"
             ],
             [
              1,
              "#f0f921"
             ]
            ],
            "type": "contour"
           }
          ],
          "contourcarpet": [
           {
            "colorbar": {
             "outlinewidth": 0,
             "ticks": ""
            },
            "type": "contourcarpet"
           }
          ],
          "heatmap": [
           {
            "colorbar": {
             "outlinewidth": 0,
             "ticks": ""
            },
            "colorscale": [
             [
              0,
              "#0d0887"
             ],
             [
              0.1111111111111111,
              "#46039f"
             ],
             [
              0.2222222222222222,
              "#7201a8"
             ],
             [
              0.3333333333333333,
              "#9c179e"
             ],
             [
              0.4444444444444444,
              "#bd3786"
             ],
             [
              0.5555555555555556,
              "#d8576b"
             ],
             [
              0.6666666666666666,
              "#ed7953"
             ],
             [
              0.7777777777777778,
              "#fb9f3a"
             ],
             [
              0.8888888888888888,
              "#fdca26"
             ],
             [
              1,
              "#f0f921"
             ]
            ],
            "type": "heatmap"
           }
          ],
          "heatmapgl": [
           {
            "colorbar": {
             "outlinewidth": 0,
             "ticks": ""
            },
            "colorscale": [
             [
              0,
              "#0d0887"
             ],
             [
              0.1111111111111111,
              "#46039f"
             ],
             [
              0.2222222222222222,
              "#7201a8"
             ],
             [
              0.3333333333333333,
              "#9c179e"
             ],
             [
              0.4444444444444444,
              "#bd3786"
             ],
             [
              0.5555555555555556,
              "#d8576b"
             ],
             [
              0.6666666666666666,
              "#ed7953"
             ],
             [
              0.7777777777777778,
              "#fb9f3a"
             ],
             [
              0.8888888888888888,
              "#fdca26"
             ],
             [
              1,
              "#f0f921"
             ]
            ],
            "type": "heatmapgl"
           }
          ],
          "histogram": [
           {
            "marker": {
             "colorbar": {
              "outlinewidth": 0,
              "ticks": ""
             }
            },
            "type": "histogram"
           }
          ],
          "histogram2d": [
           {
            "colorbar": {
             "outlinewidth": 0,
             "ticks": ""
            },
            "colorscale": [
             [
              0,
              "#0d0887"
             ],
             [
              0.1111111111111111,
              "#46039f"
             ],
             [
              0.2222222222222222,
              "#7201a8"
             ],
             [
              0.3333333333333333,
              "#9c179e"
             ],
             [
              0.4444444444444444,
              "#bd3786"
             ],
             [
              0.5555555555555556,
              "#d8576b"
             ],
             [
              0.6666666666666666,
              "#ed7953"
             ],
             [
              0.7777777777777778,
              "#fb9f3a"
             ],
             [
              0.8888888888888888,
              "#fdca26"
             ],
             [
              1,
              "#f0f921"
             ]
            ],
            "type": "histogram2d"
           }
          ],
          "histogram2dcontour": [
           {
            "colorbar": {
             "outlinewidth": 0,
             "ticks": ""
            },
            "colorscale": [
             [
              0,
              "#0d0887"
             ],
             [
              0.1111111111111111,
              "#46039f"
             ],
             [
              0.2222222222222222,
              "#7201a8"
             ],
             [
              0.3333333333333333,
              "#9c179e"
             ],
             [
              0.4444444444444444,
              "#bd3786"
             ],
             [
              0.5555555555555556,
              "#d8576b"
             ],
             [
              0.6666666666666666,
              "#ed7953"
             ],
             [
              0.7777777777777778,
              "#fb9f3a"
             ],
             [
              0.8888888888888888,
              "#fdca26"
             ],
             [
              1,
              "#f0f921"
             ]
            ],
            "type": "histogram2dcontour"
           }
          ],
          "mesh3d": [
           {
            "colorbar": {
             "outlinewidth": 0,
             "ticks": ""
            },
            "type": "mesh3d"
           }
          ],
          "parcoords": [
           {
            "line": {
             "colorbar": {
              "outlinewidth": 0,
              "ticks": ""
             }
            },
            "type": "parcoords"
           }
          ],
          "pie": [
           {
            "automargin": true,
            "type": "pie"
           }
          ],
          "scatter": [
           {
            "marker": {
             "colorbar": {
              "outlinewidth": 0,
              "ticks": ""
             }
            },
            "type": "scatter"
           }
          ],
          "scatter3d": [
           {
            "line": {
             "colorbar": {
              "outlinewidth": 0,
              "ticks": ""
             }
            },
            "marker": {
             "colorbar": {
              "outlinewidth": 0,
              "ticks": ""
             }
            },
            "type": "scatter3d"
           }
          ],
          "scattercarpet": [
           {
            "marker": {
             "colorbar": {
              "outlinewidth": 0,
              "ticks": ""
             }
            },
            "type": "scattercarpet"
           }
          ],
          "scattergeo": [
           {
            "marker": {
             "colorbar": {
              "outlinewidth": 0,
              "ticks": ""
             }
            },
            "type": "scattergeo"
           }
          ],
          "scattergl": [
           {
            "marker": {
             "colorbar": {
              "outlinewidth": 0,
              "ticks": ""
             }
            },
            "type": "scattergl"
           }
          ],
          "scattermapbox": [
           {
            "marker": {
             "colorbar": {
              "outlinewidth": 0,
              "ticks": ""
             }
            },
            "type": "scattermapbox"
           }
          ],
          "scatterpolar": [
           {
            "marker": {
             "colorbar": {
              "outlinewidth": 0,
              "ticks": ""
             }
            },
            "type": "scatterpolar"
           }
          ],
          "scatterpolargl": [
           {
            "marker": {
             "colorbar": {
              "outlinewidth": 0,
              "ticks": ""
             }
            },
            "type": "scatterpolargl"
           }
          ],
          "scatterternary": [
           {
            "marker": {
             "colorbar": {
              "outlinewidth": 0,
              "ticks": ""
             }
            },
            "type": "scatterternary"
           }
          ],
          "surface": [
           {
            "colorbar": {
             "outlinewidth": 0,
             "ticks": ""
            },
            "colorscale": [
             [
              0,
              "#0d0887"
             ],
             [
              0.1111111111111111,
              "#46039f"
             ],
             [
              0.2222222222222222,
              "#7201a8"
             ],
             [
              0.3333333333333333,
              "#9c179e"
             ],
             [
              0.4444444444444444,
              "#bd3786"
             ],
             [
              0.5555555555555556,
              "#d8576b"
             ],
             [
              0.6666666666666666,
              "#ed7953"
             ],
             [
              0.7777777777777778,
              "#fb9f3a"
             ],
             [
              0.8888888888888888,
              "#fdca26"
             ],
             [
              1,
              "#f0f921"
             ]
            ],
            "type": "surface"
           }
          ],
          "table": [
           {
            "cells": {
             "fill": {
              "color": "#EBF0F8"
             },
             "line": {
              "color": "white"
             }
            },
            "header": {
             "fill": {
              "color": "#C8D4E3"
             },
             "line": {
              "color": "white"
             }
            },
            "type": "table"
           }
          ]
         },
         "layout": {
          "annotationdefaults": {
           "arrowcolor": "#2a3f5f",
           "arrowhead": 0,
           "arrowwidth": 1
          },
          "coloraxis": {
           "colorbar": {
            "outlinewidth": 0,
            "ticks": ""
           }
          },
          "colorscale": {
           "diverging": [
            [
             0,
             "#8e0152"
            ],
            [
             0.1,
             "#c51b7d"
            ],
            [
             0.2,
             "#de77ae"
            ],
            [
             0.3,
             "#f1b6da"
            ],
            [
             0.4,
             "#fde0ef"
            ],
            [
             0.5,
             "#f7f7f7"
            ],
            [
             0.6,
             "#e6f5d0"
            ],
            [
             0.7,
             "#b8e186"
            ],
            [
             0.8,
             "#7fbc41"
            ],
            [
             0.9,
             "#4d9221"
            ],
            [
             1,
             "#276419"
            ]
           ],
           "sequential": [
            [
             0,
             "#0d0887"
            ],
            [
             0.1111111111111111,
             "#46039f"
            ],
            [
             0.2222222222222222,
             "#7201a8"
            ],
            [
             0.3333333333333333,
             "#9c179e"
            ],
            [
             0.4444444444444444,
             "#bd3786"
            ],
            [
             0.5555555555555556,
             "#d8576b"
            ],
            [
             0.6666666666666666,
             "#ed7953"
            ],
            [
             0.7777777777777778,
             "#fb9f3a"
            ],
            [
             0.8888888888888888,
             "#fdca26"
            ],
            [
             1,
             "#f0f921"
            ]
           ],
           "sequentialminus": [
            [
             0,
             "#0d0887"
            ],
            [
             0.1111111111111111,
             "#46039f"
            ],
            [
             0.2222222222222222,
             "#7201a8"
            ],
            [
             0.3333333333333333,
             "#9c179e"
            ],
            [
             0.4444444444444444,
             "#bd3786"
            ],
            [
             0.5555555555555556,
             "#d8576b"
            ],
            [
             0.6666666666666666,
             "#ed7953"
            ],
            [
             0.7777777777777778,
             "#fb9f3a"
            ],
            [
             0.8888888888888888,
             "#fdca26"
            ],
            [
             1,
             "#f0f921"
            ]
           ]
          },
          "colorway": [
           "#636efa",
           "#EF553B",
           "#00cc96",
           "#ab63fa",
           "#FFA15A",
           "#19d3f3",
           "#FF6692",
           "#B6E880",
           "#FF97FF",
           "#FECB52"
          ],
          "font": {
           "color": "#2a3f5f"
          },
          "geo": {
           "bgcolor": "white",
           "lakecolor": "white",
           "landcolor": "#E5ECF6",
           "showlakes": true,
           "showland": true,
           "subunitcolor": "white"
          },
          "hoverlabel": {
           "align": "left"
          },
          "hovermode": "closest",
          "mapbox": {
           "style": "light"
          },
          "paper_bgcolor": "white",
          "plot_bgcolor": "#E5ECF6",
          "polar": {
           "angularaxis": {
            "gridcolor": "white",
            "linecolor": "white",
            "ticks": ""
           },
           "bgcolor": "#E5ECF6",
           "radialaxis": {
            "gridcolor": "white",
            "linecolor": "white",
            "ticks": ""
           }
          },
          "scene": {
           "xaxis": {
            "backgroundcolor": "#E5ECF6",
            "gridcolor": "white",
            "gridwidth": 2,
            "linecolor": "white",
            "showbackground": true,
            "ticks": "",
            "zerolinecolor": "white"
           },
           "yaxis": {
            "backgroundcolor": "#E5ECF6",
            "gridcolor": "white",
            "gridwidth": 2,
            "linecolor": "white",
            "showbackground": true,
            "ticks": "",
            "zerolinecolor": "white"
           },
           "zaxis": {
            "backgroundcolor": "#E5ECF6",
            "gridcolor": "white",
            "gridwidth": 2,
            "linecolor": "white",
            "showbackground": true,
            "ticks": "",
            "zerolinecolor": "white"
           }
          },
          "shapedefaults": {
           "line": {
            "color": "#2a3f5f"
           }
          },
          "ternary": {
           "aaxis": {
            "gridcolor": "white",
            "linecolor": "white",
            "ticks": ""
           },
           "baxis": {
            "gridcolor": "white",
            "linecolor": "white",
            "ticks": ""
           },
           "bgcolor": "#E5ECF6",
           "caxis": {
            "gridcolor": "white",
            "linecolor": "white",
            "ticks": ""
           }
          },
          "title": {
           "x": 0.05
          },
          "xaxis": {
           "automargin": true,
           "gridcolor": "white",
           "linecolor": "white",
           "ticks": "",
           "title": {
            "standoff": 15
           },
           "zerolinecolor": "white",
           "zerolinewidth": 2
          },
          "yaxis": {
           "automargin": true,
           "gridcolor": "white",
           "linecolor": "white",
           "ticks": "",
           "title": {
            "standoff": 15
           },
           "zerolinecolor": "white",
           "zerolinewidth": 2
          }
         }
        },
        "title": {
         "text": " $$Gráfico\\ do\\ ΔR_t \\ versus\\ Mortes \\ por \\ 100\\ mil\\ hab$$"
        },
        "xaxis": {
         "title": {
          "text": "Mortes por 100 mil habitantes"
         }
        },
        "yaxis": {
         "title": {
          "text": "Razão de crescimento do ritmo de contágio médio"
         }
        }
       }
      },
      "text/html": [
       "<div>\n",
       "        \n",
       "        \n",
       "            <div id=\"7b161dbd-aca2-4bf7-8a85-36c38d7dff70\" class=\"plotly-graph-div\" style=\"height:525px; width:100%;\"></div>\n",
       "            <script type=\"text/javascript\">\n",
       "                require([\"plotly\"], function(Plotly) {\n",
       "                    window.PLOTLYENV=window.PLOTLYENV || {};\n",
       "                    \n",
       "                if (document.getElementById(\"7b161dbd-aca2-4bf7-8a85-36c38d7dff70\")) {\n",
       "                    Plotly.newPlot(\n",
       "                        '7b161dbd-aca2-4bf7-8a85-36c38d7dff70',\n",
       "                        [{\"mode\": \"markers\", \"text\": [\"Belo Horizonte\", \"Porto Alegre\", \"Curitiba\", \"Goi\\u00e2nia\", \"Ribeir\\u00e3o Preto\", \"Juiz de Fora\", \"S\\u00e3o Jos\\u00e9 dos Campos\", \"Bras\\u00edlia\", \"Campos dos Goytacazes\", \"Piracicaba\", \"Sorocaba\", \"Campinas\", \"Campina Grande\", \"Caruaru\", \"Volta Redonda\", \"Maca\\u00e9\", \"Aracaju\", \"Passo Fundo\", \"Teresina\", \"Petr\\u00f3polis\", \"Natal\", \"Praia Grande\", \"Teres\\u00f3polis\", \"Mau\\u00e1\", \"Jundia\\u00ed\", \"Angra dos Reis\", \"Ilh\\u00e9us\", \"Salvador\", \"S\\u00e3o Gon\\u00e7alo\", \"Embu das Artes\", \"Maric\\u00e1\", \"Cotia\", \"Itapecerica da Serra\", \"Carapicu\\u00edba\", \"S\\u00e3o Jo\\u00e3o de Meriti\", \"Jo\\u00e3o Pessoa\", \"Santo Andr\\u00e9\", \"Niter\\u00f3i\", \"Itaquaquecetuba\", \"Mogi das Cruzes\", \"Guaruj\\u00e1\", \"Ferraz de Vasconcelos\", \"Belford Roxo\", \"Nil\\u00f3polis\", \"Suzano\", \"Mossor\\u00f3\", \"Diadema\", \"S\\u00e3o Vicente\", \"Tabo\\u00e3o da Serra\", \"S\\u00e3o Jos\\u00e9 de Ribamar\", \"Guarulhos\", \"S\\u00e3o Bernardo do Campo\", \"Po\\u00e1\", \"Boa Vista\", \"Nova Igua\\u00e7u\", \"Vila Velha\", \"S\\u00e3o Caetano do Sul\", \"Franco da Rocha\", \"Duque de Caxias\", \"Macap\\u00e1\", \"Porto Velho\", \"Pa\\u00e7o do Lumiar\", \"Bragan\\u00e7a\", \"Itapevi\", \"Cubat\\u00e3o\", \"Marituba\", \"Vit\\u00f3ria\", \"Marab\\u00e1\", \"Itabora\\u00ed\", \"Rio Branco\", \"Cariacica\", \"Mesquita\", \"Macei\\u00f3\", \"Mag\\u00e9\", \"Serra\", \"Caieiras\", \"S\\u00e3o Paulo\", \"Parauapebas\", \"Itagua\\u00ed\", \"Abaetetuba\", \"Santos\", \"Santar\\u00e9m\", \"Olinda\", \"Goiana\", \"Igarassu\", \"Camet\\u00e1\", \"Abreu e Lima\", \"Maranguape\", \"Imperatriz\", \"Cascavel\", \"Itacoatiara\", \"Caucaia\", \"Ipojuca\", \"Paulista\", \"Camaragibe\", \"Itapipoca\", \"Vit\\u00f3ria de Santo Ant\\u00e3o\", \"Osasco\", \"Jaboat\\u00e3o dos Guararapes\", \"S\\u00e3o Lu\\u00eds\", \"Cabo de Santo Agostinho\", \"Tucuru\\u00ed\", \"Parintins\", \"Ananindeua\", \"S\\u00e3o Louren\\u00e7o da Mata\", \"Barueri\", \"Pacatuba\", \"Capanema\", \"Paragominas\", \"Santa Rita\", \"Barcarena\", \"Breves\", \"Castanhal\", \"Sobral\", \"Rio de Janeiro\", \"Benevides\", \"Manaus\", \"Maracana\\u00fa\", \"Laranjal do Jari\", \"Coari\", \"Recife\", \"Fortaleza\", \"Curu\\u00e7\\u00e1\", \"Tabatinga\", \"Tef\\u00e9\", \"Bel\\u00e9m\", \"Manacapuru\"], \"type\": \"scatter\", \"x\": [2.468084090013415, 3.1002088597229625, 3.2072753420015983, 5.342609686744986, 6.39847119194987, 6.504087907142719, 6.9257449331250065, 7.097213249369542, 9.063182201486361, 9.155197925481637, 9.27318812207637, 9.633967375732203, 10.982815554595575, 12.461300738262839, 13.918802103936823, 16.36329634708889, 17.199050855919136, 17.218054359857337, 17.45977602923067, 17.63605070037983, 18.436369641293847, 19.380262279549516, 20.263535494046902, 21.357038941705856, 21.72034695270693, 22.08209632701131, 22.177456615350497, 22.281430481762822, 22.307457604308105, 22.650387613891265, 23.57217738683804, 23.674812407206772, 23.90533487389936, 24.193930565913494, 24.34346727179587, 24.474206287893303, 24.625298946955436, 24.728184678650425, 24.809813899428566, 25.12100699350891, 25.27624438695746, 25.736580946694392, 25.8364552383413, 25.848539865218328, 25.870439495089656, 25.892971235262863, 26.186409489388605, 27.06411735438685, 27.61820592134335, 28.13936866512463, 29.43773918163085, 29.442055174649795, 29.799407417498212, 29.80864851595514, 30.324139476427547, 31.589306614719806, 31.65205086670763, 32.3647638343183, 32.514278009038755, 33.775259423794076, 33.991509676249756, 36.007430624319746, 36.025875977006095, 36.600757257046695, 36.72392027848973, 38.01674257342934, 38.111334808076286, 39.01929128079929, 39.07029327658442, 39.281251304260294, 39.602921698991565, 39.749464801848916, 39.8450166249897, 39.98841152155906, 40.38569303008637, 40.406031339312115, 41.40540709073106, 42.25223624761731, 42.851021282673905, 43.120394678436, 43.84841372593818, 43.993709556156, 47.39070836369566, 47.644123473507356, 47.85547646108751, 47.864239611284354, 48.004800480048004, 48.07021352478717, 48.321877826829855, 48.78524734120402, 49.34031992263438, 49.52960708356392, 49.893975302482225, 50.0340593295436, 50.054489697645536, 50.24814854898808, 51.16858969277226, 52.11778619680478, 52.68418819361582, 53.18164162470823, 53.61075692593022, 53.66930907363253, 54.25603598400322, 54.46684684073442, 54.75580676499161, 55.072907776586355, 55.134720490938726, 56.49963057933852, 56.56458526669318, 57.106877718067736, 57.74783445620789, 61.34312226755338, 62.751191525600994, 65.57063201474142, 67.2133531322003, 68.54009595613434, 68.76605476636722, 73.28225516266906, 73.39813529061693, 75.20829171416149, 77.16954270058157, 98.78839054718354, 99.83527180152748, 101.7556649049268, 106.9357884008087, 110.13267503826843, 120.1515758341292], \"y\": [1.0445783132530122, 0.9390243902439019, 1.0300925925925921, 0.9773662551440332, 0.9748633879781424, 0.8912830558276198, 0.9928057553956832, 0.9902818270165205, 0.9331703341483292, 1.033119658119658, 0.9263271939328278, 0.9620512820512824, 1.1198600174978128, 0.9246753246753248, 1.0073619631901842, 1.1118077324973878, 0.8648648648648647, 1.0353591160220994, 0.980042016806723, 0.8816287878787882, 1.0350378787878791, 1.0034965034965029, 0.9119746233148294, 0.9338085539714872, 1.0194075587334013, 0.8787878787878788, 0.9189463019250252, 0.99207135777998, 0.983316977428852, 0.9241164241164236, 1.0532481363152288, 0.9518716577540108, 0.9164237123420796, 0.9552511415525112, 0.8919999999999998, 1.0235690235690242, 0.9602446483180428, 0.8403211418376451, 0.9037111334002008, 0.9637139807897548, 1.1137538779731126, 0.9160447761194028, 0.8893967093235831, 0.8954501452081317, 0.9178644763860372, 0.9508881922675024, 0.949454905847374, 1.1131105398457586, 0.994753410283316, 0.9225206611570248, 0.957023060796646, 0.9864583333333332, 0.9540347293156284, 0.9870009285051066, 0.8944392082940624, 1.011340206185567, 1.1251461988304092, 0.9692470837751858, 0.8677494199535964, 0.9611752360965377, 0.9613572101790759, 0.9251282051282051, 0.9955156950672645, 0.9432773109243694, 0.9618117229129662, 0.7760814249363871, 0.9194756554307116, 0.8583333333333334, 1.056429232192414, 1.0198019801980205, 0.9490616621983916, 0.8368932038834952, 1.0019646365422394, 1.0371287128712872, 0.9670987038883354, 0.9407744874715258, 1.0372208436724564, 0.76010966415353, 1.0151380231522706, 1.1949740034662044, 1.0081716036772217, 1.061619718309859, 0.9051254089422028, 0.9912109374999996, 0.9180497925311204, 0.8763440860215057, 0.8970718722271516, 0.923146473779385, 0.8934563758389265, 0.9752321981424152, 0.8618784530386736, 0.9851537645811242, 0.8879003558718861, 0.9173469387755102, 0.9404761904761904, 0.7987470634299142, 0.8612132352941176, 0.9198266522210186, 0.8654037886340976, 0.8896631823461092, 0.8892185954500494, 0.8510506798516685, 0.9063786008230448, 0.8192862566438873, 0.9464285714285716, 0.8897266729500471, 0.8201612903225806, 0.9855465221318882, 1.5997963340122203, 0.9185929648241208, 1.018018018018018, 0.7786333012512032, 0.9209419680403704, 0.8916857360793287, 0.8629441624365481, 1.078020134228188, 0.8817966903073288, 0.8891820580474935, 0.8958990536277606, 0.8627087198515773, 0.8617021276595742, 0.8425381903642775, 0.9174311926605504, 0.8400383141762456, 0.8069306930693071, 0.7994699646643109, 0.8856243441762854]}],\n",
       "                        {\"template\": {\"data\": {\"bar\": [{\"error_x\": {\"color\": \"#2a3f5f\"}, \"error_y\": {\"color\": \"#2a3f5f\"}, \"marker\": {\"line\": {\"color\": \"#E5ECF6\", \"width\": 0.5}}, \"type\": \"bar\"}], \"barpolar\": [{\"marker\": {\"line\": {\"color\": \"#E5ECF6\", \"width\": 0.5}}, \"type\": \"barpolar\"}], \"carpet\": [{\"aaxis\": {\"endlinecolor\": \"#2a3f5f\", \"gridcolor\": \"white\", \"linecolor\": \"white\", \"minorgridcolor\": \"white\", \"startlinecolor\": \"#2a3f5f\"}, \"baxis\": {\"endlinecolor\": \"#2a3f5f\", \"gridcolor\": \"white\", \"linecolor\": \"white\", \"minorgridcolor\": \"white\", \"startlinecolor\": \"#2a3f5f\"}, \"type\": \"carpet\"}], \"choropleth\": [{\"colorbar\": {\"outlinewidth\": 0, \"ticks\": \"\"}, \"type\": \"choropleth\"}], \"contour\": [{\"colorbar\": {\"outlinewidth\": 0, \"ticks\": \"\"}, \"colorscale\": [[0.0, \"#0d0887\"], [0.1111111111111111, \"#46039f\"], [0.2222222222222222, \"#7201a8\"], [0.3333333333333333, \"#9c179e\"], [0.4444444444444444, \"#bd3786\"], [0.5555555555555556, \"#d8576b\"], [0.6666666666666666, \"#ed7953\"], [0.7777777777777778, \"#fb9f3a\"], [0.8888888888888888, \"#fdca26\"], [1.0, \"#f0f921\"]], \"type\": \"contour\"}], \"contourcarpet\": [{\"colorbar\": {\"outlinewidth\": 0, \"ticks\": \"\"}, \"type\": \"contourcarpet\"}], \"heatmap\": [{\"colorbar\": {\"outlinewidth\": 0, \"ticks\": \"\"}, \"colorscale\": [[0.0, \"#0d0887\"], [0.1111111111111111, \"#46039f\"], [0.2222222222222222, \"#7201a8\"], [0.3333333333333333, \"#9c179e\"], [0.4444444444444444, \"#bd3786\"], [0.5555555555555556, \"#d8576b\"], [0.6666666666666666, \"#ed7953\"], [0.7777777777777778, \"#fb9f3a\"], [0.8888888888888888, \"#fdca26\"], [1.0, \"#f0f921\"]], \"type\": \"heatmap\"}], \"heatmapgl\": [{\"colorbar\": {\"outlinewidth\": 0, \"ticks\": \"\"}, \"colorscale\": [[0.0, \"#0d0887\"], [0.1111111111111111, \"#46039f\"], [0.2222222222222222, \"#7201a8\"], [0.3333333333333333, \"#9c179e\"], [0.4444444444444444, \"#bd3786\"], [0.5555555555555556, \"#d8576b\"], [0.6666666666666666, \"#ed7953\"], [0.7777777777777778, \"#fb9f3a\"], [0.8888888888888888, \"#fdca26\"], [1.0, \"#f0f921\"]], \"type\": \"heatmapgl\"}], \"histogram\": [{\"marker\": {\"colorbar\": {\"outlinewidth\": 0, \"ticks\": \"\"}}, \"type\": \"histogram\"}], \"histogram2d\": [{\"colorbar\": {\"outlinewidth\": 0, \"ticks\": \"\"}, \"colorscale\": [[0.0, \"#0d0887\"], [0.1111111111111111, \"#46039f\"], [0.2222222222222222, \"#7201a8\"], [0.3333333333333333, \"#9c179e\"], [0.4444444444444444, \"#bd3786\"], [0.5555555555555556, \"#d8576b\"], [0.6666666666666666, \"#ed7953\"], [0.7777777777777778, \"#fb9f3a\"], [0.8888888888888888, \"#fdca26\"], [1.0, \"#f0f921\"]], \"type\": \"histogram2d\"}], \"histogram2dcontour\": [{\"colorbar\": {\"outlinewidth\": 0, \"ticks\": \"\"}, \"colorscale\": [[0.0, \"#0d0887\"], [0.1111111111111111, \"#46039f\"], [0.2222222222222222, \"#7201a8\"], [0.3333333333333333, \"#9c179e\"], [0.4444444444444444, \"#bd3786\"], [0.5555555555555556, \"#d8576b\"], [0.6666666666666666, \"#ed7953\"], [0.7777777777777778, \"#fb9f3a\"], [0.8888888888888888, \"#fdca26\"], [1.0, \"#f0f921\"]], \"type\": \"histogram2dcontour\"}], \"mesh3d\": [{\"colorbar\": {\"outlinewidth\": 0, \"ticks\": \"\"}, \"type\": \"mesh3d\"}], \"parcoords\": [{\"line\": {\"colorbar\": {\"outlinewidth\": 0, \"ticks\": \"\"}}, \"type\": \"parcoords\"}], \"pie\": [{\"automargin\": true, \"type\": \"pie\"}], \"scatter\": [{\"marker\": {\"colorbar\": {\"outlinewidth\": 0, \"ticks\": \"\"}}, \"type\": \"scatter\"}], \"scatter3d\": [{\"line\": {\"colorbar\": {\"outlinewidth\": 0, \"ticks\": \"\"}}, \"marker\": {\"colorbar\": {\"outlinewidth\": 0, \"ticks\": \"\"}}, \"type\": \"scatter3d\"}], \"scattercarpet\": [{\"marker\": {\"colorbar\": {\"outlinewidth\": 0, \"ticks\": \"\"}}, \"type\": \"scattercarpet\"}], \"scattergeo\": [{\"marker\": {\"colorbar\": {\"outlinewidth\": 0, \"ticks\": \"\"}}, \"type\": \"scattergeo\"}], \"scattergl\": [{\"marker\": {\"colorbar\": {\"outlinewidth\": 0, \"ticks\": \"\"}}, \"type\": \"scattergl\"}], \"scattermapbox\": [{\"marker\": {\"colorbar\": {\"outlinewidth\": 0, \"ticks\": \"\"}}, \"type\": \"scattermapbox\"}], \"scatterpolar\": [{\"marker\": {\"colorbar\": {\"outlinewidth\": 0, \"ticks\": \"\"}}, \"type\": \"scatterpolar\"}], \"scatterpolargl\": [{\"marker\": {\"colorbar\": {\"outlinewidth\": 0, \"ticks\": \"\"}}, \"type\": \"scatterpolargl\"}], \"scatterternary\": [{\"marker\": {\"colorbar\": {\"outlinewidth\": 0, \"ticks\": \"\"}}, \"type\": \"scatterternary\"}], \"surface\": [{\"colorbar\": {\"outlinewidth\": 0, \"ticks\": \"\"}, \"colorscale\": [[0.0, \"#0d0887\"], [0.1111111111111111, \"#46039f\"], [0.2222222222222222, \"#7201a8\"], [0.3333333333333333, \"#9c179e\"], [0.4444444444444444, \"#bd3786\"], [0.5555555555555556, \"#d8576b\"], [0.6666666666666666, \"#ed7953\"], [0.7777777777777778, \"#fb9f3a\"], [0.8888888888888888, \"#fdca26\"], [1.0, \"#f0f921\"]], \"type\": \"surface\"}], \"table\": [{\"cells\": {\"fill\": {\"color\": \"#EBF0F8\"}, \"line\": {\"color\": \"white\"}}, \"header\": {\"fill\": {\"color\": \"#C8D4E3\"}, \"line\": {\"color\": \"white\"}}, \"type\": \"table\"}]}, \"layout\": {\"annotationdefaults\": {\"arrowcolor\": \"#2a3f5f\", \"arrowhead\": 0, \"arrowwidth\": 1}, \"coloraxis\": {\"colorbar\": {\"outlinewidth\": 0, \"ticks\": \"\"}}, \"colorscale\": {\"diverging\": [[0, \"#8e0152\"], [0.1, \"#c51b7d\"], [0.2, \"#de77ae\"], [0.3, \"#f1b6da\"], [0.4, \"#fde0ef\"], [0.5, \"#f7f7f7\"], [0.6, \"#e6f5d0\"], [0.7, \"#b8e186\"], [0.8, \"#7fbc41\"], [0.9, \"#4d9221\"], [1, \"#276419\"]], \"sequential\": [[0.0, \"#0d0887\"], [0.1111111111111111, \"#46039f\"], [0.2222222222222222, \"#7201a8\"], [0.3333333333333333, \"#9c179e\"], [0.4444444444444444, \"#bd3786\"], [0.5555555555555556, \"#d8576b\"], [0.6666666666666666, \"#ed7953\"], [0.7777777777777778, \"#fb9f3a\"], [0.8888888888888888, \"#fdca26\"], [1.0, \"#f0f921\"]], \"sequentialminus\": [[0.0, \"#0d0887\"], [0.1111111111111111, \"#46039f\"], [0.2222222222222222, \"#7201a8\"], [0.3333333333333333, \"#9c179e\"], [0.4444444444444444, \"#bd3786\"], [0.5555555555555556, \"#d8576b\"], [0.6666666666666666, \"#ed7953\"], [0.7777777777777778, \"#fb9f3a\"], [0.8888888888888888, \"#fdca26\"], [1.0, \"#f0f921\"]]}, \"colorway\": [\"#636efa\", \"#EF553B\", \"#00cc96\", \"#ab63fa\", \"#FFA15A\", \"#19d3f3\", \"#FF6692\", \"#B6E880\", \"#FF97FF\", \"#FECB52\"], \"font\": {\"color\": \"#2a3f5f\"}, \"geo\": {\"bgcolor\": \"white\", \"lakecolor\": \"white\", \"landcolor\": \"#E5ECF6\", \"showlakes\": true, \"showland\": true, \"subunitcolor\": \"white\"}, \"hoverlabel\": {\"align\": \"left\"}, \"hovermode\": \"closest\", \"mapbox\": {\"style\": \"light\"}, \"paper_bgcolor\": \"white\", \"plot_bgcolor\": \"#E5ECF6\", \"polar\": {\"angularaxis\": {\"gridcolor\": \"white\", \"linecolor\": \"white\", \"ticks\": \"\"}, \"bgcolor\": \"#E5ECF6\", \"radialaxis\": {\"gridcolor\": \"white\", \"linecolor\": \"white\", \"ticks\": \"\"}}, \"scene\": {\"xaxis\": {\"backgroundcolor\": \"#E5ECF6\", \"gridcolor\": \"white\", \"gridwidth\": 2, \"linecolor\": \"white\", \"showbackground\": true, \"ticks\": \"\", \"zerolinecolor\": \"white\"}, \"yaxis\": {\"backgroundcolor\": \"#E5ECF6\", \"gridcolor\": \"white\", \"gridwidth\": 2, \"linecolor\": \"white\", \"showbackground\": true, \"ticks\": \"\", \"zerolinecolor\": \"white\"}, \"zaxis\": {\"backgroundcolor\": \"#E5ECF6\", \"gridcolor\": \"white\", \"gridwidth\": 2, \"linecolor\": \"white\", \"showbackground\": true, \"ticks\": \"\", \"zerolinecolor\": \"white\"}}, \"shapedefaults\": {\"line\": {\"color\": \"#2a3f5f\"}}, \"ternary\": {\"aaxis\": {\"gridcolor\": \"white\", \"linecolor\": \"white\", \"ticks\": \"\"}, \"baxis\": {\"gridcolor\": \"white\", \"linecolor\": \"white\", \"ticks\": \"\"}, \"bgcolor\": \"#E5ECF6\", \"caxis\": {\"gridcolor\": \"white\", \"linecolor\": \"white\", \"ticks\": \"\"}}, \"title\": {\"x\": 0.05}, \"xaxis\": {\"automargin\": true, \"gridcolor\": \"white\", \"linecolor\": \"white\", \"ticks\": \"\", \"title\": {\"standoff\": 15}, \"zerolinecolor\": \"white\", \"zerolinewidth\": 2}, \"yaxis\": {\"automargin\": true, \"gridcolor\": \"white\", \"linecolor\": \"white\", \"ticks\": \"\", \"title\": {\"standoff\": 15}, \"zerolinecolor\": \"white\", \"zerolinewidth\": 2}}}, \"title\": {\"text\": \" $$Gr\\u00e1fico\\\\ do\\\\ \\u0394R_t \\\\ versus\\\\ Mortes \\\\ por \\\\ 100\\\\ mil\\\\ hab$$\"}, \"xaxis\": {\"title\": {\"text\": \"Mortes por 100 mil habitantes\"}}, \"yaxis\": {\"title\": {\"text\": \"Raz\\u00e3o de crescimento do ritmo de cont\\u00e1gio m\\u00e9dio\"}}},\n",
       "                        {\"responsive\": true}\n",
       "                    ).then(function(){\n",
       "                            \n",
       "var gd = document.getElementById('7b161dbd-aca2-4bf7-8a85-36c38d7dff70');\n",
       "var x = new MutationObserver(function (mutations, observer) {{\n",
       "        var display = window.getComputedStyle(gd).display;\n",
       "        if (!display || display === 'none') {{\n",
       "            console.log([gd, 'removed!']);\n",
       "            Plotly.purge(gd);\n",
       "            observer.disconnect();\n",
       "        }}\n",
       "}});\n",
       "\n",
       "// Listen for the removal of the full notebook cells\n",
       "var notebookContainer = gd.closest('#notebook-container');\n",
       "if (notebookContainer) {{\n",
       "    x.observe(notebookContainer, {childList: true});\n",
       "}}\n",
       "\n",
       "// Listen for the clearing of the current output cell\n",
       "var outputEl = gd.closest('.output');\n",
       "if (outputEl) {{\n",
       "    x.observe(outputEl, {childList: true});\n",
       "}}\n",
       "\n",
       "                        })\n",
       "                };\n",
       "                });\n",
       "            </script>\n",
       "        </div>"
      ]
     },
     "metadata": {},
     "output_type": "display_data"
    }
   ],
   "source": [
    "# Gráfico de Dispersão entre variáveis\n",
    "## Usar para análise exploratória\n",
    "x = 'deaths_100khab' #Try me\n",
    "y = 'rt_ratio_week_avg' #Try me\n",
    "z = dfexib.sort_values(x)\n",
    "\n",
    "fig = go.Figure()\n",
    "fig.add_trace(\n",
    "    go.Scatter(x=list(z[x]), y=list(z[y]),\n",
    "               mode='markers',text=z['city_name']))\n",
    "\n",
    "\n",
    "fig.layout.xaxis.update({'title': \"Mortes por 100 mil habitantes\"})\n",
    "fig.layout.yaxis.update({'title': 'Razão de crescimento do ritmo de contágio médio'})\n",
    "fig.update_layout(title= ' $$Gráfico\\\\ do\\\\ ΔR_t \\\\ versus\\\\ Mortes \\\\ por \\\\ 100\\\\ mil\\\\ hab$$')\n",
    "fig.show()"
   ]
  },
  {
   "cell_type": "markdown",
   "metadata": {},
   "source": [
    "Lista dos municípios que apresentam Rt < 1:"
   ]
  },
  {
   "cell_type": "code",
   "execution_count": 15,
   "metadata": {
    "scrolled": true
   },
   "outputs": [
    {
     "data": {
      "text/html": [
       "<div>\n",
       "<style scoped>\n",
       "    .dataframe tbody tr th:only-of-type {\n",
       "        vertical-align: middle;\n",
       "    }\n",
       "\n",
       "    .dataframe tbody tr th {\n",
       "        vertical-align: top;\n",
       "    }\n",
       "\n",
       "    .dataframe thead th {\n",
       "        text-align: right;\n",
       "    }\n",
       "</style>\n",
       "<table border=\"1\" class=\"dataframe\">\n",
       "  <thead>\n",
       "    <tr style=\"text-align: right;\">\n",
       "      <th></th>\n",
       "      <th>city_id</th>\n",
       "      <th>city_name</th>\n",
       "      <th>state_id</th>\n",
       "      <th>state_name</th>\n",
       "      <th>population</th>\n",
       "      <th>health_system_region</th>\n",
       "      <th>last_updated_number_beds</th>\n",
       "      <th>author_number_beds</th>\n",
       "      <th>number_beds</th>\n",
       "      <th>last_updated_number_ventilators</th>\n",
       "      <th>author_number_ventilators</th>\n",
       "      <th>number_ventilators</th>\n",
       "      <th>confirmed_cases</th>\n",
       "      <th>active_cases</th>\n",
       "      <th>deaths</th>\n",
       "      <th>notification_rate</th>\n",
       "      <th>state_notification_rate</th>\n",
       "      <th>last_updated_subnotification</th>\n",
       "      <th>subnotification_place_type</th>\n",
       "      <th>subnotification_rate</th>\n",
       "      <th>subnotification_rank</th>\n",
       "      <th>subnotification_classification</th>\n",
       "      <th>last_updated_rt</th>\n",
       "      <th>rt_10days_ago_low</th>\n",
       "      <th>rt_10days_ago_high</th>\n",
       "      <th>rt_10days_ago_most_likely</th>\n",
       "      <th>rt_17days_ago_low</th>\n",
       "      <th>rt_17days_ago_high</th>\n",
       "      <th>rt_17days_ago_most_likely</th>\n",
       "      <th>rt_classification</th>\n",
       "      <th>rt_10days_ago_avg</th>\n",
       "      <th>rt_17days_ago_avg</th>\n",
       "      <th>rt_ratio_week_avg</th>\n",
       "      <th>rt_growth</th>\n",
       "      <th>last_updated_inloco</th>\n",
       "      <th>inloco_today_7days_avg</th>\n",
       "      <th>inloco_last_week_7days_avg</th>\n",
       "      <th>inloco_ratio_week_avgs</th>\n",
       "      <th>inloco_growth</th>\n",
       "      <th>dday_beds_best</th>\n",
       "      <th>dday_beds_worst</th>\n",
       "      <th>dday_classification</th>\n",
       "      <th>dday_beds_best_months</th>\n",
       "      <th>overall_alert</th>\n",
       "      <th>data_last_refreshed</th>\n",
       "    </tr>\n",
       "  </thead>\n",
       "  <tbody>\n",
       "    <tr>\n",
       "      <th>1</th>\n",
       "      <td>4213500</td>\n",
       "      <td>Porto Belo</td>\n",
       "      <td>SC</td>\n",
       "      <td>Santa Catarina</td>\n",
       "      <td>21388</td>\n",
       "      <td>Balneário Camboriú</td>\n",
       "      <td>2020-04-01</td>\n",
       "      <td>DataSUS</td>\n",
       "      <td>0</td>\n",
       "      <td>2020-04-01</td>\n",
       "      <td>DataSUS</td>\n",
       "      <td>0.0</td>\n",
       "      <td>28.0</td>\n",
       "      <td>35.0</td>\n",
       "      <td>1.0</td>\n",
       "      <td>0.508571</td>\n",
       "      <td>1.000000</td>\n",
       "      <td>2020-06-10 12:53:24</td>\n",
       "      <td>city</td>\n",
       "      <td>0.491429</td>\n",
       "      <td>34.0</td>\n",
       "      <td>bom</td>\n",
       "      <td>2020-06-10 13:35:27</td>\n",
       "      <td>0.57</td>\n",
       "      <td>1.50</td>\n",
       "      <td>1.04</td>\n",
       "      <td>0.37</td>\n",
       "      <td>1.31</td>\n",
       "      <td>0.84</td>\n",
       "      <td>insatisfatório</td>\n",
       "      <td>0.907143</td>\n",
       "      <td>0.852857</td>\n",
       "      <td>1.063652</td>\n",
       "      <td>estabilizando</td>\n",
       "      <td>2020-06-10 12:54:43</td>\n",
       "      <td>0.379673</td>\n",
       "      <td>0.401990</td>\n",
       "      <td>0.944485</td>\n",
       "      <td>estabilizando</td>\n",
       "      <td>1.0</td>\n",
       "      <td>1.0</td>\n",
       "      <td>ruim</td>\n",
       "      <td>1.0</td>\n",
       "      <td>alto</td>\n",
       "      <td>2020-06-10 13:36:23</td>\n",
       "    </tr>\n",
       "    <tr>\n",
       "      <th>0</th>\n",
       "      <td>4314902</td>\n",
       "      <td>Porto Alegre</td>\n",
       "      <td>RS</td>\n",
       "      <td>Rio Grande do Sul</td>\n",
       "      <td>1483771</td>\n",
       "      <td>CRS 01 Porto Alegre</td>\n",
       "      <td>2020-04-01</td>\n",
       "      <td>DataSUS</td>\n",
       "      <td>4912</td>\n",
       "      <td>2020-04-01</td>\n",
       "      <td>DataSUS</td>\n",
       "      <td>1374.0</td>\n",
       "      <td>1153.0</td>\n",
       "      <td>1142.0</td>\n",
       "      <td>46.0</td>\n",
       "      <td>0.481564</td>\n",
       "      <td>0.838576</td>\n",
       "      <td>2020-06-10 12:53:24</td>\n",
       "      <td>city</td>\n",
       "      <td>0.518436</td>\n",
       "      <td>45.0</td>\n",
       "      <td>insatisfatório</td>\n",
       "      <td>2020-06-10 13:35:27</td>\n",
       "      <td>0.88</td>\n",
       "      <td>1.23</td>\n",
       "      <td>1.07</td>\n",
       "      <td>0.82</td>\n",
       "      <td>1.18</td>\n",
       "      <td>1.02</td>\n",
       "      <td>insatisfatório</td>\n",
       "      <td>0.990000</td>\n",
       "      <td>1.054286</td>\n",
       "      <td>0.939024</td>\n",
       "      <td>estabilizando</td>\n",
       "      <td>2020-06-10 12:54:43</td>\n",
       "      <td>0.420560</td>\n",
       "      <td>0.433076</td>\n",
       "      <td>0.971099</td>\n",
       "      <td>estabilizando</td>\n",
       "      <td>91.0</td>\n",
       "      <td>91.0</td>\n",
       "      <td>bom</td>\n",
       "      <td>3.0</td>\n",
       "      <td>medio</td>\n",
       "      <td>2020-06-10 13:36:23</td>\n",
       "    </tr>\n",
       "  </tbody>\n",
       "</table>\n",
       "</div>"
      ],
      "text/plain": [
       "   city_id     city_name state_id         state_name  population  \\\n",
       "1  4213500    Porto Belo       SC     Santa Catarina       21388   \n",
       "0  4314902  Porto Alegre       RS  Rio Grande do Sul     1483771   \n",
       "\n",
       "  health_system_region last_updated_number_beds author_number_beds  \\\n",
       "1   Balneário Camboriú               2020-04-01            DataSUS   \n",
       "0  CRS 01 Porto Alegre               2020-04-01            DataSUS   \n",
       "\n",
       "   number_beds last_updated_number_ventilators author_number_ventilators  \\\n",
       "1            0                      2020-04-01                   DataSUS   \n",
       "0         4912                      2020-04-01                   DataSUS   \n",
       "\n",
       "   number_ventilators  confirmed_cases  active_cases  deaths  \\\n",
       "1                 0.0             28.0          35.0     1.0   \n",
       "0              1374.0           1153.0        1142.0    46.0   \n",
       "\n",
       "   notification_rate  state_notification_rate last_updated_subnotification  \\\n",
       "1           0.508571                 1.000000          2020-06-10 12:53:24   \n",
       "0           0.481564                 0.838576          2020-06-10 12:53:24   \n",
       "\n",
       "  subnotification_place_type  subnotification_rate  subnotification_rank  \\\n",
       "1                       city              0.491429                  34.0   \n",
       "0                       city              0.518436                  45.0   \n",
       "\n",
       "  subnotification_classification      last_updated_rt  rt_10days_ago_low  \\\n",
       "1                            bom  2020-06-10 13:35:27               0.57   \n",
       "0                 insatisfatório  2020-06-10 13:35:27               0.88   \n",
       "\n",
       "   rt_10days_ago_high  rt_10days_ago_most_likely  rt_17days_ago_low  \\\n",
       "1                1.50                       1.04               0.37   \n",
       "0                1.23                       1.07               0.82   \n",
       "\n",
       "   rt_17days_ago_high  rt_17days_ago_most_likely rt_classification  \\\n",
       "1                1.31                       0.84    insatisfatório   \n",
       "0                1.18                       1.02    insatisfatório   \n",
       "\n",
       "   rt_10days_ago_avg  rt_17days_ago_avg  rt_ratio_week_avg      rt_growth  \\\n",
       "1           0.907143           0.852857           1.063652  estabilizando   \n",
       "0           0.990000           1.054286           0.939024  estabilizando   \n",
       "\n",
       "   last_updated_inloco  inloco_today_7days_avg  inloco_last_week_7days_avg  \\\n",
       "1  2020-06-10 12:54:43                0.379673                    0.401990   \n",
       "0  2020-06-10 12:54:43                0.420560                    0.433076   \n",
       "\n",
       "   inloco_ratio_week_avgs  inloco_growth  dday_beds_best  dday_beds_worst  \\\n",
       "1                0.944485  estabilizando             1.0              1.0   \n",
       "0                0.971099  estabilizando            91.0             91.0   \n",
       "\n",
       "  dday_classification  dday_beds_best_months overall_alert  \\\n",
       "1                ruim                    1.0          alto   \n",
       "0                 bom                    3.0         medio   \n",
       "\n",
       "   data_last_refreshed  \n",
       "1  2020-06-10 13:36:23  \n",
       "0  2020-06-10 13:36:23  "
      ]
     },
     "execution_count": 15,
     "metadata": {},
     "output_type": "execute_result"
    }
   ],
   "source": [
    "dfrtl = dfnna.query(\"rt_10days_ago_avg < 1\")\\\n",
    "            .reset_index(drop=True)\\\n",
    "            .sort_values(['rt_10days_ago_avg'])\n",
    "\n",
    "dfrtl"
   ]
  },
  {
   "cell_type": "markdown",
   "metadata": {},
   "source": [
    "Em apenas {{dfrtl.shape[0]}} município(s) o Rt está abaixo de 0"
   ]
  },
  {
   "cell_type": "markdown",
   "metadata": {},
   "source": [
    "## Carregando dados com a série histórica da doença"
   ]
  },
  {
   "cell_type": "code",
   "execution_count": 16,
   "metadata": {},
   "outputs": [],
   "source": [
    "dfh = pd.read_csv('http://datasource.coronacidades.org:7000/br/cities/cases/full')"
   ]
  },
  {
   "cell_type": "code",
   "execution_count": 17,
   "metadata": {},
   "outputs": [
    {
     "data": {
      "text/html": [
       "<div>\n",
       "<style scoped>\n",
       "    .dataframe tbody tr th:only-of-type {\n",
       "        vertical-align: middle;\n",
       "    }\n",
       "\n",
       "    .dataframe tbody tr th {\n",
       "        vertical-align: top;\n",
       "    }\n",
       "\n",
       "    .dataframe thead th {\n",
       "        text-align: right;\n",
       "    }\n",
       "</style>\n",
       "<table border=\"1\" class=\"dataframe\">\n",
       "  <thead>\n",
       "    <tr style=\"text-align: right;\">\n",
       "      <th></th>\n",
       "      <th>city</th>\n",
       "      <th>city_id</th>\n",
       "      <th>last_updated</th>\n",
       "      <th>epidemiological_week</th>\n",
       "      <th>estimated_population_2019</th>\n",
       "      <th>is_last</th>\n",
       "      <th>is_repeated</th>\n",
       "      <th>confirmed_cases</th>\n",
       "      <th>last_available_confirmed_per_100k_inhabitants</th>\n",
       "      <th>last_available_date</th>\n",
       "      <th>last_available_death_rate</th>\n",
       "      <th>deaths</th>\n",
       "      <th>daily_cases</th>\n",
       "      <th>new_deaths</th>\n",
       "      <th>order_for_place</th>\n",
       "      <th>place_type</th>\n",
       "      <th>state</th>\n",
       "      <th>infectious_period_cases</th>\n",
       "      <th>state_notification_rate</th>\n",
       "      <th>notification_rate</th>\n",
       "      <th>active_cases</th>\n",
       "      <th>data_last_refreshed</th>\n",
       "    </tr>\n",
       "  </thead>\n",
       "  <tbody>\n",
       "    <tr>\n",
       "      <th>0</th>\n",
       "      <td>Alta Floresta D'Oeste</td>\n",
       "      <td>1100015</td>\n",
       "      <td>2020-05-02</td>\n",
       "      <td>18</td>\n",
       "      <td>22945.0</td>\n",
       "      <td>False</td>\n",
       "      <td>False</td>\n",
       "      <td>1</td>\n",
       "      <td>4.35825</td>\n",
       "      <td>2020-05-02</td>\n",
       "      <td>0.0000</td>\n",
       "      <td>0</td>\n",
       "      <td>1.0</td>\n",
       "      <td>0</td>\n",
       "      <td>1</td>\n",
       "      <td>city</td>\n",
       "      <td>RO</td>\n",
       "      <td>1.0</td>\n",
       "      <td>0.716890</td>\n",
       "      <td>0.716890</td>\n",
       "      <td>1.0</td>\n",
       "      <td>2020-06-10 15:16:15</td>\n",
       "    </tr>\n",
       "    <tr>\n",
       "      <th>1</th>\n",
       "      <td>Alta Floresta D'Oeste</td>\n",
       "      <td>1100015</td>\n",
       "      <td>2020-05-03</td>\n",
       "      <td>19</td>\n",
       "      <td>22945.0</td>\n",
       "      <td>False</td>\n",
       "      <td>False</td>\n",
       "      <td>1</td>\n",
       "      <td>4.35825</td>\n",
       "      <td>2020-05-03</td>\n",
       "      <td>0.0000</td>\n",
       "      <td>0</td>\n",
       "      <td>0.0</td>\n",
       "      <td>0</td>\n",
       "      <td>2</td>\n",
       "      <td>city</td>\n",
       "      <td>RO</td>\n",
       "      <td>1.0</td>\n",
       "      <td>0.685501</td>\n",
       "      <td>0.685501</td>\n",
       "      <td>1.0</td>\n",
       "      <td>2020-06-10 15:16:15</td>\n",
       "    </tr>\n",
       "    <tr>\n",
       "      <th>2</th>\n",
       "      <td>Alta Floresta D'Oeste</td>\n",
       "      <td>1100015</td>\n",
       "      <td>2020-05-04</td>\n",
       "      <td>19</td>\n",
       "      <td>22945.0</td>\n",
       "      <td>False</td>\n",
       "      <td>False</td>\n",
       "      <td>1</td>\n",
       "      <td>4.35825</td>\n",
       "      <td>2020-05-04</td>\n",
       "      <td>0.0000</td>\n",
       "      <td>0</td>\n",
       "      <td>0.0</td>\n",
       "      <td>0</td>\n",
       "      <td>3</td>\n",
       "      <td>city</td>\n",
       "      <td>RO</td>\n",
       "      <td>1.0</td>\n",
       "      <td>0.647368</td>\n",
       "      <td>0.647368</td>\n",
       "      <td>2.0</td>\n",
       "      <td>2020-06-10 15:16:15</td>\n",
       "    </tr>\n",
       "    <tr>\n",
       "      <th>3</th>\n",
       "      <td>Alta Floresta D'Oeste</td>\n",
       "      <td>1100015</td>\n",
       "      <td>2020-05-05</td>\n",
       "      <td>19</td>\n",
       "      <td>22945.0</td>\n",
       "      <td>False</td>\n",
       "      <td>False</td>\n",
       "      <td>1</td>\n",
       "      <td>4.35825</td>\n",
       "      <td>2020-05-05</td>\n",
       "      <td>0.0000</td>\n",
       "      <td>0</td>\n",
       "      <td>0.0</td>\n",
       "      <td>0</td>\n",
       "      <td>4</td>\n",
       "      <td>city</td>\n",
       "      <td>RO</td>\n",
       "      <td>1.0</td>\n",
       "      <td>0.614688</td>\n",
       "      <td>0.614688</td>\n",
       "      <td>2.0</td>\n",
       "      <td>2020-06-10 15:16:15</td>\n",
       "    </tr>\n",
       "    <tr>\n",
       "      <th>4</th>\n",
       "      <td>Alta Floresta D'Oeste</td>\n",
       "      <td>1100015</td>\n",
       "      <td>2020-05-06</td>\n",
       "      <td>19</td>\n",
       "      <td>22945.0</td>\n",
       "      <td>False</td>\n",
       "      <td>False</td>\n",
       "      <td>1</td>\n",
       "      <td>4.35825</td>\n",
       "      <td>2020-05-06</td>\n",
       "      <td>0.0000</td>\n",
       "      <td>0</td>\n",
       "      <td>0.0</td>\n",
       "      <td>0</td>\n",
       "      <td>5</td>\n",
       "      <td>city</td>\n",
       "      <td>RO</td>\n",
       "      <td>1.0</td>\n",
       "      <td>0.608108</td>\n",
       "      <td>0.608108</td>\n",
       "      <td>2.0</td>\n",
       "      <td>2020-06-10 15:16:15</td>\n",
       "    </tr>\n",
       "    <tr>\n",
       "      <th>...</th>\n",
       "      <td>...</td>\n",
       "      <td>...</td>\n",
       "      <td>...</td>\n",
       "      <td>...</td>\n",
       "      <td>...</td>\n",
       "      <td>...</td>\n",
       "      <td>...</td>\n",
       "      <td>...</td>\n",
       "      <td>...</td>\n",
       "      <td>...</td>\n",
       "      <td>...</td>\n",
       "      <td>...</td>\n",
       "      <td>...</td>\n",
       "      <td>...</td>\n",
       "      <td>...</td>\n",
       "      <td>...</td>\n",
       "      <td>...</td>\n",
       "      <td>...</td>\n",
       "      <td>...</td>\n",
       "      <td>...</td>\n",
       "      <td>...</td>\n",
       "      <td>...</td>\n",
       "    </tr>\n",
       "    <tr>\n",
       "      <th>181495</th>\n",
       "      <td>Brasília</td>\n",
       "      <td>5300108</td>\n",
       "      <td>2020-06-05</td>\n",
       "      <td>23</td>\n",
       "      <td>3015268.0</td>\n",
       "      <td>False</td>\n",
       "      <td>False</td>\n",
       "      <td>12864</td>\n",
       "      <td>426.62874</td>\n",
       "      <td>2020-06-05</td>\n",
       "      <td>0.0145</td>\n",
       "      <td>186</td>\n",
       "      <td>1166.0</td>\n",
       "      <td>5</td>\n",
       "      <td>91</td>\n",
       "      <td>city</td>\n",
       "      <td>DF</td>\n",
       "      <td>7527.0</td>\n",
       "      <td>1.000000</td>\n",
       "      <td>1.000000</td>\n",
       "      <td>7527.0</td>\n",
       "      <td>2020-06-10 15:16:15</td>\n",
       "    </tr>\n",
       "    <tr>\n",
       "      <th>181496</th>\n",
       "      <td>Brasília</td>\n",
       "      <td>5300108</td>\n",
       "      <td>2020-06-06</td>\n",
       "      <td>23</td>\n",
       "      <td>3015268.0</td>\n",
       "      <td>False</td>\n",
       "      <td>False</td>\n",
       "      <td>14330</td>\n",
       "      <td>475.24797</td>\n",
       "      <td>2020-06-06</td>\n",
       "      <td>0.0134</td>\n",
       "      <td>192</td>\n",
       "      <td>1466.0</td>\n",
       "      <td>6</td>\n",
       "      <td>92</td>\n",
       "      <td>city</td>\n",
       "      <td>DF</td>\n",
       "      <td>8725.0</td>\n",
       "      <td>1.000000</td>\n",
       "      <td>1.000000</td>\n",
       "      <td>8725.0</td>\n",
       "      <td>2020-06-10 15:16:15</td>\n",
       "    </tr>\n",
       "    <tr>\n",
       "      <th>181497</th>\n",
       "      <td>Brasília</td>\n",
       "      <td>5300108</td>\n",
       "      <td>2020-06-07</td>\n",
       "      <td>24</td>\n",
       "      <td>3015268.0</td>\n",
       "      <td>False</td>\n",
       "      <td>False</td>\n",
       "      <td>15015</td>\n",
       "      <td>497.96569</td>\n",
       "      <td>2020-06-07</td>\n",
       "      <td>0.0131</td>\n",
       "      <td>196</td>\n",
       "      <td>685.0</td>\n",
       "      <td>4</td>\n",
       "      <td>93</td>\n",
       "      <td>city</td>\n",
       "      <td>DF</td>\n",
       "      <td>9113.0</td>\n",
       "      <td>1.000000</td>\n",
       "      <td>1.000000</td>\n",
       "      <td>9113.0</td>\n",
       "      <td>2020-06-10 15:16:15</td>\n",
       "    </tr>\n",
       "    <tr>\n",
       "      <th>181498</th>\n",
       "      <td>Brasília</td>\n",
       "      <td>5300108</td>\n",
       "      <td>2020-06-08</td>\n",
       "      <td>24</td>\n",
       "      <td>3015268.0</td>\n",
       "      <td>False</td>\n",
       "      <td>False</td>\n",
       "      <td>15015</td>\n",
       "      <td>497.96569</td>\n",
       "      <td>2020-06-08</td>\n",
       "      <td>0.0131</td>\n",
       "      <td>196</td>\n",
       "      <td>0.0</td>\n",
       "      <td>0</td>\n",
       "      <td>94</td>\n",
       "      <td>city</td>\n",
       "      <td>DF</td>\n",
       "      <td>8818.0</td>\n",
       "      <td>1.000000</td>\n",
       "      <td>1.000000</td>\n",
       "      <td>8818.0</td>\n",
       "      <td>2020-06-10 15:16:15</td>\n",
       "    </tr>\n",
       "    <tr>\n",
       "      <th>181499</th>\n",
       "      <td>Brasília</td>\n",
       "      <td>5300108</td>\n",
       "      <td>2020-06-09</td>\n",
       "      <td>24</td>\n",
       "      <td>3015268.0</td>\n",
       "      <td>True</td>\n",
       "      <td>False</td>\n",
       "      <td>16344</td>\n",
       "      <td>542.04137</td>\n",
       "      <td>2020-06-09</td>\n",
       "      <td>0.0131</td>\n",
       "      <td>214</td>\n",
       "      <td>1329.0</td>\n",
       "      <td>18</td>\n",
       "      <td>95</td>\n",
       "      <td>city</td>\n",
       "      <td>DF</td>\n",
       "      <td>9893.0</td>\n",
       "      <td>1.000000</td>\n",
       "      <td>1.000000</td>\n",
       "      <td>9893.0</td>\n",
       "      <td>2020-06-10 15:16:15</td>\n",
       "    </tr>\n",
       "  </tbody>\n",
       "</table>\n",
       "<p>181500 rows × 22 columns</p>\n",
       "</div>"
      ],
      "text/plain": [
       "                         city  city_id last_updated  epidemiological_week  \\\n",
       "0       Alta Floresta D'Oeste  1100015   2020-05-02                    18   \n",
       "1       Alta Floresta D'Oeste  1100015   2020-05-03                    19   \n",
       "2       Alta Floresta D'Oeste  1100015   2020-05-04                    19   \n",
       "3       Alta Floresta D'Oeste  1100015   2020-05-05                    19   \n",
       "4       Alta Floresta D'Oeste  1100015   2020-05-06                    19   \n",
       "...                       ...      ...          ...                   ...   \n",
       "181495               Brasília  5300108   2020-06-05                    23   \n",
       "181496               Brasília  5300108   2020-06-06                    23   \n",
       "181497               Brasília  5300108   2020-06-07                    24   \n",
       "181498               Brasília  5300108   2020-06-08                    24   \n",
       "181499               Brasília  5300108   2020-06-09                    24   \n",
       "\n",
       "        estimated_population_2019  is_last  is_repeated  confirmed_cases  \\\n",
       "0                         22945.0    False        False                1   \n",
       "1                         22945.0    False        False                1   \n",
       "2                         22945.0    False        False                1   \n",
       "3                         22945.0    False        False                1   \n",
       "4                         22945.0    False        False                1   \n",
       "...                           ...      ...          ...              ...   \n",
       "181495                  3015268.0    False        False            12864   \n",
       "181496                  3015268.0    False        False            14330   \n",
       "181497                  3015268.0    False        False            15015   \n",
       "181498                  3015268.0    False        False            15015   \n",
       "181499                  3015268.0     True        False            16344   \n",
       "\n",
       "        last_available_confirmed_per_100k_inhabitants last_available_date  \\\n",
       "0                                             4.35825          2020-05-02   \n",
       "1                                             4.35825          2020-05-03   \n",
       "2                                             4.35825          2020-05-04   \n",
       "3                                             4.35825          2020-05-05   \n",
       "4                                             4.35825          2020-05-06   \n",
       "...                                               ...                 ...   \n",
       "181495                                      426.62874          2020-06-05   \n",
       "181496                                      475.24797          2020-06-06   \n",
       "181497                                      497.96569          2020-06-07   \n",
       "181498                                      497.96569          2020-06-08   \n",
       "181499                                      542.04137          2020-06-09   \n",
       "\n",
       "        last_available_death_rate  deaths  daily_cases  new_deaths  \\\n",
       "0                          0.0000       0          1.0           0   \n",
       "1                          0.0000       0          0.0           0   \n",
       "2                          0.0000       0          0.0           0   \n",
       "3                          0.0000       0          0.0           0   \n",
       "4                          0.0000       0          0.0           0   \n",
       "...                           ...     ...          ...         ...   \n",
       "181495                     0.0145     186       1166.0           5   \n",
       "181496                     0.0134     192       1466.0           6   \n",
       "181497                     0.0131     196        685.0           4   \n",
       "181498                     0.0131     196          0.0           0   \n",
       "181499                     0.0131     214       1329.0          18   \n",
       "\n",
       "        order_for_place place_type state  infectious_period_cases  \\\n",
       "0                     1       city    RO                      1.0   \n",
       "1                     2       city    RO                      1.0   \n",
       "2                     3       city    RO                      1.0   \n",
       "3                     4       city    RO                      1.0   \n",
       "4                     5       city    RO                      1.0   \n",
       "...                 ...        ...   ...                      ...   \n",
       "181495               91       city    DF                   7527.0   \n",
       "181496               92       city    DF                   8725.0   \n",
       "181497               93       city    DF                   9113.0   \n",
       "181498               94       city    DF                   8818.0   \n",
       "181499               95       city    DF                   9893.0   \n",
       "\n",
       "        state_notification_rate  notification_rate  active_cases  \\\n",
       "0                      0.716890           0.716890           1.0   \n",
       "1                      0.685501           0.685501           1.0   \n",
       "2                      0.647368           0.647368           2.0   \n",
       "3                      0.614688           0.614688           2.0   \n",
       "4                      0.608108           0.608108           2.0   \n",
       "...                         ...                ...           ...   \n",
       "181495                 1.000000           1.000000        7527.0   \n",
       "181496                 1.000000           1.000000        8725.0   \n",
       "181497                 1.000000           1.000000        9113.0   \n",
       "181498                 1.000000           1.000000        8818.0   \n",
       "181499                 1.000000           1.000000        9893.0   \n",
       "\n",
       "        data_last_refreshed  \n",
       "0       2020-06-10 15:16:15  \n",
       "1       2020-06-10 15:16:15  \n",
       "2       2020-06-10 15:16:15  \n",
       "3       2020-06-10 15:16:15  \n",
       "4       2020-06-10 15:16:15  \n",
       "...                     ...  \n",
       "181495  2020-06-10 15:16:15  \n",
       "181496  2020-06-10 15:16:15  \n",
       "181497  2020-06-10 15:16:15  \n",
       "181498  2020-06-10 15:16:15  \n",
       "181499  2020-06-10 15:16:15  \n",
       "\n",
       "[181500 rows x 22 columns]"
      ]
     },
     "execution_count": 17,
     "metadata": {},
     "output_type": "execute_result"
    }
   ],
   "source": [
    "dfh"
   ]
  },
  {
   "cell_type": "code",
   "execution_count": 18,
   "metadata": {},
   "outputs": [
    {
     "name": "stdout",
     "output_type": "stream",
     "text": [
      "Atualizado pela última vez em: 2020-06-09\n"
     ]
    }
   ],
   "source": [
    "print(\"Atualizado pela última vez em: \" + str(dfh['last_updated'].max()))"
   ]
  },
  {
   "cell_type": "markdown",
   "metadata": {},
   "source": [
    "<h4>Montando o heatmap de mortes normalizadas por município</h4>\n",
    "Cálculo da média móvel das novas mortes nos últimos 5 dias"
   ]
  },
  {
   "cell_type": "code",
   "execution_count": 19,
   "metadata": {},
   "outputs": [],
   "source": [
    "def get_rolling_amount(grp):\n",
    "    return grp.rolling(5, min_periods=1, on='last_updated')['new_deaths'].mean()\n",
    "\n",
    "\n",
    "df_cities_deaths = dfh[~dfh['deaths'].isnull()][['state','city','city_id', 'last_updated', 'deaths','new_deaths']]\\\n",
    "                                                .groupby(['state','city','city_id', 'last_updated'])[['deaths','new_deaths']]\\\n",
    "                                                .sum()\\\n",
    "                                                .reset_index()\n",
    "\n",
    "df_cities_deaths['rolling_deaths_new'] = df_cities_deaths.groupby('city', \n",
    "                                                    as_index=False, \n",
    "                                                    group_keys=False)\\\n",
    "                                           .apply(get_rolling_amount)"
   ]
  },
  {
   "cell_type": "code",
   "execution_count": 20,
   "metadata": {},
   "outputs": [],
   "source": [
    "#Nome das cidades por ordem (Pode variar de acordo com o que quisermos listar)\n",
    "##(e.g. Variação do Rt ou valor absoluto do Rt)\n",
    "cities_names_all = list(dfnfilt['city_name'])\n",
    "\n",
    "cities_names = list(dfnfilt.sort_values('rt_10days_ago_avg', ascending = False)\\\n",
    "                                             ['city_name'].iloc[:10])\n",
    "\n",
    "#ID da cidades por ordem (Pode variar de acordo com o que quisermos listar)\n",
    "##(e.g. Variação do Rt ou valor absoluto do Rt)\n",
    "cities_id_all = list(dfnfilt['city_id'])\n",
    "\n",
    "cities_id = list(dfnfilt.sort_values('rt_10days_ago_avg', ascending = False)\\\n",
    "                                             ['city_id'].iloc[:10])\n",
    "\n",
    "#Selecionar apesar os municípios listados em city_id\n",
    "t = df_cities_deaths.query(f'city_id =={cities_id}')\n"
   ]
  },
  {
   "cell_type": "markdown",
   "metadata": {},
   "source": [
    "Primeira morte e primeiro caso em cada cidade:"
   ]
  },
  {
   "cell_type": "code",
   "execution_count": 21,
   "metadata": {},
   "outputs": [],
   "source": [
    "first_death = [dfh.query(f'city_id =={j}')\\\n",
    "    .query(f'deaths !=0')['last_updated'].min() for j in cities_id_all \n",
    "]\n",
    "\n",
    "first_case = [dfh.query(f'city_id =={j}')\\\n",
    "    .query(f'confirmed_cases != 0')['last_updated'].min() for j in cities_id_all \n",
    "]"
   ]
  },
  {
   "cell_type": "code",
   "execution_count": 22,
   "metadata": {},
   "outputs": [],
   "source": [
    "#Titulos dos gráficos\n",
    "titles = [\n",
    "    'Distribuição de mortes nas 10 cidades com o menor ritmo de contágio',\n",
    "    'Distribuição de mortes nas 10 cidades com o maior ritmo de contágio',\n",
    "    'Distribuição de mortes nas 10 cidades com o maior diminuição ritmo de contágio',\n",
    "    'Distribuição de mortes nas 10 cidades com o maior aumento ritmo de contágio'\n",
    "]"
   ]
  },
  {
   "cell_type": "code",
   "execution_count": 23,
   "metadata": {},
   "outputs": [],
   "source": [
    "v = 0 #Contagem de quantas imagens foram salvas (para uso posterior)"
   ]
  },
  {
   "cell_type": "code",
   "execution_count": 24,
   "metadata": {},
   "outputs": [],
   "source": [
    "place_type='city'\n",
    "col_time= 'last_updated'\n",
    "#min_deaths=10\n",
    "title=\"Mapa de calor: Média móvel normalizada de novas mortes nos últimos 5 dias\"\n",
    "colors='temps'"
   ]
  },
  {
   "cell_type": "code",
   "execution_count": 25,
   "metadata": {},
   "outputs": [
    {
     "name": "stdout",
     "output_type": "stream",
     "text": [
      "10\n"
     ]
    }
   ],
   "source": [
    "#Formatar o Dataset para a plotagem\n",
    "df_heatmap = t.reset_index()\\\n",
    "                              .pivot(index='city', \n",
    "                                      columns='last_updated', \n",
    "                                      values='rolling_deaths_new')\\\n",
    "                               .fillna(0)\\\n",
    "                               .apply(lambda x: x/x.max(), axis=1)\\\n",
    "                               .dropna(how='all')\n",
    "\n",
    "# remove dias com todos os valores iguais a 0\n",
    "df_heatmap = df_heatmap.loc[:, (df_heatmap != 0).any(axis=0)]\n",
    "print(len(df_heatmap))\n",
    "\n",
    "city_total_deaths = [t[t['city'] ==x]['deaths'].max() for x in df_heatmap.loc[cities_names].index]\n",
    "\n"
   ]
  },
  {
   "cell_type": "markdown",
   "metadata": {},
   "source": [
    "### Visualização da distribuições das mortes nos municípios selecionados"
   ]
  },
  {
   "cell_type": "code",
   "execution_count": 26,
   "metadata": {},
   "outputs": [
    {
     "data": {
      "text/html": [
       "<div>\n",
       "<style scoped>\n",
       "    .dataframe tbody tr th:only-of-type {\n",
       "        vertical-align: middle;\n",
       "    }\n",
       "\n",
       "    .dataframe tbody tr th {\n",
       "        vertical-align: top;\n",
       "    }\n",
       "\n",
       "    .dataframe thead th {\n",
       "        text-align: right;\n",
       "    }\n",
       "</style>\n",
       "<table border=\"1\" class=\"dataframe\">\n",
       "  <thead>\n",
       "    <tr style=\"text-align: right;\">\n",
       "      <th>last_updated</th>\n",
       "      <th>2020-04-02</th>\n",
       "      <th>2020-04-07</th>\n",
       "      <th>2020-04-13</th>\n",
       "      <th>2020-04-14</th>\n",
       "      <th>2020-04-15</th>\n",
       "      <th>2020-04-16</th>\n",
       "      <th>2020-04-17</th>\n",
       "      <th>2020-04-18</th>\n",
       "      <th>2020-04-19</th>\n",
       "      <th>2020-04-20</th>\n",
       "      <th>2020-04-21</th>\n",
       "      <th>2020-04-22</th>\n",
       "      <th>2020-04-23</th>\n",
       "      <th>2020-04-24</th>\n",
       "      <th>2020-04-25</th>\n",
       "      <th>2020-04-26</th>\n",
       "      <th>2020-04-27</th>\n",
       "      <th>2020-04-28</th>\n",
       "      <th>2020-04-29</th>\n",
       "      <th>2020-04-30</th>\n",
       "      <th>2020-05-01</th>\n",
       "      <th>2020-05-02</th>\n",
       "      <th>2020-05-03</th>\n",
       "      <th>2020-05-04</th>\n",
       "      <th>2020-05-05</th>\n",
       "      <th>2020-05-06</th>\n",
       "      <th>2020-05-07</th>\n",
       "      <th>2020-05-08</th>\n",
       "      <th>2020-05-09</th>\n",
       "      <th>2020-05-10</th>\n",
       "      <th>2020-05-11</th>\n",
       "      <th>2020-05-12</th>\n",
       "      <th>2020-05-13</th>\n",
       "      <th>2020-05-14</th>\n",
       "      <th>2020-05-15</th>\n",
       "      <th>2020-05-16</th>\n",
       "      <th>2020-05-17</th>\n",
       "      <th>2020-05-18</th>\n",
       "      <th>2020-05-19</th>\n",
       "      <th>2020-05-20</th>\n",
       "      <th>2020-05-21</th>\n",
       "      <th>2020-05-22</th>\n",
       "      <th>2020-05-23</th>\n",
       "      <th>2020-05-24</th>\n",
       "      <th>2020-05-25</th>\n",
       "      <th>2020-05-26</th>\n",
       "      <th>2020-05-27</th>\n",
       "      <th>2020-05-28</th>\n",
       "      <th>2020-05-29</th>\n",
       "      <th>2020-05-30</th>\n",
       "      <th>2020-05-31</th>\n",
       "      <th>2020-06-01</th>\n",
       "      <th>2020-06-02</th>\n",
       "      <th>2020-06-03</th>\n",
       "      <th>2020-06-04</th>\n",
       "      <th>2020-06-05</th>\n",
       "      <th>2020-06-06</th>\n",
       "      <th>2020-06-07</th>\n",
       "      <th>2020-06-08</th>\n",
       "      <th>2020-06-09</th>\n",
       "    </tr>\n",
       "    <tr>\n",
       "      <th>city</th>\n",
       "      <th></th>\n",
       "      <th></th>\n",
       "      <th></th>\n",
       "      <th></th>\n",
       "      <th></th>\n",
       "      <th></th>\n",
       "      <th></th>\n",
       "      <th></th>\n",
       "      <th></th>\n",
       "      <th></th>\n",
       "      <th></th>\n",
       "      <th></th>\n",
       "      <th></th>\n",
       "      <th></th>\n",
       "      <th></th>\n",
       "      <th></th>\n",
       "      <th></th>\n",
       "      <th></th>\n",
       "      <th></th>\n",
       "      <th></th>\n",
       "      <th></th>\n",
       "      <th></th>\n",
       "      <th></th>\n",
       "      <th></th>\n",
       "      <th></th>\n",
       "      <th></th>\n",
       "      <th></th>\n",
       "      <th></th>\n",
       "      <th></th>\n",
       "      <th></th>\n",
       "      <th></th>\n",
       "      <th></th>\n",
       "      <th></th>\n",
       "      <th></th>\n",
       "      <th></th>\n",
       "      <th></th>\n",
       "      <th></th>\n",
       "      <th></th>\n",
       "      <th></th>\n",
       "      <th></th>\n",
       "      <th></th>\n",
       "      <th></th>\n",
       "      <th></th>\n",
       "      <th></th>\n",
       "      <th></th>\n",
       "      <th></th>\n",
       "      <th></th>\n",
       "      <th></th>\n",
       "      <th></th>\n",
       "      <th></th>\n",
       "      <th></th>\n",
       "      <th></th>\n",
       "      <th></th>\n",
       "      <th></th>\n",
       "      <th></th>\n",
       "      <th></th>\n",
       "      <th></th>\n",
       "      <th></th>\n",
       "      <th></th>\n",
       "      <th></th>\n",
       "    </tr>\n",
       "  </thead>\n",
       "  <tbody>\n",
       "    <tr>\n",
       "      <th>Barcarena</th>\n",
       "      <td>0.000000</td>\n",
       "      <td>0.000000</td>\n",
       "      <td>0.00000</td>\n",
       "      <td>0.00000</td>\n",
       "      <td>0.000000</td>\n",
       "      <td>0.000000</td>\n",
       "      <td>0.000000</td>\n",
       "      <td>0.000000</td>\n",
       "      <td>0.000000</td>\n",
       "      <td>0.000000</td>\n",
       "      <td>0.000000</td>\n",
       "      <td>0.000000</td>\n",
       "      <td>0.000000</td>\n",
       "      <td>0.021277</td>\n",
       "      <td>0.021277</td>\n",
       "      <td>0.021277</td>\n",
       "      <td>0.021277</td>\n",
       "      <td>0.021277</td>\n",
       "      <td>0.000000</td>\n",
       "      <td>0.000000</td>\n",
       "      <td>0.000000</td>\n",
       "      <td>0.042553</td>\n",
       "      <td>0.042553</td>\n",
       "      <td>0.042553</td>\n",
       "      <td>0.042553</td>\n",
       "      <td>0.042553</td>\n",
       "      <td>0.000000</td>\n",
       "      <td>0.042553</td>\n",
       "      <td>0.042553</td>\n",
       "      <td>0.042553</td>\n",
       "      <td>0.085106</td>\n",
       "      <td>0.106383</td>\n",
       "      <td>0.063830</td>\n",
       "      <td>0.063830</td>\n",
       "      <td>0.063830</td>\n",
       "      <td>0.021277</td>\n",
       "      <td>0.000000</td>\n",
       "      <td>0.063830</td>\n",
       "      <td>0.063830</td>\n",
       "      <td>0.787234</td>\n",
       "      <td>0.808511</td>\n",
       "      <td>0.978723</td>\n",
       "      <td>1.000000</td>\n",
       "      <td>1.000000</td>\n",
       "      <td>0.297872</td>\n",
       "      <td>0.319149</td>\n",
       "      <td>0.148936</td>\n",
       "      <td>0.063830</td>\n",
       "      <td>0.042553</td>\n",
       "      <td>0.063830</td>\n",
       "      <td>0.021277</td>\n",
       "      <td>0.021277</td>\n",
       "      <td>0.063830</td>\n",
       "      <td>0.063830</td>\n",
       "      <td>0.021277</td>\n",
       "      <td>0.021277</td>\n",
       "      <td>0.127660</td>\n",
       "      <td>0.085106</td>\n",
       "      <td>0.106383</td>\n",
       "      <td>0.191489</td>\n",
       "    </tr>\n",
       "    <tr>\n",
       "      <th>Paragominas</th>\n",
       "      <td>0.000000</td>\n",
       "      <td>0.000000</td>\n",
       "      <td>0.00000</td>\n",
       "      <td>0.00000</td>\n",
       "      <td>0.000000</td>\n",
       "      <td>0.000000</td>\n",
       "      <td>0.000000</td>\n",
       "      <td>0.000000</td>\n",
       "      <td>0.000000</td>\n",
       "      <td>0.000000</td>\n",
       "      <td>0.000000</td>\n",
       "      <td>0.000000</td>\n",
       "      <td>0.000000</td>\n",
       "      <td>0.000000</td>\n",
       "      <td>0.000000</td>\n",
       "      <td>0.072464</td>\n",
       "      <td>0.108696</td>\n",
       "      <td>0.086957</td>\n",
       "      <td>0.130435</td>\n",
       "      <td>0.130435</td>\n",
       "      <td>0.086957</td>\n",
       "      <td>0.043478</td>\n",
       "      <td>0.043478</td>\n",
       "      <td>0.000000</td>\n",
       "      <td>0.000000</td>\n",
       "      <td>0.000000</td>\n",
       "      <td>0.000000</td>\n",
       "      <td>0.000000</td>\n",
       "      <td>0.000000</td>\n",
       "      <td>0.000000</td>\n",
       "      <td>0.000000</td>\n",
       "      <td>0.000000</td>\n",
       "      <td>0.000000</td>\n",
       "      <td>0.000000</td>\n",
       "      <td>0.000000</td>\n",
       "      <td>0.000000</td>\n",
       "      <td>0.000000</td>\n",
       "      <td>0.000000</td>\n",
       "      <td>0.000000</td>\n",
       "      <td>0.260870</td>\n",
       "      <td>0.478261</td>\n",
       "      <td>0.478261</td>\n",
       "      <td>0.695652</td>\n",
       "      <td>0.695652</td>\n",
       "      <td>0.521739</td>\n",
       "      <td>0.956522</td>\n",
       "      <td>0.956522</td>\n",
       "      <td>0.782609</td>\n",
       "      <td>1.000000</td>\n",
       "      <td>0.913043</td>\n",
       "      <td>0.260870</td>\n",
       "      <td>0.304348</td>\n",
       "      <td>0.652174</td>\n",
       "      <td>0.608696</td>\n",
       "      <td>0.608696</td>\n",
       "      <td>0.608696</td>\n",
       "      <td>0.826087</td>\n",
       "      <td>0.434783</td>\n",
       "      <td>0.347826</td>\n",
       "      <td>0.347826</td>\n",
       "    </tr>\n",
       "    <tr>\n",
       "      <th>Curuçá</th>\n",
       "      <td>0.000000</td>\n",
       "      <td>0.000000</td>\n",
       "      <td>0.00000</td>\n",
       "      <td>0.00000</td>\n",
       "      <td>0.000000</td>\n",
       "      <td>0.000000</td>\n",
       "      <td>0.000000</td>\n",
       "      <td>0.000000</td>\n",
       "      <td>0.000000</td>\n",
       "      <td>0.000000</td>\n",
       "      <td>0.000000</td>\n",
       "      <td>0.000000</td>\n",
       "      <td>0.000000</td>\n",
       "      <td>0.000000</td>\n",
       "      <td>0.000000</td>\n",
       "      <td>0.000000</td>\n",
       "      <td>0.000000</td>\n",
       "      <td>0.000000</td>\n",
       "      <td>0.000000</td>\n",
       "      <td>0.000000</td>\n",
       "      <td>0.000000</td>\n",
       "      <td>0.000000</td>\n",
       "      <td>0.000000</td>\n",
       "      <td>0.176471</td>\n",
       "      <td>0.176471</td>\n",
       "      <td>0.176471</td>\n",
       "      <td>0.176471</td>\n",
       "      <td>0.176471</td>\n",
       "      <td>0.000000</td>\n",
       "      <td>0.000000</td>\n",
       "      <td>0.411765</td>\n",
       "      <td>0.411765</td>\n",
       "      <td>0.411765</td>\n",
       "      <td>0.411765</td>\n",
       "      <td>0.470588</td>\n",
       "      <td>0.058824</td>\n",
       "      <td>0.058824</td>\n",
       "      <td>0.058824</td>\n",
       "      <td>0.058824</td>\n",
       "      <td>0.705882</td>\n",
       "      <td>0.705882</td>\n",
       "      <td>0.882353</td>\n",
       "      <td>0.941176</td>\n",
       "      <td>1.000000</td>\n",
       "      <td>0.411765</td>\n",
       "      <td>0.411765</td>\n",
       "      <td>0.470588</td>\n",
       "      <td>0.411765</td>\n",
       "      <td>0.411765</td>\n",
       "      <td>0.352941</td>\n",
       "      <td>0.352941</td>\n",
       "      <td>0.117647</td>\n",
       "      <td>0.117647</td>\n",
       "      <td>0.058824</td>\n",
       "      <td>0.000000</td>\n",
       "      <td>0.000000</td>\n",
       "      <td>0.176471</td>\n",
       "      <td>0.176471</td>\n",
       "      <td>0.235294</td>\n",
       "      <td>0.235294</td>\n",
       "    </tr>\n",
       "    <tr>\n",
       "      <th>Abaetetuba</th>\n",
       "      <td>0.000000</td>\n",
       "      <td>0.000000</td>\n",
       "      <td>0.00000</td>\n",
       "      <td>0.00000</td>\n",
       "      <td>0.000000</td>\n",
       "      <td>0.000000</td>\n",
       "      <td>0.000000</td>\n",
       "      <td>0.000000</td>\n",
       "      <td>0.000000</td>\n",
       "      <td>0.000000</td>\n",
       "      <td>0.000000</td>\n",
       "      <td>0.000000</td>\n",
       "      <td>0.000000</td>\n",
       "      <td>0.000000</td>\n",
       "      <td>0.000000</td>\n",
       "      <td>0.000000</td>\n",
       "      <td>0.000000</td>\n",
       "      <td>0.000000</td>\n",
       "      <td>0.000000</td>\n",
       "      <td>0.000000</td>\n",
       "      <td>0.000000</td>\n",
       "      <td>0.000000</td>\n",
       "      <td>0.000000</td>\n",
       "      <td>0.000000</td>\n",
       "      <td>0.000000</td>\n",
       "      <td>0.000000</td>\n",
       "      <td>0.000000</td>\n",
       "      <td>0.043478</td>\n",
       "      <td>0.043478</td>\n",
       "      <td>0.130435</td>\n",
       "      <td>0.260870</td>\n",
       "      <td>0.304348</td>\n",
       "      <td>0.347826</td>\n",
       "      <td>0.347826</td>\n",
       "      <td>0.260870</td>\n",
       "      <td>0.173913</td>\n",
       "      <td>0.130435</td>\n",
       "      <td>0.130435</td>\n",
       "      <td>0.130435</td>\n",
       "      <td>0.260870</td>\n",
       "      <td>0.304348</td>\n",
       "      <td>0.695652</td>\n",
       "      <td>0.913043</td>\n",
       "      <td>0.913043</td>\n",
       "      <td>0.869565</td>\n",
       "      <td>1.000000</td>\n",
       "      <td>0.869565</td>\n",
       "      <td>0.652174</td>\n",
       "      <td>0.782609</td>\n",
       "      <td>0.739130</td>\n",
       "      <td>0.521739</td>\n",
       "      <td>0.260870</td>\n",
       "      <td>0.478261</td>\n",
       "      <td>0.478261</td>\n",
       "      <td>0.434783</td>\n",
       "      <td>0.434783</td>\n",
       "      <td>0.565217</td>\n",
       "      <td>0.260870</td>\n",
       "      <td>0.260870</td>\n",
       "      <td>0.260870</td>\n",
       "    </tr>\n",
       "    <tr>\n",
       "      <th>Tucuruí</th>\n",
       "      <td>0.000000</td>\n",
       "      <td>0.000000</td>\n",
       "      <td>0.00000</td>\n",
       "      <td>0.00000</td>\n",
       "      <td>0.000000</td>\n",
       "      <td>0.000000</td>\n",
       "      <td>0.000000</td>\n",
       "      <td>0.000000</td>\n",
       "      <td>0.000000</td>\n",
       "      <td>0.000000</td>\n",
       "      <td>0.000000</td>\n",
       "      <td>0.000000</td>\n",
       "      <td>0.000000</td>\n",
       "      <td>0.000000</td>\n",
       "      <td>0.000000</td>\n",
       "      <td>0.000000</td>\n",
       "      <td>0.000000</td>\n",
       "      <td>0.000000</td>\n",
       "      <td>0.000000</td>\n",
       "      <td>0.000000</td>\n",
       "      <td>0.000000</td>\n",
       "      <td>0.045455</td>\n",
       "      <td>0.045455</td>\n",
       "      <td>0.136364</td>\n",
       "      <td>0.136364</td>\n",
       "      <td>0.136364</td>\n",
       "      <td>0.090909</td>\n",
       "      <td>0.227273</td>\n",
       "      <td>0.136364</td>\n",
       "      <td>0.136364</td>\n",
       "      <td>0.136364</td>\n",
       "      <td>0.136364</td>\n",
       "      <td>0.045455</td>\n",
       "      <td>0.045455</td>\n",
       "      <td>0.045455</td>\n",
       "      <td>0.045455</td>\n",
       "      <td>0.500000</td>\n",
       "      <td>0.681818</td>\n",
       "      <td>0.681818</td>\n",
       "      <td>1.000000</td>\n",
       "      <td>1.000000</td>\n",
       "      <td>0.727273</td>\n",
       "      <td>0.500000</td>\n",
       "      <td>0.500000</td>\n",
       "      <td>0.454545</td>\n",
       "      <td>0.500000</td>\n",
       "      <td>0.318182</td>\n",
       "      <td>0.590909</td>\n",
       "      <td>0.590909</td>\n",
       "      <td>0.318182</td>\n",
       "      <td>0.272727</td>\n",
       "      <td>0.272727</td>\n",
       "      <td>0.000000</td>\n",
       "      <td>0.136364</td>\n",
       "      <td>0.136364</td>\n",
       "      <td>0.136364</td>\n",
       "      <td>0.318182</td>\n",
       "      <td>0.363636</td>\n",
       "      <td>0.454545</td>\n",
       "      <td>0.545455</td>\n",
       "    </tr>\n",
       "    <tr>\n",
       "      <th>São Vicente</th>\n",
       "      <td>0.023256</td>\n",
       "      <td>-0.023256</td>\n",
       "      <td>0.00000</td>\n",
       "      <td>0.00000</td>\n",
       "      <td>0.000000</td>\n",
       "      <td>0.000000</td>\n",
       "      <td>0.000000</td>\n",
       "      <td>0.000000</td>\n",
       "      <td>0.023256</td>\n",
       "      <td>0.000000</td>\n",
       "      <td>0.023256</td>\n",
       "      <td>0.023256</td>\n",
       "      <td>0.023256</td>\n",
       "      <td>0.000000</td>\n",
       "      <td>0.023256</td>\n",
       "      <td>0.000000</td>\n",
       "      <td>0.000000</td>\n",
       "      <td>0.023256</td>\n",
       "      <td>0.023256</td>\n",
       "      <td>0.023256</td>\n",
       "      <td>0.069767</td>\n",
       "      <td>0.069767</td>\n",
       "      <td>0.046512</td>\n",
       "      <td>0.046512</td>\n",
       "      <td>0.046512</td>\n",
       "      <td>0.023256</td>\n",
       "      <td>0.093023</td>\n",
       "      <td>0.116279</td>\n",
       "      <td>0.139535</td>\n",
       "      <td>0.139535</td>\n",
       "      <td>0.116279</td>\n",
       "      <td>0.046512</td>\n",
       "      <td>0.069767</td>\n",
       "      <td>0.093023</td>\n",
       "      <td>0.093023</td>\n",
       "      <td>0.116279</td>\n",
       "      <td>0.116279</td>\n",
       "      <td>0.209302</td>\n",
       "      <td>0.348837</td>\n",
       "      <td>0.348837</td>\n",
       "      <td>0.372093</td>\n",
       "      <td>0.441860</td>\n",
       "      <td>0.325581</td>\n",
       "      <td>0.348837</td>\n",
       "      <td>0.488372</td>\n",
       "      <td>0.418605</td>\n",
       "      <td>0.813953</td>\n",
       "      <td>1.000000</td>\n",
       "      <td>0.790698</td>\n",
       "      <td>0.697674</td>\n",
       "      <td>0.720930</td>\n",
       "      <td>0.255814</td>\n",
       "      <td>0.139535</td>\n",
       "      <td>0.186047</td>\n",
       "      <td>0.232558</td>\n",
       "      <td>0.255814</td>\n",
       "      <td>0.255814</td>\n",
       "      <td>0.162791</td>\n",
       "      <td>0.116279</td>\n",
       "      <td>0.209302</td>\n",
       "    </tr>\n",
       "    <tr>\n",
       "      <th>Benevides</th>\n",
       "      <td>0.000000</td>\n",
       "      <td>0.000000</td>\n",
       "      <td>0.00000</td>\n",
       "      <td>0.00000</td>\n",
       "      <td>0.000000</td>\n",
       "      <td>0.000000</td>\n",
       "      <td>0.000000</td>\n",
       "      <td>0.000000</td>\n",
       "      <td>0.000000</td>\n",
       "      <td>0.000000</td>\n",
       "      <td>0.000000</td>\n",
       "      <td>0.000000</td>\n",
       "      <td>0.000000</td>\n",
       "      <td>0.045455</td>\n",
       "      <td>0.045455</td>\n",
       "      <td>0.045455</td>\n",
       "      <td>0.045455</td>\n",
       "      <td>0.045455</td>\n",
       "      <td>0.000000</td>\n",
       "      <td>0.090909</td>\n",
       "      <td>0.181818</td>\n",
       "      <td>0.181818</td>\n",
       "      <td>0.181818</td>\n",
       "      <td>0.181818</td>\n",
       "      <td>0.090909</td>\n",
       "      <td>0.000000</td>\n",
       "      <td>0.000000</td>\n",
       "      <td>0.045455</td>\n",
       "      <td>0.090909</td>\n",
       "      <td>0.136364</td>\n",
       "      <td>0.136364</td>\n",
       "      <td>0.181818</td>\n",
       "      <td>0.136364</td>\n",
       "      <td>0.090909</td>\n",
       "      <td>0.045455</td>\n",
       "      <td>0.090909</td>\n",
       "      <td>0.045455</td>\n",
       "      <td>0.045455</td>\n",
       "      <td>0.045455</td>\n",
       "      <td>0.090909</td>\n",
       "      <td>0.136364</td>\n",
       "      <td>0.136364</td>\n",
       "      <td>0.181818</td>\n",
       "      <td>0.181818</td>\n",
       "      <td>0.181818</td>\n",
       "      <td>0.090909</td>\n",
       "      <td>0.090909</td>\n",
       "      <td>0.409091</td>\n",
       "      <td>0.409091</td>\n",
       "      <td>1.000000</td>\n",
       "      <td>1.000000</td>\n",
       "      <td>1.000000</td>\n",
       "      <td>0.727273</td>\n",
       "      <td>0.772727</td>\n",
       "      <td>0.136364</td>\n",
       "      <td>0.136364</td>\n",
       "      <td>0.272727</td>\n",
       "      <td>0.181818</td>\n",
       "      <td>0.136364</td>\n",
       "      <td>0.136364</td>\n",
       "    </tr>\n",
       "    <tr>\n",
       "      <th>Campina Grande</th>\n",
       "      <td>0.000000</td>\n",
       "      <td>0.000000</td>\n",
       "      <td>0.00000</td>\n",
       "      <td>0.00000</td>\n",
       "      <td>0.000000</td>\n",
       "      <td>0.040000</td>\n",
       "      <td>0.040000</td>\n",
       "      <td>0.040000</td>\n",
       "      <td>0.080000</td>\n",
       "      <td>0.080000</td>\n",
       "      <td>0.040000</td>\n",
       "      <td>0.040000</td>\n",
       "      <td>0.040000</td>\n",
       "      <td>0.000000</td>\n",
       "      <td>0.000000</td>\n",
       "      <td>0.000000</td>\n",
       "      <td>0.000000</td>\n",
       "      <td>0.000000</td>\n",
       "      <td>0.000000</td>\n",
       "      <td>0.000000</td>\n",
       "      <td>0.000000</td>\n",
       "      <td>0.000000</td>\n",
       "      <td>0.000000</td>\n",
       "      <td>0.000000</td>\n",
       "      <td>0.000000</td>\n",
       "      <td>0.000000</td>\n",
       "      <td>0.000000</td>\n",
       "      <td>0.000000</td>\n",
       "      <td>0.040000</td>\n",
       "      <td>0.040000</td>\n",
       "      <td>0.040000</td>\n",
       "      <td>0.080000</td>\n",
       "      <td>0.080000</td>\n",
       "      <td>0.040000</td>\n",
       "      <td>0.040000</td>\n",
       "      <td>0.080000</td>\n",
       "      <td>0.040000</td>\n",
       "      <td>0.120000</td>\n",
       "      <td>0.120000</td>\n",
       "      <td>0.120000</td>\n",
       "      <td>0.160000</td>\n",
       "      <td>0.200000</td>\n",
       "      <td>0.120000</td>\n",
       "      <td>0.120000</td>\n",
       "      <td>0.160000</td>\n",
       "      <td>0.080000</td>\n",
       "      <td>0.040000</td>\n",
       "      <td>0.200000</td>\n",
       "      <td>0.200000</td>\n",
       "      <td>0.160000</td>\n",
       "      <td>0.360000</td>\n",
       "      <td>0.520000</td>\n",
       "      <td>0.360000</td>\n",
       "      <td>0.520000</td>\n",
       "      <td>1.000000</td>\n",
       "      <td>0.800000</td>\n",
       "      <td>0.640000</td>\n",
       "      <td>0.680000</td>\n",
       "      <td>0.640000</td>\n",
       "      <td>0.200000</td>\n",
       "    </tr>\n",
       "    <tr>\n",
       "      <th>Magé</th>\n",
       "      <td>0.000000</td>\n",
       "      <td>0.000000</td>\n",
       "      <td>0.02439</td>\n",
       "      <td>0.02439</td>\n",
       "      <td>0.073171</td>\n",
       "      <td>0.073171</td>\n",
       "      <td>0.073171</td>\n",
       "      <td>0.048780</td>\n",
       "      <td>0.048780</td>\n",
       "      <td>0.000000</td>\n",
       "      <td>0.000000</td>\n",
       "      <td>0.000000</td>\n",
       "      <td>0.000000</td>\n",
       "      <td>0.024390</td>\n",
       "      <td>0.024390</td>\n",
       "      <td>0.048780</td>\n",
       "      <td>0.048780</td>\n",
       "      <td>0.048780</td>\n",
       "      <td>0.024390</td>\n",
       "      <td>0.024390</td>\n",
       "      <td>0.000000</td>\n",
       "      <td>0.000000</td>\n",
       "      <td>0.024390</td>\n",
       "      <td>0.024390</td>\n",
       "      <td>0.024390</td>\n",
       "      <td>0.024390</td>\n",
       "      <td>0.097561</td>\n",
       "      <td>0.121951</td>\n",
       "      <td>0.146341</td>\n",
       "      <td>0.146341</td>\n",
       "      <td>0.146341</td>\n",
       "      <td>0.097561</td>\n",
       "      <td>0.048780</td>\n",
       "      <td>0.195122</td>\n",
       "      <td>0.365854</td>\n",
       "      <td>0.536585</td>\n",
       "      <td>0.512195</td>\n",
       "      <td>0.512195</td>\n",
       "      <td>0.365854</td>\n",
       "      <td>0.219512</td>\n",
       "      <td>0.073171</td>\n",
       "      <td>0.853659</td>\n",
       "      <td>1.000000</td>\n",
       "      <td>1.000000</td>\n",
       "      <td>0.975610</td>\n",
       "      <td>1.000000</td>\n",
       "      <td>0.243902</td>\n",
       "      <td>0.170732</td>\n",
       "      <td>0.317073</td>\n",
       "      <td>0.317073</td>\n",
       "      <td>0.268293</td>\n",
       "      <td>0.243902</td>\n",
       "      <td>0.170732</td>\n",
       "      <td>0.146341</td>\n",
       "      <td>0.219512</td>\n",
       "      <td>0.219512</td>\n",
       "      <td>0.219512</td>\n",
       "      <td>0.219512</td>\n",
       "      <td>0.073171</td>\n",
       "      <td>0.000000</td>\n",
       "    </tr>\n",
       "    <tr>\n",
       "      <th>Marituba</th>\n",
       "      <td>0.000000</td>\n",
       "      <td>0.000000</td>\n",
       "      <td>0.00000</td>\n",
       "      <td>0.00000</td>\n",
       "      <td>0.000000</td>\n",
       "      <td>0.071429</td>\n",
       "      <td>0.071429</td>\n",
       "      <td>0.071429</td>\n",
       "      <td>0.071429</td>\n",
       "      <td>0.071429</td>\n",
       "      <td>0.000000</td>\n",
       "      <td>0.000000</td>\n",
       "      <td>0.000000</td>\n",
       "      <td>0.000000</td>\n",
       "      <td>0.000000</td>\n",
       "      <td>0.000000</td>\n",
       "      <td>0.000000</td>\n",
       "      <td>0.000000</td>\n",
       "      <td>0.000000</td>\n",
       "      <td>0.000000</td>\n",
       "      <td>0.071429</td>\n",
       "      <td>0.071429</td>\n",
       "      <td>0.071429</td>\n",
       "      <td>0.071429</td>\n",
       "      <td>0.071429</td>\n",
       "      <td>0.000000</td>\n",
       "      <td>0.000000</td>\n",
       "      <td>0.000000</td>\n",
       "      <td>0.142857</td>\n",
       "      <td>0.214286</td>\n",
       "      <td>0.500000</td>\n",
       "      <td>0.642857</td>\n",
       "      <td>0.642857</td>\n",
       "      <td>0.785714</td>\n",
       "      <td>0.928571</td>\n",
       "      <td>0.714286</td>\n",
       "      <td>0.571429</td>\n",
       "      <td>0.642857</td>\n",
       "      <td>0.357143</td>\n",
       "      <td>0.428571</td>\n",
       "      <td>0.428571</td>\n",
       "      <td>0.428571</td>\n",
       "      <td>0.642857</td>\n",
       "      <td>1.000000</td>\n",
       "      <td>1.000000</td>\n",
       "      <td>0.928571</td>\n",
       "      <td>1.000000</td>\n",
       "      <td>0.928571</td>\n",
       "      <td>0.571429</td>\n",
       "      <td>0.285714</td>\n",
       "      <td>0.285714</td>\n",
       "      <td>0.285714</td>\n",
       "      <td>0.071429</td>\n",
       "      <td>0.071429</td>\n",
       "      <td>0.071429</td>\n",
       "      <td>0.071429</td>\n",
       "      <td>0.357143</td>\n",
       "      <td>0.357143</td>\n",
       "      <td>0.357143</td>\n",
       "      <td>0.500000</td>\n",
       "    </tr>\n",
       "  </tbody>\n",
       "</table>\n",
       "</div>"
      ],
      "text/plain": [
       "last_updated    2020-04-02  2020-04-07  2020-04-13  2020-04-14  2020-04-15  \\\n",
       "city                                                                         \n",
       "Barcarena         0.000000    0.000000     0.00000     0.00000    0.000000   \n",
       "Paragominas       0.000000    0.000000     0.00000     0.00000    0.000000   \n",
       "Curuçá            0.000000    0.000000     0.00000     0.00000    0.000000   \n",
       "Abaetetuba        0.000000    0.000000     0.00000     0.00000    0.000000   \n",
       "Tucuruí           0.000000    0.000000     0.00000     0.00000    0.000000   \n",
       "São Vicente       0.023256   -0.023256     0.00000     0.00000    0.000000   \n",
       "Benevides         0.000000    0.000000     0.00000     0.00000    0.000000   \n",
       "Campina Grande    0.000000    0.000000     0.00000     0.00000    0.000000   \n",
       "Magé              0.000000    0.000000     0.02439     0.02439    0.073171   \n",
       "Marituba          0.000000    0.000000     0.00000     0.00000    0.000000   \n",
       "\n",
       "last_updated    2020-04-16  2020-04-17  2020-04-18  2020-04-19  2020-04-20  \\\n",
       "city                                                                         \n",
       "Barcarena         0.000000    0.000000    0.000000    0.000000    0.000000   \n",
       "Paragominas       0.000000    0.000000    0.000000    0.000000    0.000000   \n",
       "Curuçá            0.000000    0.000000    0.000000    0.000000    0.000000   \n",
       "Abaetetuba        0.000000    0.000000    0.000000    0.000000    0.000000   \n",
       "Tucuruí           0.000000    0.000000    0.000000    0.000000    0.000000   \n",
       "São Vicente       0.000000    0.000000    0.000000    0.023256    0.000000   \n",
       "Benevides         0.000000    0.000000    0.000000    0.000000    0.000000   \n",
       "Campina Grande    0.040000    0.040000    0.040000    0.080000    0.080000   \n",
       "Magé              0.073171    0.073171    0.048780    0.048780    0.000000   \n",
       "Marituba          0.071429    0.071429    0.071429    0.071429    0.071429   \n",
       "\n",
       "last_updated    2020-04-21  2020-04-22  2020-04-23  2020-04-24  2020-04-25  \\\n",
       "city                                                                         \n",
       "Barcarena         0.000000    0.000000    0.000000    0.021277    0.021277   \n",
       "Paragominas       0.000000    0.000000    0.000000    0.000000    0.000000   \n",
       "Curuçá            0.000000    0.000000    0.000000    0.000000    0.000000   \n",
       "Abaetetuba        0.000000    0.000000    0.000000    0.000000    0.000000   \n",
       "Tucuruí           0.000000    0.000000    0.000000    0.000000    0.000000   \n",
       "São Vicente       0.023256    0.023256    0.023256    0.000000    0.023256   \n",
       "Benevides         0.000000    0.000000    0.000000    0.045455    0.045455   \n",
       "Campina Grande    0.040000    0.040000    0.040000    0.000000    0.000000   \n",
       "Magé              0.000000    0.000000    0.000000    0.024390    0.024390   \n",
       "Marituba          0.000000    0.000000    0.000000    0.000000    0.000000   \n",
       "\n",
       "last_updated    2020-04-26  2020-04-27  2020-04-28  2020-04-29  2020-04-30  \\\n",
       "city                                                                         \n",
       "Barcarena         0.021277    0.021277    0.021277    0.000000    0.000000   \n",
       "Paragominas       0.072464    0.108696    0.086957    0.130435    0.130435   \n",
       "Curuçá            0.000000    0.000000    0.000000    0.000000    0.000000   \n",
       "Abaetetuba        0.000000    0.000000    0.000000    0.000000    0.000000   \n",
       "Tucuruí           0.000000    0.000000    0.000000    0.000000    0.000000   \n",
       "São Vicente       0.000000    0.000000    0.023256    0.023256    0.023256   \n",
       "Benevides         0.045455    0.045455    0.045455    0.000000    0.090909   \n",
       "Campina Grande    0.000000    0.000000    0.000000    0.000000    0.000000   \n",
       "Magé              0.048780    0.048780    0.048780    0.024390    0.024390   \n",
       "Marituba          0.000000    0.000000    0.000000    0.000000    0.000000   \n",
       "\n",
       "last_updated    2020-05-01  2020-05-02  2020-05-03  2020-05-04  2020-05-05  \\\n",
       "city                                                                         \n",
       "Barcarena         0.000000    0.042553    0.042553    0.042553    0.042553   \n",
       "Paragominas       0.086957    0.043478    0.043478    0.000000    0.000000   \n",
       "Curuçá            0.000000    0.000000    0.000000    0.176471    0.176471   \n",
       "Abaetetuba        0.000000    0.000000    0.000000    0.000000    0.000000   \n",
       "Tucuruí           0.000000    0.045455    0.045455    0.136364    0.136364   \n",
       "São Vicente       0.069767    0.069767    0.046512    0.046512    0.046512   \n",
       "Benevides         0.181818    0.181818    0.181818    0.181818    0.090909   \n",
       "Campina Grande    0.000000    0.000000    0.000000    0.000000    0.000000   \n",
       "Magé              0.000000    0.000000    0.024390    0.024390    0.024390   \n",
       "Marituba          0.071429    0.071429    0.071429    0.071429    0.071429   \n",
       "\n",
       "last_updated    2020-05-06  2020-05-07  2020-05-08  2020-05-09  2020-05-10  \\\n",
       "city                                                                         \n",
       "Barcarena         0.042553    0.000000    0.042553    0.042553    0.042553   \n",
       "Paragominas       0.000000    0.000000    0.000000    0.000000    0.000000   \n",
       "Curuçá            0.176471    0.176471    0.176471    0.000000    0.000000   \n",
       "Abaetetuba        0.000000    0.000000    0.043478    0.043478    0.130435   \n",
       "Tucuruí           0.136364    0.090909    0.227273    0.136364    0.136364   \n",
       "São Vicente       0.023256    0.093023    0.116279    0.139535    0.139535   \n",
       "Benevides         0.000000    0.000000    0.045455    0.090909    0.136364   \n",
       "Campina Grande    0.000000    0.000000    0.000000    0.040000    0.040000   \n",
       "Magé              0.024390    0.097561    0.121951    0.146341    0.146341   \n",
       "Marituba          0.000000    0.000000    0.000000    0.142857    0.214286   \n",
       "\n",
       "last_updated    2020-05-11  2020-05-12  2020-05-13  2020-05-14  2020-05-15  \\\n",
       "city                                                                         \n",
       "Barcarena         0.085106    0.106383    0.063830    0.063830    0.063830   \n",
       "Paragominas       0.000000    0.000000    0.000000    0.000000    0.000000   \n",
       "Curuçá            0.411765    0.411765    0.411765    0.411765    0.470588   \n",
       "Abaetetuba        0.260870    0.304348    0.347826    0.347826    0.260870   \n",
       "Tucuruí           0.136364    0.136364    0.045455    0.045455    0.045455   \n",
       "São Vicente       0.116279    0.046512    0.069767    0.093023    0.093023   \n",
       "Benevides         0.136364    0.181818    0.136364    0.090909    0.045455   \n",
       "Campina Grande    0.040000    0.080000    0.080000    0.040000    0.040000   \n",
       "Magé              0.146341    0.097561    0.048780    0.195122    0.365854   \n",
       "Marituba          0.500000    0.642857    0.642857    0.785714    0.928571   \n",
       "\n",
       "last_updated    2020-05-16  2020-05-17  2020-05-18  2020-05-19  2020-05-20  \\\n",
       "city                                                                         \n",
       "Barcarena         0.021277    0.000000    0.063830    0.063830    0.787234   \n",
       "Paragominas       0.000000    0.000000    0.000000    0.000000    0.260870   \n",
       "Curuçá            0.058824    0.058824    0.058824    0.058824    0.705882   \n",
       "Abaetetuba        0.173913    0.130435    0.130435    0.130435    0.260870   \n",
       "Tucuruí           0.045455    0.500000    0.681818    0.681818    1.000000   \n",
       "São Vicente       0.116279    0.116279    0.209302    0.348837    0.348837   \n",
       "Benevides         0.090909    0.045455    0.045455    0.045455    0.090909   \n",
       "Campina Grande    0.080000    0.040000    0.120000    0.120000    0.120000   \n",
       "Magé              0.536585    0.512195    0.512195    0.365854    0.219512   \n",
       "Marituba          0.714286    0.571429    0.642857    0.357143    0.428571   \n",
       "\n",
       "last_updated    2020-05-21  2020-05-22  2020-05-23  2020-05-24  2020-05-25  \\\n",
       "city                                                                         \n",
       "Barcarena         0.808511    0.978723    1.000000    1.000000    0.297872   \n",
       "Paragominas       0.478261    0.478261    0.695652    0.695652    0.521739   \n",
       "Curuçá            0.705882    0.882353    0.941176    1.000000    0.411765   \n",
       "Abaetetuba        0.304348    0.695652    0.913043    0.913043    0.869565   \n",
       "Tucuruí           1.000000    0.727273    0.500000    0.500000    0.454545   \n",
       "São Vicente       0.372093    0.441860    0.325581    0.348837    0.488372   \n",
       "Benevides         0.136364    0.136364    0.181818    0.181818    0.181818   \n",
       "Campina Grande    0.160000    0.200000    0.120000    0.120000    0.160000   \n",
       "Magé              0.073171    0.853659    1.000000    1.000000    0.975610   \n",
       "Marituba          0.428571    0.428571    0.642857    1.000000    1.000000   \n",
       "\n",
       "last_updated    2020-05-26  2020-05-27  2020-05-28  2020-05-29  2020-05-30  \\\n",
       "city                                                                         \n",
       "Barcarena         0.319149    0.148936    0.063830    0.042553    0.063830   \n",
       "Paragominas       0.956522    0.956522    0.782609    1.000000    0.913043   \n",
       "Curuçá            0.411765    0.470588    0.411765    0.411765    0.352941   \n",
       "Abaetetuba        1.000000    0.869565    0.652174    0.782609    0.739130   \n",
       "Tucuruí           0.500000    0.318182    0.590909    0.590909    0.318182   \n",
       "São Vicente       0.418605    0.813953    1.000000    0.790698    0.697674   \n",
       "Benevides         0.090909    0.090909    0.409091    0.409091    1.000000   \n",
       "Campina Grande    0.080000    0.040000    0.200000    0.200000    0.160000   \n",
       "Magé              1.000000    0.243902    0.170732    0.317073    0.317073   \n",
       "Marituba          0.928571    1.000000    0.928571    0.571429    0.285714   \n",
       "\n",
       "last_updated    2020-05-31  2020-06-01  2020-06-02  2020-06-03  2020-06-04  \\\n",
       "city                                                                         \n",
       "Barcarena         0.021277    0.021277    0.063830    0.063830    0.021277   \n",
       "Paragominas       0.260870    0.304348    0.652174    0.608696    0.608696   \n",
       "Curuçá            0.352941    0.117647    0.117647    0.058824    0.000000   \n",
       "Abaetetuba        0.521739    0.260870    0.478261    0.478261    0.434783   \n",
       "Tucuruí           0.272727    0.272727    0.000000    0.136364    0.136364   \n",
       "São Vicente       0.720930    0.255814    0.139535    0.186047    0.232558   \n",
       "Benevides         1.000000    1.000000    0.727273    0.772727    0.136364   \n",
       "Campina Grande    0.360000    0.520000    0.360000    0.520000    1.000000   \n",
       "Magé              0.268293    0.243902    0.170732    0.146341    0.219512   \n",
       "Marituba          0.285714    0.285714    0.071429    0.071429    0.071429   \n",
       "\n",
       "last_updated    2020-06-05  2020-06-06  2020-06-07  2020-06-08  2020-06-09  \n",
       "city                                                                        \n",
       "Barcarena         0.021277    0.127660    0.085106    0.106383    0.191489  \n",
       "Paragominas       0.608696    0.826087    0.434783    0.347826    0.347826  \n",
       "Curuçá            0.000000    0.176471    0.176471    0.235294    0.235294  \n",
       "Abaetetuba        0.434783    0.565217    0.260870    0.260870    0.260870  \n",
       "Tucuruí           0.136364    0.318182    0.363636    0.454545    0.545455  \n",
       "São Vicente       0.255814    0.255814    0.162791    0.116279    0.209302  \n",
       "Benevides         0.136364    0.272727    0.181818    0.136364    0.136364  \n",
       "Campina Grande    0.800000    0.640000    0.680000    0.640000    0.200000  \n",
       "Magé              0.219512    0.219512    0.219512    0.073171    0.000000  \n",
       "Marituba          0.071429    0.357143    0.357143    0.357143    0.500000  "
      ]
     },
     "execution_count": 26,
     "metadata": {},
     "output_type": "execute_result"
    }
   ],
   "source": [
    "df_heatmap.loc[cities_names]"
   ]
  },
  {
   "cell_type": "code",
   "execution_count": 27,
   "metadata": {},
   "outputs": [
    {
     "data": {
      "application/vnd.plotly.v1+json": {
       "config": {
        "plotlyServerURL": "https://plotly.com"
       },
       "data": [
        {
         "colorscale": [
          [
           0,
           "rgb(0, 147, 146)"
          ],
          [
           0.16666666666666666,
           "rgb(57, 177, 133)"
          ],
          [
           0.3333333333333333,
           "rgb(156, 203, 134)"
          ],
          [
           0.5,
           "rgb(233, 226, 156)"
          ],
          [
           0.6666666666666666,
           "rgb(238, 180, 121)"
          ],
          [
           0.8333333333333334,
           "rgb(232, 132, 113)"
          ],
          [
           1,
           "rgb(207, 89, 126)"
          ]
         ],
         "showscale": false,
         "type": "heatmap",
         "x": [
          "2020-04-02",
          "2020-04-07",
          "2020-04-13",
          "2020-04-14",
          "2020-04-15",
          "2020-04-16",
          "2020-04-17",
          "2020-04-18",
          "2020-04-19",
          "2020-04-20",
          "2020-04-21",
          "2020-04-22",
          "2020-04-23",
          "2020-04-24",
          "2020-04-25",
          "2020-04-26",
          "2020-04-27",
          "2020-04-28",
          "2020-04-29",
          "2020-04-30",
          "2020-05-01",
          "2020-05-02",
          "2020-05-03",
          "2020-05-04",
          "2020-05-05",
          "2020-05-06",
          "2020-05-07",
          "2020-05-08",
          "2020-05-09",
          "2020-05-10",
          "2020-05-11",
          "2020-05-12",
          "2020-05-13",
          "2020-05-14",
          "2020-05-15",
          "2020-05-16",
          "2020-05-17",
          "2020-05-18",
          "2020-05-19",
          "2020-05-20",
          "2020-05-21",
          "2020-05-22",
          "2020-05-23",
          "2020-05-24",
          "2020-05-25",
          "2020-05-26",
          "2020-05-27",
          "2020-05-28",
          "2020-05-29",
          "2020-05-30",
          "2020-05-31",
          "2020-06-01",
          "2020-06-02",
          "2020-06-03",
          "2020-06-04",
          "2020-06-05",
          "2020-06-06",
          "2020-06-07",
          "2020-06-08",
          "2020-06-09"
         ],
         "y": [
          "Marituba",
          "Magé",
          "Campina Grande",
          "Benevides",
          "São Vicente",
          "Tucuruí",
          "Abaetetuba",
          "Curuçá",
          "Paragominas",
          "Barcarena"
         ],
         "z": [
          [
           0,
           0,
           0,
           0,
           0,
           0.07142857142857144,
           0.07142857142857144,
           0.07142857142857144,
           0.07142857142857144,
           0.07142857142857144,
           0,
           0,
           0,
           0,
           0,
           0,
           0,
           0,
           0,
           0,
           0.07142857142857144,
           0.07142857142857144,
           0.07142857142857144,
           0.07142857142857144,
           0.07142857142857144,
           0,
           0,
           0,
           0.14285714285714288,
           0.2142857142857143,
           0.5,
           0.6428571428571429,
           0.6428571428571429,
           0.7857142857142858,
           0.9285714285714287,
           0.7142857142857143,
           0.5714285714285715,
           0.6428571428571429,
           0.35714285714285715,
           0.4285714285714286,
           0.4285714285714286,
           0.4285714285714286,
           0.6428571428571429,
           1,
           1,
           0.9285714285714287,
           1,
           0.9285714285714287,
           0.5714285714285715,
           0.28571428571428575,
           0.28571428571428575,
           0.28571428571428575,
           0.07142857142857144,
           0.07142857142857144,
           0.07142857142857144,
           0.07142857142857144,
           0.35714285714285715,
           0.35714285714285715,
           0.35714285714285715,
           0.5
          ],
          [
           0,
           0,
           0.02439024390243903,
           0.02439024390243903,
           0.07317073170731708,
           0.07317073170731708,
           0.07317073170731708,
           0.04878048780487806,
           0.04878048780487806,
           0,
           0,
           0,
           0,
           0.02439024390243903,
           0.02439024390243903,
           0.04878048780487806,
           0.04878048780487806,
           0.04878048780487806,
           0.02439024390243903,
           0.02439024390243903,
           0,
           0,
           0.02439024390243903,
           0.02439024390243903,
           0.02439024390243903,
           0.02439024390243903,
           0.09756097560975611,
           0.12195121951219513,
           0.14634146341463417,
           0.14634146341463417,
           0.14634146341463417,
           0.09756097560975611,
           0.04878048780487806,
           0.19512195121951223,
           0.3658536585365854,
           0.5365853658536587,
           0.5121951219512195,
           0.5121951219512195,
           0.3658536585365854,
           0.21951219512195125,
           0.07317073170731708,
           0.853658536585366,
           1,
           1,
           0.9756097560975611,
           1,
           0.24390243902439027,
           0.17073170731707318,
           0.3170731707317074,
           0.3170731707317074,
           0.26829268292682934,
           0.24390243902439027,
           0.17073170731707318,
           0.14634146341463417,
           0.21951219512195125,
           0.21951219512195125,
           0.21951219512195125,
           0.21951219512195125,
           0.07317073170731708,
           0
          ],
          [
           0,
           0,
           0,
           0,
           0,
           0.04,
           0.04,
           0.04,
           0.08,
           0.08,
           0.04,
           0.04,
           0.04,
           0,
           0,
           0,
           0,
           0,
           0,
           0,
           0,
           0,
           0,
           0,
           0,
           0,
           0,
           0,
           0.04,
           0.04,
           0.04,
           0.08,
           0.08,
           0.04,
           0.04,
           0.08,
           0.04,
           0.12,
           0.12,
           0.12,
           0.16,
           0.2,
           0.12,
           0.12,
           0.16,
           0.08,
           0.04,
           0.2,
           0.2,
           0.16,
           0.36,
           0.52,
           0.36,
           0.52,
           1,
           0.8,
           0.64,
           0.6799999999999999,
           0.64,
           0.2
          ],
          [
           0,
           0,
           0,
           0,
           0,
           0,
           0,
           0,
           0,
           0,
           0,
           0,
           0,
           0.045454545454545456,
           0.045454545454545456,
           0.045454545454545456,
           0.045454545454545456,
           0.045454545454545456,
           0,
           0.09090909090909091,
           0.18181818181818182,
           0.18181818181818182,
           0.18181818181818182,
           0.18181818181818182,
           0.09090909090909091,
           0,
           0,
           0.045454545454545456,
           0.09090909090909091,
           0.13636363636363635,
           0.13636363636363635,
           0.18181818181818182,
           0.13636363636363635,
           0.09090909090909091,
           0.045454545454545456,
           0.09090909090909091,
           0.045454545454545456,
           0.045454545454545456,
           0.045454545454545456,
           0.09090909090909091,
           0.13636363636363635,
           0.13636363636363635,
           0.18181818181818182,
           0.18181818181818182,
           0.18181818181818182,
           0.09090909090909091,
           0.09090909090909091,
           0.40909090909090906,
           0.40909090909090906,
           1,
           1,
           1,
           0.7272727272727273,
           0.7727272727272726,
           0.13636363636363635,
           0.13636363636363635,
           0.2727272727272727,
           0.18181818181818182,
           0.13636363636363635,
           0.13636363636363635
          ],
          [
           0.023255813953488375,
           -0.023255813953488375,
           0,
           0,
           0,
           0,
           0,
           0,
           0.023255813953488375,
           0,
           0.023255813953488375,
           0.023255813953488375,
           0.023255813953488375,
           0,
           0.023255813953488375,
           0,
           0,
           0.023255813953488375,
           0.023255813953488375,
           0.023255813953488375,
           0.06976744186046512,
           0.06976744186046512,
           0.04651162790697675,
           0.04651162790697675,
           0.04651162790697675,
           0.023255813953488375,
           0.0930232558139535,
           0.11627906976744186,
           0.13953488372093023,
           0.13953488372093023,
           0.11627906976744186,
           0.04651162790697675,
           0.06976744186046512,
           0.0930232558139535,
           0.0930232558139535,
           0.11627906976744186,
           0.11627906976744186,
           0.20930232558139536,
           0.3488372093023256,
           0.3488372093023256,
           0.372093023255814,
           0.4418604651162791,
           0.3255813953488372,
           0.3488372093023256,
           0.48837209302325585,
           0.4186046511627907,
           0.813953488372093,
           1,
           0.7906976744186046,
           0.6976744186046512,
           0.7209302325581396,
           0.2558139534883721,
           0.13953488372093023,
           0.186046511627907,
           0.23255813953488372,
           0.2558139534883721,
           0.2558139534883721,
           0.1627906976744186,
           0.11627906976744186,
           0.20930232558139536
          ],
          [
           0,
           0,
           0,
           0,
           0,
           0,
           0,
           0,
           0,
           0,
           0,
           0,
           0,
           0,
           0,
           0,
           0,
           0,
           0,
           0,
           0,
           0.045454545454545456,
           0.045454545454545456,
           0.13636363636363635,
           0.13636363636363635,
           0.13636363636363635,
           0.09090909090909091,
           0.22727272727272727,
           0.13636363636363635,
           0.13636363636363635,
           0.13636363636363635,
           0.13636363636363635,
           0.045454545454545456,
           0.045454545454545456,
           0.045454545454545456,
           0.045454545454545456,
           0.5,
           0.6818181818181818,
           0.6818181818181818,
           1,
           1,
           0.7272727272727273,
           0.5,
           0.5,
           0.45454545454545453,
           0.5,
           0.3181818181818181,
           0.5909090909090908,
           0.5909090909090908,
           0.3181818181818181,
           0.2727272727272727,
           0.2727272727272727,
           0,
           0.13636363636363635,
           0.13636363636363635,
           0.13636363636363635,
           0.3181818181818181,
           0.36363636363636365,
           0.45454545454545453,
           0.5454545454545454
          ],
          [
           0,
           0,
           0,
           0,
           0,
           0,
           0,
           0,
           0,
           0,
           0,
           0,
           0,
           0,
           0,
           0,
           0,
           0,
           0,
           0,
           0,
           0,
           0,
           0,
           0,
           0,
           0,
           0.04347826086956522,
           0.04347826086956522,
           0.13043478260869565,
           0.2608695652173913,
           0.30434782608695654,
           0.3478260869565218,
           0.3478260869565218,
           0.2608695652173913,
           0.1739130434782609,
           0.13043478260869565,
           0.13043478260869565,
           0.13043478260869565,
           0.2608695652173913,
           0.30434782608695654,
           0.6956521739130436,
           0.9130434782608696,
           0.9130434782608696,
           0.8695652173913044,
           1,
           0.8695652173913044,
           0.6521739130434783,
           0.782608695652174,
           0.7391304347826088,
           0.5217391304347826,
           0.2608695652173913,
           0.47826086956521746,
           0.47826086956521746,
           0.4347826086956522,
           0.4347826086956522,
           0.5652173913043479,
           0.2608695652173913,
           0.2608695652173913,
           0.2608695652173913
          ],
          [
           0,
           0,
           0,
           0,
           0,
           0,
           0,
           0,
           0,
           0,
           0,
           0,
           0,
           0,
           0,
           0,
           0,
           0,
           0,
           0,
           0,
           0,
           0,
           0.17647058823529413,
           0.17647058823529413,
           0.17647058823529413,
           0.17647058823529413,
           0.17647058823529413,
           0,
           0,
           0.4117647058823529,
           0.4117647058823529,
           0.4117647058823529,
           0.4117647058823529,
           0.4705882352941177,
           0.05882352941176471,
           0.05882352941176471,
           0.05882352941176471,
           0.05882352941176471,
           0.7058823529411765,
           0.7058823529411765,
           0.8823529411764706,
           0.9411764705882354,
           1,
           0.4117647058823529,
           0.4117647058823529,
           0.4705882352941177,
           0.4117647058823529,
           0.4117647058823529,
           0.35294117647058826,
           0.35294117647058826,
           0.11764705882352942,
           0.11764705882352942,
           0.05882352941176471,
           0,
           0,
           0.17647058823529413,
           0.17647058823529413,
           0.23529411764705885,
           0.23529411764705885
          ],
          [
           0,
           0,
           0,
           0,
           0,
           0,
           0,
           0,
           0,
           0,
           0,
           0,
           0,
           0,
           0,
           0.07246376811594203,
           0.10869565217391305,
           0.08695652173913045,
           0.13043478260869565,
           0.13043478260869565,
           0.08695652173913045,
           0.04347826086956522,
           0.04347826086956522,
           0,
           0,
           0,
           0,
           0,
           0,
           0,
           0,
           0,
           0,
           0,
           0,
           0,
           0,
           0,
           0,
           0.2608695652173913,
           0.47826086956521746,
           0.47826086956521746,
           0.6956521739130436,
           0.6956521739130436,
           0.5217391304347826,
           0.9565217391304349,
           0.9565217391304349,
           0.782608695652174,
           1,
           0.9130434782608696,
           0.2608695652173913,
           0.30434782608695654,
           0.6521739130434783,
           0.6086956521739131,
           0.6086956521739131,
           0.6086956521739131,
           0.8260869565217391,
           0.4347826086956522,
           0.3478260869565218,
           0.3478260869565218
          ],
          [
           0,
           0,
           0,
           0,
           0,
           0,
           0,
           0,
           0,
           0,
           0,
           0,
           0,
           0.02127659574468085,
           0.02127659574468085,
           0.02127659574468085,
           0.02127659574468085,
           0.02127659574468085,
           0,
           0,
           0,
           0.0425531914893617,
           0.0425531914893617,
           0.0425531914893617,
           0.0425531914893617,
           0.0425531914893617,
           0,
           0.0425531914893617,
           0.0425531914893617,
           0.0425531914893617,
           0.0851063829787234,
           0.10638297872340426,
           0.06382978723404255,
           0.06382978723404255,
           0.06382978723404255,
           0.02127659574468085,
           0,
           0.06382978723404255,
           0.06382978723404255,
           0.7872340425531915,
           0.8085106382978723,
           0.978723404255319,
           1,
           1,
           0.2978723404255319,
           0.3191489361702127,
           0.14893617021276595,
           0.06382978723404255,
           0.0425531914893617,
           0.06382978723404255,
           0.02127659574468085,
           0.02127659574468085,
           0.06382978723404255,
           0.06382978723404255,
           0.02127659574468085,
           0.02127659574468085,
           0.1276595744680851,
           0.0851063829787234,
           0.10638297872340426,
           0.19148936170212766
          ]
         ],
         "zmax": 1,
         "zmin": 0
        },
        {
         "orientation": "h",
         "type": "bar",
         "x": [
          50,
          98,
          45,
          43,
          99,
          61,
          68,
          40,
          64,
          72
         ],
         "xaxis": "x2",
         "y": [
          "Marituba",
          "Magé",
          "Campina Grande",
          "Benevides",
          "São Vicente",
          "Tucuruí",
          "Abaetetuba",
          "Curuçá",
          "Paragominas",
          "Barcarena"
         ],
         "yaxis": "y2"
        }
       ],
       "layout": {
        "plot_bgcolor": "rgba(0,0,0,0)",
        "template": {
         "data": {
          "bar": [
           {
            "error_x": {
             "color": "#2a3f5f"
            },
            "error_y": {
             "color": "#2a3f5f"
            },
            "marker": {
             "line": {
              "color": "#E5ECF6",
              "width": 0.5
             }
            },
            "type": "bar"
           }
          ],
          "barpolar": [
           {
            "marker": {
             "line": {
              "color": "#E5ECF6",
              "width": 0.5
             }
            },
            "type": "barpolar"
           }
          ],
          "carpet": [
           {
            "aaxis": {
             "endlinecolor": "#2a3f5f",
             "gridcolor": "white",
             "linecolor": "white",
             "minorgridcolor": "white",
             "startlinecolor": "#2a3f5f"
            },
            "baxis": {
             "endlinecolor": "#2a3f5f",
             "gridcolor": "white",
             "linecolor": "white",
             "minorgridcolor": "white",
             "startlinecolor": "#2a3f5f"
            },
            "type": "carpet"
           }
          ],
          "choropleth": [
           {
            "colorbar": {
             "outlinewidth": 0,
             "ticks": ""
            },
            "type": "choropleth"
           }
          ],
          "contour": [
           {
            "colorbar": {
             "outlinewidth": 0,
             "ticks": ""
            },
            "colorscale": [
             [
              0,
              "#0d0887"
             ],
             [
              0.1111111111111111,
              "#46039f"
             ],
             [
              0.2222222222222222,
              "#7201a8"
             ],
             [
              0.3333333333333333,
              "#9c179e"
             ],
             [
              0.4444444444444444,
              "#bd3786"
             ],
             [
              0.5555555555555556,
              "#d8576b"
             ],
             [
              0.6666666666666666,
              "#ed7953"
             ],
             [
              0.7777777777777778,
              "#fb9f3a"
             ],
             [
              0.8888888888888888,
              "#fdca26"
             ],
             [
              1,
              "#f0f921"
             ]
            ],
            "type": "contour"
           }
          ],
          "contourcarpet": [
           {
            "colorbar": {
             "outlinewidth": 0,
             "ticks": ""
            },
            "type": "contourcarpet"
           }
          ],
          "heatmap": [
           {
            "colorbar": {
             "outlinewidth": 0,
             "ticks": ""
            },
            "colorscale": [
             [
              0,
              "#0d0887"
             ],
             [
              0.1111111111111111,
              "#46039f"
             ],
             [
              0.2222222222222222,
              "#7201a8"
             ],
             [
              0.3333333333333333,
              "#9c179e"
             ],
             [
              0.4444444444444444,
              "#bd3786"
             ],
             [
              0.5555555555555556,
              "#d8576b"
             ],
             [
              0.6666666666666666,
              "#ed7953"
             ],
             [
              0.7777777777777778,
              "#fb9f3a"
             ],
             [
              0.8888888888888888,
              "#fdca26"
             ],
             [
              1,
              "#f0f921"
             ]
            ],
            "type": "heatmap"
           }
          ],
          "heatmapgl": [
           {
            "colorbar": {
             "outlinewidth": 0,
             "ticks": ""
            },
            "colorscale": [
             [
              0,
              "#0d0887"
             ],
             [
              0.1111111111111111,
              "#46039f"
             ],
             [
              0.2222222222222222,
              "#7201a8"
             ],
             [
              0.3333333333333333,
              "#9c179e"
             ],
             [
              0.4444444444444444,
              "#bd3786"
             ],
             [
              0.5555555555555556,
              "#d8576b"
             ],
             [
              0.6666666666666666,
              "#ed7953"
             ],
             [
              0.7777777777777778,
              "#fb9f3a"
             ],
             [
              0.8888888888888888,
              "#fdca26"
             ],
             [
              1,
              "#f0f921"
             ]
            ],
            "type": "heatmapgl"
           }
          ],
          "histogram": [
           {
            "marker": {
             "colorbar": {
              "outlinewidth": 0,
              "ticks": ""
             }
            },
            "type": "histogram"
           }
          ],
          "histogram2d": [
           {
            "colorbar": {
             "outlinewidth": 0,
             "ticks": ""
            },
            "colorscale": [
             [
              0,
              "#0d0887"
             ],
             [
              0.1111111111111111,
              "#46039f"
             ],
             [
              0.2222222222222222,
              "#7201a8"
             ],
             [
              0.3333333333333333,
              "#9c179e"
             ],
             [
              0.4444444444444444,
              "#bd3786"
             ],
             [
              0.5555555555555556,
              "#d8576b"
             ],
             [
              0.6666666666666666,
              "#ed7953"
             ],
             [
              0.7777777777777778,
              "#fb9f3a"
             ],
             [
              0.8888888888888888,
              "#fdca26"
             ],
             [
              1,
              "#f0f921"
             ]
            ],
            "type": "histogram2d"
           }
          ],
          "histogram2dcontour": [
           {
            "colorbar": {
             "outlinewidth": 0,
             "ticks": ""
            },
            "colorscale": [
             [
              0,
              "#0d0887"
             ],
             [
              0.1111111111111111,
              "#46039f"
             ],
             [
              0.2222222222222222,
              "#7201a8"
             ],
             [
              0.3333333333333333,
              "#9c179e"
             ],
             [
              0.4444444444444444,
              "#bd3786"
             ],
             [
              0.5555555555555556,
              "#d8576b"
             ],
             [
              0.6666666666666666,
              "#ed7953"
             ],
             [
              0.7777777777777778,
              "#fb9f3a"
             ],
             [
              0.8888888888888888,
              "#fdca26"
             ],
             [
              1,
              "#f0f921"
             ]
            ],
            "type": "histogram2dcontour"
           }
          ],
          "mesh3d": [
           {
            "colorbar": {
             "outlinewidth": 0,
             "ticks": ""
            },
            "type": "mesh3d"
           }
          ],
          "parcoords": [
           {
            "line": {
             "colorbar": {
              "outlinewidth": 0,
              "ticks": ""
             }
            },
            "type": "parcoords"
           }
          ],
          "pie": [
           {
            "automargin": true,
            "type": "pie"
           }
          ],
          "scatter": [
           {
            "marker": {
             "colorbar": {
              "outlinewidth": 0,
              "ticks": ""
             }
            },
            "type": "scatter"
           }
          ],
          "scatter3d": [
           {
            "line": {
             "colorbar": {
              "outlinewidth": 0,
              "ticks": ""
             }
            },
            "marker": {
             "colorbar": {
              "outlinewidth": 0,
              "ticks": ""
             }
            },
            "type": "scatter3d"
           }
          ],
          "scattercarpet": [
           {
            "marker": {
             "colorbar": {
              "outlinewidth": 0,
              "ticks": ""
             }
            },
            "type": "scattercarpet"
           }
          ],
          "scattergeo": [
           {
            "marker": {
             "colorbar": {
              "outlinewidth": 0,
              "ticks": ""
             }
            },
            "type": "scattergeo"
           }
          ],
          "scattergl": [
           {
            "marker": {
             "colorbar": {
              "outlinewidth": 0,
              "ticks": ""
             }
            },
            "type": "scattergl"
           }
          ],
          "scattermapbox": [
           {
            "marker": {
             "colorbar": {
              "outlinewidth": 0,
              "ticks": ""
             }
            },
            "type": "scattermapbox"
           }
          ],
          "scatterpolar": [
           {
            "marker": {
             "colorbar": {
              "outlinewidth": 0,
              "ticks": ""
             }
            },
            "type": "scatterpolar"
           }
          ],
          "scatterpolargl": [
           {
            "marker": {
             "colorbar": {
              "outlinewidth": 0,
              "ticks": ""
             }
            },
            "type": "scatterpolargl"
           }
          ],
          "scatterternary": [
           {
            "marker": {
             "colorbar": {
              "outlinewidth": 0,
              "ticks": ""
             }
            },
            "type": "scatterternary"
           }
          ],
          "surface": [
           {
            "colorbar": {
             "outlinewidth": 0,
             "ticks": ""
            },
            "colorscale": [
             [
              0,
              "#0d0887"
             ],
             [
              0.1111111111111111,
              "#46039f"
             ],
             [
              0.2222222222222222,
              "#7201a8"
             ],
             [
              0.3333333333333333,
              "#9c179e"
             ],
             [
              0.4444444444444444,
              "#bd3786"
             ],
             [
              0.5555555555555556,
              "#d8576b"
             ],
             [
              0.6666666666666666,
              "#ed7953"
             ],
             [
              0.7777777777777778,
              "#fb9f3a"
             ],
             [
              0.8888888888888888,
              "#fdca26"
             ],
             [
              1,
              "#f0f921"
             ]
            ],
            "type": "surface"
           }
          ],
          "table": [
           {
            "cells": {
             "fill": {
              "color": "#EBF0F8"
             },
             "line": {
              "color": "white"
             }
            },
            "header": {
             "fill": {
              "color": "#C8D4E3"
             },
             "line": {
              "color": "white"
             }
            },
            "type": "table"
           }
          ]
         },
         "layout": {
          "annotationdefaults": {
           "arrowcolor": "#2a3f5f",
           "arrowhead": 0,
           "arrowwidth": 1
          },
          "coloraxis": {
           "colorbar": {
            "outlinewidth": 0,
            "ticks": ""
           }
          },
          "colorscale": {
           "diverging": [
            [
             0,
             "#8e0152"
            ],
            [
             0.1,
             "#c51b7d"
            ],
            [
             0.2,
             "#de77ae"
            ],
            [
             0.3,
             "#f1b6da"
            ],
            [
             0.4,
             "#fde0ef"
            ],
            [
             0.5,
             "#f7f7f7"
            ],
            [
             0.6,
             "#e6f5d0"
            ],
            [
             0.7,
             "#b8e186"
            ],
            [
             0.8,
             "#7fbc41"
            ],
            [
             0.9,
             "#4d9221"
            ],
            [
             1,
             "#276419"
            ]
           ],
           "sequential": [
            [
             0,
             "#0d0887"
            ],
            [
             0.1111111111111111,
             "#46039f"
            ],
            [
             0.2222222222222222,
             "#7201a8"
            ],
            [
             0.3333333333333333,
             "#9c179e"
            ],
            [
             0.4444444444444444,
             "#bd3786"
            ],
            [
             0.5555555555555556,
             "#d8576b"
            ],
            [
             0.6666666666666666,
             "#ed7953"
            ],
            [
             0.7777777777777778,
             "#fb9f3a"
            ],
            [
             0.8888888888888888,
             "#fdca26"
            ],
            [
             1,
             "#f0f921"
            ]
           ],
           "sequentialminus": [
            [
             0,
             "#0d0887"
            ],
            [
             0.1111111111111111,
             "#46039f"
            ],
            [
             0.2222222222222222,
             "#7201a8"
            ],
            [
             0.3333333333333333,
             "#9c179e"
            ],
            [
             0.4444444444444444,
             "#bd3786"
            ],
            [
             0.5555555555555556,
             "#d8576b"
            ],
            [
             0.6666666666666666,
             "#ed7953"
            ],
            [
             0.7777777777777778,
             "#fb9f3a"
            ],
            [
             0.8888888888888888,
             "#fdca26"
            ],
            [
             1,
             "#f0f921"
            ]
           ]
          },
          "colorway": [
           "#636efa",
           "#EF553B",
           "#00cc96",
           "#ab63fa",
           "#FFA15A",
           "#19d3f3",
           "#FF6692",
           "#B6E880",
           "#FF97FF",
           "#FECB52"
          ],
          "font": {
           "color": "#2a3f5f"
          },
          "geo": {
           "bgcolor": "white",
           "lakecolor": "white",
           "landcolor": "#E5ECF6",
           "showlakes": true,
           "showland": true,
           "subunitcolor": "white"
          },
          "hoverlabel": {
           "align": "left"
          },
          "hovermode": "closest",
          "mapbox": {
           "style": "light"
          },
          "paper_bgcolor": "white",
          "plot_bgcolor": "#E5ECF6",
          "polar": {
           "angularaxis": {
            "gridcolor": "white",
            "linecolor": "white",
            "ticks": ""
           },
           "bgcolor": "#E5ECF6",
           "radialaxis": {
            "gridcolor": "white",
            "linecolor": "white",
            "ticks": ""
           }
          },
          "scene": {
           "xaxis": {
            "backgroundcolor": "#E5ECF6",
            "gridcolor": "white",
            "gridwidth": 2,
            "linecolor": "white",
            "showbackground": true,
            "ticks": "",
            "zerolinecolor": "white"
           },
           "yaxis": {
            "backgroundcolor": "#E5ECF6",
            "gridcolor": "white",
            "gridwidth": 2,
            "linecolor": "white",
            "showbackground": true,
            "ticks": "",
            "zerolinecolor": "white"
           },
           "zaxis": {
            "backgroundcolor": "#E5ECF6",
            "gridcolor": "white",
            "gridwidth": 2,
            "linecolor": "white",
            "showbackground": true,
            "ticks": "",
            "zerolinecolor": "white"
           }
          },
          "shapedefaults": {
           "line": {
            "color": "#2a3f5f"
           }
          },
          "ternary": {
           "aaxis": {
            "gridcolor": "white",
            "linecolor": "white",
            "ticks": ""
           },
           "baxis": {
            "gridcolor": "white",
            "linecolor": "white",
            "ticks": ""
           },
           "bgcolor": "#E5ECF6",
           "caxis": {
            "gridcolor": "white",
            "linecolor": "white",
            "ticks": ""
           }
          },
          "title": {
           "x": 0.05
          },
          "xaxis": {
           "automargin": true,
           "gridcolor": "white",
           "linecolor": "white",
           "ticks": "",
           "title": {
            "standoff": 15
           },
           "zerolinecolor": "white",
           "zerolinewidth": 2
          },
          "yaxis": {
           "automargin": true,
           "gridcolor": "white",
           "linecolor": "white",
           "ticks": "",
           "title": {
            "standoff": 15
           },
           "zerolinecolor": "white",
           "zerolinewidth": 2
          }
         }
        },
        "title": {
         "text": "Mapa de calor: Média móvel normalizada de novas mortes nos últimos 5 dias"
        },
        "xaxis": {
         "domain": [
          0,
          0.7
         ]
        },
        "xaxis2": {
         "domain": [
          0.8,
          1
         ],
         "showticklabels": true
        },
        "yaxis": {
         "tickmode": "linear"
        },
        "yaxis2": {
         "anchor": "x2",
         "tickmode": "linear"
        }
       }
      },
      "text/html": [
       "<div>\n",
       "        \n",
       "        \n",
       "            <div id=\"84f5e174-d96f-4755-9500-b812ed66abad\" class=\"plotly-graph-div\" style=\"height:525px; width:100%;\"></div>\n",
       "            <script type=\"text/javascript\">\n",
       "                require([\"plotly\"], function(Plotly) {\n",
       "                    window.PLOTLYENV=window.PLOTLYENV || {};\n",
       "                    \n",
       "                if (document.getElementById(\"84f5e174-d96f-4755-9500-b812ed66abad\")) {\n",
       "                    Plotly.newPlot(\n",
       "                        '84f5e174-d96f-4755-9500-b812ed66abad',\n",
       "                        [{\"colorscale\": [[0.0, \"rgb(0, 147, 146)\"], [0.16666666666666666, \"rgb(57, 177, 133)\"], [0.3333333333333333, \"rgb(156, 203, 134)\"], [0.5, \"rgb(233, 226, 156)\"], [0.6666666666666666, \"rgb(238, 180, 121)\"], [0.8333333333333334, \"rgb(232, 132, 113)\"], [1.0, \"rgb(207, 89, 126)\"]], \"showscale\": false, \"type\": \"heatmap\", \"x\": [\"2020-04-02\", \"2020-04-07\", \"2020-04-13\", \"2020-04-14\", \"2020-04-15\", \"2020-04-16\", \"2020-04-17\", \"2020-04-18\", \"2020-04-19\", \"2020-04-20\", \"2020-04-21\", \"2020-04-22\", \"2020-04-23\", \"2020-04-24\", \"2020-04-25\", \"2020-04-26\", \"2020-04-27\", \"2020-04-28\", \"2020-04-29\", \"2020-04-30\", \"2020-05-01\", \"2020-05-02\", \"2020-05-03\", \"2020-05-04\", \"2020-05-05\", \"2020-05-06\", \"2020-05-07\", \"2020-05-08\", \"2020-05-09\", \"2020-05-10\", \"2020-05-11\", \"2020-05-12\", \"2020-05-13\", \"2020-05-14\", \"2020-05-15\", \"2020-05-16\", \"2020-05-17\", \"2020-05-18\", \"2020-05-19\", \"2020-05-20\", \"2020-05-21\", \"2020-05-22\", \"2020-05-23\", \"2020-05-24\", \"2020-05-25\", \"2020-05-26\", \"2020-05-27\", \"2020-05-28\", \"2020-05-29\", \"2020-05-30\", \"2020-05-31\", \"2020-06-01\", \"2020-06-02\", \"2020-06-03\", \"2020-06-04\", \"2020-06-05\", \"2020-06-06\", \"2020-06-07\", \"2020-06-08\", \"2020-06-09\"], \"y\": [\"Marituba\", \"Mag\\u00e9\", \"Campina Grande\", \"Benevides\", \"S\\u00e3o Vicente\", \"Tucuru\\u00ed\", \"Abaetetuba\", \"Curu\\u00e7\\u00e1\", \"Paragominas\", \"Barcarena\"], \"z\": [[0.0, 0.0, 0.0, 0.0, 0.0, 0.07142857142857144, 0.07142857142857144, 0.07142857142857144, 0.07142857142857144, 0.07142857142857144, 0.0, 0.0, 0.0, 0.0, 0.0, 0.0, 0.0, 0.0, 0.0, 0.0, 0.07142857142857144, 0.07142857142857144, 0.07142857142857144, 0.07142857142857144, 0.07142857142857144, 0.0, 0.0, 0.0, 0.14285714285714288, 0.2142857142857143, 0.5, 0.6428571428571429, 0.6428571428571429, 0.7857142857142858, 0.9285714285714287, 0.7142857142857143, 0.5714285714285715, 0.6428571428571429, 0.35714285714285715, 0.4285714285714286, 0.4285714285714286, 0.4285714285714286, 0.6428571428571429, 1.0, 1.0, 0.9285714285714287, 1.0, 0.9285714285714287, 0.5714285714285715, 0.28571428571428575, 0.28571428571428575, 0.28571428571428575, 0.07142857142857144, 0.07142857142857144, 0.07142857142857144, 0.07142857142857144, 0.35714285714285715, 0.35714285714285715, 0.35714285714285715, 0.5], [0.0, 0.0, 0.02439024390243903, 0.02439024390243903, 0.07317073170731708, 0.07317073170731708, 0.07317073170731708, 0.04878048780487806, 0.04878048780487806, 0.0, 0.0, 0.0, 0.0, 0.02439024390243903, 0.02439024390243903, 0.04878048780487806, 0.04878048780487806, 0.04878048780487806, 0.02439024390243903, 0.02439024390243903, 0.0, 0.0, 0.02439024390243903, 0.02439024390243903, 0.02439024390243903, 0.02439024390243903, 0.09756097560975611, 0.12195121951219513, 0.14634146341463417, 0.14634146341463417, 0.14634146341463417, 0.09756097560975611, 0.04878048780487806, 0.19512195121951223, 0.3658536585365854, 0.5365853658536587, 0.5121951219512195, 0.5121951219512195, 0.3658536585365854, 0.21951219512195125, 0.07317073170731708, 0.853658536585366, 1.0, 1.0, 0.9756097560975611, 1.0, 0.24390243902439027, 0.17073170731707318, 0.3170731707317074, 0.3170731707317074, 0.26829268292682934, 0.24390243902439027, 0.17073170731707318, 0.14634146341463417, 0.21951219512195125, 0.21951219512195125, 0.21951219512195125, 0.21951219512195125, 0.07317073170731708, 0.0], [0.0, 0.0, 0.0, 0.0, 0.0, 0.04, 0.04, 0.04, 0.08, 0.08, 0.04, 0.04, 0.04, 0.0, 0.0, 0.0, 0.0, 0.0, 0.0, 0.0, 0.0, 0.0, 0.0, 0.0, 0.0, 0.0, 0.0, 0.0, 0.04, 0.04, 0.04, 0.08, 0.08, 0.04, 0.04, 0.08, 0.04, 0.12, 0.12, 0.12, 0.16, 0.2, 0.12, 0.12, 0.16, 0.08, 0.04, 0.2, 0.2, 0.16, 0.36, 0.52, 0.36, 0.52, 1.0, 0.8, 0.64, 0.6799999999999999, 0.64, 0.2], [0.0, 0.0, 0.0, 0.0, 0.0, 0.0, 0.0, 0.0, 0.0, 0.0, 0.0, 0.0, 0.0, 0.045454545454545456, 0.045454545454545456, 0.045454545454545456, 0.045454545454545456, 0.045454545454545456, 0.0, 0.09090909090909091, 0.18181818181818182, 0.18181818181818182, 0.18181818181818182, 0.18181818181818182, 0.09090909090909091, 0.0, 0.0, 0.045454545454545456, 0.09090909090909091, 0.13636363636363635, 0.13636363636363635, 0.18181818181818182, 0.13636363636363635, 0.09090909090909091, 0.045454545454545456, 0.09090909090909091, 0.045454545454545456, 0.045454545454545456, 0.045454545454545456, 0.09090909090909091, 0.13636363636363635, 0.13636363636363635, 0.18181818181818182, 0.18181818181818182, 0.18181818181818182, 0.09090909090909091, 0.09090909090909091, 0.40909090909090906, 0.40909090909090906, 1.0, 1.0, 1.0, 0.7272727272727273, 0.7727272727272726, 0.13636363636363635, 0.13636363636363635, 0.2727272727272727, 0.18181818181818182, 0.13636363636363635, 0.13636363636363635], [0.023255813953488375, -0.023255813953488375, 0.0, 0.0, 0.0, 0.0, 0.0, 0.0, 0.023255813953488375, 0.0, 0.023255813953488375, 0.023255813953488375, 0.023255813953488375, 0.0, 0.023255813953488375, 0.0, 0.0, 0.023255813953488375, 0.023255813953488375, 0.023255813953488375, 0.06976744186046512, 0.06976744186046512, 0.04651162790697675, 0.04651162790697675, 0.04651162790697675, 0.023255813953488375, 0.0930232558139535, 0.11627906976744186, 0.13953488372093023, 0.13953488372093023, 0.11627906976744186, 0.04651162790697675, 0.06976744186046512, 0.0930232558139535, 0.0930232558139535, 0.11627906976744186, 0.11627906976744186, 0.20930232558139536, 0.3488372093023256, 0.3488372093023256, 0.372093023255814, 0.4418604651162791, 0.3255813953488372, 0.3488372093023256, 0.48837209302325585, 0.4186046511627907, 0.813953488372093, 1.0, 0.7906976744186046, 0.6976744186046512, 0.7209302325581396, 0.2558139534883721, 0.13953488372093023, 0.186046511627907, 0.23255813953488372, 0.2558139534883721, 0.2558139534883721, 0.1627906976744186, 0.11627906976744186, 0.20930232558139536], [0.0, 0.0, 0.0, 0.0, 0.0, 0.0, 0.0, 0.0, 0.0, 0.0, 0.0, 0.0, 0.0, 0.0, 0.0, 0.0, 0.0, 0.0, 0.0, 0.0, 0.0, 0.045454545454545456, 0.045454545454545456, 0.13636363636363635, 0.13636363636363635, 0.13636363636363635, 0.09090909090909091, 0.22727272727272727, 0.13636363636363635, 0.13636363636363635, 0.13636363636363635, 0.13636363636363635, 0.045454545454545456, 0.045454545454545456, 0.045454545454545456, 0.045454545454545456, 0.5, 0.6818181818181818, 0.6818181818181818, 1.0, 1.0, 0.7272727272727273, 0.5, 0.5, 0.45454545454545453, 0.5, 0.3181818181818181, 0.5909090909090908, 0.5909090909090908, 0.3181818181818181, 0.2727272727272727, 0.2727272727272727, 0.0, 0.13636363636363635, 0.13636363636363635, 0.13636363636363635, 0.3181818181818181, 0.36363636363636365, 0.45454545454545453, 0.5454545454545454], [0.0, 0.0, 0.0, 0.0, 0.0, 0.0, 0.0, 0.0, 0.0, 0.0, 0.0, 0.0, 0.0, 0.0, 0.0, 0.0, 0.0, 0.0, 0.0, 0.0, 0.0, 0.0, 0.0, 0.0, 0.0, 0.0, 0.0, 0.04347826086956522, 0.04347826086956522, 0.13043478260869565, 0.2608695652173913, 0.30434782608695654, 0.3478260869565218, 0.3478260869565218, 0.2608695652173913, 0.1739130434782609, 0.13043478260869565, 0.13043478260869565, 0.13043478260869565, 0.2608695652173913, 0.30434782608695654, 0.6956521739130436, 0.9130434782608696, 0.9130434782608696, 0.8695652173913044, 1.0, 0.8695652173913044, 0.6521739130434783, 0.782608695652174, 0.7391304347826088, 0.5217391304347826, 0.2608695652173913, 0.47826086956521746, 0.47826086956521746, 0.4347826086956522, 0.4347826086956522, 0.5652173913043479, 0.2608695652173913, 0.2608695652173913, 0.2608695652173913], [0.0, 0.0, 0.0, 0.0, 0.0, 0.0, 0.0, 0.0, 0.0, 0.0, 0.0, 0.0, 0.0, 0.0, 0.0, 0.0, 0.0, 0.0, 0.0, 0.0, 0.0, 0.0, 0.0, 0.17647058823529413, 0.17647058823529413, 0.17647058823529413, 0.17647058823529413, 0.17647058823529413, 0.0, 0.0, 0.4117647058823529, 0.4117647058823529, 0.4117647058823529, 0.4117647058823529, 0.4705882352941177, 0.05882352941176471, 0.05882352941176471, 0.05882352941176471, 0.05882352941176471, 0.7058823529411765, 0.7058823529411765, 0.8823529411764706, 0.9411764705882354, 1.0, 0.4117647058823529, 0.4117647058823529, 0.4705882352941177, 0.4117647058823529, 0.4117647058823529, 0.35294117647058826, 0.35294117647058826, 0.11764705882352942, 0.11764705882352942, 0.05882352941176471, 0.0, 0.0, 0.17647058823529413, 0.17647058823529413, 0.23529411764705885, 0.23529411764705885], [0.0, 0.0, 0.0, 0.0, 0.0, 0.0, 0.0, 0.0, 0.0, 0.0, 0.0, 0.0, 0.0, 0.0, 0.0, 0.07246376811594203, 0.10869565217391305, 0.08695652173913045, 0.13043478260869565, 0.13043478260869565, 0.08695652173913045, 0.04347826086956522, 0.04347826086956522, 0.0, 0.0, 0.0, 0.0, 0.0, 0.0, 0.0, 0.0, 0.0, 0.0, 0.0, 0.0, 0.0, 0.0, 0.0, 0.0, 0.2608695652173913, 0.47826086956521746, 0.47826086956521746, 0.6956521739130436, 0.6956521739130436, 0.5217391304347826, 0.9565217391304349, 0.9565217391304349, 0.782608695652174, 1.0, 0.9130434782608696, 0.2608695652173913, 0.30434782608695654, 0.6521739130434783, 0.6086956521739131, 0.6086956521739131, 0.6086956521739131, 0.8260869565217391, 0.4347826086956522, 0.3478260869565218, 0.3478260869565218], [0.0, 0.0, 0.0, 0.0, 0.0, 0.0, 0.0, 0.0, 0.0, 0.0, 0.0, 0.0, 0.0, 0.02127659574468085, 0.02127659574468085, 0.02127659574468085, 0.02127659574468085, 0.02127659574468085, 0.0, 0.0, 0.0, 0.0425531914893617, 0.0425531914893617, 0.0425531914893617, 0.0425531914893617, 0.0425531914893617, 0.0, 0.0425531914893617, 0.0425531914893617, 0.0425531914893617, 0.0851063829787234, 0.10638297872340426, 0.06382978723404255, 0.06382978723404255, 0.06382978723404255, 0.02127659574468085, 0.0, 0.06382978723404255, 0.06382978723404255, 0.7872340425531915, 0.8085106382978723, 0.978723404255319, 1.0, 1.0, 0.2978723404255319, 0.3191489361702127, 0.14893617021276595, 0.06382978723404255, 0.0425531914893617, 0.06382978723404255, 0.02127659574468085, 0.02127659574468085, 0.06382978723404255, 0.06382978723404255, 0.02127659574468085, 0.02127659574468085, 0.1276595744680851, 0.0851063829787234, 0.10638297872340426, 0.19148936170212766]], \"zmax\": 1, \"zmin\": 0}, {\"orientation\": \"h\", \"type\": \"bar\", \"x\": [50, 98, 45, 43, 99, 61, 68, 40, 64, 72], \"xaxis\": \"x2\", \"y\": [\"Marituba\", \"Mag\\u00e9\", \"Campina Grande\", \"Benevides\", \"S\\u00e3o Vicente\", \"Tucuru\\u00ed\", \"Abaetetuba\", \"Curu\\u00e7\\u00e1\", \"Paragominas\", \"Barcarena\"], \"yaxis\": \"y2\"}],\n",
       "                        {\"plot_bgcolor\": \"rgba(0,0,0,0)\", \"template\": {\"data\": {\"bar\": [{\"error_x\": {\"color\": \"#2a3f5f\"}, \"error_y\": {\"color\": \"#2a3f5f\"}, \"marker\": {\"line\": {\"color\": \"#E5ECF6\", \"width\": 0.5}}, \"type\": \"bar\"}], \"barpolar\": [{\"marker\": {\"line\": {\"color\": \"#E5ECF6\", \"width\": 0.5}}, \"type\": \"barpolar\"}], \"carpet\": [{\"aaxis\": {\"endlinecolor\": \"#2a3f5f\", \"gridcolor\": \"white\", \"linecolor\": \"white\", \"minorgridcolor\": \"white\", \"startlinecolor\": \"#2a3f5f\"}, \"baxis\": {\"endlinecolor\": \"#2a3f5f\", \"gridcolor\": \"white\", \"linecolor\": \"white\", \"minorgridcolor\": \"white\", \"startlinecolor\": \"#2a3f5f\"}, \"type\": \"carpet\"}], \"choropleth\": [{\"colorbar\": {\"outlinewidth\": 0, \"ticks\": \"\"}, \"type\": \"choropleth\"}], \"contour\": [{\"colorbar\": {\"outlinewidth\": 0, \"ticks\": \"\"}, \"colorscale\": [[0.0, \"#0d0887\"], [0.1111111111111111, \"#46039f\"], [0.2222222222222222, \"#7201a8\"], [0.3333333333333333, \"#9c179e\"], [0.4444444444444444, \"#bd3786\"], [0.5555555555555556, \"#d8576b\"], [0.6666666666666666, \"#ed7953\"], [0.7777777777777778, \"#fb9f3a\"], [0.8888888888888888, \"#fdca26\"], [1.0, \"#f0f921\"]], \"type\": \"contour\"}], \"contourcarpet\": [{\"colorbar\": {\"outlinewidth\": 0, \"ticks\": \"\"}, \"type\": \"contourcarpet\"}], \"heatmap\": [{\"colorbar\": {\"outlinewidth\": 0, \"ticks\": \"\"}, \"colorscale\": [[0.0, \"#0d0887\"], [0.1111111111111111, \"#46039f\"], [0.2222222222222222, \"#7201a8\"], [0.3333333333333333, \"#9c179e\"], [0.4444444444444444, \"#bd3786\"], [0.5555555555555556, \"#d8576b\"], [0.6666666666666666, \"#ed7953\"], [0.7777777777777778, \"#fb9f3a\"], [0.8888888888888888, \"#fdca26\"], [1.0, \"#f0f921\"]], \"type\": \"heatmap\"}], \"heatmapgl\": [{\"colorbar\": {\"outlinewidth\": 0, \"ticks\": \"\"}, \"colorscale\": [[0.0, \"#0d0887\"], [0.1111111111111111, \"#46039f\"], [0.2222222222222222, \"#7201a8\"], [0.3333333333333333, \"#9c179e\"], [0.4444444444444444, \"#bd3786\"], [0.5555555555555556, \"#d8576b\"], [0.6666666666666666, \"#ed7953\"], [0.7777777777777778, \"#fb9f3a\"], [0.8888888888888888, \"#fdca26\"], [1.0, \"#f0f921\"]], \"type\": \"heatmapgl\"}], \"histogram\": [{\"marker\": {\"colorbar\": {\"outlinewidth\": 0, \"ticks\": \"\"}}, \"type\": \"histogram\"}], \"histogram2d\": [{\"colorbar\": {\"outlinewidth\": 0, \"ticks\": \"\"}, \"colorscale\": [[0.0, \"#0d0887\"], [0.1111111111111111, \"#46039f\"], [0.2222222222222222, \"#7201a8\"], [0.3333333333333333, \"#9c179e\"], [0.4444444444444444, \"#bd3786\"], [0.5555555555555556, \"#d8576b\"], [0.6666666666666666, \"#ed7953\"], [0.7777777777777778, \"#fb9f3a\"], [0.8888888888888888, \"#fdca26\"], [1.0, \"#f0f921\"]], \"type\": \"histogram2d\"}], \"histogram2dcontour\": [{\"colorbar\": {\"outlinewidth\": 0, \"ticks\": \"\"}, \"colorscale\": [[0.0, \"#0d0887\"], [0.1111111111111111, \"#46039f\"], [0.2222222222222222, \"#7201a8\"], [0.3333333333333333, \"#9c179e\"], [0.4444444444444444, \"#bd3786\"], [0.5555555555555556, \"#d8576b\"], [0.6666666666666666, \"#ed7953\"], [0.7777777777777778, \"#fb9f3a\"], [0.8888888888888888, \"#fdca26\"], [1.0, \"#f0f921\"]], \"type\": \"histogram2dcontour\"}], \"mesh3d\": [{\"colorbar\": {\"outlinewidth\": 0, \"ticks\": \"\"}, \"type\": \"mesh3d\"}], \"parcoords\": [{\"line\": {\"colorbar\": {\"outlinewidth\": 0, \"ticks\": \"\"}}, \"type\": \"parcoords\"}], \"pie\": [{\"automargin\": true, \"type\": \"pie\"}], \"scatter\": [{\"marker\": {\"colorbar\": {\"outlinewidth\": 0, \"ticks\": \"\"}}, \"type\": \"scatter\"}], \"scatter3d\": [{\"line\": {\"colorbar\": {\"outlinewidth\": 0, \"ticks\": \"\"}}, \"marker\": {\"colorbar\": {\"outlinewidth\": 0, \"ticks\": \"\"}}, \"type\": \"scatter3d\"}], \"scattercarpet\": [{\"marker\": {\"colorbar\": {\"outlinewidth\": 0, \"ticks\": \"\"}}, \"type\": \"scattercarpet\"}], \"scattergeo\": [{\"marker\": {\"colorbar\": {\"outlinewidth\": 0, \"ticks\": \"\"}}, \"type\": \"scattergeo\"}], \"scattergl\": [{\"marker\": {\"colorbar\": {\"outlinewidth\": 0, \"ticks\": \"\"}}, \"type\": \"scattergl\"}], \"scattermapbox\": [{\"marker\": {\"colorbar\": {\"outlinewidth\": 0, \"ticks\": \"\"}}, \"type\": \"scattermapbox\"}], \"scatterpolar\": [{\"marker\": {\"colorbar\": {\"outlinewidth\": 0, \"ticks\": \"\"}}, \"type\": \"scatterpolar\"}], \"scatterpolargl\": [{\"marker\": {\"colorbar\": {\"outlinewidth\": 0, \"ticks\": \"\"}}, \"type\": \"scatterpolargl\"}], \"scatterternary\": [{\"marker\": {\"colorbar\": {\"outlinewidth\": 0, \"ticks\": \"\"}}, \"type\": \"scatterternary\"}], \"surface\": [{\"colorbar\": {\"outlinewidth\": 0, \"ticks\": \"\"}, \"colorscale\": [[0.0, \"#0d0887\"], [0.1111111111111111, \"#46039f\"], [0.2222222222222222, \"#7201a8\"], [0.3333333333333333, \"#9c179e\"], [0.4444444444444444, \"#bd3786\"], [0.5555555555555556, \"#d8576b\"], [0.6666666666666666, \"#ed7953\"], [0.7777777777777778, \"#fb9f3a\"], [0.8888888888888888, \"#fdca26\"], [1.0, \"#f0f921\"]], \"type\": \"surface\"}], \"table\": [{\"cells\": {\"fill\": {\"color\": \"#EBF0F8\"}, \"line\": {\"color\": \"white\"}}, \"header\": {\"fill\": {\"color\": \"#C8D4E3\"}, \"line\": {\"color\": \"white\"}}, \"type\": \"table\"}]}, \"layout\": {\"annotationdefaults\": {\"arrowcolor\": \"#2a3f5f\", \"arrowhead\": 0, \"arrowwidth\": 1}, \"coloraxis\": {\"colorbar\": {\"outlinewidth\": 0, \"ticks\": \"\"}}, \"colorscale\": {\"diverging\": [[0, \"#8e0152\"], [0.1, \"#c51b7d\"], [0.2, \"#de77ae\"], [0.3, \"#f1b6da\"], [0.4, \"#fde0ef\"], [0.5, \"#f7f7f7\"], [0.6, \"#e6f5d0\"], [0.7, \"#b8e186\"], [0.8, \"#7fbc41\"], [0.9, \"#4d9221\"], [1, \"#276419\"]], \"sequential\": [[0.0, \"#0d0887\"], [0.1111111111111111, \"#46039f\"], [0.2222222222222222, \"#7201a8\"], [0.3333333333333333, \"#9c179e\"], [0.4444444444444444, \"#bd3786\"], [0.5555555555555556, \"#d8576b\"], [0.6666666666666666, \"#ed7953\"], [0.7777777777777778, \"#fb9f3a\"], [0.8888888888888888, \"#fdca26\"], [1.0, \"#f0f921\"]], \"sequentialminus\": [[0.0, \"#0d0887\"], [0.1111111111111111, \"#46039f\"], [0.2222222222222222, \"#7201a8\"], [0.3333333333333333, \"#9c179e\"], [0.4444444444444444, \"#bd3786\"], [0.5555555555555556, \"#d8576b\"], [0.6666666666666666, \"#ed7953\"], [0.7777777777777778, \"#fb9f3a\"], [0.8888888888888888, \"#fdca26\"], [1.0, \"#f0f921\"]]}, \"colorway\": [\"#636efa\", \"#EF553B\", \"#00cc96\", \"#ab63fa\", \"#FFA15A\", \"#19d3f3\", \"#FF6692\", \"#B6E880\", \"#FF97FF\", \"#FECB52\"], \"font\": {\"color\": \"#2a3f5f\"}, \"geo\": {\"bgcolor\": \"white\", \"lakecolor\": \"white\", \"landcolor\": \"#E5ECF6\", \"showlakes\": true, \"showland\": true, \"subunitcolor\": \"white\"}, \"hoverlabel\": {\"align\": \"left\"}, \"hovermode\": \"closest\", \"mapbox\": {\"style\": \"light\"}, \"paper_bgcolor\": \"white\", \"plot_bgcolor\": \"#E5ECF6\", \"polar\": {\"angularaxis\": {\"gridcolor\": \"white\", \"linecolor\": \"white\", \"ticks\": \"\"}, \"bgcolor\": \"#E5ECF6\", \"radialaxis\": {\"gridcolor\": \"white\", \"linecolor\": \"white\", \"ticks\": \"\"}}, \"scene\": {\"xaxis\": {\"backgroundcolor\": \"#E5ECF6\", \"gridcolor\": \"white\", \"gridwidth\": 2, \"linecolor\": \"white\", \"showbackground\": true, \"ticks\": \"\", \"zerolinecolor\": \"white\"}, \"yaxis\": {\"backgroundcolor\": \"#E5ECF6\", \"gridcolor\": \"white\", \"gridwidth\": 2, \"linecolor\": \"white\", \"showbackground\": true, \"ticks\": \"\", \"zerolinecolor\": \"white\"}, \"zaxis\": {\"backgroundcolor\": \"#E5ECF6\", \"gridcolor\": \"white\", \"gridwidth\": 2, \"linecolor\": \"white\", \"showbackground\": true, \"ticks\": \"\", \"zerolinecolor\": \"white\"}}, \"shapedefaults\": {\"line\": {\"color\": \"#2a3f5f\"}}, \"ternary\": {\"aaxis\": {\"gridcolor\": \"white\", \"linecolor\": \"white\", \"ticks\": \"\"}, \"baxis\": {\"gridcolor\": \"white\", \"linecolor\": \"white\", \"ticks\": \"\"}, \"bgcolor\": \"#E5ECF6\", \"caxis\": {\"gridcolor\": \"white\", \"linecolor\": \"white\", \"ticks\": \"\"}}, \"title\": {\"x\": 0.05}, \"xaxis\": {\"automargin\": true, \"gridcolor\": \"white\", \"linecolor\": \"white\", \"ticks\": \"\", \"title\": {\"standoff\": 15}, \"zerolinecolor\": \"white\", \"zerolinewidth\": 2}, \"yaxis\": {\"automargin\": true, \"gridcolor\": \"white\", \"linecolor\": \"white\", \"ticks\": \"\", \"title\": {\"standoff\": 15}, \"zerolinecolor\": \"white\", \"zerolinewidth\": 2}}}, \"title\": {\"text\": \"Mapa de calor: M\\u00e9dia m\\u00f3vel normalizada de novas mortes nos \\u00faltimos 5 dias\"}, \"xaxis\": {\"domain\": [0, 0.7]}, \"xaxis2\": {\"domain\": [0.8, 1], \"showticklabels\": true}, \"yaxis\": {\"tickmode\": \"linear\"}, \"yaxis2\": {\"anchor\": \"x2\", \"tickmode\": \"linear\"}},\n",
       "                        {\"responsive\": true}\n",
       "                    ).then(function(){\n",
       "                            \n",
       "var gd = document.getElementById('84f5e174-d96f-4755-9500-b812ed66abad');\n",
       "var x = new MutationObserver(function (mutations, observer) {{\n",
       "        var display = window.getComputedStyle(gd).display;\n",
       "        if (!display || display === 'none') {{\n",
       "            console.log([gd, 'removed!']);\n",
       "            Plotly.purge(gd);\n",
       "            observer.disconnect();\n",
       "        }}\n",
       "}});\n",
       "\n",
       "// Listen for the removal of the full notebook cells\n",
       "var notebookContainer = gd.closest('#notebook-container');\n",
       "if (notebookContainer) {{\n",
       "    x.observe(notebookContainer, {childList: true});\n",
       "}}\n",
       "\n",
       "// Listen for the clearing of the current output cell\n",
       "var outputEl = gd.closest('.output');\n",
       "if (outputEl) {{\n",
       "    x.observe(outputEl, {childList: true});\n",
       "}}\n",
       "\n",
       "                        })\n",
       "                };\n",
       "                });\n",
       "            </script>\n",
       "        </div>"
      ]
     },
     "metadata": {},
     "output_type": "display_data"
    }
   ],
   "source": [
    "# Plotar o mapa de calor com total de mortes por município\n",
    "fig = heatmap(df_heatmap.loc[cities_names].iloc[::-1], city_total_deaths[::-1], title, colors)\n",
    "fig.show()"
   ]
  },
  {
   "cell_type": "code",
   "execution_count": 28,
   "metadata": {},
   "outputs": [],
   "source": [
    "import plotly.io as pio"
   ]
  },
  {
   "cell_type": "code",
   "execution_count": 29,
   "metadata": {},
   "outputs": [],
   "source": [
    "#Salvar imagem (discomente as linhas abaixo se quiser salvar a figura)\n",
    "#pio.write_image(fig,f'../data/figures/hm0{v}.jpeg',format='jpeg',width=1920, height=1080)\n",
    "#v+=1"
   ]
  },
  {
   "cell_type": "code",
   "execution_count": 30,
   "metadata": {},
   "outputs": [],
   "source": [
    "dfnfilt['first_case'] = first_case\n",
    "dfnfilt['first_death'] = first_death"
   ]
  },
  {
   "cell_type": "markdown",
   "metadata": {},
   "source": [
    "<h4>DataFrame com os dados ordenados</h4>\n",
    "Alterando o nome da coluna, altera a ordenação dos dados, as 10 primeiras linhas serão\n",
    "as 10 menores observações, as 10 ultimas, serão as 10 maiores\n",
    "e.g. Municipios com o maior Rt, municípios com o menor Rt ..."
   ]
  },
  {
   "cell_type": "code",
   "execution_count": 31,
   "metadata": {},
   "outputs": [],
   "source": [
    "dfexib = dfnfilt.sort_values('rt_10days_ago_avg', ascending = False) #Alterar essa linha"
   ]
  },
  {
   "cell_type": "code",
   "execution_count": 32,
   "metadata": {},
   "outputs": [],
   "source": [
    "h = dfexib[['city_name','state_id','first_death','deaths','deaths_100khab',\n",
    " 'first_case','confirmed_cases', 'cases_100khab', 'subnotification_rate',\n",
    "        'inloco_last_week_7days_avg','inloco_today_7days_avg',\n",
    "        'rt_17days_ago_avg','rt_10days_ago_avg']]\n",
    "h.to_csv(\"../data/output/dados_g1.csv\", index=False)"
   ]
  },
  {
   "cell_type": "markdown",
   "metadata": {},
   "source": [
    "Exibição dos dados mostrando algumas variáveis relevantes.\n",
    "No exemplo, municípios com os 10 menores Rt"
   ]
  },
  {
   "cell_type": "code",
   "execution_count": 33,
   "metadata": {
    "code_folding": []
   },
   "outputs": [
    {
     "data": {
      "text/html": [
       "<div>\n",
       "<style scoped>\n",
       "    .dataframe tbody tr th:only-of-type {\n",
       "        vertical-align: middle;\n",
       "    }\n",
       "\n",
       "    .dataframe tbody tr th {\n",
       "        vertical-align: top;\n",
       "    }\n",
       "\n",
       "    .dataframe thead th {\n",
       "        text-align: right;\n",
       "    }\n",
       "</style>\n",
       "<table border=\"1\" class=\"dataframe\">\n",
       "  <thead>\n",
       "    <tr style=\"text-align: right;\">\n",
       "      <th></th>\n",
       "      <th>city_name</th>\n",
       "      <th>state_id</th>\n",
       "      <th>first_death</th>\n",
       "      <th>deaths</th>\n",
       "      <th>deaths_100khab</th>\n",
       "      <th>first_case</th>\n",
       "      <th>confirmed_cases</th>\n",
       "      <th>cases_100khab</th>\n",
       "      <th>subnotification_rate</th>\n",
       "      <th>inloco_last_week_7days_avg</th>\n",
       "      <th>inloco_today_7days_avg</th>\n",
       "      <th>rt_17days_ago_avg</th>\n",
       "      <th>rt_10days_ago_avg</th>\n",
       "    </tr>\n",
       "  </thead>\n",
       "  <tbody>\n",
       "    <tr>\n",
       "      <th>105</th>\n",
       "      <td>Barcarena</td>\n",
       "      <td>PA</td>\n",
       "      <td>2020-04-24</td>\n",
       "      <td>72.0</td>\n",
       "      <td>57.747834</td>\n",
       "      <td>2020-04-01</td>\n",
       "      <td>1006.0</td>\n",
       "      <td>806.865576</td>\n",
       "      <td>0.728585</td>\n",
       "      <td>0.402272</td>\n",
       "      <td>0.374460</td>\n",
       "      <td>2.220000</td>\n",
       "      <td>2.260000</td>\n",
       "    </tr>\n",
       "    <tr>\n",
       "      <th>126</th>\n",
       "      <td>Paragominas</td>\n",
       "      <td>PA</td>\n",
       "      <td>2020-04-26</td>\n",
       "      <td>64.0</td>\n",
       "      <td>56.564585</td>\n",
       "      <td>2020-04-24</td>\n",
       "      <td>955.0</td>\n",
       "      <td>844.049671</td>\n",
       "      <td>0.726246</td>\n",
       "      <td>0.437809</td>\n",
       "      <td>0.405599</td>\n",
       "      <td>1.402857</td>\n",
       "      <td>2.244286</td>\n",
       "    </tr>\n",
       "    <tr>\n",
       "      <th>48</th>\n",
       "      <td>Curuçá</td>\n",
       "      <td>PA</td>\n",
       "      <td>2020-05-04</td>\n",
       "      <td>40.0</td>\n",
       "      <td>99.835272</td>\n",
       "      <td>2020-04-22</td>\n",
       "      <td>501.0</td>\n",
       "      <td>1250.436779</td>\n",
       "      <td>0.775231</td>\n",
       "      <td>0.450519</td>\n",
       "      <td>0.404342</td>\n",
       "      <td>2.180000</td>\n",
       "      <td>2.000000</td>\n",
       "    </tr>\n",
       "    <tr>\n",
       "      <th>125</th>\n",
       "      <td>Abaetetuba</td>\n",
       "      <td>PA</td>\n",
       "      <td>2020-05-08</td>\n",
       "      <td>68.0</td>\n",
       "      <td>43.120395</td>\n",
       "      <td>2020-03-31</td>\n",
       "      <td>1735.0</td>\n",
       "      <td>1100.204188</td>\n",
       "      <td>0.476591</td>\n",
       "      <td>0.477182</td>\n",
       "      <td>0.444223</td>\n",
       "      <td>1.648571</td>\n",
       "      <td>1.970000</td>\n",
       "    </tr>\n",
       "    <tr>\n",
       "      <th>12</th>\n",
       "      <td>Tucuruí</td>\n",
       "      <td>PA</td>\n",
       "      <td>2020-05-02</td>\n",
       "      <td>61.0</td>\n",
       "      <td>53.669309</td>\n",
       "      <td>2020-03-31</td>\n",
       "      <td>722.0</td>\n",
       "      <td>635.233461</td>\n",
       "      <td>0.765257</td>\n",
       "      <td>0.462946</td>\n",
       "      <td>0.428964</td>\n",
       "      <td>2.311429</td>\n",
       "      <td>1.967143</td>\n",
       "    </tr>\n",
       "    <tr>\n",
       "      <th>121</th>\n",
       "      <td>São Vicente</td>\n",
       "      <td>SP</td>\n",
       "      <td>2020-04-02</td>\n",
       "      <td>99.0</td>\n",
       "      <td>27.064117</td>\n",
       "      <td>2020-03-31</td>\n",
       "      <td>1377.0</td>\n",
       "      <td>376.437269</td>\n",
       "      <td>0.718989</td>\n",
       "      <td>0.423344</td>\n",
       "      <td>0.409233</td>\n",
       "      <td>1.667143</td>\n",
       "      <td>1.855714</td>\n",
       "    </tr>\n",
       "    <tr>\n",
       "      <th>119</th>\n",
       "      <td>Benevides</td>\n",
       "      <td>PA</td>\n",
       "      <td>2020-04-24</td>\n",
       "      <td>43.0</td>\n",
       "      <td>68.540096</td>\n",
       "      <td>2020-04-03</td>\n",
       "      <td>1083.0</td>\n",
       "      <td>1726.254045</td>\n",
       "      <td>0.538777</td>\n",
       "      <td>0.407562</td>\n",
       "      <td>0.375367</td>\n",
       "      <td>1.702857</td>\n",
       "      <td>1.835714</td>\n",
       "    </tr>\n",
       "    <tr>\n",
       "      <th>123</th>\n",
       "      <td>Campina Grande</td>\n",
       "      <td>PB</td>\n",
       "      <td>2020-04-16</td>\n",
       "      <td>45.0</td>\n",
       "      <td>10.982816</td>\n",
       "      <td>2020-03-27</td>\n",
       "      <td>2967.0</td>\n",
       "      <td>724.133639</td>\n",
       "      <td>0.000000</td>\n",
       "      <td>0.470505</td>\n",
       "      <td>0.415434</td>\n",
       "      <td>1.632857</td>\n",
       "      <td>1.828571</td>\n",
       "    </tr>\n",
       "    <tr>\n",
       "      <th>113</th>\n",
       "      <td>Magé</td>\n",
       "      <td>RJ</td>\n",
       "      <td>2020-04-13</td>\n",
       "      <td>98.0</td>\n",
       "      <td>39.988412</td>\n",
       "      <td>2020-04-02</td>\n",
       "      <td>961.0</td>\n",
       "      <td>392.131260</td>\n",
       "      <td>0.827039</td>\n",
       "      <td>0.436889</td>\n",
       "      <td>0.423475</td>\n",
       "      <td>1.731429</td>\n",
       "      <td>1.795714</td>\n",
       "    </tr>\n",
       "    <tr>\n",
       "      <th>1</th>\n",
       "      <td>Marituba</td>\n",
       "      <td>PA</td>\n",
       "      <td>2020-04-16</td>\n",
       "      <td>50.0</td>\n",
       "      <td>38.016743</td>\n",
       "      <td>2020-03-31</td>\n",
       "      <td>510.0</td>\n",
       "      <td>387.770774</td>\n",
       "      <td>0.793993</td>\n",
       "      <td>0.403175</td>\n",
       "      <td>0.379520</td>\n",
       "      <td>2.245714</td>\n",
       "      <td>1.742857</td>\n",
       "    </tr>\n",
       "  </tbody>\n",
       "</table>\n",
       "</div>"
      ],
      "text/plain": [
       "          city_name state_id first_death  deaths  deaths_100khab  first_case  \\\n",
       "105       Barcarena       PA  2020-04-24    72.0       57.747834  2020-04-01   \n",
       "126     Paragominas       PA  2020-04-26    64.0       56.564585  2020-04-24   \n",
       "48           Curuçá       PA  2020-05-04    40.0       99.835272  2020-04-22   \n",
       "125      Abaetetuba       PA  2020-05-08    68.0       43.120395  2020-03-31   \n",
       "12          Tucuruí       PA  2020-05-02    61.0       53.669309  2020-03-31   \n",
       "121     São Vicente       SP  2020-04-02    99.0       27.064117  2020-03-31   \n",
       "119       Benevides       PA  2020-04-24    43.0       68.540096  2020-04-03   \n",
       "123  Campina Grande       PB  2020-04-16    45.0       10.982816  2020-03-27   \n",
       "113            Magé       RJ  2020-04-13    98.0       39.988412  2020-04-02   \n",
       "1          Marituba       PA  2020-04-16    50.0       38.016743  2020-03-31   \n",
       "\n",
       "     confirmed_cases  cases_100khab  subnotification_rate  \\\n",
       "105           1006.0     806.865576              0.728585   \n",
       "126            955.0     844.049671              0.726246   \n",
       "48             501.0    1250.436779              0.775231   \n",
       "125           1735.0    1100.204188              0.476591   \n",
       "12             722.0     635.233461              0.765257   \n",
       "121           1377.0     376.437269              0.718989   \n",
       "119           1083.0    1726.254045              0.538777   \n",
       "123           2967.0     724.133639              0.000000   \n",
       "113            961.0     392.131260              0.827039   \n",
       "1              510.0     387.770774              0.793993   \n",
       "\n",
       "     inloco_last_week_7days_avg  inloco_today_7days_avg  rt_17days_ago_avg  \\\n",
       "105                    0.402272                0.374460           2.220000   \n",
       "126                    0.437809                0.405599           1.402857   \n",
       "48                     0.450519                0.404342           2.180000   \n",
       "125                    0.477182                0.444223           1.648571   \n",
       "12                     0.462946                0.428964           2.311429   \n",
       "121                    0.423344                0.409233           1.667143   \n",
       "119                    0.407562                0.375367           1.702857   \n",
       "123                    0.470505                0.415434           1.632857   \n",
       "113                    0.436889                0.423475           1.731429   \n",
       "1                      0.403175                0.379520           2.245714   \n",
       "\n",
       "     rt_10days_ago_avg  \n",
       "105           2.260000  \n",
       "126           2.244286  \n",
       "48            2.000000  \n",
       "125           1.970000  \n",
       "12            1.967143  \n",
       "121           1.855714  \n",
       "119           1.835714  \n",
       "123           1.828571  \n",
       "113           1.795714  \n",
       "1             1.742857  "
      ]
     },
     "execution_count": 33,
     "metadata": {},
     "output_type": "execute_result"
    }
   ],
   "source": [
    "h.iloc[:10]"
   ]
  },
  {
   "cell_type": "code",
   "execution_count": 34,
   "metadata": {},
   "outputs": [
    {
     "name": "stdout",
     "output_type": "stream",
     "text": [
      "Maior Rt: 2.260000\n",
      "Menor Rt: 1.742857\n"
     ]
    }
   ],
   "source": [
    "print(\"Maior Rt: %f\" % dfnfilt['rt_10days_ago_avg'].sort_values(ascending = False)[:10].max())\n",
    "print(\"Menor Rt: %f\" % dfnfilt['rt_10days_ago_avg'].sort_values(ascending = False)[:10].min())"
   ]
  },
  {
   "cell_type": "code",
   "execution_count": null,
   "metadata": {},
   "outputs": [],
   "source": []
  }
 ],
 "metadata": {
  "kernelspec": {
   "display_name": "Python 3",
   "language": "python",
   "name": "python3"
  },
  "language_info": {
   "codemirror_mode": {
    "name": "ipython",
    "version": 3
   },
   "file_extension": ".py",
   "mimetype": "text/x-python",
   "name": "python",
   "nbconvert_exporter": "python",
   "pygments_lexer": "ipython3",
   "version": "3.8.2"
  },
  "varInspector": {
   "cols": {
    "lenName": 16,
    "lenType": 16,
    "lenVar": 40
   },
   "kernels_config": {
    "python": {
     "delete_cmd_postfix": "",
     "delete_cmd_prefix": "del ",
     "library": "var_list.py",
     "varRefreshCmd": "print(var_dic_list())"
    },
    "r": {
     "delete_cmd_postfix": ") ",
     "delete_cmd_prefix": "rm(",
     "library": "var_list.r",
     "varRefreshCmd": "cat(var_dic_list()) "
    }
   },
   "types_to_exclude": [
    "module",
    "function",
    "builtin_function_or_method",
    "instance",
    "_Feature"
   ],
   "window_display": false
  }
 },
 "nbformat": 4,
 "nbformat_minor": 4
}

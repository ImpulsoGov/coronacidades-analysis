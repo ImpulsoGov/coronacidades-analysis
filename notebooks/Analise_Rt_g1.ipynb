{
 "cells": [
  {
   "cell_type": "markdown",
   "metadata": {},
   "source": [
    "# Análise dos Ritmos de contágio municipais para o G1 "
   ]
  },
  {
   "cell_type": "markdown",
   "metadata": {},
   "source": [
    "Para uma melhor compreensão da situação dos municípios no combate a Pandemia da Covid-19, analisamos 5% das cidades com mais mortes para a verificação dos ritmos de contágio e análise desses municípios.\n",
    "\n",
    "\n",
    "*Code made by: Francisco Nogueira*"
   ]
  },
  {
   "cell_type": "markdown",
   "metadata": {},
   "source": [
    "## Importing Standard Libraries"
   ]
  },
  {
   "cell_type": "code",
   "execution_count": 1,
   "metadata": {},
   "outputs": [
    {
     "data": {
      "text/html": [
       "        <script type=\"text/javascript\">\n",
       "        window.PlotlyConfig = {MathJaxConfig: 'local'};\n",
       "        if (window.MathJax) {MathJax.Hub.Config({SVG: {font: \"STIX-Web\"}});}\n",
       "        if (typeof require !== 'undefined') {\n",
       "        require.undef(\"plotly\");\n",
       "        requirejs.config({\n",
       "            paths: {\n",
       "                'plotly': ['https://cdn.plot.ly/plotly-latest.min']\n",
       "            }\n",
       "        });\n",
       "        require(['plotly'], function(Plotly) {\n",
       "            window._Plotly = Plotly;\n",
       "        });\n",
       "        }\n",
       "        </script>\n",
       "        "
      ]
     },
     "metadata": {},
     "output_type": "display_data"
    }
   ],
   "source": [
    "%reload_ext autoreload\n",
    "%autoreload 2\n",
    "\n",
    "\n",
    "import numpy as np\n",
    "import pandas as pd\n",
    "pd.options.display.max_columns = 999\n",
    "import warnings\n",
    "\n",
    "warnings.filterwarnings('ignore')\n",
    "\n",
    "# Plotting\n",
    "import plotly\n",
    "import plotly.graph_objs as go\n",
    "import cufflinks as cf\n",
    "plotly.offline.init_notebook_mode(connected=True)\n",
    "\n",
    "# Centering and fixing title\n",
    "def iplottitle(title, width=40):\n",
    "    return '<br>'.join(textwrap.wrap(title, width))\n"
   ]
  },
  {
   "cell_type": "code",
   "execution_count": 2,
   "metadata": {},
   "outputs": [
    {
     "data": {
      "text/html": [
       "        <script type=\"text/javascript\">\n",
       "        window.PlotlyConfig = {MathJaxConfig: 'local'};\n",
       "        if (window.MathJax) {MathJax.Hub.Config({SVG: {font: \"STIX-Web\"}});}\n",
       "        if (typeof require !== 'undefined') {\n",
       "        require.undef(\"plotly\");\n",
       "        requirejs.config({\n",
       "            paths: {\n",
       "                'plotly': ['https://cdn.plot.ly/plotly-latest.min']\n",
       "            }\n",
       "        });\n",
       "        require(['plotly'], function(Plotly) {\n",
       "            window._Plotly = Plotly;\n",
       "        });\n",
       "        }\n",
       "        </script>\n",
       "        "
      ]
     },
     "metadata": {},
     "output_type": "display_data"
    }
   ],
   "source": [
    "from aux import *\n",
    "import matplotlib.pyplot as plt"
   ]
  },
  {
   "cell_type": "markdown",
   "metadata": {},
   "source": [
    "## Load Data"
   ]
  },
  {
   "cell_type": "code",
   "execution_count": 3,
   "metadata": {},
   "outputs": [
    {
     "data": {
      "text/html": [
       "<div>\n",
       "<style scoped>\n",
       "    .dataframe tbody tr th:only-of-type {\n",
       "        vertical-align: middle;\n",
       "    }\n",
       "\n",
       "    .dataframe tbody tr th {\n",
       "        vertical-align: top;\n",
       "    }\n",
       "\n",
       "    .dataframe thead th {\n",
       "        text-align: right;\n",
       "    }\n",
       "</style>\n",
       "<table border=\"1\" class=\"dataframe\">\n",
       "  <thead>\n",
       "    <tr style=\"text-align: right;\">\n",
       "      <th></th>\n",
       "      <th>city_id</th>\n",
       "      <th>city_name</th>\n",
       "      <th>state_id</th>\n",
       "      <th>state_name</th>\n",
       "      <th>population</th>\n",
       "      <th>health_system_region</th>\n",
       "      <th>last_updated_number_beds</th>\n",
       "      <th>author_number_beds</th>\n",
       "      <th>number_beds</th>\n",
       "      <th>last_updated_number_ventilators</th>\n",
       "      <th>author_number_ventilators</th>\n",
       "      <th>number_ventilators</th>\n",
       "      <th>confirmed_cases</th>\n",
       "      <th>active_cases</th>\n",
       "      <th>deaths</th>\n",
       "      <th>notification_rate</th>\n",
       "      <th>state_notification_rate</th>\n",
       "      <th>last_updated_subnotification</th>\n",
       "      <th>subnotification_place_type</th>\n",
       "      <th>subnotification_rate</th>\n",
       "      <th>subnotification_rank</th>\n",
       "      <th>subnotification_classification</th>\n",
       "      <th>last_updated_rt</th>\n",
       "      <th>rt_10days_ago_low</th>\n",
       "      <th>rt_10days_ago_high</th>\n",
       "      <th>rt_10days_ago_most_likely</th>\n",
       "      <th>rt_17days_ago_low</th>\n",
       "      <th>rt_17days_ago_high</th>\n",
       "      <th>rt_17days_ago_most_likely</th>\n",
       "      <th>rt_classification</th>\n",
       "      <th>rt_10days_ago_avg</th>\n",
       "      <th>rt_17days_ago_avg</th>\n",
       "      <th>rt_ratio_week_avg</th>\n",
       "      <th>rt_growth</th>\n",
       "      <th>last_updated_inloco</th>\n",
       "      <th>inloco_today_7days_avg</th>\n",
       "      <th>inloco_last_week_7days_avg</th>\n",
       "      <th>inloco_ratio_week_avgs</th>\n",
       "      <th>inloco_growth</th>\n",
       "      <th>dday_beds_best</th>\n",
       "      <th>dday_beds_worst</th>\n",
       "      <th>dday_classification</th>\n",
       "      <th>dday_beds_best_months</th>\n",
       "      <th>overall_alert</th>\n",
       "      <th>data_last_refreshed</th>\n",
       "    </tr>\n",
       "  </thead>\n",
       "  <tbody>\n",
       "    <tr>\n",
       "      <th>0</th>\n",
       "      <td>5200050</td>\n",
       "      <td>Abadia de Goiás</td>\n",
       "      <td>GO</td>\n",
       "      <td>Goiás</td>\n",
       "      <td>8773</td>\n",
       "      <td>Central</td>\n",
       "      <td>2020-04-01</td>\n",
       "      <td>DataSUS</td>\n",
       "      <td>0</td>\n",
       "      <td>2020-04-01</td>\n",
       "      <td>DataSUS</td>\n",
       "      <td>0.0</td>\n",
       "      <td>9.0</td>\n",
       "      <td>5.0</td>\n",
       "      <td>0.0</td>\n",
       "      <td>0.635980</td>\n",
       "      <td>0.635980</td>\n",
       "      <td>2020-06-09 16:55:47</td>\n",
       "      <td>state</td>\n",
       "      <td>0.364020</td>\n",
       "      <td>NaN</td>\n",
       "      <td>NaN</td>\n",
       "      <td>2020-06-09 17:34:37</td>\n",
       "      <td>0.56</td>\n",
       "      <td>2.75</td>\n",
       "      <td>1.58</td>\n",
       "      <td>0.64</td>\n",
       "      <td>4.81</td>\n",
       "      <td>2.35</td>\n",
       "      <td>NaN</td>\n",
       "      <td>1.778571</td>\n",
       "      <td>NaN</td>\n",
       "      <td>NaN</td>\n",
       "      <td>NaN</td>\n",
       "      <td>2020-06-09 16:57:04</td>\n",
       "      <td>0.342280</td>\n",
       "      <td>0.360209</td>\n",
       "      <td>0.950225</td>\n",
       "      <td>estabilizando</td>\n",
       "      <td>NaN</td>\n",
       "      <td>NaN</td>\n",
       "      <td>NaN</td>\n",
       "      <td>NaN</td>\n",
       "      <td>NaN</td>\n",
       "      <td>2020-06-09 17:35:32</td>\n",
       "    </tr>\n",
       "    <tr>\n",
       "      <th>1</th>\n",
       "      <td>3100104</td>\n",
       "      <td>Abadia dos Dourados</td>\n",
       "      <td>MG</td>\n",
       "      <td>Minas Gerais</td>\n",
       "      <td>6989</td>\n",
       "      <td>Uberlândia</td>\n",
       "      <td>2020-04-01</td>\n",
       "      <td>DataSUS</td>\n",
       "      <td>11</td>\n",
       "      <td>2020-04-01</td>\n",
       "      <td>DataSUS</td>\n",
       "      <td>0.0</td>\n",
       "      <td>5.0</td>\n",
       "      <td>0.0</td>\n",
       "      <td>0.0</td>\n",
       "      <td>0.811237</td>\n",
       "      <td>0.811237</td>\n",
       "      <td>2020-06-09 16:55:47</td>\n",
       "      <td>state</td>\n",
       "      <td>0.188763</td>\n",
       "      <td>NaN</td>\n",
       "      <td>NaN</td>\n",
       "      <td>2020-06-09 17:34:37</td>\n",
       "      <td>NaN</td>\n",
       "      <td>NaN</td>\n",
       "      <td>NaN</td>\n",
       "      <td>NaN</td>\n",
       "      <td>NaN</td>\n",
       "      <td>NaN</td>\n",
       "      <td>NaN</td>\n",
       "      <td>NaN</td>\n",
       "      <td>NaN</td>\n",
       "      <td>NaN</td>\n",
       "      <td>NaN</td>\n",
       "      <td>2020-06-09 16:57:04</td>\n",
       "      <td>0.420234</td>\n",
       "      <td>0.409073</td>\n",
       "      <td>1.027284</td>\n",
       "      <td>estabilizando</td>\n",
       "      <td>NaN</td>\n",
       "      <td>NaN</td>\n",
       "      <td>NaN</td>\n",
       "      <td>NaN</td>\n",
       "      <td>NaN</td>\n",
       "      <td>2020-06-09 17:35:32</td>\n",
       "    </tr>\n",
       "    <tr>\n",
       "      <th>2</th>\n",
       "      <td>5200100</td>\n",
       "      <td>Abadiânia</td>\n",
       "      <td>GO</td>\n",
       "      <td>Goiás</td>\n",
       "      <td>20042</td>\n",
       "      <td>Pirineus</td>\n",
       "      <td>2020-04-01</td>\n",
       "      <td>DataSUS</td>\n",
       "      <td>9</td>\n",
       "      <td>2020-04-01</td>\n",
       "      <td>DataSUS</td>\n",
       "      <td>0.0</td>\n",
       "      <td>12.0</td>\n",
       "      <td>19.0</td>\n",
       "      <td>0.0</td>\n",
       "      <td>0.635980</td>\n",
       "      <td>0.635980</td>\n",
       "      <td>2020-06-09 16:55:47</td>\n",
       "      <td>state</td>\n",
       "      <td>0.364020</td>\n",
       "      <td>NaN</td>\n",
       "      <td>NaN</td>\n",
       "      <td>2020-06-09 17:34:37</td>\n",
       "      <td>NaN</td>\n",
       "      <td>NaN</td>\n",
       "      <td>NaN</td>\n",
       "      <td>NaN</td>\n",
       "      <td>NaN</td>\n",
       "      <td>NaN</td>\n",
       "      <td>NaN</td>\n",
       "      <td>NaN</td>\n",
       "      <td>NaN</td>\n",
       "      <td>NaN</td>\n",
       "      <td>NaN</td>\n",
       "      <td>2020-06-09 16:57:04</td>\n",
       "      <td>0.386274</td>\n",
       "      <td>0.382408</td>\n",
       "      <td>1.010109</td>\n",
       "      <td>estabilizando</td>\n",
       "      <td>NaN</td>\n",
       "      <td>NaN</td>\n",
       "      <td>NaN</td>\n",
       "      <td>NaN</td>\n",
       "      <td>NaN</td>\n",
       "      <td>2020-06-09 17:35:32</td>\n",
       "    </tr>\n",
       "    <tr>\n",
       "      <th>3</th>\n",
       "      <td>1500107</td>\n",
       "      <td>Abaetetuba</td>\n",
       "      <td>PA</td>\n",
       "      <td>Pará</td>\n",
       "      <td>157698</td>\n",
       "      <td>Alça Viária</td>\n",
       "      <td>2020-04-01</td>\n",
       "      <td>DataSUS</td>\n",
       "      <td>214</td>\n",
       "      <td>2020-04-01</td>\n",
       "      <td>DataSUS</td>\n",
       "      <td>10.0</td>\n",
       "      <td>1735.0</td>\n",
       "      <td>1783.0</td>\n",
       "      <td>68.0</td>\n",
       "      <td>0.527846</td>\n",
       "      <td>0.289335</td>\n",
       "      <td>2020-06-09 16:55:47</td>\n",
       "      <td>city</td>\n",
       "      <td>0.472154</td>\n",
       "      <td>46.0</td>\n",
       "      <td>bom</td>\n",
       "      <td>2020-06-09 17:34:37</td>\n",
       "      <td>1.76</td>\n",
       "      <td>1.99</td>\n",
       "      <td>1.89</td>\n",
       "      <td>1.50</td>\n",
       "      <td>1.83</td>\n",
       "      <td>1.67</td>\n",
       "      <td>ruim</td>\n",
       "      <td>1.972857</td>\n",
       "      <td>1.634286</td>\n",
       "      <td>1.207168</td>\n",
       "      <td>piorando</td>\n",
       "      <td>2020-06-09 16:57:04</td>\n",
       "      <td>0.447712</td>\n",
       "      <td>0.484150</td>\n",
       "      <td>0.924738</td>\n",
       "      <td>estabilizando</td>\n",
       "      <td>2.0</td>\n",
       "      <td>2.0</td>\n",
       "      <td>ruim</td>\n",
       "      <td>1.0</td>\n",
       "      <td>alto</td>\n",
       "      <td>2020-06-09 17:35:32</td>\n",
       "    </tr>\n",
       "    <tr>\n",
       "      <th>4</th>\n",
       "      <td>3100203</td>\n",
       "      <td>Abaeté</td>\n",
       "      <td>MG</td>\n",
       "      <td>Minas Gerais</td>\n",
       "      <td>23237</td>\n",
       "      <td>Sete Lagoas</td>\n",
       "      <td>2020-04-01</td>\n",
       "      <td>DataSUS</td>\n",
       "      <td>32</td>\n",
       "      <td>2020-04-01</td>\n",
       "      <td>DataSUS</td>\n",
       "      <td>2.0</td>\n",
       "      <td>2.0</td>\n",
       "      <td>0.0</td>\n",
       "      <td>0.0</td>\n",
       "      <td>0.811237</td>\n",
       "      <td>0.811237</td>\n",
       "      <td>2020-06-09 16:55:47</td>\n",
       "      <td>state</td>\n",
       "      <td>0.188763</td>\n",
       "      <td>NaN</td>\n",
       "      <td>NaN</td>\n",
       "      <td>2020-06-09 17:34:37</td>\n",
       "      <td>NaN</td>\n",
       "      <td>NaN</td>\n",
       "      <td>NaN</td>\n",
       "      <td>NaN</td>\n",
       "      <td>NaN</td>\n",
       "      <td>NaN</td>\n",
       "      <td>NaN</td>\n",
       "      <td>NaN</td>\n",
       "      <td>NaN</td>\n",
       "      <td>NaN</td>\n",
       "      <td>NaN</td>\n",
       "      <td>2020-06-09 16:57:04</td>\n",
       "      <td>0.356360</td>\n",
       "      <td>0.366233</td>\n",
       "      <td>0.973044</td>\n",
       "      <td>estabilizando</td>\n",
       "      <td>NaN</td>\n",
       "      <td>NaN</td>\n",
       "      <td>NaN</td>\n",
       "      <td>NaN</td>\n",
       "      <td>NaN</td>\n",
       "      <td>2020-06-09 17:35:32</td>\n",
       "    </tr>\n",
       "  </tbody>\n",
       "</table>\n",
       "</div>"
      ],
      "text/plain": [
       "   city_id            city_name state_id    state_name  population  \\\n",
       "0  5200050      Abadia de Goiás       GO         Goiás        8773   \n",
       "1  3100104  Abadia dos Dourados       MG  Minas Gerais        6989   \n",
       "2  5200100            Abadiânia       GO         Goiás       20042   \n",
       "3  1500107           Abaetetuba       PA          Pará      157698   \n",
       "4  3100203               Abaeté       MG  Minas Gerais       23237   \n",
       "\n",
       "  health_system_region last_updated_number_beds author_number_beds  \\\n",
       "0              Central               2020-04-01            DataSUS   \n",
       "1           Uberlândia               2020-04-01            DataSUS   \n",
       "2             Pirineus               2020-04-01            DataSUS   \n",
       "3          Alça Viária               2020-04-01            DataSUS   \n",
       "4          Sete Lagoas               2020-04-01            DataSUS   \n",
       "\n",
       "   number_beds last_updated_number_ventilators author_number_ventilators  \\\n",
       "0            0                      2020-04-01                   DataSUS   \n",
       "1           11                      2020-04-01                   DataSUS   \n",
       "2            9                      2020-04-01                   DataSUS   \n",
       "3          214                      2020-04-01                   DataSUS   \n",
       "4           32                      2020-04-01                   DataSUS   \n",
       "\n",
       "   number_ventilators  confirmed_cases  active_cases  deaths  \\\n",
       "0                 0.0              9.0           5.0     0.0   \n",
       "1                 0.0              5.0           0.0     0.0   \n",
       "2                 0.0             12.0          19.0     0.0   \n",
       "3                10.0           1735.0        1783.0    68.0   \n",
       "4                 2.0              2.0           0.0     0.0   \n",
       "\n",
       "   notification_rate  state_notification_rate last_updated_subnotification  \\\n",
       "0           0.635980                 0.635980          2020-06-09 16:55:47   \n",
       "1           0.811237                 0.811237          2020-06-09 16:55:47   \n",
       "2           0.635980                 0.635980          2020-06-09 16:55:47   \n",
       "3           0.527846                 0.289335          2020-06-09 16:55:47   \n",
       "4           0.811237                 0.811237          2020-06-09 16:55:47   \n",
       "\n",
       "  subnotification_place_type  subnotification_rate  subnotification_rank  \\\n",
       "0                      state              0.364020                   NaN   \n",
       "1                      state              0.188763                   NaN   \n",
       "2                      state              0.364020                   NaN   \n",
       "3                       city              0.472154                  46.0   \n",
       "4                      state              0.188763                   NaN   \n",
       "\n",
       "  subnotification_classification      last_updated_rt  rt_10days_ago_low  \\\n",
       "0                            NaN  2020-06-09 17:34:37               0.56   \n",
       "1                            NaN  2020-06-09 17:34:37                NaN   \n",
       "2                            NaN  2020-06-09 17:34:37                NaN   \n",
       "3                            bom  2020-06-09 17:34:37               1.76   \n",
       "4                            NaN  2020-06-09 17:34:37                NaN   \n",
       "\n",
       "   rt_10days_ago_high  rt_10days_ago_most_likely  rt_17days_ago_low  \\\n",
       "0                2.75                       1.58               0.64   \n",
       "1                 NaN                        NaN                NaN   \n",
       "2                 NaN                        NaN                NaN   \n",
       "3                1.99                       1.89               1.50   \n",
       "4                 NaN                        NaN                NaN   \n",
       "\n",
       "   rt_17days_ago_high  rt_17days_ago_most_likely rt_classification  \\\n",
       "0                4.81                       2.35               NaN   \n",
       "1                 NaN                        NaN               NaN   \n",
       "2                 NaN                        NaN               NaN   \n",
       "3                1.83                       1.67              ruim   \n",
       "4                 NaN                        NaN               NaN   \n",
       "\n",
       "   rt_10days_ago_avg  rt_17days_ago_avg  rt_ratio_week_avg rt_growth  \\\n",
       "0           1.778571                NaN                NaN       NaN   \n",
       "1                NaN                NaN                NaN       NaN   \n",
       "2                NaN                NaN                NaN       NaN   \n",
       "3           1.972857           1.634286           1.207168  piorando   \n",
       "4                NaN                NaN                NaN       NaN   \n",
       "\n",
       "   last_updated_inloco  inloco_today_7days_avg  inloco_last_week_7days_avg  \\\n",
       "0  2020-06-09 16:57:04                0.342280                    0.360209   \n",
       "1  2020-06-09 16:57:04                0.420234                    0.409073   \n",
       "2  2020-06-09 16:57:04                0.386274                    0.382408   \n",
       "3  2020-06-09 16:57:04                0.447712                    0.484150   \n",
       "4  2020-06-09 16:57:04                0.356360                    0.366233   \n",
       "\n",
       "   inloco_ratio_week_avgs  inloco_growth  dday_beds_best  dday_beds_worst  \\\n",
       "0                0.950225  estabilizando             NaN              NaN   \n",
       "1                1.027284  estabilizando             NaN              NaN   \n",
       "2                1.010109  estabilizando             NaN              NaN   \n",
       "3                0.924738  estabilizando             2.0              2.0   \n",
       "4                0.973044  estabilizando             NaN              NaN   \n",
       "\n",
       "  dday_classification  dday_beds_best_months overall_alert  \\\n",
       "0                 NaN                    NaN           NaN   \n",
       "1                 NaN                    NaN           NaN   \n",
       "2                 NaN                    NaN           NaN   \n",
       "3                ruim                    1.0          alto   \n",
       "4                 NaN                    NaN           NaN   \n",
       "\n",
       "   data_last_refreshed  \n",
       "0  2020-06-09 17:35:32  \n",
       "1  2020-06-09 17:35:32  \n",
       "2  2020-06-09 17:35:32  \n",
       "3  2020-06-09 17:35:32  \n",
       "4  2020-06-09 17:35:32  "
      ]
     },
     "execution_count": 3,
     "metadata": {},
     "output_type": "execute_result"
    }
   ],
   "source": [
    "df = pd.read_csv('http://datasource.coronacidades.org:7000/br/cities/farolcovid/main')\n",
    "df = df.sort_values('city_name')\\\n",
    "                    .reset_index(drop=True)\n",
    "\n",
    "df.head()"
   ]
  },
  {
   "cell_type": "code",
   "execution_count": 4,
   "metadata": {},
   "outputs": [
    {
     "name": "stdout",
     "output_type": "stream",
     "text": [
      "Total de mortos:  36856.0\n",
      "Atualizado em:  2020-06-09 17:35:32\n",
      "Rt atualizado em:  2020-06-09 16:55:47\n"
     ]
    }
   ],
   "source": [
    "# Indicador sobre atualização dos dados e total de mortos\n",
    "print(\"Total de mortos: \", df['deaths'].sum())\n",
    "\n",
    "print(\"Atualizado em: \", df['data_last_refreshed'].max())\n",
    "\n",
    "print(\"Rt atualizado em: \", df['last_updated_subnotification'].min())"
   ]
  },
  {
   "cell_type": "code",
   "execution_count": 5,
   "metadata": {},
   "outputs": [],
   "source": [
    "dfstates = pd.read_csv('http://datasource.coronacidades.org:7000/br/states/farolcovid/main')"
   ]
  },
  {
   "cell_type": "markdown",
   "metadata": {},
   "source": [
    "Distribuição do total de mortos popr municípios"
   ]
  },
  {
   "cell_type": "code",
   "execution_count": 6,
   "metadata": {},
   "outputs": [],
   "source": [
    "#Filtrando dados que apresentam cálculo de Rt\n",
    "dfna = df.loc[df['rt_ratio_week_avg'].isna()]\n",
    "dfnna = df.loc[~df['rt_ratio_week_avg'].isna()]"
   ]
  },
  {
   "cell_type": "code",
   "execution_count": 7,
   "metadata": {},
   "outputs": [
    {
     "name": "stdout",
     "output_type": "stream",
     "text": [
      "95° Percentil de Mortos: 35.70\n"
     ]
    }
   ],
   "source": [
    "# 95° Percentil\n",
    "p95_deaths = np.percentile(dfnna['deaths'],95)\n",
    "print(f\"95° Percentil de Mortos: {p95_deaths:.2f}\")"
   ]
  },
  {
   "cell_type": "code",
   "execution_count": 8,
   "metadata": {},
   "outputs": [
    {
     "name": "stdout",
     "output_type": "stream",
     "text": [
      "Total de Municípios analisado: 124\n"
     ]
    }
   ],
   "source": [
    "#Filtra apenas os municípios que concentram mais mortes\n",
    "dfnfilt = dfnna.query(f\"deaths >= {p95_deaths}\")\\\n",
    "            .sort_values(['rt_ratio_week_avg'])\\\n",
    "            .reset_index(drop=True)\n",
    "\n",
    "print(\"Total de Municípios analisado: %d\" % dfnfilt.shape[0])"
   ]
  },
  {
   "cell_type": "code",
   "execution_count": 9,
   "metadata": {},
   "outputs": [
    {
     "data": {
      "text/html": [
       "<div>\n",
       "<style scoped>\n",
       "    .dataframe tbody tr th:only-of-type {\n",
       "        vertical-align: middle;\n",
       "    }\n",
       "\n",
       "    .dataframe tbody tr th {\n",
       "        vertical-align: top;\n",
       "    }\n",
       "\n",
       "    .dataframe thead th {\n",
       "        text-align: right;\n",
       "    }\n",
       "</style>\n",
       "<table border=\"1\" class=\"dataframe\">\n",
       "  <thead>\n",
       "    <tr style=\"text-align: right;\">\n",
       "      <th></th>\n",
       "      <th>city_id</th>\n",
       "      <th>city_name</th>\n",
       "      <th>state_id</th>\n",
       "      <th>state_name</th>\n",
       "      <th>population</th>\n",
       "      <th>health_system_region</th>\n",
       "      <th>last_updated_number_beds</th>\n",
       "      <th>author_number_beds</th>\n",
       "      <th>number_beds</th>\n",
       "      <th>last_updated_number_ventilators</th>\n",
       "      <th>author_number_ventilators</th>\n",
       "      <th>number_ventilators</th>\n",
       "      <th>confirmed_cases</th>\n",
       "      <th>active_cases</th>\n",
       "      <th>deaths</th>\n",
       "      <th>notification_rate</th>\n",
       "      <th>state_notification_rate</th>\n",
       "      <th>last_updated_subnotification</th>\n",
       "      <th>subnotification_place_type</th>\n",
       "      <th>subnotification_rate</th>\n",
       "      <th>subnotification_rank</th>\n",
       "      <th>subnotification_classification</th>\n",
       "      <th>last_updated_rt</th>\n",
       "      <th>rt_10days_ago_low</th>\n",
       "      <th>rt_10days_ago_high</th>\n",
       "      <th>rt_10days_ago_most_likely</th>\n",
       "      <th>rt_17days_ago_low</th>\n",
       "      <th>rt_17days_ago_high</th>\n",
       "      <th>rt_17days_ago_most_likely</th>\n",
       "      <th>rt_classification</th>\n",
       "      <th>rt_10days_ago_avg</th>\n",
       "      <th>rt_17days_ago_avg</th>\n",
       "      <th>rt_ratio_week_avg</th>\n",
       "      <th>rt_growth</th>\n",
       "      <th>last_updated_inloco</th>\n",
       "      <th>inloco_today_7days_avg</th>\n",
       "      <th>inloco_last_week_7days_avg</th>\n",
       "      <th>inloco_ratio_week_avgs</th>\n",
       "      <th>inloco_growth</th>\n",
       "      <th>dday_beds_best</th>\n",
       "      <th>dday_beds_worst</th>\n",
       "      <th>dday_classification</th>\n",
       "      <th>dday_beds_best_months</th>\n",
       "      <th>overall_alert</th>\n",
       "      <th>data_last_refreshed</th>\n",
       "    </tr>\n",
       "  </thead>\n",
       "  <tbody>\n",
       "    <tr>\n",
       "      <th>0</th>\n",
       "      <td>1501808</td>\n",
       "      <td>Breves</td>\n",
       "      <td>PA</td>\n",
       "      <td>Pará</td>\n",
       "      <td>102701</td>\n",
       "      <td>Marajó Ocidental</td>\n",
       "      <td>2020-04-01</td>\n",
       "      <td>DataSUS</td>\n",
       "      <td>88</td>\n",
       "      <td>2020-04-01</td>\n",
       "      <td>DataSUS</td>\n",
       "      <td>26.0</td>\n",
       "      <td>634.0</td>\n",
       "      <td>920.0</td>\n",
       "      <td>63.0</td>\n",
       "      <td>0.189072</td>\n",
       "      <td>0.289335</td>\n",
       "      <td>2020-06-09 16:55:47</td>\n",
       "      <td>city</td>\n",
       "      <td>0.810928</td>\n",
       "      <td>116.0</td>\n",
       "      <td>ruim</td>\n",
       "      <td>2020-06-09 17:34:37</td>\n",
       "      <td>0.96</td>\n",
       "      <td>1.16</td>\n",
       "      <td>1.08</td>\n",
       "      <td>1.26</td>\n",
       "      <td>1.46</td>\n",
       "      <td>1.37</td>\n",
       "      <td>insatisfatório</td>\n",
       "      <td>1.192857</td>\n",
       "      <td>1.548571</td>\n",
       "      <td>0.770295</td>\n",
       "      <td>melhorando</td>\n",
       "      <td>2020-06-09 16:57:04</td>\n",
       "      <td>0.445415</td>\n",
       "      <td>0.490498</td>\n",
       "      <td>0.908087</td>\n",
       "      <td>estabilizando</td>\n",
       "      <td>1.0</td>\n",
       "      <td>1.0</td>\n",
       "      <td>ruim</td>\n",
       "      <td>1.0</td>\n",
       "      <td>alto</td>\n",
       "      <td>2020-06-09 17:35:32</td>\n",
       "    </tr>\n",
       "    <tr>\n",
       "      <th>1</th>\n",
       "      <td>1504422</td>\n",
       "      <td>Marituba</td>\n",
       "      <td>PA</td>\n",
       "      <td>Pará</td>\n",
       "      <td>131521</td>\n",
       "      <td>Metropolitana</td>\n",
       "      <td>2020-04-01</td>\n",
       "      <td>DataSUS</td>\n",
       "      <td>106</td>\n",
       "      <td>2020-04-01</td>\n",
       "      <td>DataSUS</td>\n",
       "      <td>20.0</td>\n",
       "      <td>497.0</td>\n",
       "      <td>823.0</td>\n",
       "      <td>48.0</td>\n",
       "      <td>0.206499</td>\n",
       "      <td>0.289335</td>\n",
       "      <td>2020-06-09 16:55:47</td>\n",
       "      <td>city</td>\n",
       "      <td>0.793501</td>\n",
       "      <td>108.0</td>\n",
       "      <td>ruim</td>\n",
       "      <td>2020-06-09 17:34:37</td>\n",
       "      <td>1.48</td>\n",
       "      <td>1.73</td>\n",
       "      <td>1.62</td>\n",
       "      <td>1.92</td>\n",
       "      <td>2.27</td>\n",
       "      <td>2.11</td>\n",
       "      <td>ruim</td>\n",
       "      <td>1.808571</td>\n",
       "      <td>2.304286</td>\n",
       "      <td>0.784873</td>\n",
       "      <td>melhorando</td>\n",
       "      <td>2020-06-09 16:57:04</td>\n",
       "      <td>0.381179</td>\n",
       "      <td>0.406587</td>\n",
       "      <td>0.937510</td>\n",
       "      <td>estabilizando</td>\n",
       "      <td>9.0</td>\n",
       "      <td>8.0</td>\n",
       "      <td>ruim</td>\n",
       "      <td>1.0</td>\n",
       "      <td>alto</td>\n",
       "      <td>2020-06-09 17:35:32</td>\n",
       "    </tr>\n",
       "    <tr>\n",
       "      <th>2</th>\n",
       "      <td>2306405</td>\n",
       "      <td>Itapipoca</td>\n",
       "      <td>CE</td>\n",
       "      <td>Ceará</td>\n",
       "      <td>129358</td>\n",
       "      <td>Itapipoca</td>\n",
       "      <td>2020-04-01</td>\n",
       "      <td>DataSUS</td>\n",
       "      <td>85</td>\n",
       "      <td>2020-04-01</td>\n",
       "      <td>DataSUS</td>\n",
       "      <td>20.0</td>\n",
       "      <td>1158.0</td>\n",
       "      <td>1260.0</td>\n",
       "      <td>63.0</td>\n",
       "      <td>0.365033</td>\n",
       "      <td>0.306610</td>\n",
       "      <td>2020-06-09 16:55:47</td>\n",
       "      <td>city</td>\n",
       "      <td>0.634967</td>\n",
       "      <td>78.0</td>\n",
       "      <td>insatisfatório</td>\n",
       "      <td>2020-06-09 17:34:37</td>\n",
       "      <td>1.27</td>\n",
       "      <td>1.48</td>\n",
       "      <td>1.38</td>\n",
       "      <td>1.58</td>\n",
       "      <td>1.83</td>\n",
       "      <td>1.71</td>\n",
       "      <td>ruim</td>\n",
       "      <td>1.498571</td>\n",
       "      <td>1.888571</td>\n",
       "      <td>0.793495</td>\n",
       "      <td>melhorando</td>\n",
       "      <td>2020-06-09 16:57:04</td>\n",
       "      <td>0.473387</td>\n",
       "      <td>0.512166</td>\n",
       "      <td>0.924284</td>\n",
       "      <td>estabilizando</td>\n",
       "      <td>1.0</td>\n",
       "      <td>1.0</td>\n",
       "      <td>ruim</td>\n",
       "      <td>1.0</td>\n",
       "      <td>alto</td>\n",
       "      <td>2020-06-09 17:35:32</td>\n",
       "    </tr>\n",
       "    <tr>\n",
       "      <th>3</th>\n",
       "      <td>2309706</td>\n",
       "      <td>Pacatuba</td>\n",
       "      <td>CE</td>\n",
       "      <td>Ceará</td>\n",
       "      <td>83432</td>\n",
       "      <td>Maracanaú</td>\n",
       "      <td>2020-04-01</td>\n",
       "      <td>DataSUS</td>\n",
       "      <td>16</td>\n",
       "      <td>2020-04-01</td>\n",
       "      <td>DataSUS</td>\n",
       "      <td>0.0</td>\n",
       "      <td>673.0</td>\n",
       "      <td>1081.0</td>\n",
       "      <td>43.0</td>\n",
       "      <td>0.323887</td>\n",
       "      <td>0.306610</td>\n",
       "      <td>2020-06-09 16:55:47</td>\n",
       "      <td>city</td>\n",
       "      <td>0.676113</td>\n",
       "      <td>89.0</td>\n",
       "      <td>insatisfatório</td>\n",
       "      <td>2020-06-09 17:34:37</td>\n",
       "      <td>1.26</td>\n",
       "      <td>1.54</td>\n",
       "      <td>1.42</td>\n",
       "      <td>1.47</td>\n",
       "      <td>1.80</td>\n",
       "      <td>1.65</td>\n",
       "      <td>ruim</td>\n",
       "      <td>1.474286</td>\n",
       "      <td>1.832857</td>\n",
       "      <td>0.804365</td>\n",
       "      <td>melhorando</td>\n",
       "      <td>2020-06-09 16:57:04</td>\n",
       "      <td>0.435390</td>\n",
       "      <td>0.460680</td>\n",
       "      <td>0.945102</td>\n",
       "      <td>estabilizando</td>\n",
       "      <td>1.0</td>\n",
       "      <td>1.0</td>\n",
       "      <td>ruim</td>\n",
       "      <td>1.0</td>\n",
       "      <td>alto</td>\n",
       "      <td>2020-06-09 17:35:32</td>\n",
       "    </tr>\n",
       "    <tr>\n",
       "      <th>4</th>\n",
       "      <td>1304203</td>\n",
       "      <td>Tefé</td>\n",
       "      <td>AM</td>\n",
       "      <td>Amazonas</td>\n",
       "      <td>59849</td>\n",
       "      <td>Triângulo</td>\n",
       "      <td>2020-04-01</td>\n",
       "      <td>DataSUS</td>\n",
       "      <td>35</td>\n",
       "      <td>2020-04-01</td>\n",
       "      <td>DataSUS</td>\n",
       "      <td>2.0</td>\n",
       "      <td>2269.0</td>\n",
       "      <td>1333.0</td>\n",
       "      <td>63.0</td>\n",
       "      <td>0.710481</td>\n",
       "      <td>0.428153</td>\n",
       "      <td>2020-06-09 16:55:47</td>\n",
       "      <td>city</td>\n",
       "      <td>0.289519</td>\n",
       "      <td>28.0</td>\n",
       "      <td>bom</td>\n",
       "      <td>2020-06-09 17:34:37</td>\n",
       "      <td>1.21</td>\n",
       "      <td>1.40</td>\n",
       "      <td>1.32</td>\n",
       "      <td>1.51</td>\n",
       "      <td>1.73</td>\n",
       "      <td>1.64</td>\n",
       "      <td>ruim</td>\n",
       "      <td>1.440000</td>\n",
       "      <td>1.784286</td>\n",
       "      <td>0.807046</td>\n",
       "      <td>melhorando</td>\n",
       "      <td>2020-06-09 16:57:04</td>\n",
       "      <td>0.411505</td>\n",
       "      <td>0.457777</td>\n",
       "      <td>0.898919</td>\n",
       "      <td>piorando</td>\n",
       "      <td>1.0</td>\n",
       "      <td>1.0</td>\n",
       "      <td>ruim</td>\n",
       "      <td>1.0</td>\n",
       "      <td>alto</td>\n",
       "      <td>2020-06-09 17:35:32</td>\n",
       "    </tr>\n",
       "    <tr>\n",
       "      <th>...</th>\n",
       "      <td>...</td>\n",
       "      <td>...</td>\n",
       "      <td>...</td>\n",
       "      <td>...</td>\n",
       "      <td>...</td>\n",
       "      <td>...</td>\n",
       "      <td>...</td>\n",
       "      <td>...</td>\n",
       "      <td>...</td>\n",
       "      <td>...</td>\n",
       "      <td>...</td>\n",
       "      <td>...</td>\n",
       "      <td>...</td>\n",
       "      <td>...</td>\n",
       "      <td>...</td>\n",
       "      <td>...</td>\n",
       "      <td>...</td>\n",
       "      <td>...</td>\n",
       "      <td>...</td>\n",
       "      <td>...</td>\n",
       "      <td>...</td>\n",
       "      <td>...</td>\n",
       "      <td>...</td>\n",
       "      <td>...</td>\n",
       "      <td>...</td>\n",
       "      <td>...</td>\n",
       "      <td>...</td>\n",
       "      <td>...</td>\n",
       "      <td>...</td>\n",
       "      <td>...</td>\n",
       "      <td>...</td>\n",
       "      <td>...</td>\n",
       "      <td>...</td>\n",
       "      <td>...</td>\n",
       "      <td>...</td>\n",
       "      <td>...</td>\n",
       "      <td>...</td>\n",
       "      <td>...</td>\n",
       "      <td>...</td>\n",
       "      <td>...</td>\n",
       "      <td>...</td>\n",
       "      <td>...</td>\n",
       "      <td>...</td>\n",
       "      <td>...</td>\n",
       "      <td>...</td>\n",
       "    </tr>\n",
       "    <tr>\n",
       "      <th>119</th>\n",
       "      <td>3551009</td>\n",
       "      <td>São Vicente</td>\n",
       "      <td>SP</td>\n",
       "      <td>São Paulo</td>\n",
       "      <td>365798</td>\n",
       "      <td>Baixada Santista</td>\n",
       "      <td>2020-04-01</td>\n",
       "      <td>DataSUS</td>\n",
       "      <td>191</td>\n",
       "      <td>2020-04-01</td>\n",
       "      <td>DataSUS</td>\n",
       "      <td>67.0</td>\n",
       "      <td>1352.0</td>\n",
       "      <td>2519.0</td>\n",
       "      <td>91.0</td>\n",
       "      <td>0.280630</td>\n",
       "      <td>0.305145</td>\n",
       "      <td>2020-06-09 16:55:47</td>\n",
       "      <td>city</td>\n",
       "      <td>0.719370</td>\n",
       "      <td>161.0</td>\n",
       "      <td>ruim</td>\n",
       "      <td>2020-06-09 17:34:37</td>\n",
       "      <td>1.75</td>\n",
       "      <td>2.00</td>\n",
       "      <td>1.89</td>\n",
       "      <td>1.53</td>\n",
       "      <td>1.88</td>\n",
       "      <td>1.72</td>\n",
       "      <td>ruim</td>\n",
       "      <td>1.837143</td>\n",
       "      <td>1.642857</td>\n",
       "      <td>1.118261</td>\n",
       "      <td>piorando</td>\n",
       "      <td>2020-06-09 16:57:04</td>\n",
       "      <td>0.416872</td>\n",
       "      <td>0.420543</td>\n",
       "      <td>0.991271</td>\n",
       "      <td>estabilizando</td>\n",
       "      <td>1.0</td>\n",
       "      <td>1.0</td>\n",
       "      <td>ruim</td>\n",
       "      <td>1.0</td>\n",
       "      <td>alto</td>\n",
       "      <td>2020-06-09 17:35:32</td>\n",
       "    </tr>\n",
       "    <tr>\n",
       "      <th>120</th>\n",
       "      <td>2504009</td>\n",
       "      <td>Campina Grande</td>\n",
       "      <td>PB</td>\n",
       "      <td>Paraíba</td>\n",
       "      <td>409731</td>\n",
       "      <td>III Núcleo Regional de Saúde</td>\n",
       "      <td>2020-04-01</td>\n",
       "      <td>DataSUS</td>\n",
       "      <td>1087</td>\n",
       "      <td>2020-04-01</td>\n",
       "      <td>DataSUS</td>\n",
       "      <td>170.0</td>\n",
       "      <td>2650.0</td>\n",
       "      <td>1780.0</td>\n",
       "      <td>44.0</td>\n",
       "      <td>1.000000</td>\n",
       "      <td>0.814311</td>\n",
       "      <td>2020-06-09 16:55:47</td>\n",
       "      <td>city</td>\n",
       "      <td>0.000000</td>\n",
       "      <td>6.0</td>\n",
       "      <td>bom</td>\n",
       "      <td>2020-06-09 17:34:37</td>\n",
       "      <td>1.64</td>\n",
       "      <td>1.95</td>\n",
       "      <td>1.80</td>\n",
       "      <td>1.52</td>\n",
       "      <td>1.96</td>\n",
       "      <td>1.75</td>\n",
       "      <td>ruim</td>\n",
       "      <td>1.834286</td>\n",
       "      <td>1.592857</td>\n",
       "      <td>1.151570</td>\n",
       "      <td>piorando</td>\n",
       "      <td>2020-06-09 16:57:04</td>\n",
       "      <td>0.431114</td>\n",
       "      <td>0.459431</td>\n",
       "      <td>0.938365</td>\n",
       "      <td>estabilizando</td>\n",
       "      <td>46.0</td>\n",
       "      <td>34.0</td>\n",
       "      <td>insatisfatório</td>\n",
       "      <td>2.0</td>\n",
       "      <td>alto</td>\n",
       "      <td>2020-06-09 17:35:32</td>\n",
       "    </tr>\n",
       "    <tr>\n",
       "      <th>121</th>\n",
       "      <td>1501501</td>\n",
       "      <td>Benevides</td>\n",
       "      <td>PA</td>\n",
       "      <td>Pará</td>\n",
       "      <td>62737</td>\n",
       "      <td>Metropolitana</td>\n",
       "      <td>2020-04-01</td>\n",
       "      <td>DataSUS</td>\n",
       "      <td>0</td>\n",
       "      <td>2020-04-01</td>\n",
       "      <td>DataSUS</td>\n",
       "      <td>0.0</td>\n",
       "      <td>1034.0</td>\n",
       "      <td>1370.0</td>\n",
       "      <td>43.0</td>\n",
       "      <td>0.454830</td>\n",
       "      <td>0.289335</td>\n",
       "      <td>2020-06-09 16:55:47</td>\n",
       "      <td>city</td>\n",
       "      <td>0.545170</td>\n",
       "      <td>53.0</td>\n",
       "      <td>insatisfatório</td>\n",
       "      <td>2020-06-09 17:34:37</td>\n",
       "      <td>1.55</td>\n",
       "      <td>1.83</td>\n",
       "      <td>1.70</td>\n",
       "      <td>1.74</td>\n",
       "      <td>2.14</td>\n",
       "      <td>1.95</td>\n",
       "      <td>ruim</td>\n",
       "      <td>1.887143</td>\n",
       "      <td>1.622857</td>\n",
       "      <td>1.162852</td>\n",
       "      <td>piorando</td>\n",
       "      <td>2020-06-09 16:57:04</td>\n",
       "      <td>0.375134</td>\n",
       "      <td>0.411787</td>\n",
       "      <td>0.910991</td>\n",
       "      <td>estabilizando</td>\n",
       "      <td>1.0</td>\n",
       "      <td>1.0</td>\n",
       "      <td>ruim</td>\n",
       "      <td>1.0</td>\n",
       "      <td>alto</td>\n",
       "      <td>2020-06-09 17:35:32</td>\n",
       "    </tr>\n",
       "    <tr>\n",
       "      <th>122</th>\n",
       "      <td>1500107</td>\n",
       "      <td>Abaetetuba</td>\n",
       "      <td>PA</td>\n",
       "      <td>Pará</td>\n",
       "      <td>157698</td>\n",
       "      <td>Alça Viária</td>\n",
       "      <td>2020-04-01</td>\n",
       "      <td>DataSUS</td>\n",
       "      <td>214</td>\n",
       "      <td>2020-04-01</td>\n",
       "      <td>DataSUS</td>\n",
       "      <td>10.0</td>\n",
       "      <td>1735.0</td>\n",
       "      <td>1783.0</td>\n",
       "      <td>68.0</td>\n",
       "      <td>0.527846</td>\n",
       "      <td>0.289335</td>\n",
       "      <td>2020-06-09 16:55:47</td>\n",
       "      <td>city</td>\n",
       "      <td>0.472154</td>\n",
       "      <td>46.0</td>\n",
       "      <td>bom</td>\n",
       "      <td>2020-06-09 17:34:37</td>\n",
       "      <td>1.76</td>\n",
       "      <td>1.99</td>\n",
       "      <td>1.89</td>\n",
       "      <td>1.50</td>\n",
       "      <td>1.83</td>\n",
       "      <td>1.67</td>\n",
       "      <td>ruim</td>\n",
       "      <td>1.972857</td>\n",
       "      <td>1.634286</td>\n",
       "      <td>1.207168</td>\n",
       "      <td>piorando</td>\n",
       "      <td>2020-06-09 16:57:04</td>\n",
       "      <td>0.447712</td>\n",
       "      <td>0.484150</td>\n",
       "      <td>0.924738</td>\n",
       "      <td>estabilizando</td>\n",
       "      <td>2.0</td>\n",
       "      <td>2.0</td>\n",
       "      <td>ruim</td>\n",
       "      <td>1.0</td>\n",
       "      <td>alto</td>\n",
       "      <td>2020-06-09 17:35:32</td>\n",
       "    </tr>\n",
       "    <tr>\n",
       "      <th>123</th>\n",
       "      <td>1505502</td>\n",
       "      <td>Paragominas</td>\n",
       "      <td>PA</td>\n",
       "      <td>Pará</td>\n",
       "      <td>113145</td>\n",
       "      <td>Rodovia BR 010</td>\n",
       "      <td>2020-04-01</td>\n",
       "      <td>DataSUS</td>\n",
       "      <td>120</td>\n",
       "      <td>2020-04-01</td>\n",
       "      <td>DataSUS</td>\n",
       "      <td>34.0</td>\n",
       "      <td>940.0</td>\n",
       "      <td>2691.0</td>\n",
       "      <td>64.0</td>\n",
       "      <td>0.264911</td>\n",
       "      <td>0.289335</td>\n",
       "      <td>2020-06-09 16:55:47</td>\n",
       "      <td>city</td>\n",
       "      <td>0.735089</td>\n",
       "      <td>89.0</td>\n",
       "      <td>ruim</td>\n",
       "      <td>2020-06-09 17:34:37</td>\n",
       "      <td>2.15</td>\n",
       "      <td>2.47</td>\n",
       "      <td>2.33</td>\n",
       "      <td>1.18</td>\n",
       "      <td>1.69</td>\n",
       "      <td>1.45</td>\n",
       "      <td>ruim</td>\n",
       "      <td>2.161429</td>\n",
       "      <td>1.374286</td>\n",
       "      <td>1.572765</td>\n",
       "      <td>piorando</td>\n",
       "      <td>2020-06-09 16:57:04</td>\n",
       "      <td>0.409911</td>\n",
       "      <td>0.438382</td>\n",
       "      <td>0.935056</td>\n",
       "      <td>estabilizando</td>\n",
       "      <td>1.0</td>\n",
       "      <td>1.0</td>\n",
       "      <td>ruim</td>\n",
       "      <td>1.0</td>\n",
       "      <td>alto</td>\n",
       "      <td>2020-06-09 17:35:32</td>\n",
       "    </tr>\n",
       "  </tbody>\n",
       "</table>\n",
       "<p>124 rows × 45 columns</p>\n",
       "</div>"
      ],
      "text/plain": [
       "     city_id       city_name state_id state_name  population  \\\n",
       "0    1501808          Breves       PA       Pará      102701   \n",
       "1    1504422        Marituba       PA       Pará      131521   \n",
       "2    2306405       Itapipoca       CE      Ceará      129358   \n",
       "3    2309706        Pacatuba       CE      Ceará       83432   \n",
       "4    1304203            Tefé       AM   Amazonas       59849   \n",
       "..       ...             ...      ...        ...         ...   \n",
       "119  3551009     São Vicente       SP  São Paulo      365798   \n",
       "120  2504009  Campina Grande       PB    Paraíba      409731   \n",
       "121  1501501       Benevides       PA       Pará       62737   \n",
       "122  1500107      Abaetetuba       PA       Pará      157698   \n",
       "123  1505502     Paragominas       PA       Pará      113145   \n",
       "\n",
       "             health_system_region last_updated_number_beds author_number_beds  \\\n",
       "0                Marajó Ocidental               2020-04-01            DataSUS   \n",
       "1                   Metropolitana               2020-04-01            DataSUS   \n",
       "2                       Itapipoca               2020-04-01            DataSUS   \n",
       "3                       Maracanaú               2020-04-01            DataSUS   \n",
       "4                       Triângulo               2020-04-01            DataSUS   \n",
       "..                            ...                      ...                ...   \n",
       "119              Baixada Santista               2020-04-01            DataSUS   \n",
       "120  III Núcleo Regional de Saúde               2020-04-01            DataSUS   \n",
       "121                 Metropolitana               2020-04-01            DataSUS   \n",
       "122                   Alça Viária               2020-04-01            DataSUS   \n",
       "123                Rodovia BR 010               2020-04-01            DataSUS   \n",
       "\n",
       "     number_beds last_updated_number_ventilators author_number_ventilators  \\\n",
       "0             88                      2020-04-01                   DataSUS   \n",
       "1            106                      2020-04-01                   DataSUS   \n",
       "2             85                      2020-04-01                   DataSUS   \n",
       "3             16                      2020-04-01                   DataSUS   \n",
       "4             35                      2020-04-01                   DataSUS   \n",
       "..           ...                             ...                       ...   \n",
       "119          191                      2020-04-01                   DataSUS   \n",
       "120         1087                      2020-04-01                   DataSUS   \n",
       "121            0                      2020-04-01                   DataSUS   \n",
       "122          214                      2020-04-01                   DataSUS   \n",
       "123          120                      2020-04-01                   DataSUS   \n",
       "\n",
       "     number_ventilators  confirmed_cases  active_cases  deaths  \\\n",
       "0                  26.0            634.0         920.0    63.0   \n",
       "1                  20.0            497.0         823.0    48.0   \n",
       "2                  20.0           1158.0        1260.0    63.0   \n",
       "3                   0.0            673.0        1081.0    43.0   \n",
       "4                   2.0           2269.0        1333.0    63.0   \n",
       "..                  ...              ...           ...     ...   \n",
       "119                67.0           1352.0        2519.0    91.0   \n",
       "120               170.0           2650.0        1780.0    44.0   \n",
       "121                 0.0           1034.0        1370.0    43.0   \n",
       "122                10.0           1735.0        1783.0    68.0   \n",
       "123                34.0            940.0        2691.0    64.0   \n",
       "\n",
       "     notification_rate  state_notification_rate last_updated_subnotification  \\\n",
       "0             0.189072                 0.289335          2020-06-09 16:55:47   \n",
       "1             0.206499                 0.289335          2020-06-09 16:55:47   \n",
       "2             0.365033                 0.306610          2020-06-09 16:55:47   \n",
       "3             0.323887                 0.306610          2020-06-09 16:55:47   \n",
       "4             0.710481                 0.428153          2020-06-09 16:55:47   \n",
       "..                 ...                      ...                          ...   \n",
       "119           0.280630                 0.305145          2020-06-09 16:55:47   \n",
       "120           1.000000                 0.814311          2020-06-09 16:55:47   \n",
       "121           0.454830                 0.289335          2020-06-09 16:55:47   \n",
       "122           0.527846                 0.289335          2020-06-09 16:55:47   \n",
       "123           0.264911                 0.289335          2020-06-09 16:55:47   \n",
       "\n",
       "    subnotification_place_type  subnotification_rate  subnotification_rank  \\\n",
       "0                         city              0.810928                 116.0   \n",
       "1                         city              0.793501                 108.0   \n",
       "2                         city              0.634967                  78.0   \n",
       "3                         city              0.676113                  89.0   \n",
       "4                         city              0.289519                  28.0   \n",
       "..                         ...                   ...                   ...   \n",
       "119                       city              0.719370                 161.0   \n",
       "120                       city              0.000000                   6.0   \n",
       "121                       city              0.545170                  53.0   \n",
       "122                       city              0.472154                  46.0   \n",
       "123                       city              0.735089                  89.0   \n",
       "\n",
       "    subnotification_classification      last_updated_rt  rt_10days_ago_low  \\\n",
       "0                             ruim  2020-06-09 17:34:37               0.96   \n",
       "1                             ruim  2020-06-09 17:34:37               1.48   \n",
       "2                   insatisfatório  2020-06-09 17:34:37               1.27   \n",
       "3                   insatisfatório  2020-06-09 17:34:37               1.26   \n",
       "4                              bom  2020-06-09 17:34:37               1.21   \n",
       "..                             ...                  ...                ...   \n",
       "119                           ruim  2020-06-09 17:34:37               1.75   \n",
       "120                            bom  2020-06-09 17:34:37               1.64   \n",
       "121                 insatisfatório  2020-06-09 17:34:37               1.55   \n",
       "122                            bom  2020-06-09 17:34:37               1.76   \n",
       "123                           ruim  2020-06-09 17:34:37               2.15   \n",
       "\n",
       "     rt_10days_ago_high  rt_10days_ago_most_likely  rt_17days_ago_low  \\\n",
       "0                  1.16                       1.08               1.26   \n",
       "1                  1.73                       1.62               1.92   \n",
       "2                  1.48                       1.38               1.58   \n",
       "3                  1.54                       1.42               1.47   \n",
       "4                  1.40                       1.32               1.51   \n",
       "..                  ...                        ...                ...   \n",
       "119                2.00                       1.89               1.53   \n",
       "120                1.95                       1.80               1.52   \n",
       "121                1.83                       1.70               1.74   \n",
       "122                1.99                       1.89               1.50   \n",
       "123                2.47                       2.33               1.18   \n",
       "\n",
       "     rt_17days_ago_high  rt_17days_ago_most_likely rt_classification  \\\n",
       "0                  1.46                       1.37    insatisfatório   \n",
       "1                  2.27                       2.11              ruim   \n",
       "2                  1.83                       1.71              ruim   \n",
       "3                  1.80                       1.65              ruim   \n",
       "4                  1.73                       1.64              ruim   \n",
       "..                  ...                        ...               ...   \n",
       "119                1.88                       1.72              ruim   \n",
       "120                1.96                       1.75              ruim   \n",
       "121                2.14                       1.95              ruim   \n",
       "122                1.83                       1.67              ruim   \n",
       "123                1.69                       1.45              ruim   \n",
       "\n",
       "     rt_10days_ago_avg  rt_17days_ago_avg  rt_ratio_week_avg   rt_growth  \\\n",
       "0             1.192857           1.548571           0.770295  melhorando   \n",
       "1             1.808571           2.304286           0.784873  melhorando   \n",
       "2             1.498571           1.888571           0.793495  melhorando   \n",
       "3             1.474286           1.832857           0.804365  melhorando   \n",
       "4             1.440000           1.784286           0.807046  melhorando   \n",
       "..                 ...                ...                ...         ...   \n",
       "119           1.837143           1.642857           1.118261    piorando   \n",
       "120           1.834286           1.592857           1.151570    piorando   \n",
       "121           1.887143           1.622857           1.162852    piorando   \n",
       "122           1.972857           1.634286           1.207168    piorando   \n",
       "123           2.161429           1.374286           1.572765    piorando   \n",
       "\n",
       "     last_updated_inloco  inloco_today_7days_avg  inloco_last_week_7days_avg  \\\n",
       "0    2020-06-09 16:57:04                0.445415                    0.490498   \n",
       "1    2020-06-09 16:57:04                0.381179                    0.406587   \n",
       "2    2020-06-09 16:57:04                0.473387                    0.512166   \n",
       "3    2020-06-09 16:57:04                0.435390                    0.460680   \n",
       "4    2020-06-09 16:57:04                0.411505                    0.457777   \n",
       "..                   ...                     ...                         ...   \n",
       "119  2020-06-09 16:57:04                0.416872                    0.420543   \n",
       "120  2020-06-09 16:57:04                0.431114                    0.459431   \n",
       "121  2020-06-09 16:57:04                0.375134                    0.411787   \n",
       "122  2020-06-09 16:57:04                0.447712                    0.484150   \n",
       "123  2020-06-09 16:57:04                0.409911                    0.438382   \n",
       "\n",
       "     inloco_ratio_week_avgs  inloco_growth  dday_beds_best  dday_beds_worst  \\\n",
       "0                  0.908087  estabilizando             1.0              1.0   \n",
       "1                  0.937510  estabilizando             9.0              8.0   \n",
       "2                  0.924284  estabilizando             1.0              1.0   \n",
       "3                  0.945102  estabilizando             1.0              1.0   \n",
       "4                  0.898919       piorando             1.0              1.0   \n",
       "..                      ...            ...             ...              ...   \n",
       "119                0.991271  estabilizando             1.0              1.0   \n",
       "120                0.938365  estabilizando            46.0             34.0   \n",
       "121                0.910991  estabilizando             1.0              1.0   \n",
       "122                0.924738  estabilizando             2.0              2.0   \n",
       "123                0.935056  estabilizando             1.0              1.0   \n",
       "\n",
       "    dday_classification  dday_beds_best_months overall_alert  \\\n",
       "0                  ruim                    1.0          alto   \n",
       "1                  ruim                    1.0          alto   \n",
       "2                  ruim                    1.0          alto   \n",
       "3                  ruim                    1.0          alto   \n",
       "4                  ruim                    1.0          alto   \n",
       "..                  ...                    ...           ...   \n",
       "119                ruim                    1.0          alto   \n",
       "120      insatisfatório                    2.0          alto   \n",
       "121                ruim                    1.0          alto   \n",
       "122                ruim                    1.0          alto   \n",
       "123                ruim                    1.0          alto   \n",
       "\n",
       "     data_last_refreshed  \n",
       "0    2020-06-09 17:35:32  \n",
       "1    2020-06-09 17:35:32  \n",
       "2    2020-06-09 17:35:32  \n",
       "3    2020-06-09 17:35:32  \n",
       "4    2020-06-09 17:35:32  \n",
       "..                   ...  \n",
       "119  2020-06-09 17:35:32  \n",
       "120  2020-06-09 17:35:32  \n",
       "121  2020-06-09 17:35:32  \n",
       "122  2020-06-09 17:35:32  \n",
       "123  2020-06-09 17:35:32  \n",
       "\n",
       "[124 rows x 45 columns]"
      ]
     },
     "execution_count": 9,
     "metadata": {},
     "output_type": "execute_result"
    }
   ],
   "source": [
    "dfnfilt"
   ]
  },
  {
   "cell_type": "code",
   "execution_count": 10,
   "metadata": {},
   "outputs": [
    {
     "data": {
      "text/plain": [
       "{'PE': 13,\n",
       " 'PB': 3,\n",
       " 'AP': 2,\n",
       " 'RO': 1,\n",
       " 'AC': 1,\n",
       " 'GO': 1,\n",
       " 'CE': 7,\n",
       " 'PR': 1,\n",
       " 'SE': 1,\n",
       " 'BA': 2,\n",
       " 'PA': 17,\n",
       " 'AM': 7,\n",
       " 'PI': 1,\n",
       " 'ES': 4,\n",
       " 'DF': 1,\n",
       " 'AL': 1,\n",
       " 'RJ': 19,\n",
       " 'RN': 2,\n",
       " 'RS': 1,\n",
       " 'MA': 4,\n",
       " 'SP': 32,\n",
       " 'RR': 1,\n",
       " 'MG': 2}"
      ]
     },
     "execution_count": 10,
     "metadata": {},
     "output_type": "execute_result"
    }
   ],
   "source": [
    "#Municípios com mais de 36 mortes por estados\n",
    "x = list(set(dfnfilt['state_id']))\n",
    "dict(zip(x,[sum(dfnfilt['state_id']==i) for i in x]))"
   ]
  },
  {
   "cell_type": "code",
   "execution_count": 11,
   "metadata": {},
   "outputs": [],
   "source": [
    "#Calculo de mortes/100k Hab.\n",
    "def deaths_per_100khab(df, col_deaths=\"deaths\",col_pop='population'):\n",
    "    return 100e3 * df[col_deaths]/df[col_pop]\n",
    "\n",
    "dfnfilt['deaths_100khab'] = deaths_per_100khab(dfnfilt)\n",
    "dfnfilt['cases_100khab'] = deaths_per_100khab(dfnfilt, col_deaths=\"confirmed_cases\")"
   ]
  },
  {
   "cell_type": "code",
   "execution_count": 12,
   "metadata": {
    "scrolled": true
   },
   "outputs": [],
   "source": [
    "#Salvar os arquivos em .csv\n",
    "dfnfilt[['city_name','deaths','deaths_100khab',\"inloco_today_7days_avg\",\"inloco_last_week_7days_avg\", \"inloco_ratio_week_avgs\",'rt_17days_ago_avg','rt_10days_ago_avg','rt_ratio_week_avg']].to_csv(\"data/output/dfnfilt.csv\", index=False)"
   ]
  },
  {
   "cell_type": "code",
   "execution_count": 13,
   "metadata": {},
   "outputs": [],
   "source": [
    "#DataFrame com os dados ordenados\n",
    "##Alterando o nome da coluna, altera a ordenação dos dados, as 10 primeiras linhas serão\n",
    "## as 10 menores observações, as 10 ultimas, serão as 10 maiores\n",
    "### e.g. Municipios com o maior Rt, municípios com o menor Rt ...\n",
    "dfexib = dfnfilt.sort_values('rt_10days_ago_avg') #Alterar essa linha"
   ]
  },
  {
   "cell_type": "markdown",
   "metadata": {},
   "source": [
    "### Visualização da relação do Rt com outras variáveis"
   ]
  },
  {
   "cell_type": "code",
   "execution_count": 14,
   "metadata": {
    "code_folding": []
   },
   "outputs": [
    {
     "data": {
      "application/vnd.plotly.v1+json": {
       "config": {
        "plotlyServerURL": "https://plot.ly"
       },
       "data": [
        {
         "mode": "markers",
         "text": [
          "Belo Horizonte",
          "Curitiba",
          "Porto Alegre",
          "Goiânia",
          "Ribeirão Preto",
          "São José dos Campos",
          "Brasília",
          "Juiz de Fora",
          "Sorocaba",
          "Campinas",
          "Piracicaba",
          "Campos dos Goytacazes",
          "Campina Grande",
          "Caruaru",
          "Volta Redonda",
          "Teresina",
          "Macaé",
          "Aracaju",
          "Natal",
          "Petrópolis",
          "Praia Grande",
          "Mauá",
          "Teresópolis",
          "Salvador",
          "Jundiaí",
          "Embu das Artes",
          "Angra dos Reis",
          "São Gonçalo",
          "Ilhéus",
          "João Pessoa",
          "Carapicuíba",
          "Itapecerica da Serra",
          "Santo André",
          "Suzano",
          "Maricá",
          "Cotia",
          "Diadema",
          "São João de Meriti",
          "Itaquaquecetuba",
          "Guarujá",
          "Mossoró",
          "Mogi das Cruzes",
          "Niterói",
          "São Vicente",
          "Belford Roxo",
          "Ferraz de Vasconcelos",
          "Nilópolis",
          "Taboão da Serra",
          "São José de Ribamar",
          "São Bernardo do Campo",
          "Guarulhos",
          "São Caetano do Sul",
          "Boa Vista",
          "Nova Iguaçu",
          "Vila Velha",
          "Franco da Rocha",
          "Macapá",
          "Duque de Caxias",
          "Porto Velho",
          "Bragança",
          "Itapevi",
          "Cubatão",
          "Paço do Lumiar",
          "Marituba",
          "Vitória",
          "Maceió",
          "Rio Branco",
          "Cariacica",
          "Marabá",
          "Itaboraí",
          "Mesquita",
          "Serra",
          "Magé",
          "São Paulo",
          "Caieiras",
          "Caucaia",
          "Parauapebas",
          "Itaguaí",
          "Abaetetuba",
          "Santos",
          "Santarém",
          "Cametá",
          "Maranguape",
          "Olinda",
          "Igarassu",
          "Abreu e Lima",
          "Goiana",
          "Ipojuca",
          "Imperatriz",
          "Itapipoca",
          "Itacoatiara",
          "Camaragibe",
          "Paulista",
          "Vitória de Santo Antão",
          "Osasco",
          "Pacatuba",
          "Tucuruí",
          "Jaboatão dos Guararapes",
          "São Luís",
          "Parintins",
          "Cabo de Santo Agostinho",
          "Barueri",
          "Ananindeua",
          "Barcarena",
          "São Lourenço da Mata",
          "Capanema",
          "Santa Rita",
          "Sobral",
          "Paragominas",
          "Breves",
          "Castanhal",
          "Rio de Janeiro",
          "Maracanaú",
          "Manaus",
          "Benevides",
          "Laranjal do Jari",
          "Recife",
          "Coari",
          "Tabatinga",
          "Fortaleza",
          "Curuçá",
          "Tefé",
          "Belém",
          "Manacapuru"
         ],
         "type": "scatter",
         "x": [
          2.388468474206531,
          2.8451636098401276,
          2.9654171701697902,
          4.946860821060172,
          5.6875299483998845,
          6.233170439812506,
          6.500251387273038,
          6.504087907142719,
          8.537220810800468,
          8.886504389684013,
          8.907760143711863,
          9.063182201486361,
          10.738752986715674,
          11.630547355711983,
          13.918802103936823,
          15.840988847712596,
          15.973694053110584,
          16.285826916666792,
          16.40045152139637,
          17.63605070037983,
          19.380262279549516,
          20.088303955069865,
          20.263535494046902,
          20.888841076652646,
          21.004291558661645,
          21.189072283962794,
          22.08209632701131,
          22.123098450553492,
          22.177456615350497,
          22.62009975093169,
          23.19624270752531,
          23.336160234044613,
          23.512291084946153,
          23.518581359172416,
          23.57217738683804,
          23.674812407206772,
          23.8272734993536,
          23.920102623590726,
          24.000798228795023,
          24.340087187440513,
          24.547881820444015,
          24.672417582910537,
          24.728184678650425,
          24.877117972214172,
          25.053532352330958,
          25.736580946694392,
          25.848539865218328,
          26.237295625276182,
          27.576581291822137,
          27.892473323352437,
          28.277631233586284,
          29.169537073240363,
          29.80864851595514,
          30.080572091074718,
          30.576828838606993,
          31.070173280945568,
          32.18583545090965,
          32.18804779490124,
          32.29193419243727,
          33.676362326331784,
          35.7593605384939,
          35.958838606021196,
          36.007430624319746,
          36.49607287049216,
          36.73048934401555,
          36.998944008919004,
          37.07168091839566,
          38.29156667584615,
          38.661316131434155,
          39.07029327658442,
          39.181615304679646,
          39.41952812506039,
          39.98841152155906,
          40.29538632109979,
          40.406031339312115,
          40.95185390149419,
          41.772097199348934,
          42.851021282673905,
          43.120394678436,
          43.61763260106483,
          43.66539829081155,
          46.413808107912104,
          46.51956147560049,
          46.88113085440861,
          47.00091438142524,
          47.004700470047005,
          47.644123473507356,
          47.8150596648788,
          48.321877826829855,
          48.70205167055768,
          49.34031992263438,
          49.42088856223231,
          49.43123933762139,
          51.16858969277226,
          51.401882540255265,
          51.538977850225336,
          51.90965959580851,
          51.9722397045129,
          52.36485873286117,
          52.50584127484183,
          52.64479734167922,
          53.249301558818594,
          54.27838024266959,
          54.53962143086301,
          54.75580676499161,
          55.05092210294522,
          55.642598802219844,
          56.476894728025464,
          56.56458526669318,
          61.34312226755338,
          62.751191525600994,
          66.40965050395876,
          67.13883257418183,
          67.57490391764932,
          68.54009595613434,
          71.41440190438405,
          75.04282301985688,
          75.20829171416149,
          91.1244760342628,
          92.12008052920908,
          99.83527180152748,
          105.26491670704607,
          109.32878689930297,
          116.04382965176582
         ],
         "y": [
          1.0250596658711215,
          1.0240825688073392,
          0.9228723404255316,
          0.9836065573770496,
          0.9552238805970148,
          1,
          0.991279069767442,
          0.8857965451055663,
          0.9209401709401712,
          0.9644308943089428,
          1.0362860192102454,
          0.9619520264681554,
          1.1515695067264575,
          0.9303525365434221,
          0.9866180048661805,
          0.9791449426485924,
          1.0544147843942506,
          0.8663003663003662,
          1.0333651096282177,
          0.8587360594795541,
          0.9498289623717217,
          0.9336683417085424,
          0.9136858475894244,
          1.0129870129870129,
          1.0214723926380362,
          0.911495422177009,
          0.8618152085036795,
          0.9391304347826088,
          0.9231536926147704,
          1.0190796857463529,
          0.9726027397260272,
          0.9134615384615384,
          0.9677093844601412,
          0.9274770173646576,
          1.057692307692308,
          0.9513742071881608,
          0.955577492596249,
          0.8754901960784311,
          0.8919449901768174,
          1.0815273477812182,
          0.9592901878914406,
          0.9486910994764398,
          0.8219895287958114,
          1.1182608695652174,
          0.871863799283154,
          0.9199632014719408,
          0.8901623686723975,
          0.9845201238390092,
          0.9262295081967216,
          0.982438016528925,
          0.9562955254942764,
          1.1068965517241385,
          0.9787626962142196,
          0.8789571694599628,
          1.0207900207900211,
          0.977777777777778,
          0.9492753623188408,
          0.8456299659477867,
          0.9506976744186041,
          1.000892857142857,
          0.9376299376299376,
          0.9740840035746204,
          0.9287894201424212,
          0.7848729076255427,
          0.930776426566885,
          0.9960861056751464,
          1.0247770069375624,
          0.9571428571428574,
          0.8783112582781456,
          1.090823084200567,
          0.8453410182516808,
          0.9701789264413524,
          1.031535269709544,
          1.0135635018495686,
          0.9240223463687148,
          0.9592901878914408,
          0.8141160027952483,
          0.9858657243816256,
          1.207167832167832,
          1.013278855975485,
          1.058303886925795,
          0.8542931483087599,
          0.9228699551569506,
          0.9123376623376622,
          0.9237113402061852,
          0.9071618037135276,
          0.9970674486803518,
          0.8892794376098417,
          0.8943022295623452,
          0.7934947049924359,
          0.8672086720867206,
          0.9513513513513512,
          0.9209726443768996,
          0.8693284936479128,
          0.9218415417558886,
          0.8043647700701481,
          0.8835489833641405,
          0.871062992125984,
          0.8926940639269407,
          0.8915662650602407,
          0.8907317073170731,
          0.8711151736745887,
          0.828402366863905,
          1.0975447909754477,
          0.9582836710369488,
          0.9829443447037703,
          0.9111549851924976,
          0.8963414634146337,
          1.5727650727650733,
          0.7702952029520297,
          0.9150865622423744,
          0.8994845360824741,
          0.9010507880910682,
          0.8581235697940506,
          1.1628521126760565,
          0.9294770206022192,
          0.8891257995735606,
          0.8534172661870506,
          0.8087431693989073,
          0.8227272727272728,
          0.9538562953197098,
          0.8070456365092072,
          0.8192771084337348,
          0.8904958677685951
         ]
        }
       ],
       "layout": {
        "template": {
         "data": {
          "bar": [
           {
            "error_x": {
             "color": "#2a3f5f"
            },
            "error_y": {
             "color": "#2a3f5f"
            },
            "marker": {
             "line": {
              "color": "#E5ECF6",
              "width": 0.5
             }
            },
            "type": "bar"
           }
          ],
          "barpolar": [
           {
            "marker": {
             "line": {
              "color": "#E5ECF6",
              "width": 0.5
             }
            },
            "type": "barpolar"
           }
          ],
          "carpet": [
           {
            "aaxis": {
             "endlinecolor": "#2a3f5f",
             "gridcolor": "white",
             "linecolor": "white",
             "minorgridcolor": "white",
             "startlinecolor": "#2a3f5f"
            },
            "baxis": {
             "endlinecolor": "#2a3f5f",
             "gridcolor": "white",
             "linecolor": "white",
             "minorgridcolor": "white",
             "startlinecolor": "#2a3f5f"
            },
            "type": "carpet"
           }
          ],
          "choropleth": [
           {
            "colorbar": {
             "outlinewidth": 0,
             "ticks": ""
            },
            "type": "choropleth"
           }
          ],
          "contour": [
           {
            "colorbar": {
             "outlinewidth": 0,
             "ticks": ""
            },
            "colorscale": [
             [
              0,
              "#0d0887"
             ],
             [
              0.1111111111111111,
              "#46039f"
             ],
             [
              0.2222222222222222,
              "#7201a8"
             ],
             [
              0.3333333333333333,
              "#9c179e"
             ],
             [
              0.4444444444444444,
              "#bd3786"
             ],
             [
              0.5555555555555556,
              "#d8576b"
             ],
             [
              0.6666666666666666,
              "#ed7953"
             ],
             [
              0.7777777777777778,
              "#fb9f3a"
             ],
             [
              0.8888888888888888,
              "#fdca26"
             ],
             [
              1,
              "#f0f921"
             ]
            ],
            "type": "contour"
           }
          ],
          "contourcarpet": [
           {
            "colorbar": {
             "outlinewidth": 0,
             "ticks": ""
            },
            "type": "contourcarpet"
           }
          ],
          "heatmap": [
           {
            "colorbar": {
             "outlinewidth": 0,
             "ticks": ""
            },
            "colorscale": [
             [
              0,
              "#0d0887"
             ],
             [
              0.1111111111111111,
              "#46039f"
             ],
             [
              0.2222222222222222,
              "#7201a8"
             ],
             [
              0.3333333333333333,
              "#9c179e"
             ],
             [
              0.4444444444444444,
              "#bd3786"
             ],
             [
              0.5555555555555556,
              "#d8576b"
             ],
             [
              0.6666666666666666,
              "#ed7953"
             ],
             [
              0.7777777777777778,
              "#fb9f3a"
             ],
             [
              0.8888888888888888,
              "#fdca26"
             ],
             [
              1,
              "#f0f921"
             ]
            ],
            "type": "heatmap"
           }
          ],
          "heatmapgl": [
           {
            "colorbar": {
             "outlinewidth": 0,
             "ticks": ""
            },
            "colorscale": [
             [
              0,
              "#0d0887"
             ],
             [
              0.1111111111111111,
              "#46039f"
             ],
             [
              0.2222222222222222,
              "#7201a8"
             ],
             [
              0.3333333333333333,
              "#9c179e"
             ],
             [
              0.4444444444444444,
              "#bd3786"
             ],
             [
              0.5555555555555556,
              "#d8576b"
             ],
             [
              0.6666666666666666,
              "#ed7953"
             ],
             [
              0.7777777777777778,
              "#fb9f3a"
             ],
             [
              0.8888888888888888,
              "#fdca26"
             ],
             [
              1,
              "#f0f921"
             ]
            ],
            "type": "heatmapgl"
           }
          ],
          "histogram": [
           {
            "marker": {
             "colorbar": {
              "outlinewidth": 0,
              "ticks": ""
             }
            },
            "type": "histogram"
           }
          ],
          "histogram2d": [
           {
            "colorbar": {
             "outlinewidth": 0,
             "ticks": ""
            },
            "colorscale": [
             [
              0,
              "#0d0887"
             ],
             [
              0.1111111111111111,
              "#46039f"
             ],
             [
              0.2222222222222222,
              "#7201a8"
             ],
             [
              0.3333333333333333,
              "#9c179e"
             ],
             [
              0.4444444444444444,
              "#bd3786"
             ],
             [
              0.5555555555555556,
              "#d8576b"
             ],
             [
              0.6666666666666666,
              "#ed7953"
             ],
             [
              0.7777777777777778,
              "#fb9f3a"
             ],
             [
              0.8888888888888888,
              "#fdca26"
             ],
             [
              1,
              "#f0f921"
             ]
            ],
            "type": "histogram2d"
           }
          ],
          "histogram2dcontour": [
           {
            "colorbar": {
             "outlinewidth": 0,
             "ticks": ""
            },
            "colorscale": [
             [
              0,
              "#0d0887"
             ],
             [
              0.1111111111111111,
              "#46039f"
             ],
             [
              0.2222222222222222,
              "#7201a8"
             ],
             [
              0.3333333333333333,
              "#9c179e"
             ],
             [
              0.4444444444444444,
              "#bd3786"
             ],
             [
              0.5555555555555556,
              "#d8576b"
             ],
             [
              0.6666666666666666,
              "#ed7953"
             ],
             [
              0.7777777777777778,
              "#fb9f3a"
             ],
             [
              0.8888888888888888,
              "#fdca26"
             ],
             [
              1,
              "#f0f921"
             ]
            ],
            "type": "histogram2dcontour"
           }
          ],
          "mesh3d": [
           {
            "colorbar": {
             "outlinewidth": 0,
             "ticks": ""
            },
            "type": "mesh3d"
           }
          ],
          "parcoords": [
           {
            "line": {
             "colorbar": {
              "outlinewidth": 0,
              "ticks": ""
             }
            },
            "type": "parcoords"
           }
          ],
          "pie": [
           {
            "automargin": true,
            "type": "pie"
           }
          ],
          "scatter": [
           {
            "marker": {
             "colorbar": {
              "outlinewidth": 0,
              "ticks": ""
             }
            },
            "type": "scatter"
           }
          ],
          "scatter3d": [
           {
            "line": {
             "colorbar": {
              "outlinewidth": 0,
              "ticks": ""
             }
            },
            "marker": {
             "colorbar": {
              "outlinewidth": 0,
              "ticks": ""
             }
            },
            "type": "scatter3d"
           }
          ],
          "scattercarpet": [
           {
            "marker": {
             "colorbar": {
              "outlinewidth": 0,
              "ticks": ""
             }
            },
            "type": "scattercarpet"
           }
          ],
          "scattergeo": [
           {
            "marker": {
             "colorbar": {
              "outlinewidth": 0,
              "ticks": ""
             }
            },
            "type": "scattergeo"
           }
          ],
          "scattergl": [
           {
            "marker": {
             "colorbar": {
              "outlinewidth": 0,
              "ticks": ""
             }
            },
            "type": "scattergl"
           }
          ],
          "scattermapbox": [
           {
            "marker": {
             "colorbar": {
              "outlinewidth": 0,
              "ticks": ""
             }
            },
            "type": "scattermapbox"
           }
          ],
          "scatterpolar": [
           {
            "marker": {
             "colorbar": {
              "outlinewidth": 0,
              "ticks": ""
             }
            },
            "type": "scatterpolar"
           }
          ],
          "scatterpolargl": [
           {
            "marker": {
             "colorbar": {
              "outlinewidth": 0,
              "ticks": ""
             }
            },
            "type": "scatterpolargl"
           }
          ],
          "scatterternary": [
           {
            "marker": {
             "colorbar": {
              "outlinewidth": 0,
              "ticks": ""
             }
            },
            "type": "scatterternary"
           }
          ],
          "surface": [
           {
            "colorbar": {
             "outlinewidth": 0,
             "ticks": ""
            },
            "colorscale": [
             [
              0,
              "#0d0887"
             ],
             [
              0.1111111111111111,
              "#46039f"
             ],
             [
              0.2222222222222222,
              "#7201a8"
             ],
             [
              0.3333333333333333,
              "#9c179e"
             ],
             [
              0.4444444444444444,
              "#bd3786"
             ],
             [
              0.5555555555555556,
              "#d8576b"
             ],
             [
              0.6666666666666666,
              "#ed7953"
             ],
             [
              0.7777777777777778,
              "#fb9f3a"
             ],
             [
              0.8888888888888888,
              "#fdca26"
             ],
             [
              1,
              "#f0f921"
             ]
            ],
            "type": "surface"
           }
          ],
          "table": [
           {
            "cells": {
             "fill": {
              "color": "#EBF0F8"
             },
             "line": {
              "color": "white"
             }
            },
            "header": {
             "fill": {
              "color": "#C8D4E3"
             },
             "line": {
              "color": "white"
             }
            },
            "type": "table"
           }
          ]
         },
         "layout": {
          "annotationdefaults": {
           "arrowcolor": "#2a3f5f",
           "arrowhead": 0,
           "arrowwidth": 1
          },
          "coloraxis": {
           "colorbar": {
            "outlinewidth": 0,
            "ticks": ""
           }
          },
          "colorscale": {
           "diverging": [
            [
             0,
             "#8e0152"
            ],
            [
             0.1,
             "#c51b7d"
            ],
            [
             0.2,
             "#de77ae"
            ],
            [
             0.3,
             "#f1b6da"
            ],
            [
             0.4,
             "#fde0ef"
            ],
            [
             0.5,
             "#f7f7f7"
            ],
            [
             0.6,
             "#e6f5d0"
            ],
            [
             0.7,
             "#b8e186"
            ],
            [
             0.8,
             "#7fbc41"
            ],
            [
             0.9,
             "#4d9221"
            ],
            [
             1,
             "#276419"
            ]
           ],
           "sequential": [
            [
             0,
             "#0d0887"
            ],
            [
             0.1111111111111111,
             "#46039f"
            ],
            [
             0.2222222222222222,
             "#7201a8"
            ],
            [
             0.3333333333333333,
             "#9c179e"
            ],
            [
             0.4444444444444444,
             "#bd3786"
            ],
            [
             0.5555555555555556,
             "#d8576b"
            ],
            [
             0.6666666666666666,
             "#ed7953"
            ],
            [
             0.7777777777777778,
             "#fb9f3a"
            ],
            [
             0.8888888888888888,
             "#fdca26"
            ],
            [
             1,
             "#f0f921"
            ]
           ],
           "sequentialminus": [
            [
             0,
             "#0d0887"
            ],
            [
             0.1111111111111111,
             "#46039f"
            ],
            [
             0.2222222222222222,
             "#7201a8"
            ],
            [
             0.3333333333333333,
             "#9c179e"
            ],
            [
             0.4444444444444444,
             "#bd3786"
            ],
            [
             0.5555555555555556,
             "#d8576b"
            ],
            [
             0.6666666666666666,
             "#ed7953"
            ],
            [
             0.7777777777777778,
             "#fb9f3a"
            ],
            [
             0.8888888888888888,
             "#fdca26"
            ],
            [
             1,
             "#f0f921"
            ]
           ]
          },
          "colorway": [
           "#636efa",
           "#EF553B",
           "#00cc96",
           "#ab63fa",
           "#FFA15A",
           "#19d3f3",
           "#FF6692",
           "#B6E880",
           "#FF97FF",
           "#FECB52"
          ],
          "font": {
           "color": "#2a3f5f"
          },
          "geo": {
           "bgcolor": "white",
           "lakecolor": "white",
           "landcolor": "#E5ECF6",
           "showlakes": true,
           "showland": true,
           "subunitcolor": "white"
          },
          "hoverlabel": {
           "align": "left"
          },
          "hovermode": "closest",
          "mapbox": {
           "style": "light"
          },
          "paper_bgcolor": "white",
          "plot_bgcolor": "#E5ECF6",
          "polar": {
           "angularaxis": {
            "gridcolor": "white",
            "linecolor": "white",
            "ticks": ""
           },
           "bgcolor": "#E5ECF6",
           "radialaxis": {
            "gridcolor": "white",
            "linecolor": "white",
            "ticks": ""
           }
          },
          "scene": {
           "xaxis": {
            "backgroundcolor": "#E5ECF6",
            "gridcolor": "white",
            "gridwidth": 2,
            "linecolor": "white",
            "showbackground": true,
            "ticks": "",
            "zerolinecolor": "white"
           },
           "yaxis": {
            "backgroundcolor": "#E5ECF6",
            "gridcolor": "white",
            "gridwidth": 2,
            "linecolor": "white",
            "showbackground": true,
            "ticks": "",
            "zerolinecolor": "white"
           },
           "zaxis": {
            "backgroundcolor": "#E5ECF6",
            "gridcolor": "white",
            "gridwidth": 2,
            "linecolor": "white",
            "showbackground": true,
            "ticks": "",
            "zerolinecolor": "white"
           }
          },
          "shapedefaults": {
           "line": {
            "color": "#2a3f5f"
           }
          },
          "ternary": {
           "aaxis": {
            "gridcolor": "white",
            "linecolor": "white",
            "ticks": ""
           },
           "baxis": {
            "gridcolor": "white",
            "linecolor": "white",
            "ticks": ""
           },
           "bgcolor": "#E5ECF6",
           "caxis": {
            "gridcolor": "white",
            "linecolor": "white",
            "ticks": ""
           }
          },
          "title": {
           "x": 0.05
          },
          "xaxis": {
           "automargin": true,
           "gridcolor": "white",
           "linecolor": "white",
           "ticks": "",
           "title": {
            "standoff": 15
           },
           "zerolinecolor": "white",
           "zerolinewidth": 2
          },
          "yaxis": {
           "automargin": true,
           "gridcolor": "white",
           "linecolor": "white",
           "ticks": "",
           "title": {
            "standoff": 15
           },
           "zerolinecolor": "white",
           "zerolinewidth": 2
          }
         }
        },
        "title": {
         "text": "$$ΔR_t X Mortes/100k hab$$"
        },
        "xaxis": {
         "title": {
          "text": "deaths_100khab"
         }
        },
        "yaxis": {
         "title": {
          "text": "rt_ratio_week_avg"
         }
        }
       }
      },
      "text/html": [
       "<div>\n",
       "        \n",
       "        \n",
       "            <div id=\"e3fd3159-de65-4962-8347-2bffe415ea28\" class=\"plotly-graph-div\" style=\"height:525px; width:100%;\"></div>\n",
       "            <script type=\"text/javascript\">\n",
       "                require([\"plotly\"], function(Plotly) {\n",
       "                    window.PLOTLYENV=window.PLOTLYENV || {};\n",
       "                    \n",
       "                if (document.getElementById(\"e3fd3159-de65-4962-8347-2bffe415ea28\")) {\n",
       "                    Plotly.newPlot(\n",
       "                        'e3fd3159-de65-4962-8347-2bffe415ea28',\n",
       "                        [{\"mode\": \"markers\", \"text\": [\"Belo Horizonte\", \"Curitiba\", \"Porto Alegre\", \"Goi\\u00e2nia\", \"Ribeir\\u00e3o Preto\", \"S\\u00e3o Jos\\u00e9 dos Campos\", \"Bras\\u00edlia\", \"Juiz de Fora\", \"Sorocaba\", \"Campinas\", \"Piracicaba\", \"Campos dos Goytacazes\", \"Campina Grande\", \"Caruaru\", \"Volta Redonda\", \"Teresina\", \"Maca\\u00e9\", \"Aracaju\", \"Natal\", \"Petr\\u00f3polis\", \"Praia Grande\", \"Mau\\u00e1\", \"Teres\\u00f3polis\", \"Salvador\", \"Jundia\\u00ed\", \"Embu das Artes\", \"Angra dos Reis\", \"S\\u00e3o Gon\\u00e7alo\", \"Ilh\\u00e9us\", \"Jo\\u00e3o Pessoa\", \"Carapicu\\u00edba\", \"Itapecerica da Serra\", \"Santo Andr\\u00e9\", \"Suzano\", \"Maric\\u00e1\", \"Cotia\", \"Diadema\", \"S\\u00e3o Jo\\u00e3o de Meriti\", \"Itaquaquecetuba\", \"Guaruj\\u00e1\", \"Mossor\\u00f3\", \"Mogi das Cruzes\", \"Niter\\u00f3i\", \"S\\u00e3o Vicente\", \"Belford Roxo\", \"Ferraz de Vasconcelos\", \"Nil\\u00f3polis\", \"Tabo\\u00e3o da Serra\", \"S\\u00e3o Jos\\u00e9 de Ribamar\", \"S\\u00e3o Bernardo do Campo\", \"Guarulhos\", \"S\\u00e3o Caetano do Sul\", \"Boa Vista\", \"Nova Igua\\u00e7u\", \"Vila Velha\", \"Franco da Rocha\", \"Macap\\u00e1\", \"Duque de Caxias\", \"Porto Velho\", \"Bragan\\u00e7a\", \"Itapevi\", \"Cubat\\u00e3o\", \"Pa\\u00e7o do Lumiar\", \"Marituba\", \"Vit\\u00f3ria\", \"Macei\\u00f3\", \"Rio Branco\", \"Cariacica\", \"Marab\\u00e1\", \"Itabora\\u00ed\", \"Mesquita\", \"Serra\", \"Mag\\u00e9\", \"S\\u00e3o Paulo\", \"Caieiras\", \"Caucaia\", \"Parauapebas\", \"Itagua\\u00ed\", \"Abaetetuba\", \"Santos\", \"Santar\\u00e9m\", \"Camet\\u00e1\", \"Maranguape\", \"Olinda\", \"Igarassu\", \"Abreu e Lima\", \"Goiana\", \"Ipojuca\", \"Imperatriz\", \"Itapipoca\", \"Itacoatiara\", \"Camaragibe\", \"Paulista\", \"Vit\\u00f3ria de Santo Ant\\u00e3o\", \"Osasco\", \"Pacatuba\", \"Tucuru\\u00ed\", \"Jaboat\\u00e3o dos Guararapes\", \"S\\u00e3o Lu\\u00eds\", \"Parintins\", \"Cabo de Santo Agostinho\", \"Barueri\", \"Ananindeua\", \"Barcarena\", \"S\\u00e3o Louren\\u00e7o da Mata\", \"Capanema\", \"Santa Rita\", \"Sobral\", \"Paragominas\", \"Breves\", \"Castanhal\", \"Rio de Janeiro\", \"Maracana\\u00fa\", \"Manaus\", \"Benevides\", \"Laranjal do Jari\", \"Recife\", \"Coari\", \"Tabatinga\", \"Fortaleza\", \"Curu\\u00e7\\u00e1\", \"Tef\\u00e9\", \"Bel\\u00e9m\", \"Manacapuru\"], \"type\": \"scatter\", \"x\": [2.388468474206531, 2.8451636098401276, 2.9654171701697902, 4.946860821060172, 5.6875299483998845, 6.233170439812506, 6.500251387273038, 6.504087907142719, 8.537220810800468, 8.886504389684013, 8.907760143711863, 9.063182201486361, 10.738752986715674, 11.630547355711983, 13.918802103936823, 15.840988847712596, 15.973694053110584, 16.285826916666792, 16.40045152139637, 17.63605070037983, 19.380262279549516, 20.088303955069865, 20.263535494046902, 20.888841076652646, 21.004291558661645, 21.189072283962794, 22.08209632701131, 22.123098450553492, 22.177456615350497, 22.62009975093169, 23.19624270752531, 23.336160234044613, 23.512291084946153, 23.518581359172416, 23.57217738683804, 23.674812407206772, 23.8272734993536, 23.920102623590726, 24.000798228795023, 24.340087187440513, 24.547881820444015, 24.672417582910537, 24.728184678650425, 24.877117972214172, 25.053532352330958, 25.736580946694392, 25.848539865218328, 26.237295625276182, 27.576581291822137, 27.892473323352437, 28.277631233586284, 29.169537073240363, 29.80864851595514, 30.080572091074718, 30.576828838606993, 31.070173280945568, 32.18583545090965, 32.18804779490124, 32.29193419243727, 33.676362326331784, 35.7593605384939, 35.958838606021196, 36.007430624319746, 36.49607287049216, 36.73048934401555, 36.998944008919004, 37.07168091839566, 38.29156667584615, 38.661316131434155, 39.07029327658442, 39.181615304679646, 39.41952812506039, 39.98841152155906, 40.29538632109979, 40.406031339312115, 40.95185390149419, 41.772097199348934, 42.851021282673905, 43.120394678436, 43.61763260106483, 43.66539829081155, 46.413808107912104, 46.51956147560049, 46.88113085440861, 47.00091438142524, 47.004700470047005, 47.644123473507356, 47.8150596648788, 48.321877826829855, 48.70205167055768, 49.34031992263438, 49.42088856223231, 49.43123933762139, 51.16858969277226, 51.401882540255265, 51.538977850225336, 51.90965959580851, 51.9722397045129, 52.36485873286117, 52.50584127484183, 52.64479734167922, 53.249301558818594, 54.27838024266959, 54.53962143086301, 54.75580676499161, 55.05092210294522, 55.642598802219844, 56.476894728025464, 56.56458526669318, 61.34312226755338, 62.751191525600994, 66.40965050395876, 67.13883257418183, 67.57490391764932, 68.54009595613434, 71.41440190438405, 75.04282301985688, 75.20829171416149, 91.1244760342628, 92.12008052920908, 99.83527180152748, 105.26491670704607, 109.32878689930297, 116.04382965176582], \"y\": [1.0250596658711215, 1.0240825688073392, 0.9228723404255316, 0.9836065573770496, 0.9552238805970148, 1.0, 0.991279069767442, 0.8857965451055663, 0.9209401709401712, 0.9644308943089428, 1.0362860192102454, 0.9619520264681554, 1.1515695067264575, 0.9303525365434221, 0.9866180048661805, 0.9791449426485924, 1.0544147843942506, 0.8663003663003662, 1.0333651096282177, 0.8587360594795541, 0.9498289623717217, 0.9336683417085424, 0.9136858475894244, 1.0129870129870129, 1.0214723926380362, 0.911495422177009, 0.8618152085036795, 0.9391304347826088, 0.9231536926147704, 1.0190796857463529, 0.9726027397260272, 0.9134615384615384, 0.9677093844601412, 0.9274770173646576, 1.057692307692308, 0.9513742071881608, 0.955577492596249, 0.8754901960784311, 0.8919449901768174, 1.0815273477812182, 0.9592901878914406, 0.9486910994764398, 0.8219895287958114, 1.1182608695652174, 0.871863799283154, 0.9199632014719408, 0.8901623686723975, 0.9845201238390092, 0.9262295081967216, 0.982438016528925, 0.9562955254942764, 1.1068965517241385, 0.9787626962142196, 0.8789571694599628, 1.0207900207900211, 0.977777777777778, 0.9492753623188408, 0.8456299659477867, 0.9506976744186041, 1.000892857142857, 0.9376299376299376, 0.9740840035746204, 0.9287894201424212, 0.7848729076255427, 0.930776426566885, 0.9960861056751464, 1.0247770069375624, 0.9571428571428574, 0.8783112582781456, 1.090823084200567, 0.8453410182516808, 0.9701789264413524, 1.031535269709544, 1.0135635018495686, 0.9240223463687148, 0.9592901878914408, 0.8141160027952483, 0.9858657243816256, 1.207167832167832, 1.013278855975485, 1.058303886925795, 0.8542931483087599, 0.9228699551569506, 0.9123376623376622, 0.9237113402061852, 0.9071618037135276, 0.9970674486803518, 0.8892794376098417, 0.8943022295623452, 0.7934947049924359, 0.8672086720867206, 0.9513513513513512, 0.9209726443768996, 0.8693284936479128, 0.9218415417558886, 0.8043647700701481, 0.8835489833641405, 0.871062992125984, 0.8926940639269407, 0.8915662650602407, 0.8907317073170731, 0.8711151736745887, 0.828402366863905, 1.0975447909754477, 0.9582836710369488, 0.9829443447037703, 0.9111549851924976, 0.8963414634146337, 1.5727650727650733, 0.7702952029520297, 0.9150865622423744, 0.8994845360824741, 0.9010507880910682, 0.8581235697940506, 1.1628521126760565, 0.9294770206022192, 0.8891257995735606, 0.8534172661870506, 0.8087431693989073, 0.8227272727272728, 0.9538562953197098, 0.8070456365092072, 0.8192771084337348, 0.8904958677685951]}],\n",
       "                        {\"template\": {\"data\": {\"bar\": [{\"error_x\": {\"color\": \"#2a3f5f\"}, \"error_y\": {\"color\": \"#2a3f5f\"}, \"marker\": {\"line\": {\"color\": \"#E5ECF6\", \"width\": 0.5}}, \"type\": \"bar\"}], \"barpolar\": [{\"marker\": {\"line\": {\"color\": \"#E5ECF6\", \"width\": 0.5}}, \"type\": \"barpolar\"}], \"carpet\": [{\"aaxis\": {\"endlinecolor\": \"#2a3f5f\", \"gridcolor\": \"white\", \"linecolor\": \"white\", \"minorgridcolor\": \"white\", \"startlinecolor\": \"#2a3f5f\"}, \"baxis\": {\"endlinecolor\": \"#2a3f5f\", \"gridcolor\": \"white\", \"linecolor\": \"white\", \"minorgridcolor\": \"white\", \"startlinecolor\": \"#2a3f5f\"}, \"type\": \"carpet\"}], \"choropleth\": [{\"colorbar\": {\"outlinewidth\": 0, \"ticks\": \"\"}, \"type\": \"choropleth\"}], \"contour\": [{\"colorbar\": {\"outlinewidth\": 0, \"ticks\": \"\"}, \"colorscale\": [[0.0, \"#0d0887\"], [0.1111111111111111, \"#46039f\"], [0.2222222222222222, \"#7201a8\"], [0.3333333333333333, \"#9c179e\"], [0.4444444444444444, \"#bd3786\"], [0.5555555555555556, \"#d8576b\"], [0.6666666666666666, \"#ed7953\"], [0.7777777777777778, \"#fb9f3a\"], [0.8888888888888888, \"#fdca26\"], [1.0, \"#f0f921\"]], \"type\": \"contour\"}], \"contourcarpet\": [{\"colorbar\": {\"outlinewidth\": 0, \"ticks\": \"\"}, \"type\": \"contourcarpet\"}], \"heatmap\": [{\"colorbar\": {\"outlinewidth\": 0, \"ticks\": \"\"}, \"colorscale\": [[0.0, \"#0d0887\"], [0.1111111111111111, \"#46039f\"], [0.2222222222222222, \"#7201a8\"], [0.3333333333333333, \"#9c179e\"], [0.4444444444444444, \"#bd3786\"], [0.5555555555555556, \"#d8576b\"], [0.6666666666666666, \"#ed7953\"], [0.7777777777777778, \"#fb9f3a\"], [0.8888888888888888, \"#fdca26\"], [1.0, \"#f0f921\"]], \"type\": \"heatmap\"}], \"heatmapgl\": [{\"colorbar\": {\"outlinewidth\": 0, \"ticks\": \"\"}, \"colorscale\": [[0.0, \"#0d0887\"], [0.1111111111111111, \"#46039f\"], [0.2222222222222222, \"#7201a8\"], [0.3333333333333333, \"#9c179e\"], [0.4444444444444444, \"#bd3786\"], [0.5555555555555556, \"#d8576b\"], [0.6666666666666666, \"#ed7953\"], [0.7777777777777778, \"#fb9f3a\"], [0.8888888888888888, \"#fdca26\"], [1.0, \"#f0f921\"]], \"type\": \"heatmapgl\"}], \"histogram\": [{\"marker\": {\"colorbar\": {\"outlinewidth\": 0, \"ticks\": \"\"}}, \"type\": \"histogram\"}], \"histogram2d\": [{\"colorbar\": {\"outlinewidth\": 0, \"ticks\": \"\"}, \"colorscale\": [[0.0, \"#0d0887\"], [0.1111111111111111, \"#46039f\"], [0.2222222222222222, \"#7201a8\"], [0.3333333333333333, \"#9c179e\"], [0.4444444444444444, \"#bd3786\"], [0.5555555555555556, \"#d8576b\"], [0.6666666666666666, \"#ed7953\"], [0.7777777777777778, \"#fb9f3a\"], [0.8888888888888888, \"#fdca26\"], [1.0, \"#f0f921\"]], \"type\": \"histogram2d\"}], \"histogram2dcontour\": [{\"colorbar\": {\"outlinewidth\": 0, \"ticks\": \"\"}, \"colorscale\": [[0.0, \"#0d0887\"], [0.1111111111111111, \"#46039f\"], [0.2222222222222222, \"#7201a8\"], [0.3333333333333333, \"#9c179e\"], [0.4444444444444444, \"#bd3786\"], [0.5555555555555556, \"#d8576b\"], [0.6666666666666666, \"#ed7953\"], [0.7777777777777778, \"#fb9f3a\"], [0.8888888888888888, \"#fdca26\"], [1.0, \"#f0f921\"]], \"type\": \"histogram2dcontour\"}], \"mesh3d\": [{\"colorbar\": {\"outlinewidth\": 0, \"ticks\": \"\"}, \"type\": \"mesh3d\"}], \"parcoords\": [{\"line\": {\"colorbar\": {\"outlinewidth\": 0, \"ticks\": \"\"}}, \"type\": \"parcoords\"}], \"pie\": [{\"automargin\": true, \"type\": \"pie\"}], \"scatter\": [{\"marker\": {\"colorbar\": {\"outlinewidth\": 0, \"ticks\": \"\"}}, \"type\": \"scatter\"}], \"scatter3d\": [{\"line\": {\"colorbar\": {\"outlinewidth\": 0, \"ticks\": \"\"}}, \"marker\": {\"colorbar\": {\"outlinewidth\": 0, \"ticks\": \"\"}}, \"type\": \"scatter3d\"}], \"scattercarpet\": [{\"marker\": {\"colorbar\": {\"outlinewidth\": 0, \"ticks\": \"\"}}, \"type\": \"scattercarpet\"}], \"scattergeo\": [{\"marker\": {\"colorbar\": {\"outlinewidth\": 0, \"ticks\": \"\"}}, \"type\": \"scattergeo\"}], \"scattergl\": [{\"marker\": {\"colorbar\": {\"outlinewidth\": 0, \"ticks\": \"\"}}, \"type\": \"scattergl\"}], \"scattermapbox\": [{\"marker\": {\"colorbar\": {\"outlinewidth\": 0, \"ticks\": \"\"}}, \"type\": \"scattermapbox\"}], \"scatterpolar\": [{\"marker\": {\"colorbar\": {\"outlinewidth\": 0, \"ticks\": \"\"}}, \"type\": \"scatterpolar\"}], \"scatterpolargl\": [{\"marker\": {\"colorbar\": {\"outlinewidth\": 0, \"ticks\": \"\"}}, \"type\": \"scatterpolargl\"}], \"scatterternary\": [{\"marker\": {\"colorbar\": {\"outlinewidth\": 0, \"ticks\": \"\"}}, \"type\": \"scatterternary\"}], \"surface\": [{\"colorbar\": {\"outlinewidth\": 0, \"ticks\": \"\"}, \"colorscale\": [[0.0, \"#0d0887\"], [0.1111111111111111, \"#46039f\"], [0.2222222222222222, \"#7201a8\"], [0.3333333333333333, \"#9c179e\"], [0.4444444444444444, \"#bd3786\"], [0.5555555555555556, \"#d8576b\"], [0.6666666666666666, \"#ed7953\"], [0.7777777777777778, \"#fb9f3a\"], [0.8888888888888888, \"#fdca26\"], [1.0, \"#f0f921\"]], \"type\": \"surface\"}], \"table\": [{\"cells\": {\"fill\": {\"color\": \"#EBF0F8\"}, \"line\": {\"color\": \"white\"}}, \"header\": {\"fill\": {\"color\": \"#C8D4E3\"}, \"line\": {\"color\": \"white\"}}, \"type\": \"table\"}]}, \"layout\": {\"annotationdefaults\": {\"arrowcolor\": \"#2a3f5f\", \"arrowhead\": 0, \"arrowwidth\": 1}, \"coloraxis\": {\"colorbar\": {\"outlinewidth\": 0, \"ticks\": \"\"}}, \"colorscale\": {\"diverging\": [[0, \"#8e0152\"], [0.1, \"#c51b7d\"], [0.2, \"#de77ae\"], [0.3, \"#f1b6da\"], [0.4, \"#fde0ef\"], [0.5, \"#f7f7f7\"], [0.6, \"#e6f5d0\"], [0.7, \"#b8e186\"], [0.8, \"#7fbc41\"], [0.9, \"#4d9221\"], [1, \"#276419\"]], \"sequential\": [[0.0, \"#0d0887\"], [0.1111111111111111, \"#46039f\"], [0.2222222222222222, \"#7201a8\"], [0.3333333333333333, \"#9c179e\"], [0.4444444444444444, \"#bd3786\"], [0.5555555555555556, \"#d8576b\"], [0.6666666666666666, \"#ed7953\"], [0.7777777777777778, \"#fb9f3a\"], [0.8888888888888888, \"#fdca26\"], [1.0, \"#f0f921\"]], \"sequentialminus\": [[0.0, \"#0d0887\"], [0.1111111111111111, \"#46039f\"], [0.2222222222222222, \"#7201a8\"], [0.3333333333333333, \"#9c179e\"], [0.4444444444444444, \"#bd3786\"], [0.5555555555555556, \"#d8576b\"], [0.6666666666666666, \"#ed7953\"], [0.7777777777777778, \"#fb9f3a\"], [0.8888888888888888, \"#fdca26\"], [1.0, \"#f0f921\"]]}, \"colorway\": [\"#636efa\", \"#EF553B\", \"#00cc96\", \"#ab63fa\", \"#FFA15A\", \"#19d3f3\", \"#FF6692\", \"#B6E880\", \"#FF97FF\", \"#FECB52\"], \"font\": {\"color\": \"#2a3f5f\"}, \"geo\": {\"bgcolor\": \"white\", \"lakecolor\": \"white\", \"landcolor\": \"#E5ECF6\", \"showlakes\": true, \"showland\": true, \"subunitcolor\": \"white\"}, \"hoverlabel\": {\"align\": \"left\"}, \"hovermode\": \"closest\", \"mapbox\": {\"style\": \"light\"}, \"paper_bgcolor\": \"white\", \"plot_bgcolor\": \"#E5ECF6\", \"polar\": {\"angularaxis\": {\"gridcolor\": \"white\", \"linecolor\": \"white\", \"ticks\": \"\"}, \"bgcolor\": \"#E5ECF6\", \"radialaxis\": {\"gridcolor\": \"white\", \"linecolor\": \"white\", \"ticks\": \"\"}}, \"scene\": {\"xaxis\": {\"backgroundcolor\": \"#E5ECF6\", \"gridcolor\": \"white\", \"gridwidth\": 2, \"linecolor\": \"white\", \"showbackground\": true, \"ticks\": \"\", \"zerolinecolor\": \"white\"}, \"yaxis\": {\"backgroundcolor\": \"#E5ECF6\", \"gridcolor\": \"white\", \"gridwidth\": 2, \"linecolor\": \"white\", \"showbackground\": true, \"ticks\": \"\", \"zerolinecolor\": \"white\"}, \"zaxis\": {\"backgroundcolor\": \"#E5ECF6\", \"gridcolor\": \"white\", \"gridwidth\": 2, \"linecolor\": \"white\", \"showbackground\": true, \"ticks\": \"\", \"zerolinecolor\": \"white\"}}, \"shapedefaults\": {\"line\": {\"color\": \"#2a3f5f\"}}, \"ternary\": {\"aaxis\": {\"gridcolor\": \"white\", \"linecolor\": \"white\", \"ticks\": \"\"}, \"baxis\": {\"gridcolor\": \"white\", \"linecolor\": \"white\", \"ticks\": \"\"}, \"bgcolor\": \"#E5ECF6\", \"caxis\": {\"gridcolor\": \"white\", \"linecolor\": \"white\", \"ticks\": \"\"}}, \"title\": {\"x\": 0.05}, \"xaxis\": {\"automargin\": true, \"gridcolor\": \"white\", \"linecolor\": \"white\", \"ticks\": \"\", \"title\": {\"standoff\": 15}, \"zerolinecolor\": \"white\", \"zerolinewidth\": 2}, \"yaxis\": {\"automargin\": true, \"gridcolor\": \"white\", \"linecolor\": \"white\", \"ticks\": \"\", \"title\": {\"standoff\": 15}, \"zerolinecolor\": \"white\", \"zerolinewidth\": 2}}}, \"title\": {\"text\": \"$$\\u0394R_t X Mortes/100k hab$$\"}, \"xaxis\": {\"title\": {\"text\": \"deaths_100khab\"}}, \"yaxis\": {\"title\": {\"text\": \"rt_ratio_week_avg\"}}},\n",
       "                        {\"responsive\": true}\n",
       "                    ).then(function(){\n",
       "                            \n",
       "var gd = document.getElementById('e3fd3159-de65-4962-8347-2bffe415ea28');\n",
       "var x = new MutationObserver(function (mutations, observer) {{\n",
       "        var display = window.getComputedStyle(gd).display;\n",
       "        if (!display || display === 'none') {{\n",
       "            console.log([gd, 'removed!']);\n",
       "            Plotly.purge(gd);\n",
       "            observer.disconnect();\n",
       "        }}\n",
       "}});\n",
       "\n",
       "// Listen for the removal of the full notebook cells\n",
       "var notebookContainer = gd.closest('#notebook-container');\n",
       "if (notebookContainer) {{\n",
       "    x.observe(notebookContainer, {childList: true});\n",
       "}}\n",
       "\n",
       "// Listen for the clearing of the current output cell\n",
       "var outputEl = gd.closest('.output');\n",
       "if (outputEl) {{\n",
       "    x.observe(outputEl, {childList: true});\n",
       "}}\n",
       "\n",
       "                        })\n",
       "                };\n",
       "                });\n",
       "            </script>\n",
       "        </div>"
      ]
     },
     "metadata": {},
     "output_type": "display_data"
    }
   ],
   "source": [
    "# Gráfico de Dispersão entre variáveis\n",
    "## Usar para análise exploratória\n",
    "x = 'deaths_100khab' #Alterar essa linha\n",
    "y = 'rt_ratio_week_avg' #Alterar essa linha\n",
    "z = dfexib.sort_values(x)\n",
    "\n",
    "fig = go.Figure()\n",
    "fig.add_trace(\n",
    "    go.Scatter(x=list(z[x]), y=list(z[y]),\n",
    "               mode='markers',text=z['city_name']))\n",
    "\n",
    "\n",
    "fig.layout.xaxis.update({'title': x})\n",
    "fig.layout.yaxis.update({'title': 'rt_ratio_week_avg'})\n",
    "fig.update_layout(title= '$$ΔR_t X Mortes/100k hab$$')\n",
    "fig.show()"
   ]
  },
  {
   "cell_type": "code",
   "execution_count": 15,
   "metadata": {},
   "outputs": [
    {
     "data": {
      "text/html": [
       "<div>\n",
       "<style scoped>\n",
       "    .dataframe tbody tr th:only-of-type {\n",
       "        vertical-align: middle;\n",
       "    }\n",
       "\n",
       "    .dataframe tbody tr th {\n",
       "        vertical-align: top;\n",
       "    }\n",
       "\n",
       "    .dataframe thead th {\n",
       "        text-align: right;\n",
       "    }\n",
       "</style>\n",
       "<table border=\"1\" class=\"dataframe\">\n",
       "  <thead>\n",
       "    <tr style=\"text-align: right;\">\n",
       "      <th></th>\n",
       "      <th>city_id</th>\n",
       "      <th>city_name</th>\n",
       "      <th>state_id</th>\n",
       "      <th>state_name</th>\n",
       "      <th>population</th>\n",
       "      <th>health_system_region</th>\n",
       "      <th>last_updated_number_beds</th>\n",
       "      <th>author_number_beds</th>\n",
       "      <th>number_beds</th>\n",
       "      <th>last_updated_number_ventilators</th>\n",
       "      <th>author_number_ventilators</th>\n",
       "      <th>number_ventilators</th>\n",
       "      <th>confirmed_cases</th>\n",
       "      <th>active_cases</th>\n",
       "      <th>deaths</th>\n",
       "      <th>notification_rate</th>\n",
       "      <th>state_notification_rate</th>\n",
       "      <th>last_updated_subnotification</th>\n",
       "      <th>subnotification_place_type</th>\n",
       "      <th>subnotification_rate</th>\n",
       "      <th>subnotification_rank</th>\n",
       "      <th>subnotification_classification</th>\n",
       "      <th>last_updated_rt</th>\n",
       "      <th>rt_10days_ago_low</th>\n",
       "      <th>rt_10days_ago_high</th>\n",
       "      <th>rt_10days_ago_most_likely</th>\n",
       "      <th>rt_17days_ago_low</th>\n",
       "      <th>rt_17days_ago_high</th>\n",
       "      <th>rt_17days_ago_most_likely</th>\n",
       "      <th>rt_classification</th>\n",
       "      <th>rt_10days_ago_avg</th>\n",
       "      <th>rt_17days_ago_avg</th>\n",
       "      <th>rt_ratio_week_avg</th>\n",
       "      <th>rt_growth</th>\n",
       "      <th>last_updated_inloco</th>\n",
       "      <th>inloco_today_7days_avg</th>\n",
       "      <th>inloco_last_week_7days_avg</th>\n",
       "      <th>inloco_ratio_week_avgs</th>\n",
       "      <th>inloco_growth</th>\n",
       "      <th>dday_beds_best</th>\n",
       "      <th>dday_beds_worst</th>\n",
       "      <th>dday_classification</th>\n",
       "      <th>dday_beds_best_months</th>\n",
       "      <th>overall_alert</th>\n",
       "      <th>data_last_refreshed</th>\n",
       "    </tr>\n",
       "  </thead>\n",
       "  <tbody>\n",
       "    <tr>\n",
       "      <th>1</th>\n",
       "      <td>4213500</td>\n",
       "      <td>Porto Belo</td>\n",
       "      <td>SC</td>\n",
       "      <td>Santa Catarina</td>\n",
       "      <td>21388</td>\n",
       "      <td>Balneário Camboriú</td>\n",
       "      <td>2020-04-01</td>\n",
       "      <td>DataSUS</td>\n",
       "      <td>0</td>\n",
       "      <td>2020-04-01</td>\n",
       "      <td>DataSUS</td>\n",
       "      <td>0.0</td>\n",
       "      <td>27.0</td>\n",
       "      <td>34.0</td>\n",
       "      <td>1.0</td>\n",
       "      <td>0.502857</td>\n",
       "      <td>1.00000</td>\n",
       "      <td>2020-06-09 16:55:47</td>\n",
       "      <td>city</td>\n",
       "      <td>0.497143</td>\n",
       "      <td>35.0</td>\n",
       "      <td>bom</td>\n",
       "      <td>2020-06-09 17:34:37</td>\n",
       "      <td>0.51</td>\n",
       "      <td>1.45</td>\n",
       "      <td>1.00</td>\n",
       "      <td>0.38</td>\n",
       "      <td>1.33</td>\n",
       "      <td>0.85</td>\n",
       "      <td>insatisfatório</td>\n",
       "      <td>0.878571</td>\n",
       "      <td>0.852857</td>\n",
       "      <td>1.030151</td>\n",
       "      <td>estabilizando</td>\n",
       "      <td>2020-06-09 16:57:04</td>\n",
       "      <td>0.390768</td>\n",
       "      <td>0.399671</td>\n",
       "      <td>0.977723</td>\n",
       "      <td>estabilizando</td>\n",
       "      <td>1.0</td>\n",
       "      <td>1.0</td>\n",
       "      <td>ruim</td>\n",
       "      <td>1.0</td>\n",
       "      <td>alto</td>\n",
       "      <td>2020-06-09 17:35:32</td>\n",
       "    </tr>\n",
       "    <tr>\n",
       "      <th>0</th>\n",
       "      <td>4314902</td>\n",
       "      <td>Porto Alegre</td>\n",
       "      <td>RS</td>\n",
       "      <td>Rio Grande do Sul</td>\n",
       "      <td>1483771</td>\n",
       "      <td>CRS 01 Porto Alegre</td>\n",
       "      <td>2020-04-01</td>\n",
       "      <td>DataSUS</td>\n",
       "      <td>4912</td>\n",
       "      <td>2020-04-01</td>\n",
       "      <td>DataSUS</td>\n",
       "      <td>1374.0</td>\n",
       "      <td>1139.0</td>\n",
       "      <td>1154.0</td>\n",
       "      <td>44.0</td>\n",
       "      <td>0.464544</td>\n",
       "      <td>0.83431</td>\n",
       "      <td>2020-06-09 16:55:47</td>\n",
       "      <td>city</td>\n",
       "      <td>0.535456</td>\n",
       "      <td>46.0</td>\n",
       "      <td>insatisfatório</td>\n",
       "      <td>2020-06-09 17:34:37</td>\n",
       "      <td>0.84</td>\n",
       "      <td>1.19</td>\n",
       "      <td>1.02</td>\n",
       "      <td>0.86</td>\n",
       "      <td>1.22</td>\n",
       "      <td>1.04</td>\n",
       "      <td>insatisfatório</td>\n",
       "      <td>0.991429</td>\n",
       "      <td>1.074286</td>\n",
       "      <td>0.922872</td>\n",
       "      <td>estabilizando</td>\n",
       "      <td>2020-06-09 16:57:04</td>\n",
       "      <td>0.425936</td>\n",
       "      <td>0.434418</td>\n",
       "      <td>0.980475</td>\n",
       "      <td>estabilizando</td>\n",
       "      <td>91.0</td>\n",
       "      <td>91.0</td>\n",
       "      <td>bom</td>\n",
       "      <td>3.0</td>\n",
       "      <td>medio</td>\n",
       "      <td>2020-06-09 17:35:32</td>\n",
       "    </tr>\n",
       "  </tbody>\n",
       "</table>\n",
       "</div>"
      ],
      "text/plain": [
       "   city_id     city_name state_id         state_name  population  \\\n",
       "1  4213500    Porto Belo       SC     Santa Catarina       21388   \n",
       "0  4314902  Porto Alegre       RS  Rio Grande do Sul     1483771   \n",
       "\n",
       "  health_system_region last_updated_number_beds author_number_beds  \\\n",
       "1   Balneário Camboriú               2020-04-01            DataSUS   \n",
       "0  CRS 01 Porto Alegre               2020-04-01            DataSUS   \n",
       "\n",
       "   number_beds last_updated_number_ventilators author_number_ventilators  \\\n",
       "1            0                      2020-04-01                   DataSUS   \n",
       "0         4912                      2020-04-01                   DataSUS   \n",
       "\n",
       "   number_ventilators  confirmed_cases  active_cases  deaths  \\\n",
       "1                 0.0             27.0          34.0     1.0   \n",
       "0              1374.0           1139.0        1154.0    44.0   \n",
       "\n",
       "   notification_rate  state_notification_rate last_updated_subnotification  \\\n",
       "1           0.502857                  1.00000          2020-06-09 16:55:47   \n",
       "0           0.464544                  0.83431          2020-06-09 16:55:47   \n",
       "\n",
       "  subnotification_place_type  subnotification_rate  subnotification_rank  \\\n",
       "1                       city              0.497143                  35.0   \n",
       "0                       city              0.535456                  46.0   \n",
       "\n",
       "  subnotification_classification      last_updated_rt  rt_10days_ago_low  \\\n",
       "1                            bom  2020-06-09 17:34:37               0.51   \n",
       "0                 insatisfatório  2020-06-09 17:34:37               0.84   \n",
       "\n",
       "   rt_10days_ago_high  rt_10days_ago_most_likely  rt_17days_ago_low  \\\n",
       "1                1.45                       1.00               0.38   \n",
       "0                1.19                       1.02               0.86   \n",
       "\n",
       "   rt_17days_ago_high  rt_17days_ago_most_likely rt_classification  \\\n",
       "1                1.33                       0.85    insatisfatório   \n",
       "0                1.22                       1.04    insatisfatório   \n",
       "\n",
       "   rt_10days_ago_avg  rt_17days_ago_avg  rt_ratio_week_avg      rt_growth  \\\n",
       "1           0.878571           0.852857           1.030151  estabilizando   \n",
       "0           0.991429           1.074286           0.922872  estabilizando   \n",
       "\n",
       "   last_updated_inloco  inloco_today_7days_avg  inloco_last_week_7days_avg  \\\n",
       "1  2020-06-09 16:57:04                0.390768                    0.399671   \n",
       "0  2020-06-09 16:57:04                0.425936                    0.434418   \n",
       "\n",
       "   inloco_ratio_week_avgs  inloco_growth  dday_beds_best  dday_beds_worst  \\\n",
       "1                0.977723  estabilizando             1.0              1.0   \n",
       "0                0.980475  estabilizando            91.0             91.0   \n",
       "\n",
       "  dday_classification  dday_beds_best_months overall_alert  \\\n",
       "1                ruim                    1.0          alto   \n",
       "0                 bom                    3.0         medio   \n",
       "\n",
       "   data_last_refreshed  \n",
       "1  2020-06-09 17:35:32  \n",
       "0  2020-06-09 17:35:32  "
      ]
     },
     "execution_count": 15,
     "metadata": {},
     "output_type": "execute_result"
    }
   ],
   "source": [
    "# Municípios que apresentam Rt < 1\n",
    "dfrtl = dfnna.query(\"rt_10days_ago_avg < 1\")\\\n",
    "            .reset_index(drop=True)\\\n",
    "            .sort_values(['rt_10days_ago_avg'])\n",
    "\n",
    "dfrtl"
   ]
  },
  {
   "cell_type": "markdown",
   "metadata": {},
   "source": [
    "Em apenas {{dfrtl.shape[0]}} município(s) o Rt está abaixo de 0"
   ]
  },
  {
   "cell_type": "markdown",
   "metadata": {},
   "source": [
    "## Load historical data"
   ]
  },
  {
   "cell_type": "code",
   "execution_count": 16,
   "metadata": {},
   "outputs": [],
   "source": [
    "# Abrir arquivo com a série histórica da doença\n",
    "dfh = pd.read_csv('http://localhost:80/br/cities/cases/full')"
   ]
  },
  {
   "cell_type": "code",
   "execution_count": 17,
   "metadata": {},
   "outputs": [
    {
     "data": {
      "text/html": [
       "<div>\n",
       "<style scoped>\n",
       "    .dataframe tbody tr th:only-of-type {\n",
       "        vertical-align: middle;\n",
       "    }\n",
       "\n",
       "    .dataframe tbody tr th {\n",
       "        vertical-align: top;\n",
       "    }\n",
       "\n",
       "    .dataframe thead th {\n",
       "        text-align: right;\n",
       "    }\n",
       "</style>\n",
       "<table border=\"1\" class=\"dataframe\">\n",
       "  <thead>\n",
       "    <tr style=\"text-align: right;\">\n",
       "      <th></th>\n",
       "      <th>city</th>\n",
       "      <th>city_id</th>\n",
       "      <th>last_updated</th>\n",
       "      <th>epidemiological_week</th>\n",
       "      <th>estimated_population_2019</th>\n",
       "      <th>is_last</th>\n",
       "      <th>is_repeated</th>\n",
       "      <th>confirmed_cases</th>\n",
       "      <th>last_available_confirmed_per_100k_inhabitants</th>\n",
       "      <th>last_available_date</th>\n",
       "      <th>last_available_death_rate</th>\n",
       "      <th>deaths</th>\n",
       "      <th>order_for_place</th>\n",
       "      <th>place_type</th>\n",
       "      <th>state</th>\n",
       "      <th>daily_cases</th>\n",
       "      <th>new_deaths</th>\n",
       "      <th>infectious_period_cases</th>\n",
       "      <th>state_notification_rate</th>\n",
       "      <th>notification_rate</th>\n",
       "      <th>active_cases</th>\n",
       "      <th>data_last_refreshed</th>\n",
       "    </tr>\n",
       "  </thead>\n",
       "  <tbody>\n",
       "    <tr>\n",
       "      <th>0</th>\n",
       "      <td>São Paulo</td>\n",
       "      <td>3550308</td>\n",
       "      <td>2020-02-25</td>\n",
       "      <td>9</td>\n",
       "      <td>12252023.0</td>\n",
       "      <td>False</td>\n",
       "      <td>False</td>\n",
       "      <td>1</td>\n",
       "      <td>0.00816</td>\n",
       "      <td>2020-02-25</td>\n",
       "      <td>0.0000</td>\n",
       "      <td>0</td>\n",
       "      <td>1</td>\n",
       "      <td>city</td>\n",
       "      <td>SP</td>\n",
       "      <td>1.0</td>\n",
       "      <td>0</td>\n",
       "      <td>1.0</td>\n",
       "      <td>NaN</td>\n",
       "      <td>NaN</td>\n",
       "      <td>1.0</td>\n",
       "      <td>2020-06-07 00:55:41</td>\n",
       "    </tr>\n",
       "    <tr>\n",
       "      <th>1</th>\n",
       "      <td>São Paulo</td>\n",
       "      <td>3550308</td>\n",
       "      <td>2020-02-26</td>\n",
       "      <td>9</td>\n",
       "      <td>12252023.0</td>\n",
       "      <td>False</td>\n",
       "      <td>False</td>\n",
       "      <td>1</td>\n",
       "      <td>0.00816</td>\n",
       "      <td>2020-02-26</td>\n",
       "      <td>0.0000</td>\n",
       "      <td>0</td>\n",
       "      <td>2</td>\n",
       "      <td>city</td>\n",
       "      <td>SP</td>\n",
       "      <td>0.0</td>\n",
       "      <td>0</td>\n",
       "      <td>1.0</td>\n",
       "      <td>NaN</td>\n",
       "      <td>NaN</td>\n",
       "      <td>1.0</td>\n",
       "      <td>2020-06-07 00:55:41</td>\n",
       "    </tr>\n",
       "    <tr>\n",
       "      <th>2</th>\n",
       "      <td>São Paulo</td>\n",
       "      <td>3550308</td>\n",
       "      <td>2020-02-27</td>\n",
       "      <td>9</td>\n",
       "      <td>12252023.0</td>\n",
       "      <td>False</td>\n",
       "      <td>False</td>\n",
       "      <td>1</td>\n",
       "      <td>0.00816</td>\n",
       "      <td>2020-02-27</td>\n",
       "      <td>0.0000</td>\n",
       "      <td>0</td>\n",
       "      <td>3</td>\n",
       "      <td>city</td>\n",
       "      <td>SP</td>\n",
       "      <td>0.0</td>\n",
       "      <td>0</td>\n",
       "      <td>1.0</td>\n",
       "      <td>NaN</td>\n",
       "      <td>NaN</td>\n",
       "      <td>1.0</td>\n",
       "      <td>2020-06-07 00:55:41</td>\n",
       "    </tr>\n",
       "    <tr>\n",
       "      <th>3</th>\n",
       "      <td>São Paulo</td>\n",
       "      <td>3550308</td>\n",
       "      <td>2020-02-28</td>\n",
       "      <td>9</td>\n",
       "      <td>12252023.0</td>\n",
       "      <td>False</td>\n",
       "      <td>False</td>\n",
       "      <td>2</td>\n",
       "      <td>0.01632</td>\n",
       "      <td>2020-02-28</td>\n",
       "      <td>0.0000</td>\n",
       "      <td>0</td>\n",
       "      <td>4</td>\n",
       "      <td>city</td>\n",
       "      <td>SP</td>\n",
       "      <td>1.0</td>\n",
       "      <td>0</td>\n",
       "      <td>2.0</td>\n",
       "      <td>NaN</td>\n",
       "      <td>NaN</td>\n",
       "      <td>2.0</td>\n",
       "      <td>2020-06-07 00:55:41</td>\n",
       "    </tr>\n",
       "    <tr>\n",
       "      <th>4</th>\n",
       "      <td>São Paulo</td>\n",
       "      <td>3550308</td>\n",
       "      <td>2020-02-29</td>\n",
       "      <td>9</td>\n",
       "      <td>12252023.0</td>\n",
       "      <td>False</td>\n",
       "      <td>False</td>\n",
       "      <td>2</td>\n",
       "      <td>0.01632</td>\n",
       "      <td>2020-02-29</td>\n",
       "      <td>0.0000</td>\n",
       "      <td>0</td>\n",
       "      <td>5</td>\n",
       "      <td>city</td>\n",
       "      <td>SP</td>\n",
       "      <td>0.0</td>\n",
       "      <td>0</td>\n",
       "      <td>2.0</td>\n",
       "      <td>NaN</td>\n",
       "      <td>NaN</td>\n",
       "      <td>2.0</td>\n",
       "      <td>2020-06-07 00:55:41</td>\n",
       "    </tr>\n",
       "    <tr>\n",
       "      <th>...</th>\n",
       "      <td>...</td>\n",
       "      <td>...</td>\n",
       "      <td>...</td>\n",
       "      <td>...</td>\n",
       "      <td>...</td>\n",
       "      <td>...</td>\n",
       "      <td>...</td>\n",
       "      <td>...</td>\n",
       "      <td>...</td>\n",
       "      <td>...</td>\n",
       "      <td>...</td>\n",
       "      <td>...</td>\n",
       "      <td>...</td>\n",
       "      <td>...</td>\n",
       "      <td>...</td>\n",
       "      <td>...</td>\n",
       "      <td>...</td>\n",
       "      <td>...</td>\n",
       "      <td>...</td>\n",
       "      <td>...</td>\n",
       "      <td>...</td>\n",
       "      <td>...</td>\n",
       "    </tr>\n",
       "    <tr>\n",
       "      <th>168459</th>\n",
       "      <td>Tocantínia</td>\n",
       "      <td>1721109</td>\n",
       "      <td>2020-06-06</td>\n",
       "      <td>23</td>\n",
       "      <td>7545.0</td>\n",
       "      <td>False</td>\n",
       "      <td>True</td>\n",
       "      <td>2</td>\n",
       "      <td>26.50762</td>\n",
       "      <td>2020-06-05</td>\n",
       "      <td>0.0000</td>\n",
       "      <td>0</td>\n",
       "      <td>19</td>\n",
       "      <td>city</td>\n",
       "      <td>TO</td>\n",
       "      <td>0.0</td>\n",
       "      <td>0</td>\n",
       "      <td>1.0</td>\n",
       "      <td>1.0</td>\n",
       "      <td>1.0</td>\n",
       "      <td>1.0</td>\n",
       "      <td>2020-06-07 00:55:41</td>\n",
       "    </tr>\n",
       "    <tr>\n",
       "      <th>168460</th>\n",
       "      <td>Tupirama</td>\n",
       "      <td>1721257</td>\n",
       "      <td>2020-06-06</td>\n",
       "      <td>23</td>\n",
       "      <td>1891.0</td>\n",
       "      <td>False</td>\n",
       "      <td>True</td>\n",
       "      <td>0</td>\n",
       "      <td>0.00000</td>\n",
       "      <td>2020-06-05</td>\n",
       "      <td>0.0000</td>\n",
       "      <td>0</td>\n",
       "      <td>13</td>\n",
       "      <td>city</td>\n",
       "      <td>TO</td>\n",
       "      <td>0.0</td>\n",
       "      <td>0</td>\n",
       "      <td>0.0</td>\n",
       "      <td>1.0</td>\n",
       "      <td>1.0</td>\n",
       "      <td>0.0</td>\n",
       "      <td>2020-06-07 00:55:41</td>\n",
       "    </tr>\n",
       "    <tr>\n",
       "      <th>168461</th>\n",
       "      <td>Tupiratins</td>\n",
       "      <td>1721307</td>\n",
       "      <td>2020-06-06</td>\n",
       "      <td>23</td>\n",
       "      <td>2671.0</td>\n",
       "      <td>False</td>\n",
       "      <td>True</td>\n",
       "      <td>0</td>\n",
       "      <td>0.00000</td>\n",
       "      <td>2020-06-05</td>\n",
       "      <td>0.0000</td>\n",
       "      <td>0</td>\n",
       "      <td>13</td>\n",
       "      <td>city</td>\n",
       "      <td>TO</td>\n",
       "      <td>0.0</td>\n",
       "      <td>0</td>\n",
       "      <td>0.0</td>\n",
       "      <td>1.0</td>\n",
       "      <td>1.0</td>\n",
       "      <td>0.0</td>\n",
       "      <td>2020-06-07 00:55:41</td>\n",
       "    </tr>\n",
       "    <tr>\n",
       "      <th>168462</th>\n",
       "      <td>Wanderlândia</td>\n",
       "      <td>1722081</td>\n",
       "      <td>2020-06-06</td>\n",
       "      <td>23</td>\n",
       "      <td>11683.0</td>\n",
       "      <td>False</td>\n",
       "      <td>True</td>\n",
       "      <td>23</td>\n",
       "      <td>196.86724</td>\n",
       "      <td>2020-06-05</td>\n",
       "      <td>0.0000</td>\n",
       "      <td>0</td>\n",
       "      <td>40</td>\n",
       "      <td>city</td>\n",
       "      <td>TO</td>\n",
       "      <td>0.0</td>\n",
       "      <td>0</td>\n",
       "      <td>10.0</td>\n",
       "      <td>1.0</td>\n",
       "      <td>1.0</td>\n",
       "      <td>10.0</td>\n",
       "      <td>2020-06-07 00:55:41</td>\n",
       "    </tr>\n",
       "    <tr>\n",
       "      <th>168463</th>\n",
       "      <td>Xambioá</td>\n",
       "      <td>1722107</td>\n",
       "      <td>2020-06-06</td>\n",
       "      <td>23</td>\n",
       "      <td>11540.0</td>\n",
       "      <td>False</td>\n",
       "      <td>True</td>\n",
       "      <td>217</td>\n",
       "      <td>1880.41594</td>\n",
       "      <td>2020-06-05</td>\n",
       "      <td>0.0138</td>\n",
       "      <td>3</td>\n",
       "      <td>29</td>\n",
       "      <td>city</td>\n",
       "      <td>TO</td>\n",
       "      <td>0.0</td>\n",
       "      <td>0</td>\n",
       "      <td>175.0</td>\n",
       "      <td>1.0</td>\n",
       "      <td>1.0</td>\n",
       "      <td>175.0</td>\n",
       "      <td>2020-06-07 00:55:41</td>\n",
       "    </tr>\n",
       "  </tbody>\n",
       "</table>\n",
       "<p>168464 rows × 22 columns</p>\n",
       "</div>"
      ],
      "text/plain": [
       "                city  city_id last_updated  epidemiological_week  \\\n",
       "0          São Paulo  3550308   2020-02-25                     9   \n",
       "1          São Paulo  3550308   2020-02-26                     9   \n",
       "2          São Paulo  3550308   2020-02-27                     9   \n",
       "3          São Paulo  3550308   2020-02-28                     9   \n",
       "4          São Paulo  3550308   2020-02-29                     9   \n",
       "...              ...      ...          ...                   ...   \n",
       "168459    Tocantínia  1721109   2020-06-06                    23   \n",
       "168460      Tupirama  1721257   2020-06-06                    23   \n",
       "168461    Tupiratins  1721307   2020-06-06                    23   \n",
       "168462  Wanderlândia  1722081   2020-06-06                    23   \n",
       "168463       Xambioá  1722107   2020-06-06                    23   \n",
       "\n",
       "        estimated_population_2019  is_last  is_repeated  confirmed_cases  \\\n",
       "0                      12252023.0    False        False                1   \n",
       "1                      12252023.0    False        False                1   \n",
       "2                      12252023.0    False        False                1   \n",
       "3                      12252023.0    False        False                2   \n",
       "4                      12252023.0    False        False                2   \n",
       "...                           ...      ...          ...              ...   \n",
       "168459                     7545.0    False         True                2   \n",
       "168460                     1891.0    False         True                0   \n",
       "168461                     2671.0    False         True                0   \n",
       "168462                    11683.0    False         True               23   \n",
       "168463                    11540.0    False         True              217   \n",
       "\n",
       "        last_available_confirmed_per_100k_inhabitants last_available_date  \\\n",
       "0                                             0.00816          2020-02-25   \n",
       "1                                             0.00816          2020-02-26   \n",
       "2                                             0.00816          2020-02-27   \n",
       "3                                             0.01632          2020-02-28   \n",
       "4                                             0.01632          2020-02-29   \n",
       "...                                               ...                 ...   \n",
       "168459                                       26.50762          2020-06-05   \n",
       "168460                                        0.00000          2020-06-05   \n",
       "168461                                        0.00000          2020-06-05   \n",
       "168462                                      196.86724          2020-06-05   \n",
       "168463                                     1880.41594          2020-06-05   \n",
       "\n",
       "        last_available_death_rate  deaths  order_for_place place_type state  \\\n",
       "0                          0.0000       0                1       city    SP   \n",
       "1                          0.0000       0                2       city    SP   \n",
       "2                          0.0000       0                3       city    SP   \n",
       "3                          0.0000       0                4       city    SP   \n",
       "4                          0.0000       0                5       city    SP   \n",
       "...                           ...     ...              ...        ...   ...   \n",
       "168459                     0.0000       0               19       city    TO   \n",
       "168460                     0.0000       0               13       city    TO   \n",
       "168461                     0.0000       0               13       city    TO   \n",
       "168462                     0.0000       0               40       city    TO   \n",
       "168463                     0.0138       3               29       city    TO   \n",
       "\n",
       "        daily_cases  new_deaths  infectious_period_cases  \\\n",
       "0               1.0           0                      1.0   \n",
       "1               0.0           0                      1.0   \n",
       "2               0.0           0                      1.0   \n",
       "3               1.0           0                      2.0   \n",
       "4               0.0           0                      2.0   \n",
       "...             ...         ...                      ...   \n",
       "168459          0.0           0                      1.0   \n",
       "168460          0.0           0                      0.0   \n",
       "168461          0.0           0                      0.0   \n",
       "168462          0.0           0                     10.0   \n",
       "168463          0.0           0                    175.0   \n",
       "\n",
       "        state_notification_rate  notification_rate  active_cases  \\\n",
       "0                           NaN                NaN           1.0   \n",
       "1                           NaN                NaN           1.0   \n",
       "2                           NaN                NaN           1.0   \n",
       "3                           NaN                NaN           2.0   \n",
       "4                           NaN                NaN           2.0   \n",
       "...                         ...                ...           ...   \n",
       "168459                      1.0                1.0           1.0   \n",
       "168460                      1.0                1.0           0.0   \n",
       "168461                      1.0                1.0           0.0   \n",
       "168462                      1.0                1.0          10.0   \n",
       "168463                      1.0                1.0         175.0   \n",
       "\n",
       "        data_last_refreshed  \n",
       "0       2020-06-07 00:55:41  \n",
       "1       2020-06-07 00:55:41  \n",
       "2       2020-06-07 00:55:41  \n",
       "3       2020-06-07 00:55:41  \n",
       "4       2020-06-07 00:55:41  \n",
       "...                     ...  \n",
       "168459  2020-06-07 00:55:41  \n",
       "168460  2020-06-07 00:55:41  \n",
       "168461  2020-06-07 00:55:41  \n",
       "168462  2020-06-07 00:55:41  \n",
       "168463  2020-06-07 00:55:41  \n",
       "\n",
       "[168464 rows x 22 columns]"
      ]
     },
     "execution_count": 17,
     "metadata": {},
     "output_type": "execute_result"
    }
   ],
   "source": [
    "dfh"
   ]
  },
  {
   "cell_type": "code",
   "execution_count": 18,
   "metadata": {},
   "outputs": [
    {
     "data": {
      "text/plain": [
       "'2020-06-06'"
      ]
     },
     "execution_count": 18,
     "metadata": {},
     "output_type": "execute_result"
    }
   ],
   "source": [
    "# Mostrar o dia mais recente da série de dados\n",
    "dfh['last_updated'].max()"
   ]
  },
  {
   "cell_type": "code",
   "execution_count": 19,
   "metadata": {},
   "outputs": [],
   "source": [
    "#Cálculo da média móvel das novas mortes\n",
    "def get_rolling_amount(grp):\n",
    "    return grp.rolling(5, min_periods=1, on='last_updated')['new_deaths'].mean()\n",
    "\n",
    "\n",
    "df_cities_deaths = dfh[~dfh['deaths'].isnull()][['state','city','city_id', 'last_updated', 'deaths','new_deaths']]\\\n",
    "                                                .groupby(['state','city','city_id', 'last_updated'])[['deaths','new_deaths']]\\\n",
    "                                                .sum()\\\n",
    "                                                .reset_index()\n",
    "\n",
    "df_cities_deaths['rolling_deaths_new'] = df_cities_deaths.groupby('city', \n",
    "                                                    as_index=False, \n",
    "                                                    group_keys=False)\\\n",
    "                                           .apply(get_rolling_amount)"
   ]
  },
  {
   "cell_type": "code",
   "execution_count": 20,
   "metadata": {},
   "outputs": [],
   "source": [
    "#Nome das cidades por ordem (Pode variar de acordo com o que quisermos listar)\n",
    "##(e.g. Variação do Rt ou valor absoluto do Rt)\n",
    "cities_names_all = list(dfnfilt['city_name'])\n",
    "\n",
    "cities_names = list(dfnfilt.sort_values('rt_10days_ago_avg', ascending = False)\\\n",
    "                                             ['city_name'].iloc[:10])\n",
    "\n",
    "#ID da cidades por ordem (Pode variar de acordo com o que quisermos listar)\n",
    "##(e.g. Variação do Rt ou valor absoluto do Rt)\n",
    "cities_id_all = list(dfnfilt['city_id'])\n",
    "\n",
    "cities_id = list(dfnfilt.sort_values('rt_10days_ago_avg', ascending = False)\\\n",
    "                                             ['city_id'].iloc[:10])\n",
    "\n",
    "#Selecionar apesar os municípios listados em city_id\n",
    "t = df_cities_deaths.query(f'city_id =={cities_id}')\n"
   ]
  },
  {
   "cell_type": "code",
   "execution_count": 21,
   "metadata": {},
   "outputs": [],
   "source": [
    "first_death = [dfh.query(f'city_id =={j}')\\\n",
    "    .query(f'deaths !=0')['last_updated'].min() for j in cities_id_all \n",
    "]\n",
    "\n",
    "first_case = [dfh.query(f'city_id =={j}')\\\n",
    "    .query(f'confirmed_cases != 0')['last_updated'].min() for j in cities_id_all \n",
    "]"
   ]
  },
  {
   "cell_type": "code",
   "execution_count": 22,
   "metadata": {},
   "outputs": [],
   "source": [
    "#Titulos dos gráficos\n",
    "titles = [\n",
    "    'Distribuição de mortes nas 10 cidades com o menor ritmo de contágio',\n",
    "    'Distribuição de mortes nas 10 cidades com o maior ritmo de contágio',\n",
    "    'Distribuição de mortes nas 10 cidades com o maior diminuição ritmo de contágio',\n",
    "    'Distribuição de mortes nas 10 cidades com o maior aumento ritmo de contágio'\n",
    "]"
   ]
  },
  {
   "cell_type": "code",
   "execution_count": 23,
   "metadata": {},
   "outputs": [],
   "source": [
    "v = 0"
   ]
  },
  {
   "cell_type": "code",
   "execution_count": 24,
   "metadata": {},
   "outputs": [],
   "source": [
    "place_type='city'\n",
    "col_time= 'last_updated'\n",
    "#min_deaths=10\n",
    "title=\"Mapa de calor: Média móvel de novas mortes nos últimos 5 dias\"\n",
    "colors='temps'"
   ]
  },
  {
   "cell_type": "code",
   "execution_count": 25,
   "metadata": {},
   "outputs": [
    {
     "name": "stdout",
     "output_type": "stream",
     "text": [
      "10\n"
     ]
    }
   ],
   "source": [
    "#Formatar o Dataset para a plotagem\n",
    "df_heatmap = t.reset_index()\\\n",
    "                              .pivot(index='city', \n",
    "                                      columns='last_updated', \n",
    "                                      values='rolling_deaths_new')\\\n",
    "                               .fillna(0)\\\n",
    "                               .apply(lambda x: x/x.max(), axis=1)\\\n",
    "                               .dropna(how='all')\n",
    "\n",
    "# remove dias com todos os valores iguais a 0\n",
    "df_heatmap = df_heatmap.loc[:, (df_heatmap != 0).any(axis=0)]\n",
    "print(len(df_heatmap))\n",
    "\n",
    "city_total_deaths = [t[t['city'] ==x]['deaths'].max() for x in df_heatmap.loc[cities_names].index]\n",
    "\n"
   ]
  },
  {
   "cell_type": "markdown",
   "metadata": {},
   "source": [
    "### Visualização da distribuições das mortes nos municípios selecionados"
   ]
  },
  {
   "cell_type": "code",
   "execution_count": 26,
   "metadata": {},
   "outputs": [
    {
     "data": {
      "text/html": [
       "<div>\n",
       "<style scoped>\n",
       "    .dataframe tbody tr th:only-of-type {\n",
       "        vertical-align: middle;\n",
       "    }\n",
       "\n",
       "    .dataframe tbody tr th {\n",
       "        vertical-align: top;\n",
       "    }\n",
       "\n",
       "    .dataframe thead th {\n",
       "        text-align: right;\n",
       "    }\n",
       "</style>\n",
       "<table border=\"1\" class=\"dataframe\">\n",
       "  <thead>\n",
       "    <tr style=\"text-align: right;\">\n",
       "      <th>last_updated</th>\n",
       "      <th>2020-04-02</th>\n",
       "      <th>2020-04-07</th>\n",
       "      <th>2020-04-13</th>\n",
       "      <th>2020-04-14</th>\n",
       "      <th>2020-04-15</th>\n",
       "      <th>2020-04-16</th>\n",
       "      <th>2020-04-17</th>\n",
       "      <th>2020-04-18</th>\n",
       "      <th>2020-04-19</th>\n",
       "      <th>2020-04-20</th>\n",
       "      <th>2020-04-21</th>\n",
       "      <th>2020-04-22</th>\n",
       "      <th>2020-04-23</th>\n",
       "      <th>2020-04-24</th>\n",
       "      <th>2020-04-25</th>\n",
       "      <th>2020-04-26</th>\n",
       "      <th>2020-04-27</th>\n",
       "      <th>2020-04-28</th>\n",
       "      <th>2020-04-29</th>\n",
       "      <th>2020-04-30</th>\n",
       "      <th>2020-05-01</th>\n",
       "      <th>2020-05-02</th>\n",
       "      <th>2020-05-03</th>\n",
       "      <th>2020-05-04</th>\n",
       "      <th>2020-05-05</th>\n",
       "      <th>2020-05-06</th>\n",
       "      <th>2020-05-07</th>\n",
       "      <th>2020-05-08</th>\n",
       "      <th>2020-05-09</th>\n",
       "      <th>2020-05-10</th>\n",
       "      <th>2020-05-11</th>\n",
       "      <th>2020-05-12</th>\n",
       "      <th>2020-05-13</th>\n",
       "      <th>2020-05-14</th>\n",
       "      <th>2020-05-15</th>\n",
       "      <th>2020-05-16</th>\n",
       "      <th>2020-05-17</th>\n",
       "      <th>2020-05-18</th>\n",
       "      <th>2020-05-19</th>\n",
       "      <th>2020-05-20</th>\n",
       "      <th>2020-05-21</th>\n",
       "      <th>2020-05-22</th>\n",
       "      <th>2020-05-23</th>\n",
       "      <th>2020-05-24</th>\n",
       "      <th>2020-05-25</th>\n",
       "      <th>2020-05-26</th>\n",
       "      <th>2020-05-27</th>\n",
       "      <th>2020-05-28</th>\n",
       "      <th>2020-05-29</th>\n",
       "      <th>2020-05-30</th>\n",
       "      <th>2020-05-31</th>\n",
       "      <th>2020-06-01</th>\n",
       "      <th>2020-06-02</th>\n",
       "      <th>2020-06-03</th>\n",
       "      <th>2020-06-04</th>\n",
       "      <th>2020-06-05</th>\n",
       "      <th>2020-06-06</th>\n",
       "    </tr>\n",
       "    <tr>\n",
       "      <th>city</th>\n",
       "      <th></th>\n",
       "      <th></th>\n",
       "      <th></th>\n",
       "      <th></th>\n",
       "      <th></th>\n",
       "      <th></th>\n",
       "      <th></th>\n",
       "      <th></th>\n",
       "      <th></th>\n",
       "      <th></th>\n",
       "      <th></th>\n",
       "      <th></th>\n",
       "      <th></th>\n",
       "      <th></th>\n",
       "      <th></th>\n",
       "      <th></th>\n",
       "      <th></th>\n",
       "      <th></th>\n",
       "      <th></th>\n",
       "      <th></th>\n",
       "      <th></th>\n",
       "      <th></th>\n",
       "      <th></th>\n",
       "      <th></th>\n",
       "      <th></th>\n",
       "      <th></th>\n",
       "      <th></th>\n",
       "      <th></th>\n",
       "      <th></th>\n",
       "      <th></th>\n",
       "      <th></th>\n",
       "      <th></th>\n",
       "      <th></th>\n",
       "      <th></th>\n",
       "      <th></th>\n",
       "      <th></th>\n",
       "      <th></th>\n",
       "      <th></th>\n",
       "      <th></th>\n",
       "      <th></th>\n",
       "      <th></th>\n",
       "      <th></th>\n",
       "      <th></th>\n",
       "      <th></th>\n",
       "      <th></th>\n",
       "      <th></th>\n",
       "      <th></th>\n",
       "      <th></th>\n",
       "      <th></th>\n",
       "      <th></th>\n",
       "      <th></th>\n",
       "      <th></th>\n",
       "      <th></th>\n",
       "      <th></th>\n",
       "      <th></th>\n",
       "      <th></th>\n",
       "      <th></th>\n",
       "    </tr>\n",
       "  </thead>\n",
       "  <tbody>\n",
       "    <tr>\n",
       "      <th>Barcarena</th>\n",
       "      <td>0.000000</td>\n",
       "      <td>0.000000</td>\n",
       "      <td>0.00000</td>\n",
       "      <td>0.00000</td>\n",
       "      <td>0.000000</td>\n",
       "      <td>0.000000</td>\n",
       "      <td>0.000000</td>\n",
       "      <td>0.000000</td>\n",
       "      <td>0.000000</td>\n",
       "      <td>0.000000</td>\n",
       "      <td>0.000000</td>\n",
       "      <td>0.000000</td>\n",
       "      <td>0.000000</td>\n",
       "      <td>0.021277</td>\n",
       "      <td>0.021277</td>\n",
       "      <td>0.021277</td>\n",
       "      <td>0.021277</td>\n",
       "      <td>0.021277</td>\n",
       "      <td>0.000000</td>\n",
       "      <td>0.000000</td>\n",
       "      <td>0.000000</td>\n",
       "      <td>0.042553</td>\n",
       "      <td>0.042553</td>\n",
       "      <td>0.042553</td>\n",
       "      <td>0.042553</td>\n",
       "      <td>0.042553</td>\n",
       "      <td>0.000000</td>\n",
       "      <td>0.042553</td>\n",
       "      <td>0.042553</td>\n",
       "      <td>0.042553</td>\n",
       "      <td>0.085106</td>\n",
       "      <td>0.106383</td>\n",
       "      <td>0.063830</td>\n",
       "      <td>0.063830</td>\n",
       "      <td>0.063830</td>\n",
       "      <td>0.021277</td>\n",
       "      <td>0.000000</td>\n",
       "      <td>0.063830</td>\n",
       "      <td>0.063830</td>\n",
       "      <td>0.787234</td>\n",
       "      <td>0.808511</td>\n",
       "      <td>0.978723</td>\n",
       "      <td>1.000000</td>\n",
       "      <td>1.000000</td>\n",
       "      <td>0.297872</td>\n",
       "      <td>0.319149</td>\n",
       "      <td>0.148936</td>\n",
       "      <td>0.063830</td>\n",
       "      <td>0.042553</td>\n",
       "      <td>0.063830</td>\n",
       "      <td>0.021277</td>\n",
       "      <td>0.021277</td>\n",
       "      <td>0.063830</td>\n",
       "      <td>0.063830</td>\n",
       "      <td>0.021277</td>\n",
       "      <td>0.021277</td>\n",
       "      <td>0.021277</td>\n",
       "    </tr>\n",
       "    <tr>\n",
       "      <th>Paragominas</th>\n",
       "      <td>0.000000</td>\n",
       "      <td>0.000000</td>\n",
       "      <td>0.00000</td>\n",
       "      <td>0.00000</td>\n",
       "      <td>0.000000</td>\n",
       "      <td>0.000000</td>\n",
       "      <td>0.000000</td>\n",
       "      <td>0.000000</td>\n",
       "      <td>0.000000</td>\n",
       "      <td>0.000000</td>\n",
       "      <td>0.000000</td>\n",
       "      <td>0.000000</td>\n",
       "      <td>0.000000</td>\n",
       "      <td>0.000000</td>\n",
       "      <td>0.000000</td>\n",
       "      <td>0.072464</td>\n",
       "      <td>0.108696</td>\n",
       "      <td>0.086957</td>\n",
       "      <td>0.130435</td>\n",
       "      <td>0.130435</td>\n",
       "      <td>0.086957</td>\n",
       "      <td>0.043478</td>\n",
       "      <td>0.043478</td>\n",
       "      <td>0.000000</td>\n",
       "      <td>0.000000</td>\n",
       "      <td>0.000000</td>\n",
       "      <td>0.000000</td>\n",
       "      <td>0.000000</td>\n",
       "      <td>0.000000</td>\n",
       "      <td>0.000000</td>\n",
       "      <td>0.000000</td>\n",
       "      <td>0.000000</td>\n",
       "      <td>0.000000</td>\n",
       "      <td>0.000000</td>\n",
       "      <td>0.000000</td>\n",
       "      <td>0.000000</td>\n",
       "      <td>0.000000</td>\n",
       "      <td>0.000000</td>\n",
       "      <td>0.000000</td>\n",
       "      <td>0.260870</td>\n",
       "      <td>0.478261</td>\n",
       "      <td>0.478261</td>\n",
       "      <td>0.695652</td>\n",
       "      <td>0.695652</td>\n",
       "      <td>0.521739</td>\n",
       "      <td>0.956522</td>\n",
       "      <td>0.956522</td>\n",
       "      <td>0.782609</td>\n",
       "      <td>1.000000</td>\n",
       "      <td>0.913043</td>\n",
       "      <td>0.260870</td>\n",
       "      <td>0.304348</td>\n",
       "      <td>0.652174</td>\n",
       "      <td>0.608696</td>\n",
       "      <td>0.608696</td>\n",
       "      <td>0.608696</td>\n",
       "      <td>0.565217</td>\n",
       "    </tr>\n",
       "    <tr>\n",
       "      <th>Curuçá</th>\n",
       "      <td>0.000000</td>\n",
       "      <td>0.000000</td>\n",
       "      <td>0.00000</td>\n",
       "      <td>0.00000</td>\n",
       "      <td>0.000000</td>\n",
       "      <td>0.000000</td>\n",
       "      <td>0.000000</td>\n",
       "      <td>0.000000</td>\n",
       "      <td>0.000000</td>\n",
       "      <td>0.000000</td>\n",
       "      <td>0.000000</td>\n",
       "      <td>0.000000</td>\n",
       "      <td>0.000000</td>\n",
       "      <td>0.000000</td>\n",
       "      <td>0.000000</td>\n",
       "      <td>0.000000</td>\n",
       "      <td>0.000000</td>\n",
       "      <td>0.000000</td>\n",
       "      <td>0.000000</td>\n",
       "      <td>0.000000</td>\n",
       "      <td>0.000000</td>\n",
       "      <td>0.000000</td>\n",
       "      <td>0.000000</td>\n",
       "      <td>0.176471</td>\n",
       "      <td>0.176471</td>\n",
       "      <td>0.176471</td>\n",
       "      <td>0.176471</td>\n",
       "      <td>0.176471</td>\n",
       "      <td>0.000000</td>\n",
       "      <td>0.000000</td>\n",
       "      <td>0.411765</td>\n",
       "      <td>0.411765</td>\n",
       "      <td>0.411765</td>\n",
       "      <td>0.411765</td>\n",
       "      <td>0.470588</td>\n",
       "      <td>0.058824</td>\n",
       "      <td>0.058824</td>\n",
       "      <td>0.058824</td>\n",
       "      <td>0.058824</td>\n",
       "      <td>0.705882</td>\n",
       "      <td>0.705882</td>\n",
       "      <td>0.882353</td>\n",
       "      <td>0.941176</td>\n",
       "      <td>1.000000</td>\n",
       "      <td>0.411765</td>\n",
       "      <td>0.411765</td>\n",
       "      <td>0.470588</td>\n",
       "      <td>0.411765</td>\n",
       "      <td>0.411765</td>\n",
       "      <td>0.352941</td>\n",
       "      <td>0.352941</td>\n",
       "      <td>0.117647</td>\n",
       "      <td>0.117647</td>\n",
       "      <td>0.058824</td>\n",
       "      <td>0.000000</td>\n",
       "      <td>0.000000</td>\n",
       "      <td>0.000000</td>\n",
       "    </tr>\n",
       "    <tr>\n",
       "      <th>Tucuruí</th>\n",
       "      <td>0.000000</td>\n",
       "      <td>0.000000</td>\n",
       "      <td>0.00000</td>\n",
       "      <td>0.00000</td>\n",
       "      <td>0.000000</td>\n",
       "      <td>0.000000</td>\n",
       "      <td>0.000000</td>\n",
       "      <td>0.000000</td>\n",
       "      <td>0.000000</td>\n",
       "      <td>0.000000</td>\n",
       "      <td>0.000000</td>\n",
       "      <td>0.000000</td>\n",
       "      <td>0.000000</td>\n",
       "      <td>0.000000</td>\n",
       "      <td>0.000000</td>\n",
       "      <td>0.000000</td>\n",
       "      <td>0.000000</td>\n",
       "      <td>0.000000</td>\n",
       "      <td>0.000000</td>\n",
       "      <td>0.000000</td>\n",
       "      <td>0.000000</td>\n",
       "      <td>0.045455</td>\n",
       "      <td>0.045455</td>\n",
       "      <td>0.136364</td>\n",
       "      <td>0.136364</td>\n",
       "      <td>0.136364</td>\n",
       "      <td>0.090909</td>\n",
       "      <td>0.227273</td>\n",
       "      <td>0.136364</td>\n",
       "      <td>0.136364</td>\n",
       "      <td>0.136364</td>\n",
       "      <td>0.136364</td>\n",
       "      <td>0.045455</td>\n",
       "      <td>0.045455</td>\n",
       "      <td>0.045455</td>\n",
       "      <td>0.045455</td>\n",
       "      <td>0.500000</td>\n",
       "      <td>0.681818</td>\n",
       "      <td>0.681818</td>\n",
       "      <td>1.000000</td>\n",
       "      <td>1.000000</td>\n",
       "      <td>0.727273</td>\n",
       "      <td>0.500000</td>\n",
       "      <td>0.500000</td>\n",
       "      <td>0.454545</td>\n",
       "      <td>0.500000</td>\n",
       "      <td>0.318182</td>\n",
       "      <td>0.590909</td>\n",
       "      <td>0.590909</td>\n",
       "      <td>0.318182</td>\n",
       "      <td>0.272727</td>\n",
       "      <td>0.272727</td>\n",
       "      <td>0.000000</td>\n",
       "      <td>0.136364</td>\n",
       "      <td>0.136364</td>\n",
       "      <td>0.136364</td>\n",
       "      <td>0.136364</td>\n",
       "    </tr>\n",
       "    <tr>\n",
       "      <th>Abaetetuba</th>\n",
       "      <td>0.000000</td>\n",
       "      <td>0.000000</td>\n",
       "      <td>0.00000</td>\n",
       "      <td>0.00000</td>\n",
       "      <td>0.000000</td>\n",
       "      <td>0.000000</td>\n",
       "      <td>0.000000</td>\n",
       "      <td>0.000000</td>\n",
       "      <td>0.000000</td>\n",
       "      <td>0.000000</td>\n",
       "      <td>0.000000</td>\n",
       "      <td>0.000000</td>\n",
       "      <td>0.000000</td>\n",
       "      <td>0.000000</td>\n",
       "      <td>0.000000</td>\n",
       "      <td>0.000000</td>\n",
       "      <td>0.000000</td>\n",
       "      <td>0.000000</td>\n",
       "      <td>0.000000</td>\n",
       "      <td>0.000000</td>\n",
       "      <td>0.000000</td>\n",
       "      <td>0.000000</td>\n",
       "      <td>0.000000</td>\n",
       "      <td>0.000000</td>\n",
       "      <td>0.000000</td>\n",
       "      <td>0.000000</td>\n",
       "      <td>0.000000</td>\n",
       "      <td>0.043478</td>\n",
       "      <td>0.043478</td>\n",
       "      <td>0.130435</td>\n",
       "      <td>0.260870</td>\n",
       "      <td>0.304348</td>\n",
       "      <td>0.347826</td>\n",
       "      <td>0.347826</td>\n",
       "      <td>0.260870</td>\n",
       "      <td>0.173913</td>\n",
       "      <td>0.130435</td>\n",
       "      <td>0.130435</td>\n",
       "      <td>0.130435</td>\n",
       "      <td>0.260870</td>\n",
       "      <td>0.304348</td>\n",
       "      <td>0.695652</td>\n",
       "      <td>0.913043</td>\n",
       "      <td>0.913043</td>\n",
       "      <td>0.869565</td>\n",
       "      <td>1.000000</td>\n",
       "      <td>0.869565</td>\n",
       "      <td>0.652174</td>\n",
       "      <td>0.782609</td>\n",
       "      <td>0.739130</td>\n",
       "      <td>0.521739</td>\n",
       "      <td>0.260870</td>\n",
       "      <td>0.478261</td>\n",
       "      <td>0.478261</td>\n",
       "      <td>0.434783</td>\n",
       "      <td>0.434783</td>\n",
       "      <td>0.434783</td>\n",
       "    </tr>\n",
       "    <tr>\n",
       "      <th>Benevides</th>\n",
       "      <td>0.000000</td>\n",
       "      <td>0.000000</td>\n",
       "      <td>0.00000</td>\n",
       "      <td>0.00000</td>\n",
       "      <td>0.000000</td>\n",
       "      <td>0.000000</td>\n",
       "      <td>0.000000</td>\n",
       "      <td>0.000000</td>\n",
       "      <td>0.000000</td>\n",
       "      <td>0.000000</td>\n",
       "      <td>0.000000</td>\n",
       "      <td>0.000000</td>\n",
       "      <td>0.000000</td>\n",
       "      <td>0.045455</td>\n",
       "      <td>0.045455</td>\n",
       "      <td>0.045455</td>\n",
       "      <td>0.045455</td>\n",
       "      <td>0.045455</td>\n",
       "      <td>0.000000</td>\n",
       "      <td>0.090909</td>\n",
       "      <td>0.181818</td>\n",
       "      <td>0.181818</td>\n",
       "      <td>0.181818</td>\n",
       "      <td>0.181818</td>\n",
       "      <td>0.090909</td>\n",
       "      <td>0.000000</td>\n",
       "      <td>0.000000</td>\n",
       "      <td>0.045455</td>\n",
       "      <td>0.090909</td>\n",
       "      <td>0.136364</td>\n",
       "      <td>0.136364</td>\n",
       "      <td>0.181818</td>\n",
       "      <td>0.136364</td>\n",
       "      <td>0.090909</td>\n",
       "      <td>0.045455</td>\n",
       "      <td>0.090909</td>\n",
       "      <td>0.045455</td>\n",
       "      <td>0.045455</td>\n",
       "      <td>0.045455</td>\n",
       "      <td>0.090909</td>\n",
       "      <td>0.136364</td>\n",
       "      <td>0.136364</td>\n",
       "      <td>0.181818</td>\n",
       "      <td>0.181818</td>\n",
       "      <td>0.181818</td>\n",
       "      <td>0.090909</td>\n",
       "      <td>0.090909</td>\n",
       "      <td>0.409091</td>\n",
       "      <td>0.409091</td>\n",
       "      <td>1.000000</td>\n",
       "      <td>1.000000</td>\n",
       "      <td>1.000000</td>\n",
       "      <td>0.727273</td>\n",
       "      <td>0.772727</td>\n",
       "      <td>0.136364</td>\n",
       "      <td>0.136364</td>\n",
       "      <td>0.136364</td>\n",
       "    </tr>\n",
       "    <tr>\n",
       "      <th>São Vicente</th>\n",
       "      <td>0.023256</td>\n",
       "      <td>-0.023256</td>\n",
       "      <td>0.00000</td>\n",
       "      <td>0.00000</td>\n",
       "      <td>0.000000</td>\n",
       "      <td>0.000000</td>\n",
       "      <td>0.000000</td>\n",
       "      <td>0.000000</td>\n",
       "      <td>0.023256</td>\n",
       "      <td>0.000000</td>\n",
       "      <td>0.023256</td>\n",
       "      <td>0.023256</td>\n",
       "      <td>0.023256</td>\n",
       "      <td>0.000000</td>\n",
       "      <td>0.023256</td>\n",
       "      <td>0.000000</td>\n",
       "      <td>0.000000</td>\n",
       "      <td>0.023256</td>\n",
       "      <td>0.023256</td>\n",
       "      <td>0.023256</td>\n",
       "      <td>0.069767</td>\n",
       "      <td>0.069767</td>\n",
       "      <td>0.046512</td>\n",
       "      <td>0.046512</td>\n",
       "      <td>0.046512</td>\n",
       "      <td>0.023256</td>\n",
       "      <td>0.093023</td>\n",
       "      <td>0.116279</td>\n",
       "      <td>0.139535</td>\n",
       "      <td>0.139535</td>\n",
       "      <td>0.116279</td>\n",
       "      <td>0.046512</td>\n",
       "      <td>0.069767</td>\n",
       "      <td>0.093023</td>\n",
       "      <td>0.093023</td>\n",
       "      <td>0.116279</td>\n",
       "      <td>0.116279</td>\n",
       "      <td>0.209302</td>\n",
       "      <td>0.348837</td>\n",
       "      <td>0.348837</td>\n",
       "      <td>0.372093</td>\n",
       "      <td>0.441860</td>\n",
       "      <td>0.325581</td>\n",
       "      <td>0.348837</td>\n",
       "      <td>0.488372</td>\n",
       "      <td>0.418605</td>\n",
       "      <td>0.813953</td>\n",
       "      <td>1.000000</td>\n",
       "      <td>0.790698</td>\n",
       "      <td>0.697674</td>\n",
       "      <td>0.720930</td>\n",
       "      <td>0.255814</td>\n",
       "      <td>0.139535</td>\n",
       "      <td>0.186047</td>\n",
       "      <td>0.232558</td>\n",
       "      <td>0.255814</td>\n",
       "      <td>0.255814</td>\n",
       "    </tr>\n",
       "    <tr>\n",
       "      <th>Campina Grande</th>\n",
       "      <td>0.000000</td>\n",
       "      <td>0.000000</td>\n",
       "      <td>0.00000</td>\n",
       "      <td>0.00000</td>\n",
       "      <td>0.000000</td>\n",
       "      <td>0.040000</td>\n",
       "      <td>0.040000</td>\n",
       "      <td>0.040000</td>\n",
       "      <td>0.080000</td>\n",
       "      <td>0.080000</td>\n",
       "      <td>0.040000</td>\n",
       "      <td>0.040000</td>\n",
       "      <td>0.040000</td>\n",
       "      <td>0.000000</td>\n",
       "      <td>0.000000</td>\n",
       "      <td>0.000000</td>\n",
       "      <td>0.000000</td>\n",
       "      <td>0.000000</td>\n",
       "      <td>0.000000</td>\n",
       "      <td>0.000000</td>\n",
       "      <td>0.000000</td>\n",
       "      <td>0.000000</td>\n",
       "      <td>0.000000</td>\n",
       "      <td>0.000000</td>\n",
       "      <td>0.000000</td>\n",
       "      <td>0.000000</td>\n",
       "      <td>0.000000</td>\n",
       "      <td>0.000000</td>\n",
       "      <td>0.040000</td>\n",
       "      <td>0.040000</td>\n",
       "      <td>0.040000</td>\n",
       "      <td>0.080000</td>\n",
       "      <td>0.080000</td>\n",
       "      <td>0.040000</td>\n",
       "      <td>0.040000</td>\n",
       "      <td>0.080000</td>\n",
       "      <td>0.040000</td>\n",
       "      <td>0.120000</td>\n",
       "      <td>0.120000</td>\n",
       "      <td>0.120000</td>\n",
       "      <td>0.160000</td>\n",
       "      <td>0.200000</td>\n",
       "      <td>0.120000</td>\n",
       "      <td>0.120000</td>\n",
       "      <td>0.160000</td>\n",
       "      <td>0.080000</td>\n",
       "      <td>0.040000</td>\n",
       "      <td>0.200000</td>\n",
       "      <td>0.200000</td>\n",
       "      <td>0.160000</td>\n",
       "      <td>0.360000</td>\n",
       "      <td>0.520000</td>\n",
       "      <td>0.360000</td>\n",
       "      <td>0.520000</td>\n",
       "      <td>1.000000</td>\n",
       "      <td>0.800000</td>\n",
       "      <td>0.680000</td>\n",
       "    </tr>\n",
       "    <tr>\n",
       "      <th>Marituba</th>\n",
       "      <td>0.000000</td>\n",
       "      <td>0.000000</td>\n",
       "      <td>0.00000</td>\n",
       "      <td>0.00000</td>\n",
       "      <td>0.000000</td>\n",
       "      <td>0.071429</td>\n",
       "      <td>0.071429</td>\n",
       "      <td>0.071429</td>\n",
       "      <td>0.071429</td>\n",
       "      <td>0.071429</td>\n",
       "      <td>0.000000</td>\n",
       "      <td>0.000000</td>\n",
       "      <td>0.000000</td>\n",
       "      <td>0.000000</td>\n",
       "      <td>0.000000</td>\n",
       "      <td>0.000000</td>\n",
       "      <td>0.000000</td>\n",
       "      <td>0.000000</td>\n",
       "      <td>0.000000</td>\n",
       "      <td>0.000000</td>\n",
       "      <td>0.071429</td>\n",
       "      <td>0.071429</td>\n",
       "      <td>0.071429</td>\n",
       "      <td>0.071429</td>\n",
       "      <td>0.071429</td>\n",
       "      <td>0.000000</td>\n",
       "      <td>0.000000</td>\n",
       "      <td>0.000000</td>\n",
       "      <td>0.142857</td>\n",
       "      <td>0.214286</td>\n",
       "      <td>0.500000</td>\n",
       "      <td>0.642857</td>\n",
       "      <td>0.642857</td>\n",
       "      <td>0.785714</td>\n",
       "      <td>0.928571</td>\n",
       "      <td>0.714286</td>\n",
       "      <td>0.571429</td>\n",
       "      <td>0.642857</td>\n",
       "      <td>0.357143</td>\n",
       "      <td>0.428571</td>\n",
       "      <td>0.428571</td>\n",
       "      <td>0.428571</td>\n",
       "      <td>0.642857</td>\n",
       "      <td>1.000000</td>\n",
       "      <td>1.000000</td>\n",
       "      <td>0.928571</td>\n",
       "      <td>1.000000</td>\n",
       "      <td>0.928571</td>\n",
       "      <td>0.571429</td>\n",
       "      <td>0.285714</td>\n",
       "      <td>0.285714</td>\n",
       "      <td>0.285714</td>\n",
       "      <td>0.071429</td>\n",
       "      <td>0.071429</td>\n",
       "      <td>0.071429</td>\n",
       "      <td>0.071429</td>\n",
       "      <td>0.000000</td>\n",
       "    </tr>\n",
       "    <tr>\n",
       "      <th>Magé</th>\n",
       "      <td>0.000000</td>\n",
       "      <td>0.000000</td>\n",
       "      <td>0.02439</td>\n",
       "      <td>0.02439</td>\n",
       "      <td>0.073171</td>\n",
       "      <td>0.073171</td>\n",
       "      <td>0.073171</td>\n",
       "      <td>0.048780</td>\n",
       "      <td>0.048780</td>\n",
       "      <td>0.000000</td>\n",
       "      <td>0.000000</td>\n",
       "      <td>0.000000</td>\n",
       "      <td>0.000000</td>\n",
       "      <td>0.024390</td>\n",
       "      <td>0.024390</td>\n",
       "      <td>0.048780</td>\n",
       "      <td>0.048780</td>\n",
       "      <td>0.048780</td>\n",
       "      <td>0.024390</td>\n",
       "      <td>0.024390</td>\n",
       "      <td>0.000000</td>\n",
       "      <td>0.000000</td>\n",
       "      <td>0.024390</td>\n",
       "      <td>0.024390</td>\n",
       "      <td>0.024390</td>\n",
       "      <td>0.024390</td>\n",
       "      <td>0.097561</td>\n",
       "      <td>0.121951</td>\n",
       "      <td>0.146341</td>\n",
       "      <td>0.146341</td>\n",
       "      <td>0.146341</td>\n",
       "      <td>0.097561</td>\n",
       "      <td>0.048780</td>\n",
       "      <td>0.195122</td>\n",
       "      <td>0.365854</td>\n",
       "      <td>0.536585</td>\n",
       "      <td>0.512195</td>\n",
       "      <td>0.512195</td>\n",
       "      <td>0.365854</td>\n",
       "      <td>0.219512</td>\n",
       "      <td>0.073171</td>\n",
       "      <td>0.853659</td>\n",
       "      <td>1.000000</td>\n",
       "      <td>1.000000</td>\n",
       "      <td>0.975610</td>\n",
       "      <td>1.000000</td>\n",
       "      <td>0.243902</td>\n",
       "      <td>0.170732</td>\n",
       "      <td>0.317073</td>\n",
       "      <td>0.317073</td>\n",
       "      <td>0.268293</td>\n",
       "      <td>0.243902</td>\n",
       "      <td>0.170732</td>\n",
       "      <td>0.146341</td>\n",
       "      <td>0.219512</td>\n",
       "      <td>0.219512</td>\n",
       "      <td>0.219512</td>\n",
       "    </tr>\n",
       "  </tbody>\n",
       "</table>\n",
       "</div>"
      ],
      "text/plain": [
       "last_updated    2020-04-02  2020-04-07  2020-04-13  2020-04-14  2020-04-15  \\\n",
       "city                                                                         \n",
       "Barcarena         0.000000    0.000000     0.00000     0.00000    0.000000   \n",
       "Paragominas       0.000000    0.000000     0.00000     0.00000    0.000000   \n",
       "Curuçá            0.000000    0.000000     0.00000     0.00000    0.000000   \n",
       "Tucuruí           0.000000    0.000000     0.00000     0.00000    0.000000   \n",
       "Abaetetuba        0.000000    0.000000     0.00000     0.00000    0.000000   \n",
       "Benevides         0.000000    0.000000     0.00000     0.00000    0.000000   \n",
       "São Vicente       0.023256   -0.023256     0.00000     0.00000    0.000000   \n",
       "Campina Grande    0.000000    0.000000     0.00000     0.00000    0.000000   \n",
       "Marituba          0.000000    0.000000     0.00000     0.00000    0.000000   \n",
       "Magé              0.000000    0.000000     0.02439     0.02439    0.073171   \n",
       "\n",
       "last_updated    2020-04-16  2020-04-17  2020-04-18  2020-04-19  2020-04-20  \\\n",
       "city                                                                         \n",
       "Barcarena         0.000000    0.000000    0.000000    0.000000    0.000000   \n",
       "Paragominas       0.000000    0.000000    0.000000    0.000000    0.000000   \n",
       "Curuçá            0.000000    0.000000    0.000000    0.000000    0.000000   \n",
       "Tucuruí           0.000000    0.000000    0.000000    0.000000    0.000000   \n",
       "Abaetetuba        0.000000    0.000000    0.000000    0.000000    0.000000   \n",
       "Benevides         0.000000    0.000000    0.000000    0.000000    0.000000   \n",
       "São Vicente       0.000000    0.000000    0.000000    0.023256    0.000000   \n",
       "Campina Grande    0.040000    0.040000    0.040000    0.080000    0.080000   \n",
       "Marituba          0.071429    0.071429    0.071429    0.071429    0.071429   \n",
       "Magé              0.073171    0.073171    0.048780    0.048780    0.000000   \n",
       "\n",
       "last_updated    2020-04-21  2020-04-22  2020-04-23  2020-04-24  2020-04-25  \\\n",
       "city                                                                         \n",
       "Barcarena         0.000000    0.000000    0.000000    0.021277    0.021277   \n",
       "Paragominas       0.000000    0.000000    0.000000    0.000000    0.000000   \n",
       "Curuçá            0.000000    0.000000    0.000000    0.000000    0.000000   \n",
       "Tucuruí           0.000000    0.000000    0.000000    0.000000    0.000000   \n",
       "Abaetetuba        0.000000    0.000000    0.000000    0.000000    0.000000   \n",
       "Benevides         0.000000    0.000000    0.000000    0.045455    0.045455   \n",
       "São Vicente       0.023256    0.023256    0.023256    0.000000    0.023256   \n",
       "Campina Grande    0.040000    0.040000    0.040000    0.000000    0.000000   \n",
       "Marituba          0.000000    0.000000    0.000000    0.000000    0.000000   \n",
       "Magé              0.000000    0.000000    0.000000    0.024390    0.024390   \n",
       "\n",
       "last_updated    2020-04-26  2020-04-27  2020-04-28  2020-04-29  2020-04-30  \\\n",
       "city                                                                         \n",
       "Barcarena         0.021277    0.021277    0.021277    0.000000    0.000000   \n",
       "Paragominas       0.072464    0.108696    0.086957    0.130435    0.130435   \n",
       "Curuçá            0.000000    0.000000    0.000000    0.000000    0.000000   \n",
       "Tucuruí           0.000000    0.000000    0.000000    0.000000    0.000000   \n",
       "Abaetetuba        0.000000    0.000000    0.000000    0.000000    0.000000   \n",
       "Benevides         0.045455    0.045455    0.045455    0.000000    0.090909   \n",
       "São Vicente       0.000000    0.000000    0.023256    0.023256    0.023256   \n",
       "Campina Grande    0.000000    0.000000    0.000000    0.000000    0.000000   \n",
       "Marituba          0.000000    0.000000    0.000000    0.000000    0.000000   \n",
       "Magé              0.048780    0.048780    0.048780    0.024390    0.024390   \n",
       "\n",
       "last_updated    2020-05-01  2020-05-02  2020-05-03  2020-05-04  2020-05-05  \\\n",
       "city                                                                         \n",
       "Barcarena         0.000000    0.042553    0.042553    0.042553    0.042553   \n",
       "Paragominas       0.086957    0.043478    0.043478    0.000000    0.000000   \n",
       "Curuçá            0.000000    0.000000    0.000000    0.176471    0.176471   \n",
       "Tucuruí           0.000000    0.045455    0.045455    0.136364    0.136364   \n",
       "Abaetetuba        0.000000    0.000000    0.000000    0.000000    0.000000   \n",
       "Benevides         0.181818    0.181818    0.181818    0.181818    0.090909   \n",
       "São Vicente       0.069767    0.069767    0.046512    0.046512    0.046512   \n",
       "Campina Grande    0.000000    0.000000    0.000000    0.000000    0.000000   \n",
       "Marituba          0.071429    0.071429    0.071429    0.071429    0.071429   \n",
       "Magé              0.000000    0.000000    0.024390    0.024390    0.024390   \n",
       "\n",
       "last_updated    2020-05-06  2020-05-07  2020-05-08  2020-05-09  2020-05-10  \\\n",
       "city                                                                         \n",
       "Barcarena         0.042553    0.000000    0.042553    0.042553    0.042553   \n",
       "Paragominas       0.000000    0.000000    0.000000    0.000000    0.000000   \n",
       "Curuçá            0.176471    0.176471    0.176471    0.000000    0.000000   \n",
       "Tucuruí           0.136364    0.090909    0.227273    0.136364    0.136364   \n",
       "Abaetetuba        0.000000    0.000000    0.043478    0.043478    0.130435   \n",
       "Benevides         0.000000    0.000000    0.045455    0.090909    0.136364   \n",
       "São Vicente       0.023256    0.093023    0.116279    0.139535    0.139535   \n",
       "Campina Grande    0.000000    0.000000    0.000000    0.040000    0.040000   \n",
       "Marituba          0.000000    0.000000    0.000000    0.142857    0.214286   \n",
       "Magé              0.024390    0.097561    0.121951    0.146341    0.146341   \n",
       "\n",
       "last_updated    2020-05-11  2020-05-12  2020-05-13  2020-05-14  2020-05-15  \\\n",
       "city                                                                         \n",
       "Barcarena         0.085106    0.106383    0.063830    0.063830    0.063830   \n",
       "Paragominas       0.000000    0.000000    0.000000    0.000000    0.000000   \n",
       "Curuçá            0.411765    0.411765    0.411765    0.411765    0.470588   \n",
       "Tucuruí           0.136364    0.136364    0.045455    0.045455    0.045455   \n",
       "Abaetetuba        0.260870    0.304348    0.347826    0.347826    0.260870   \n",
       "Benevides         0.136364    0.181818    0.136364    0.090909    0.045455   \n",
       "São Vicente       0.116279    0.046512    0.069767    0.093023    0.093023   \n",
       "Campina Grande    0.040000    0.080000    0.080000    0.040000    0.040000   \n",
       "Marituba          0.500000    0.642857    0.642857    0.785714    0.928571   \n",
       "Magé              0.146341    0.097561    0.048780    0.195122    0.365854   \n",
       "\n",
       "last_updated    2020-05-16  2020-05-17  2020-05-18  2020-05-19  2020-05-20  \\\n",
       "city                                                                         \n",
       "Barcarena         0.021277    0.000000    0.063830    0.063830    0.787234   \n",
       "Paragominas       0.000000    0.000000    0.000000    0.000000    0.260870   \n",
       "Curuçá            0.058824    0.058824    0.058824    0.058824    0.705882   \n",
       "Tucuruí           0.045455    0.500000    0.681818    0.681818    1.000000   \n",
       "Abaetetuba        0.173913    0.130435    0.130435    0.130435    0.260870   \n",
       "Benevides         0.090909    0.045455    0.045455    0.045455    0.090909   \n",
       "São Vicente       0.116279    0.116279    0.209302    0.348837    0.348837   \n",
       "Campina Grande    0.080000    0.040000    0.120000    0.120000    0.120000   \n",
       "Marituba          0.714286    0.571429    0.642857    0.357143    0.428571   \n",
       "Magé              0.536585    0.512195    0.512195    0.365854    0.219512   \n",
       "\n",
       "last_updated    2020-05-21  2020-05-22  2020-05-23  2020-05-24  2020-05-25  \\\n",
       "city                                                                         \n",
       "Barcarena         0.808511    0.978723    1.000000    1.000000    0.297872   \n",
       "Paragominas       0.478261    0.478261    0.695652    0.695652    0.521739   \n",
       "Curuçá            0.705882    0.882353    0.941176    1.000000    0.411765   \n",
       "Tucuruí           1.000000    0.727273    0.500000    0.500000    0.454545   \n",
       "Abaetetuba        0.304348    0.695652    0.913043    0.913043    0.869565   \n",
       "Benevides         0.136364    0.136364    0.181818    0.181818    0.181818   \n",
       "São Vicente       0.372093    0.441860    0.325581    0.348837    0.488372   \n",
       "Campina Grande    0.160000    0.200000    0.120000    0.120000    0.160000   \n",
       "Marituba          0.428571    0.428571    0.642857    1.000000    1.000000   \n",
       "Magé              0.073171    0.853659    1.000000    1.000000    0.975610   \n",
       "\n",
       "last_updated    2020-05-26  2020-05-27  2020-05-28  2020-05-29  2020-05-30  \\\n",
       "city                                                                         \n",
       "Barcarena         0.319149    0.148936    0.063830    0.042553    0.063830   \n",
       "Paragominas       0.956522    0.956522    0.782609    1.000000    0.913043   \n",
       "Curuçá            0.411765    0.470588    0.411765    0.411765    0.352941   \n",
       "Tucuruí           0.500000    0.318182    0.590909    0.590909    0.318182   \n",
       "Abaetetuba        1.000000    0.869565    0.652174    0.782609    0.739130   \n",
       "Benevides         0.090909    0.090909    0.409091    0.409091    1.000000   \n",
       "São Vicente       0.418605    0.813953    1.000000    0.790698    0.697674   \n",
       "Campina Grande    0.080000    0.040000    0.200000    0.200000    0.160000   \n",
       "Marituba          0.928571    1.000000    0.928571    0.571429    0.285714   \n",
       "Magé              1.000000    0.243902    0.170732    0.317073    0.317073   \n",
       "\n",
       "last_updated    2020-05-31  2020-06-01  2020-06-02  2020-06-03  2020-06-04  \\\n",
       "city                                                                         \n",
       "Barcarena         0.021277    0.021277    0.063830    0.063830    0.021277   \n",
       "Paragominas       0.260870    0.304348    0.652174    0.608696    0.608696   \n",
       "Curuçá            0.352941    0.117647    0.117647    0.058824    0.000000   \n",
       "Tucuruí           0.272727    0.272727    0.000000    0.136364    0.136364   \n",
       "Abaetetuba        0.521739    0.260870    0.478261    0.478261    0.434783   \n",
       "Benevides         1.000000    1.000000    0.727273    0.772727    0.136364   \n",
       "São Vicente       0.720930    0.255814    0.139535    0.186047    0.232558   \n",
       "Campina Grande    0.360000    0.520000    0.360000    0.520000    1.000000   \n",
       "Marituba          0.285714    0.285714    0.071429    0.071429    0.071429   \n",
       "Magé              0.268293    0.243902    0.170732    0.146341    0.219512   \n",
       "\n",
       "last_updated    2020-06-05  2020-06-06  \n",
       "city                                    \n",
       "Barcarena         0.021277    0.021277  \n",
       "Paragominas       0.608696    0.565217  \n",
       "Curuçá            0.000000    0.000000  \n",
       "Tucuruí           0.136364    0.136364  \n",
       "Abaetetuba        0.434783    0.434783  \n",
       "Benevides         0.136364    0.136364  \n",
       "São Vicente       0.255814    0.255814  \n",
       "Campina Grande    0.800000    0.680000  \n",
       "Marituba          0.071429    0.000000  \n",
       "Magé              0.219512    0.219512  "
      ]
     },
     "execution_count": 26,
     "metadata": {},
     "output_type": "execute_result"
    }
   ],
   "source": [
    "df_heatmap.loc[cities_names]"
   ]
  },
  {
   "cell_type": "code",
   "execution_count": 27,
   "metadata": {},
   "outputs": [
    {
     "data": {
      "application/vnd.plotly.v1+json": {
       "config": {
        "plotlyServerURL": "https://plot.ly"
       },
       "data": [
        {
         "colorscale": [
          [
           0,
           "rgb(0, 147, 146)"
          ],
          [
           0.16666666666666666,
           "rgb(57, 177, 133)"
          ],
          [
           0.3333333333333333,
           "rgb(156, 203, 134)"
          ],
          [
           0.5,
           "rgb(233, 226, 156)"
          ],
          [
           0.6666666666666666,
           "rgb(238, 180, 121)"
          ],
          [
           0.8333333333333334,
           "rgb(232, 132, 113)"
          ],
          [
           1,
           "rgb(207, 89, 126)"
          ]
         ],
         "showscale": false,
         "type": "heatmap",
         "x": [
          "2020-04-02",
          "2020-04-07",
          "2020-04-13",
          "2020-04-14",
          "2020-04-15",
          "2020-04-16",
          "2020-04-17",
          "2020-04-18",
          "2020-04-19",
          "2020-04-20",
          "2020-04-21",
          "2020-04-22",
          "2020-04-23",
          "2020-04-24",
          "2020-04-25",
          "2020-04-26",
          "2020-04-27",
          "2020-04-28",
          "2020-04-29",
          "2020-04-30",
          "2020-05-01",
          "2020-05-02",
          "2020-05-03",
          "2020-05-04",
          "2020-05-05",
          "2020-05-06",
          "2020-05-07",
          "2020-05-08",
          "2020-05-09",
          "2020-05-10",
          "2020-05-11",
          "2020-05-12",
          "2020-05-13",
          "2020-05-14",
          "2020-05-15",
          "2020-05-16",
          "2020-05-17",
          "2020-05-18",
          "2020-05-19",
          "2020-05-20",
          "2020-05-21",
          "2020-05-22",
          "2020-05-23",
          "2020-05-24",
          "2020-05-25",
          "2020-05-26",
          "2020-05-27",
          "2020-05-28",
          "2020-05-29",
          "2020-05-30",
          "2020-05-31",
          "2020-06-01",
          "2020-06-02",
          "2020-06-03",
          "2020-06-04",
          "2020-06-05",
          "2020-06-06"
         ],
         "y": [
          "Magé",
          "Marituba",
          "Campina Grande",
          "São Vicente",
          "Benevides",
          "Abaetetuba",
          "Tucuruí",
          "Curuçá",
          "Paragominas",
          "Barcarena"
         ],
         "z": [
          [
           0,
           0,
           0.02439024390243903,
           0.02439024390243903,
           0.07317073170731708,
           0.07317073170731708,
           0.07317073170731708,
           0.04878048780487806,
           0.04878048780487806,
           0,
           0,
           0,
           0,
           0.02439024390243903,
           0.02439024390243903,
           0.04878048780487806,
           0.04878048780487806,
           0.04878048780487806,
           0.02439024390243903,
           0.02439024390243903,
           0,
           0,
           0.02439024390243903,
           0.02439024390243903,
           0.02439024390243903,
           0.02439024390243903,
           0.09756097560975611,
           0.12195121951219513,
           0.14634146341463417,
           0.14634146341463417,
           0.14634146341463417,
           0.09756097560975611,
           0.04878048780487806,
           0.19512195121951223,
           0.3658536585365854,
           0.5365853658536587,
           0.5121951219512195,
           0.5121951219512195,
           0.3658536585365854,
           0.21951219512195125,
           0.07317073170731708,
           0.853658536585366,
           1,
           1,
           0.9756097560975611,
           1,
           0.24390243902439027,
           0.17073170731707318,
           0.3170731707317074,
           0.3170731707317074,
           0.26829268292682934,
           0.24390243902439027,
           0.17073170731707318,
           0.14634146341463417,
           0.21951219512195125,
           0.21951219512195125,
           0.21951219512195125
          ],
          [
           0,
           0,
           0,
           0,
           0,
           0.07142857142857144,
           0.07142857142857144,
           0.07142857142857144,
           0.07142857142857144,
           0.07142857142857144,
           0,
           0,
           0,
           0,
           0,
           0,
           0,
           0,
           0,
           0,
           0.07142857142857144,
           0.07142857142857144,
           0.07142857142857144,
           0.07142857142857144,
           0.07142857142857144,
           0,
           0,
           0,
           0.14285714285714288,
           0.2142857142857143,
           0.5,
           0.6428571428571429,
           0.6428571428571429,
           0.7857142857142858,
           0.9285714285714287,
           0.7142857142857143,
           0.5714285714285715,
           0.6428571428571429,
           0.35714285714285715,
           0.4285714285714286,
           0.4285714285714286,
           0.4285714285714286,
           0.6428571428571429,
           1,
           1,
           0.9285714285714287,
           1,
           0.9285714285714287,
           0.5714285714285715,
           0.28571428571428575,
           0.28571428571428575,
           0.28571428571428575,
           0.07142857142857144,
           0.07142857142857144,
           0.07142857142857144,
           0.07142857142857144,
           0
          ],
          [
           0,
           0,
           0,
           0,
           0,
           0.04,
           0.04,
           0.04,
           0.08,
           0.08,
           0.04,
           0.04,
           0.04,
           0,
           0,
           0,
           0,
           0,
           0,
           0,
           0,
           0,
           0,
           0,
           0,
           0,
           0,
           0,
           0.04,
           0.04,
           0.04,
           0.08,
           0.08,
           0.04,
           0.04,
           0.08,
           0.04,
           0.12,
           0.12,
           0.12,
           0.16,
           0.2,
           0.12,
           0.12,
           0.16,
           0.08,
           0.04,
           0.2,
           0.2,
           0.16,
           0.36,
           0.52,
           0.36,
           0.52,
           1,
           0.8,
           0.6799999999999999
          ],
          [
           0.023255813953488375,
           -0.023255813953488375,
           0,
           0,
           0,
           0,
           0,
           0,
           0.023255813953488375,
           0,
           0.023255813953488375,
           0.023255813953488375,
           0.023255813953488375,
           0,
           0.023255813953488375,
           0,
           0,
           0.023255813953488375,
           0.023255813953488375,
           0.023255813953488375,
           0.06976744186046512,
           0.06976744186046512,
           0.04651162790697675,
           0.04651162790697675,
           0.04651162790697675,
           0.023255813953488375,
           0.0930232558139535,
           0.11627906976744186,
           0.13953488372093023,
           0.13953488372093023,
           0.11627906976744186,
           0.04651162790697675,
           0.06976744186046512,
           0.0930232558139535,
           0.0930232558139535,
           0.11627906976744186,
           0.11627906976744186,
           0.20930232558139536,
           0.3488372093023256,
           0.3488372093023256,
           0.372093023255814,
           0.4418604651162791,
           0.3255813953488372,
           0.3488372093023256,
           0.48837209302325585,
           0.4186046511627907,
           0.813953488372093,
           1,
           0.7906976744186046,
           0.6976744186046512,
           0.7209302325581396,
           0.2558139534883721,
           0.13953488372093023,
           0.186046511627907,
           0.23255813953488372,
           0.2558139534883721,
           0.2558139534883721
          ],
          [
           0,
           0,
           0,
           0,
           0,
           0,
           0,
           0,
           0,
           0,
           0,
           0,
           0,
           0.045454545454545456,
           0.045454545454545456,
           0.045454545454545456,
           0.045454545454545456,
           0.045454545454545456,
           0,
           0.09090909090909091,
           0.18181818181818182,
           0.18181818181818182,
           0.18181818181818182,
           0.18181818181818182,
           0.09090909090909091,
           0,
           0,
           0.045454545454545456,
           0.09090909090909091,
           0.13636363636363635,
           0.13636363636363635,
           0.18181818181818182,
           0.13636363636363635,
           0.09090909090909091,
           0.045454545454545456,
           0.09090909090909091,
           0.045454545454545456,
           0.045454545454545456,
           0.045454545454545456,
           0.09090909090909091,
           0.13636363636363635,
           0.13636363636363635,
           0.18181818181818182,
           0.18181818181818182,
           0.18181818181818182,
           0.09090909090909091,
           0.09090909090909091,
           0.40909090909090906,
           0.40909090909090906,
           1,
           1,
           1,
           0.7272727272727273,
           0.7727272727272726,
           0.13636363636363635,
           0.13636363636363635,
           0.13636363636363635
          ],
          [
           0,
           0,
           0,
           0,
           0,
           0,
           0,
           0,
           0,
           0,
           0,
           0,
           0,
           0,
           0,
           0,
           0,
           0,
           0,
           0,
           0,
           0,
           0,
           0,
           0,
           0,
           0,
           0.04347826086956522,
           0.04347826086956522,
           0.13043478260869565,
           0.2608695652173913,
           0.30434782608695654,
           0.3478260869565218,
           0.3478260869565218,
           0.2608695652173913,
           0.1739130434782609,
           0.13043478260869565,
           0.13043478260869565,
           0.13043478260869565,
           0.2608695652173913,
           0.30434782608695654,
           0.6956521739130436,
           0.9130434782608696,
           0.9130434782608696,
           0.8695652173913044,
           1,
           0.8695652173913044,
           0.6521739130434783,
           0.782608695652174,
           0.7391304347826088,
           0.5217391304347826,
           0.2608695652173913,
           0.47826086956521746,
           0.47826086956521746,
           0.4347826086956522,
           0.4347826086956522,
           0.4347826086956522
          ],
          [
           0,
           0,
           0,
           0,
           0,
           0,
           0,
           0,
           0,
           0,
           0,
           0,
           0,
           0,
           0,
           0,
           0,
           0,
           0,
           0,
           0,
           0.045454545454545456,
           0.045454545454545456,
           0.13636363636363635,
           0.13636363636363635,
           0.13636363636363635,
           0.09090909090909091,
           0.22727272727272727,
           0.13636363636363635,
           0.13636363636363635,
           0.13636363636363635,
           0.13636363636363635,
           0.045454545454545456,
           0.045454545454545456,
           0.045454545454545456,
           0.045454545454545456,
           0.5,
           0.6818181818181818,
           0.6818181818181818,
           1,
           1,
           0.7272727272727273,
           0.5,
           0.5,
           0.45454545454545453,
           0.5,
           0.3181818181818181,
           0.5909090909090908,
           0.5909090909090908,
           0.3181818181818181,
           0.2727272727272727,
           0.2727272727272727,
           0,
           0.13636363636363635,
           0.13636363636363635,
           0.13636363636363635,
           0.13636363636363635
          ],
          [
           0,
           0,
           0,
           0,
           0,
           0,
           0,
           0,
           0,
           0,
           0,
           0,
           0,
           0,
           0,
           0,
           0,
           0,
           0,
           0,
           0,
           0,
           0,
           0.17647058823529413,
           0.17647058823529413,
           0.17647058823529413,
           0.17647058823529413,
           0.17647058823529413,
           0,
           0,
           0.4117647058823529,
           0.4117647058823529,
           0.4117647058823529,
           0.4117647058823529,
           0.4705882352941177,
           0.05882352941176471,
           0.05882352941176471,
           0.05882352941176471,
           0.05882352941176471,
           0.7058823529411765,
           0.7058823529411765,
           0.8823529411764706,
           0.9411764705882354,
           1,
           0.4117647058823529,
           0.4117647058823529,
           0.4705882352941177,
           0.4117647058823529,
           0.4117647058823529,
           0.35294117647058826,
           0.35294117647058826,
           0.11764705882352942,
           0.11764705882352942,
           0.05882352941176471,
           0,
           0,
           0
          ],
          [
           0,
           0,
           0,
           0,
           0,
           0,
           0,
           0,
           0,
           0,
           0,
           0,
           0,
           0,
           0,
           0.07246376811594203,
           0.10869565217391305,
           0.08695652173913045,
           0.13043478260869565,
           0.13043478260869565,
           0.08695652173913045,
           0.04347826086956522,
           0.04347826086956522,
           0,
           0,
           0,
           0,
           0,
           0,
           0,
           0,
           0,
           0,
           0,
           0,
           0,
           0,
           0,
           0,
           0.2608695652173913,
           0.47826086956521746,
           0.47826086956521746,
           0.6956521739130436,
           0.6956521739130436,
           0.5217391304347826,
           0.9565217391304349,
           0.9565217391304349,
           0.782608695652174,
           1,
           0.9130434782608696,
           0.2608695652173913,
           0.30434782608695654,
           0.6521739130434783,
           0.6086956521739131,
           0.6086956521739131,
           0.6086956521739131,
           0.5652173913043479
          ],
          [
           0,
           0,
           0,
           0,
           0,
           0,
           0,
           0,
           0,
           0,
           0,
           0,
           0,
           0.02127659574468085,
           0.02127659574468085,
           0.02127659574468085,
           0.02127659574468085,
           0.02127659574468085,
           0,
           0,
           0,
           0.0425531914893617,
           0.0425531914893617,
           0.0425531914893617,
           0.0425531914893617,
           0.0425531914893617,
           0,
           0.0425531914893617,
           0.0425531914893617,
           0.0425531914893617,
           0.0851063829787234,
           0.10638297872340426,
           0.06382978723404255,
           0.06382978723404255,
           0.06382978723404255,
           0.02127659574468085,
           0,
           0.06382978723404255,
           0.06382978723404255,
           0.7872340425531915,
           0.8085106382978723,
           0.978723404255319,
           1,
           1,
           0.2978723404255319,
           0.3191489361702127,
           0.14893617021276595,
           0.06382978723404255,
           0.0425531914893617,
           0.06382978723404255,
           0.02127659574468085,
           0.02127659574468085,
           0.06382978723404255,
           0.06382978723404255,
           0.02127659574468085,
           0.02127659574468085,
           0.02127659574468085
          ]
         ],
         "zmax": 1,
         "zmin": 0
        },
        {
         "orientation": "h",
         "type": "bar",
         "x": [
          98,
          43,
          41,
          91,
          40,
          62,
          49,
          36,
          56,
          64
         ],
         "xaxis": "x2",
         "y": [
          "Magé",
          "Marituba",
          "Campina Grande",
          "São Vicente",
          "Benevides",
          "Abaetetuba",
          "Tucuruí",
          "Curuçá",
          "Paragominas",
          "Barcarena"
         ],
         "yaxis": "y2"
        }
       ],
       "layout": {
        "plot_bgcolor": "rgba(0,0,0,0)",
        "template": {
         "data": {
          "bar": [
           {
            "error_x": {
             "color": "#2a3f5f"
            },
            "error_y": {
             "color": "#2a3f5f"
            },
            "marker": {
             "line": {
              "color": "#E5ECF6",
              "width": 0.5
             }
            },
            "type": "bar"
           }
          ],
          "barpolar": [
           {
            "marker": {
             "line": {
              "color": "#E5ECF6",
              "width": 0.5
             }
            },
            "type": "barpolar"
           }
          ],
          "carpet": [
           {
            "aaxis": {
             "endlinecolor": "#2a3f5f",
             "gridcolor": "white",
             "linecolor": "white",
             "minorgridcolor": "white",
             "startlinecolor": "#2a3f5f"
            },
            "baxis": {
             "endlinecolor": "#2a3f5f",
             "gridcolor": "white",
             "linecolor": "white",
             "minorgridcolor": "white",
             "startlinecolor": "#2a3f5f"
            },
            "type": "carpet"
           }
          ],
          "choropleth": [
           {
            "colorbar": {
             "outlinewidth": 0,
             "ticks": ""
            },
            "type": "choropleth"
           }
          ],
          "contour": [
           {
            "colorbar": {
             "outlinewidth": 0,
             "ticks": ""
            },
            "colorscale": [
             [
              0,
              "#0d0887"
             ],
             [
              0.1111111111111111,
              "#46039f"
             ],
             [
              0.2222222222222222,
              "#7201a8"
             ],
             [
              0.3333333333333333,
              "#9c179e"
             ],
             [
              0.4444444444444444,
              "#bd3786"
             ],
             [
              0.5555555555555556,
              "#d8576b"
             ],
             [
              0.6666666666666666,
              "#ed7953"
             ],
             [
              0.7777777777777778,
              "#fb9f3a"
             ],
             [
              0.8888888888888888,
              "#fdca26"
             ],
             [
              1,
              "#f0f921"
             ]
            ],
            "type": "contour"
           }
          ],
          "contourcarpet": [
           {
            "colorbar": {
             "outlinewidth": 0,
             "ticks": ""
            },
            "type": "contourcarpet"
           }
          ],
          "heatmap": [
           {
            "colorbar": {
             "outlinewidth": 0,
             "ticks": ""
            },
            "colorscale": [
             [
              0,
              "#0d0887"
             ],
             [
              0.1111111111111111,
              "#46039f"
             ],
             [
              0.2222222222222222,
              "#7201a8"
             ],
             [
              0.3333333333333333,
              "#9c179e"
             ],
             [
              0.4444444444444444,
              "#bd3786"
             ],
             [
              0.5555555555555556,
              "#d8576b"
             ],
             [
              0.6666666666666666,
              "#ed7953"
             ],
             [
              0.7777777777777778,
              "#fb9f3a"
             ],
             [
              0.8888888888888888,
              "#fdca26"
             ],
             [
              1,
              "#f0f921"
             ]
            ],
            "type": "heatmap"
           }
          ],
          "heatmapgl": [
           {
            "colorbar": {
             "outlinewidth": 0,
             "ticks": ""
            },
            "colorscale": [
             [
              0,
              "#0d0887"
             ],
             [
              0.1111111111111111,
              "#46039f"
             ],
             [
              0.2222222222222222,
              "#7201a8"
             ],
             [
              0.3333333333333333,
              "#9c179e"
             ],
             [
              0.4444444444444444,
              "#bd3786"
             ],
             [
              0.5555555555555556,
              "#d8576b"
             ],
             [
              0.6666666666666666,
              "#ed7953"
             ],
             [
              0.7777777777777778,
              "#fb9f3a"
             ],
             [
              0.8888888888888888,
              "#fdca26"
             ],
             [
              1,
              "#f0f921"
             ]
            ],
            "type": "heatmapgl"
           }
          ],
          "histogram": [
           {
            "marker": {
             "colorbar": {
              "outlinewidth": 0,
              "ticks": ""
             }
            },
            "type": "histogram"
           }
          ],
          "histogram2d": [
           {
            "colorbar": {
             "outlinewidth": 0,
             "ticks": ""
            },
            "colorscale": [
             [
              0,
              "#0d0887"
             ],
             [
              0.1111111111111111,
              "#46039f"
             ],
             [
              0.2222222222222222,
              "#7201a8"
             ],
             [
              0.3333333333333333,
              "#9c179e"
             ],
             [
              0.4444444444444444,
              "#bd3786"
             ],
             [
              0.5555555555555556,
              "#d8576b"
             ],
             [
              0.6666666666666666,
              "#ed7953"
             ],
             [
              0.7777777777777778,
              "#fb9f3a"
             ],
             [
              0.8888888888888888,
              "#fdca26"
             ],
             [
              1,
              "#f0f921"
             ]
            ],
            "type": "histogram2d"
           }
          ],
          "histogram2dcontour": [
           {
            "colorbar": {
             "outlinewidth": 0,
             "ticks": ""
            },
            "colorscale": [
             [
              0,
              "#0d0887"
             ],
             [
              0.1111111111111111,
              "#46039f"
             ],
             [
              0.2222222222222222,
              "#7201a8"
             ],
             [
              0.3333333333333333,
              "#9c179e"
             ],
             [
              0.4444444444444444,
              "#bd3786"
             ],
             [
              0.5555555555555556,
              "#d8576b"
             ],
             [
              0.6666666666666666,
              "#ed7953"
             ],
             [
              0.7777777777777778,
              "#fb9f3a"
             ],
             [
              0.8888888888888888,
              "#fdca26"
             ],
             [
              1,
              "#f0f921"
             ]
            ],
            "type": "histogram2dcontour"
           }
          ],
          "mesh3d": [
           {
            "colorbar": {
             "outlinewidth": 0,
             "ticks": ""
            },
            "type": "mesh3d"
           }
          ],
          "parcoords": [
           {
            "line": {
             "colorbar": {
              "outlinewidth": 0,
              "ticks": ""
             }
            },
            "type": "parcoords"
           }
          ],
          "pie": [
           {
            "automargin": true,
            "type": "pie"
           }
          ],
          "scatter": [
           {
            "marker": {
             "colorbar": {
              "outlinewidth": 0,
              "ticks": ""
             }
            },
            "type": "scatter"
           }
          ],
          "scatter3d": [
           {
            "line": {
             "colorbar": {
              "outlinewidth": 0,
              "ticks": ""
             }
            },
            "marker": {
             "colorbar": {
              "outlinewidth": 0,
              "ticks": ""
             }
            },
            "type": "scatter3d"
           }
          ],
          "scattercarpet": [
           {
            "marker": {
             "colorbar": {
              "outlinewidth": 0,
              "ticks": ""
             }
            },
            "type": "scattercarpet"
           }
          ],
          "scattergeo": [
           {
            "marker": {
             "colorbar": {
              "outlinewidth": 0,
              "ticks": ""
             }
            },
            "type": "scattergeo"
           }
          ],
          "scattergl": [
           {
            "marker": {
             "colorbar": {
              "outlinewidth": 0,
              "ticks": ""
             }
            },
            "type": "scattergl"
           }
          ],
          "scattermapbox": [
           {
            "marker": {
             "colorbar": {
              "outlinewidth": 0,
              "ticks": ""
             }
            },
            "type": "scattermapbox"
           }
          ],
          "scatterpolar": [
           {
            "marker": {
             "colorbar": {
              "outlinewidth": 0,
              "ticks": ""
             }
            },
            "type": "scatterpolar"
           }
          ],
          "scatterpolargl": [
           {
            "marker": {
             "colorbar": {
              "outlinewidth": 0,
              "ticks": ""
             }
            },
            "type": "scatterpolargl"
           }
          ],
          "scatterternary": [
           {
            "marker": {
             "colorbar": {
              "outlinewidth": 0,
              "ticks": ""
             }
            },
            "type": "scatterternary"
           }
          ],
          "surface": [
           {
            "colorbar": {
             "outlinewidth": 0,
             "ticks": ""
            },
            "colorscale": [
             [
              0,
              "#0d0887"
             ],
             [
              0.1111111111111111,
              "#46039f"
             ],
             [
              0.2222222222222222,
              "#7201a8"
             ],
             [
              0.3333333333333333,
              "#9c179e"
             ],
             [
              0.4444444444444444,
              "#bd3786"
             ],
             [
              0.5555555555555556,
              "#d8576b"
             ],
             [
              0.6666666666666666,
              "#ed7953"
             ],
             [
              0.7777777777777778,
              "#fb9f3a"
             ],
             [
              0.8888888888888888,
              "#fdca26"
             ],
             [
              1,
              "#f0f921"
             ]
            ],
            "type": "surface"
           }
          ],
          "table": [
           {
            "cells": {
             "fill": {
              "color": "#EBF0F8"
             },
             "line": {
              "color": "white"
             }
            },
            "header": {
             "fill": {
              "color": "#C8D4E3"
             },
             "line": {
              "color": "white"
             }
            },
            "type": "table"
           }
          ]
         },
         "layout": {
          "annotationdefaults": {
           "arrowcolor": "#2a3f5f",
           "arrowhead": 0,
           "arrowwidth": 1
          },
          "coloraxis": {
           "colorbar": {
            "outlinewidth": 0,
            "ticks": ""
           }
          },
          "colorscale": {
           "diverging": [
            [
             0,
             "#8e0152"
            ],
            [
             0.1,
             "#c51b7d"
            ],
            [
             0.2,
             "#de77ae"
            ],
            [
             0.3,
             "#f1b6da"
            ],
            [
             0.4,
             "#fde0ef"
            ],
            [
             0.5,
             "#f7f7f7"
            ],
            [
             0.6,
             "#e6f5d0"
            ],
            [
             0.7,
             "#b8e186"
            ],
            [
             0.8,
             "#7fbc41"
            ],
            [
             0.9,
             "#4d9221"
            ],
            [
             1,
             "#276419"
            ]
           ],
           "sequential": [
            [
             0,
             "#0d0887"
            ],
            [
             0.1111111111111111,
             "#46039f"
            ],
            [
             0.2222222222222222,
             "#7201a8"
            ],
            [
             0.3333333333333333,
             "#9c179e"
            ],
            [
             0.4444444444444444,
             "#bd3786"
            ],
            [
             0.5555555555555556,
             "#d8576b"
            ],
            [
             0.6666666666666666,
             "#ed7953"
            ],
            [
             0.7777777777777778,
             "#fb9f3a"
            ],
            [
             0.8888888888888888,
             "#fdca26"
            ],
            [
             1,
             "#f0f921"
            ]
           ],
           "sequentialminus": [
            [
             0,
             "#0d0887"
            ],
            [
             0.1111111111111111,
             "#46039f"
            ],
            [
             0.2222222222222222,
             "#7201a8"
            ],
            [
             0.3333333333333333,
             "#9c179e"
            ],
            [
             0.4444444444444444,
             "#bd3786"
            ],
            [
             0.5555555555555556,
             "#d8576b"
            ],
            [
             0.6666666666666666,
             "#ed7953"
            ],
            [
             0.7777777777777778,
             "#fb9f3a"
            ],
            [
             0.8888888888888888,
             "#fdca26"
            ],
            [
             1,
             "#f0f921"
            ]
           ]
          },
          "colorway": [
           "#636efa",
           "#EF553B",
           "#00cc96",
           "#ab63fa",
           "#FFA15A",
           "#19d3f3",
           "#FF6692",
           "#B6E880",
           "#FF97FF",
           "#FECB52"
          ],
          "font": {
           "color": "#2a3f5f"
          },
          "geo": {
           "bgcolor": "white",
           "lakecolor": "white",
           "landcolor": "#E5ECF6",
           "showlakes": true,
           "showland": true,
           "subunitcolor": "white"
          },
          "hoverlabel": {
           "align": "left"
          },
          "hovermode": "closest",
          "mapbox": {
           "style": "light"
          },
          "paper_bgcolor": "white",
          "plot_bgcolor": "#E5ECF6",
          "polar": {
           "angularaxis": {
            "gridcolor": "white",
            "linecolor": "white",
            "ticks": ""
           },
           "bgcolor": "#E5ECF6",
           "radialaxis": {
            "gridcolor": "white",
            "linecolor": "white",
            "ticks": ""
           }
          },
          "scene": {
           "xaxis": {
            "backgroundcolor": "#E5ECF6",
            "gridcolor": "white",
            "gridwidth": 2,
            "linecolor": "white",
            "showbackground": true,
            "ticks": "",
            "zerolinecolor": "white"
           },
           "yaxis": {
            "backgroundcolor": "#E5ECF6",
            "gridcolor": "white",
            "gridwidth": 2,
            "linecolor": "white",
            "showbackground": true,
            "ticks": "",
            "zerolinecolor": "white"
           },
           "zaxis": {
            "backgroundcolor": "#E5ECF6",
            "gridcolor": "white",
            "gridwidth": 2,
            "linecolor": "white",
            "showbackground": true,
            "ticks": "",
            "zerolinecolor": "white"
           }
          },
          "shapedefaults": {
           "line": {
            "color": "#2a3f5f"
           }
          },
          "ternary": {
           "aaxis": {
            "gridcolor": "white",
            "linecolor": "white",
            "ticks": ""
           },
           "baxis": {
            "gridcolor": "white",
            "linecolor": "white",
            "ticks": ""
           },
           "bgcolor": "#E5ECF6",
           "caxis": {
            "gridcolor": "white",
            "linecolor": "white",
            "ticks": ""
           }
          },
          "title": {
           "x": 0.05
          },
          "xaxis": {
           "automargin": true,
           "gridcolor": "white",
           "linecolor": "white",
           "ticks": "",
           "title": {
            "standoff": 15
           },
           "zerolinecolor": "white",
           "zerolinewidth": 2
          },
          "yaxis": {
           "automargin": true,
           "gridcolor": "white",
           "linecolor": "white",
           "ticks": "",
           "title": {
            "standoff": 15
           },
           "zerolinecolor": "white",
           "zerolinewidth": 2
          }
         }
        },
        "title": {
         "text": "Mapa de calor: Média móvel de novas mortes nos últimos 5 dias"
        },
        "xaxis": {
         "domain": [
          0,
          0.7
         ]
        },
        "xaxis2": {
         "domain": [
          0.8,
          1
         ],
         "showticklabels": true
        },
        "yaxis": {
         "tickmode": "linear"
        },
        "yaxis2": {
         "anchor": "x2",
         "tickmode": "linear"
        }
       }
      },
      "text/html": [
       "<div>\n",
       "        \n",
       "        \n",
       "            <div id=\"f2534eb9-ce55-4ae1-a9bf-095e2e77cd21\" class=\"plotly-graph-div\" style=\"height:525px; width:100%;\"></div>\n",
       "            <script type=\"text/javascript\">\n",
       "                require([\"plotly\"], function(Plotly) {\n",
       "                    window.PLOTLYENV=window.PLOTLYENV || {};\n",
       "                    \n",
       "                if (document.getElementById(\"f2534eb9-ce55-4ae1-a9bf-095e2e77cd21\")) {\n",
       "                    Plotly.newPlot(\n",
       "                        'f2534eb9-ce55-4ae1-a9bf-095e2e77cd21',\n",
       "                        [{\"colorscale\": [[0.0, \"rgb(0, 147, 146)\"], [0.16666666666666666, \"rgb(57, 177, 133)\"], [0.3333333333333333, \"rgb(156, 203, 134)\"], [0.5, \"rgb(233, 226, 156)\"], [0.6666666666666666, \"rgb(238, 180, 121)\"], [0.8333333333333334, \"rgb(232, 132, 113)\"], [1.0, \"rgb(207, 89, 126)\"]], \"showscale\": false, \"type\": \"heatmap\", \"x\": [\"2020-04-02\", \"2020-04-07\", \"2020-04-13\", \"2020-04-14\", \"2020-04-15\", \"2020-04-16\", \"2020-04-17\", \"2020-04-18\", \"2020-04-19\", \"2020-04-20\", \"2020-04-21\", \"2020-04-22\", \"2020-04-23\", \"2020-04-24\", \"2020-04-25\", \"2020-04-26\", \"2020-04-27\", \"2020-04-28\", \"2020-04-29\", \"2020-04-30\", \"2020-05-01\", \"2020-05-02\", \"2020-05-03\", \"2020-05-04\", \"2020-05-05\", \"2020-05-06\", \"2020-05-07\", \"2020-05-08\", \"2020-05-09\", \"2020-05-10\", \"2020-05-11\", \"2020-05-12\", \"2020-05-13\", \"2020-05-14\", \"2020-05-15\", \"2020-05-16\", \"2020-05-17\", \"2020-05-18\", \"2020-05-19\", \"2020-05-20\", \"2020-05-21\", \"2020-05-22\", \"2020-05-23\", \"2020-05-24\", \"2020-05-25\", \"2020-05-26\", \"2020-05-27\", \"2020-05-28\", \"2020-05-29\", \"2020-05-30\", \"2020-05-31\", \"2020-06-01\", \"2020-06-02\", \"2020-06-03\", \"2020-06-04\", \"2020-06-05\", \"2020-06-06\"], \"y\": [\"Mag\\u00e9\", \"Marituba\", \"Campina Grande\", \"S\\u00e3o Vicente\", \"Benevides\", \"Abaetetuba\", \"Tucuru\\u00ed\", \"Curu\\u00e7\\u00e1\", \"Paragominas\", \"Barcarena\"], \"z\": [[0.0, 0.0, 0.02439024390243903, 0.02439024390243903, 0.07317073170731708, 0.07317073170731708, 0.07317073170731708, 0.04878048780487806, 0.04878048780487806, 0.0, 0.0, 0.0, 0.0, 0.02439024390243903, 0.02439024390243903, 0.04878048780487806, 0.04878048780487806, 0.04878048780487806, 0.02439024390243903, 0.02439024390243903, 0.0, 0.0, 0.02439024390243903, 0.02439024390243903, 0.02439024390243903, 0.02439024390243903, 0.09756097560975611, 0.12195121951219513, 0.14634146341463417, 0.14634146341463417, 0.14634146341463417, 0.09756097560975611, 0.04878048780487806, 0.19512195121951223, 0.3658536585365854, 0.5365853658536587, 0.5121951219512195, 0.5121951219512195, 0.3658536585365854, 0.21951219512195125, 0.07317073170731708, 0.853658536585366, 1.0, 1.0, 0.9756097560975611, 1.0, 0.24390243902439027, 0.17073170731707318, 0.3170731707317074, 0.3170731707317074, 0.26829268292682934, 0.24390243902439027, 0.17073170731707318, 0.14634146341463417, 0.21951219512195125, 0.21951219512195125, 0.21951219512195125], [0.0, 0.0, 0.0, 0.0, 0.0, 0.07142857142857144, 0.07142857142857144, 0.07142857142857144, 0.07142857142857144, 0.07142857142857144, 0.0, 0.0, 0.0, 0.0, 0.0, 0.0, 0.0, 0.0, 0.0, 0.0, 0.07142857142857144, 0.07142857142857144, 0.07142857142857144, 0.07142857142857144, 0.07142857142857144, 0.0, 0.0, 0.0, 0.14285714285714288, 0.2142857142857143, 0.5, 0.6428571428571429, 0.6428571428571429, 0.7857142857142858, 0.9285714285714287, 0.7142857142857143, 0.5714285714285715, 0.6428571428571429, 0.35714285714285715, 0.4285714285714286, 0.4285714285714286, 0.4285714285714286, 0.6428571428571429, 1.0, 1.0, 0.9285714285714287, 1.0, 0.9285714285714287, 0.5714285714285715, 0.28571428571428575, 0.28571428571428575, 0.28571428571428575, 0.07142857142857144, 0.07142857142857144, 0.07142857142857144, 0.07142857142857144, 0.0], [0.0, 0.0, 0.0, 0.0, 0.0, 0.04, 0.04, 0.04, 0.08, 0.08, 0.04, 0.04, 0.04, 0.0, 0.0, 0.0, 0.0, 0.0, 0.0, 0.0, 0.0, 0.0, 0.0, 0.0, 0.0, 0.0, 0.0, 0.0, 0.04, 0.04, 0.04, 0.08, 0.08, 0.04, 0.04, 0.08, 0.04, 0.12, 0.12, 0.12, 0.16, 0.2, 0.12, 0.12, 0.16, 0.08, 0.04, 0.2, 0.2, 0.16, 0.36, 0.52, 0.36, 0.52, 1.0, 0.8, 0.6799999999999999], [0.023255813953488375, -0.023255813953488375, 0.0, 0.0, 0.0, 0.0, 0.0, 0.0, 0.023255813953488375, 0.0, 0.023255813953488375, 0.023255813953488375, 0.023255813953488375, 0.0, 0.023255813953488375, 0.0, 0.0, 0.023255813953488375, 0.023255813953488375, 0.023255813953488375, 0.06976744186046512, 0.06976744186046512, 0.04651162790697675, 0.04651162790697675, 0.04651162790697675, 0.023255813953488375, 0.0930232558139535, 0.11627906976744186, 0.13953488372093023, 0.13953488372093023, 0.11627906976744186, 0.04651162790697675, 0.06976744186046512, 0.0930232558139535, 0.0930232558139535, 0.11627906976744186, 0.11627906976744186, 0.20930232558139536, 0.3488372093023256, 0.3488372093023256, 0.372093023255814, 0.4418604651162791, 0.3255813953488372, 0.3488372093023256, 0.48837209302325585, 0.4186046511627907, 0.813953488372093, 1.0, 0.7906976744186046, 0.6976744186046512, 0.7209302325581396, 0.2558139534883721, 0.13953488372093023, 0.186046511627907, 0.23255813953488372, 0.2558139534883721, 0.2558139534883721], [0.0, 0.0, 0.0, 0.0, 0.0, 0.0, 0.0, 0.0, 0.0, 0.0, 0.0, 0.0, 0.0, 0.045454545454545456, 0.045454545454545456, 0.045454545454545456, 0.045454545454545456, 0.045454545454545456, 0.0, 0.09090909090909091, 0.18181818181818182, 0.18181818181818182, 0.18181818181818182, 0.18181818181818182, 0.09090909090909091, 0.0, 0.0, 0.045454545454545456, 0.09090909090909091, 0.13636363636363635, 0.13636363636363635, 0.18181818181818182, 0.13636363636363635, 0.09090909090909091, 0.045454545454545456, 0.09090909090909091, 0.045454545454545456, 0.045454545454545456, 0.045454545454545456, 0.09090909090909091, 0.13636363636363635, 0.13636363636363635, 0.18181818181818182, 0.18181818181818182, 0.18181818181818182, 0.09090909090909091, 0.09090909090909091, 0.40909090909090906, 0.40909090909090906, 1.0, 1.0, 1.0, 0.7272727272727273, 0.7727272727272726, 0.13636363636363635, 0.13636363636363635, 0.13636363636363635], [0.0, 0.0, 0.0, 0.0, 0.0, 0.0, 0.0, 0.0, 0.0, 0.0, 0.0, 0.0, 0.0, 0.0, 0.0, 0.0, 0.0, 0.0, 0.0, 0.0, 0.0, 0.0, 0.0, 0.0, 0.0, 0.0, 0.0, 0.04347826086956522, 0.04347826086956522, 0.13043478260869565, 0.2608695652173913, 0.30434782608695654, 0.3478260869565218, 0.3478260869565218, 0.2608695652173913, 0.1739130434782609, 0.13043478260869565, 0.13043478260869565, 0.13043478260869565, 0.2608695652173913, 0.30434782608695654, 0.6956521739130436, 0.9130434782608696, 0.9130434782608696, 0.8695652173913044, 1.0, 0.8695652173913044, 0.6521739130434783, 0.782608695652174, 0.7391304347826088, 0.5217391304347826, 0.2608695652173913, 0.47826086956521746, 0.47826086956521746, 0.4347826086956522, 0.4347826086956522, 0.4347826086956522], [0.0, 0.0, 0.0, 0.0, 0.0, 0.0, 0.0, 0.0, 0.0, 0.0, 0.0, 0.0, 0.0, 0.0, 0.0, 0.0, 0.0, 0.0, 0.0, 0.0, 0.0, 0.045454545454545456, 0.045454545454545456, 0.13636363636363635, 0.13636363636363635, 0.13636363636363635, 0.09090909090909091, 0.22727272727272727, 0.13636363636363635, 0.13636363636363635, 0.13636363636363635, 0.13636363636363635, 0.045454545454545456, 0.045454545454545456, 0.045454545454545456, 0.045454545454545456, 0.5, 0.6818181818181818, 0.6818181818181818, 1.0, 1.0, 0.7272727272727273, 0.5, 0.5, 0.45454545454545453, 0.5, 0.3181818181818181, 0.5909090909090908, 0.5909090909090908, 0.3181818181818181, 0.2727272727272727, 0.2727272727272727, 0.0, 0.13636363636363635, 0.13636363636363635, 0.13636363636363635, 0.13636363636363635], [0.0, 0.0, 0.0, 0.0, 0.0, 0.0, 0.0, 0.0, 0.0, 0.0, 0.0, 0.0, 0.0, 0.0, 0.0, 0.0, 0.0, 0.0, 0.0, 0.0, 0.0, 0.0, 0.0, 0.17647058823529413, 0.17647058823529413, 0.17647058823529413, 0.17647058823529413, 0.17647058823529413, 0.0, 0.0, 0.4117647058823529, 0.4117647058823529, 0.4117647058823529, 0.4117647058823529, 0.4705882352941177, 0.05882352941176471, 0.05882352941176471, 0.05882352941176471, 0.05882352941176471, 0.7058823529411765, 0.7058823529411765, 0.8823529411764706, 0.9411764705882354, 1.0, 0.4117647058823529, 0.4117647058823529, 0.4705882352941177, 0.4117647058823529, 0.4117647058823529, 0.35294117647058826, 0.35294117647058826, 0.11764705882352942, 0.11764705882352942, 0.05882352941176471, 0.0, 0.0, 0.0], [0.0, 0.0, 0.0, 0.0, 0.0, 0.0, 0.0, 0.0, 0.0, 0.0, 0.0, 0.0, 0.0, 0.0, 0.0, 0.07246376811594203, 0.10869565217391305, 0.08695652173913045, 0.13043478260869565, 0.13043478260869565, 0.08695652173913045, 0.04347826086956522, 0.04347826086956522, 0.0, 0.0, 0.0, 0.0, 0.0, 0.0, 0.0, 0.0, 0.0, 0.0, 0.0, 0.0, 0.0, 0.0, 0.0, 0.0, 0.2608695652173913, 0.47826086956521746, 0.47826086956521746, 0.6956521739130436, 0.6956521739130436, 0.5217391304347826, 0.9565217391304349, 0.9565217391304349, 0.782608695652174, 1.0, 0.9130434782608696, 0.2608695652173913, 0.30434782608695654, 0.6521739130434783, 0.6086956521739131, 0.6086956521739131, 0.6086956521739131, 0.5652173913043479], [0.0, 0.0, 0.0, 0.0, 0.0, 0.0, 0.0, 0.0, 0.0, 0.0, 0.0, 0.0, 0.0, 0.02127659574468085, 0.02127659574468085, 0.02127659574468085, 0.02127659574468085, 0.02127659574468085, 0.0, 0.0, 0.0, 0.0425531914893617, 0.0425531914893617, 0.0425531914893617, 0.0425531914893617, 0.0425531914893617, 0.0, 0.0425531914893617, 0.0425531914893617, 0.0425531914893617, 0.0851063829787234, 0.10638297872340426, 0.06382978723404255, 0.06382978723404255, 0.06382978723404255, 0.02127659574468085, 0.0, 0.06382978723404255, 0.06382978723404255, 0.7872340425531915, 0.8085106382978723, 0.978723404255319, 1.0, 1.0, 0.2978723404255319, 0.3191489361702127, 0.14893617021276595, 0.06382978723404255, 0.0425531914893617, 0.06382978723404255, 0.02127659574468085, 0.02127659574468085, 0.06382978723404255, 0.06382978723404255, 0.02127659574468085, 0.02127659574468085, 0.02127659574468085]], \"zmax\": 1, \"zmin\": 0}, {\"orientation\": \"h\", \"type\": \"bar\", \"x\": [98, 43, 41, 91, 40, 62, 49, 36, 56, 64], \"xaxis\": \"x2\", \"y\": [\"Mag\\u00e9\", \"Marituba\", \"Campina Grande\", \"S\\u00e3o Vicente\", \"Benevides\", \"Abaetetuba\", \"Tucuru\\u00ed\", \"Curu\\u00e7\\u00e1\", \"Paragominas\", \"Barcarena\"], \"yaxis\": \"y2\"}],\n",
       "                        {\"plot_bgcolor\": \"rgba(0,0,0,0)\", \"template\": {\"data\": {\"bar\": [{\"error_x\": {\"color\": \"#2a3f5f\"}, \"error_y\": {\"color\": \"#2a3f5f\"}, \"marker\": {\"line\": {\"color\": \"#E5ECF6\", \"width\": 0.5}}, \"type\": \"bar\"}], \"barpolar\": [{\"marker\": {\"line\": {\"color\": \"#E5ECF6\", \"width\": 0.5}}, \"type\": \"barpolar\"}], \"carpet\": [{\"aaxis\": {\"endlinecolor\": \"#2a3f5f\", \"gridcolor\": \"white\", \"linecolor\": \"white\", \"minorgridcolor\": \"white\", \"startlinecolor\": \"#2a3f5f\"}, \"baxis\": {\"endlinecolor\": \"#2a3f5f\", \"gridcolor\": \"white\", \"linecolor\": \"white\", \"minorgridcolor\": \"white\", \"startlinecolor\": \"#2a3f5f\"}, \"type\": \"carpet\"}], \"choropleth\": [{\"colorbar\": {\"outlinewidth\": 0, \"ticks\": \"\"}, \"type\": \"choropleth\"}], \"contour\": [{\"colorbar\": {\"outlinewidth\": 0, \"ticks\": \"\"}, \"colorscale\": [[0.0, \"#0d0887\"], [0.1111111111111111, \"#46039f\"], [0.2222222222222222, \"#7201a8\"], [0.3333333333333333, \"#9c179e\"], [0.4444444444444444, \"#bd3786\"], [0.5555555555555556, \"#d8576b\"], [0.6666666666666666, \"#ed7953\"], [0.7777777777777778, \"#fb9f3a\"], [0.8888888888888888, \"#fdca26\"], [1.0, \"#f0f921\"]], \"type\": \"contour\"}], \"contourcarpet\": [{\"colorbar\": {\"outlinewidth\": 0, \"ticks\": \"\"}, \"type\": \"contourcarpet\"}], \"heatmap\": [{\"colorbar\": {\"outlinewidth\": 0, \"ticks\": \"\"}, \"colorscale\": [[0.0, \"#0d0887\"], [0.1111111111111111, \"#46039f\"], [0.2222222222222222, \"#7201a8\"], [0.3333333333333333, \"#9c179e\"], [0.4444444444444444, \"#bd3786\"], [0.5555555555555556, \"#d8576b\"], [0.6666666666666666, \"#ed7953\"], [0.7777777777777778, \"#fb9f3a\"], [0.8888888888888888, \"#fdca26\"], [1.0, \"#f0f921\"]], \"type\": \"heatmap\"}], \"heatmapgl\": [{\"colorbar\": {\"outlinewidth\": 0, \"ticks\": \"\"}, \"colorscale\": [[0.0, \"#0d0887\"], [0.1111111111111111, \"#46039f\"], [0.2222222222222222, \"#7201a8\"], [0.3333333333333333, \"#9c179e\"], [0.4444444444444444, \"#bd3786\"], [0.5555555555555556, \"#d8576b\"], [0.6666666666666666, \"#ed7953\"], [0.7777777777777778, \"#fb9f3a\"], [0.8888888888888888, \"#fdca26\"], [1.0, \"#f0f921\"]], \"type\": \"heatmapgl\"}], \"histogram\": [{\"marker\": {\"colorbar\": {\"outlinewidth\": 0, \"ticks\": \"\"}}, \"type\": \"histogram\"}], \"histogram2d\": [{\"colorbar\": {\"outlinewidth\": 0, \"ticks\": \"\"}, \"colorscale\": [[0.0, \"#0d0887\"], [0.1111111111111111, \"#46039f\"], [0.2222222222222222, \"#7201a8\"], [0.3333333333333333, \"#9c179e\"], [0.4444444444444444, \"#bd3786\"], [0.5555555555555556, \"#d8576b\"], [0.6666666666666666, \"#ed7953\"], [0.7777777777777778, \"#fb9f3a\"], [0.8888888888888888, \"#fdca26\"], [1.0, \"#f0f921\"]], \"type\": \"histogram2d\"}], \"histogram2dcontour\": [{\"colorbar\": {\"outlinewidth\": 0, \"ticks\": \"\"}, \"colorscale\": [[0.0, \"#0d0887\"], [0.1111111111111111, \"#46039f\"], [0.2222222222222222, \"#7201a8\"], [0.3333333333333333, \"#9c179e\"], [0.4444444444444444, \"#bd3786\"], [0.5555555555555556, \"#d8576b\"], [0.6666666666666666, \"#ed7953\"], [0.7777777777777778, \"#fb9f3a\"], [0.8888888888888888, \"#fdca26\"], [1.0, \"#f0f921\"]], \"type\": \"histogram2dcontour\"}], \"mesh3d\": [{\"colorbar\": {\"outlinewidth\": 0, \"ticks\": \"\"}, \"type\": \"mesh3d\"}], \"parcoords\": [{\"line\": {\"colorbar\": {\"outlinewidth\": 0, \"ticks\": \"\"}}, \"type\": \"parcoords\"}], \"pie\": [{\"automargin\": true, \"type\": \"pie\"}], \"scatter\": [{\"marker\": {\"colorbar\": {\"outlinewidth\": 0, \"ticks\": \"\"}}, \"type\": \"scatter\"}], \"scatter3d\": [{\"line\": {\"colorbar\": {\"outlinewidth\": 0, \"ticks\": \"\"}}, \"marker\": {\"colorbar\": {\"outlinewidth\": 0, \"ticks\": \"\"}}, \"type\": \"scatter3d\"}], \"scattercarpet\": [{\"marker\": {\"colorbar\": {\"outlinewidth\": 0, \"ticks\": \"\"}}, \"type\": \"scattercarpet\"}], \"scattergeo\": [{\"marker\": {\"colorbar\": {\"outlinewidth\": 0, \"ticks\": \"\"}}, \"type\": \"scattergeo\"}], \"scattergl\": [{\"marker\": {\"colorbar\": {\"outlinewidth\": 0, \"ticks\": \"\"}}, \"type\": \"scattergl\"}], \"scattermapbox\": [{\"marker\": {\"colorbar\": {\"outlinewidth\": 0, \"ticks\": \"\"}}, \"type\": \"scattermapbox\"}], \"scatterpolar\": [{\"marker\": {\"colorbar\": {\"outlinewidth\": 0, \"ticks\": \"\"}}, \"type\": \"scatterpolar\"}], \"scatterpolargl\": [{\"marker\": {\"colorbar\": {\"outlinewidth\": 0, \"ticks\": \"\"}}, \"type\": \"scatterpolargl\"}], \"scatterternary\": [{\"marker\": {\"colorbar\": {\"outlinewidth\": 0, \"ticks\": \"\"}}, \"type\": \"scatterternary\"}], \"surface\": [{\"colorbar\": {\"outlinewidth\": 0, \"ticks\": \"\"}, \"colorscale\": [[0.0, \"#0d0887\"], [0.1111111111111111, \"#46039f\"], [0.2222222222222222, \"#7201a8\"], [0.3333333333333333, \"#9c179e\"], [0.4444444444444444, \"#bd3786\"], [0.5555555555555556, \"#d8576b\"], [0.6666666666666666, \"#ed7953\"], [0.7777777777777778, \"#fb9f3a\"], [0.8888888888888888, \"#fdca26\"], [1.0, \"#f0f921\"]], \"type\": \"surface\"}], \"table\": [{\"cells\": {\"fill\": {\"color\": \"#EBF0F8\"}, \"line\": {\"color\": \"white\"}}, \"header\": {\"fill\": {\"color\": \"#C8D4E3\"}, \"line\": {\"color\": \"white\"}}, \"type\": \"table\"}]}, \"layout\": {\"annotationdefaults\": {\"arrowcolor\": \"#2a3f5f\", \"arrowhead\": 0, \"arrowwidth\": 1}, \"coloraxis\": {\"colorbar\": {\"outlinewidth\": 0, \"ticks\": \"\"}}, \"colorscale\": {\"diverging\": [[0, \"#8e0152\"], [0.1, \"#c51b7d\"], [0.2, \"#de77ae\"], [0.3, \"#f1b6da\"], [0.4, \"#fde0ef\"], [0.5, \"#f7f7f7\"], [0.6, \"#e6f5d0\"], [0.7, \"#b8e186\"], [0.8, \"#7fbc41\"], [0.9, \"#4d9221\"], [1, \"#276419\"]], \"sequential\": [[0.0, \"#0d0887\"], [0.1111111111111111, \"#46039f\"], [0.2222222222222222, \"#7201a8\"], [0.3333333333333333, \"#9c179e\"], [0.4444444444444444, \"#bd3786\"], [0.5555555555555556, \"#d8576b\"], [0.6666666666666666, \"#ed7953\"], [0.7777777777777778, \"#fb9f3a\"], [0.8888888888888888, \"#fdca26\"], [1.0, \"#f0f921\"]], \"sequentialminus\": [[0.0, \"#0d0887\"], [0.1111111111111111, \"#46039f\"], [0.2222222222222222, \"#7201a8\"], [0.3333333333333333, \"#9c179e\"], [0.4444444444444444, \"#bd3786\"], [0.5555555555555556, \"#d8576b\"], [0.6666666666666666, \"#ed7953\"], [0.7777777777777778, \"#fb9f3a\"], [0.8888888888888888, \"#fdca26\"], [1.0, \"#f0f921\"]]}, \"colorway\": [\"#636efa\", \"#EF553B\", \"#00cc96\", \"#ab63fa\", \"#FFA15A\", \"#19d3f3\", \"#FF6692\", \"#B6E880\", \"#FF97FF\", \"#FECB52\"], \"font\": {\"color\": \"#2a3f5f\"}, \"geo\": {\"bgcolor\": \"white\", \"lakecolor\": \"white\", \"landcolor\": \"#E5ECF6\", \"showlakes\": true, \"showland\": true, \"subunitcolor\": \"white\"}, \"hoverlabel\": {\"align\": \"left\"}, \"hovermode\": \"closest\", \"mapbox\": {\"style\": \"light\"}, \"paper_bgcolor\": \"white\", \"plot_bgcolor\": \"#E5ECF6\", \"polar\": {\"angularaxis\": {\"gridcolor\": \"white\", \"linecolor\": \"white\", \"ticks\": \"\"}, \"bgcolor\": \"#E5ECF6\", \"radialaxis\": {\"gridcolor\": \"white\", \"linecolor\": \"white\", \"ticks\": \"\"}}, \"scene\": {\"xaxis\": {\"backgroundcolor\": \"#E5ECF6\", \"gridcolor\": \"white\", \"gridwidth\": 2, \"linecolor\": \"white\", \"showbackground\": true, \"ticks\": \"\", \"zerolinecolor\": \"white\"}, \"yaxis\": {\"backgroundcolor\": \"#E5ECF6\", \"gridcolor\": \"white\", \"gridwidth\": 2, \"linecolor\": \"white\", \"showbackground\": true, \"ticks\": \"\", \"zerolinecolor\": \"white\"}, \"zaxis\": {\"backgroundcolor\": \"#E5ECF6\", \"gridcolor\": \"white\", \"gridwidth\": 2, \"linecolor\": \"white\", \"showbackground\": true, \"ticks\": \"\", \"zerolinecolor\": \"white\"}}, \"shapedefaults\": {\"line\": {\"color\": \"#2a3f5f\"}}, \"ternary\": {\"aaxis\": {\"gridcolor\": \"white\", \"linecolor\": \"white\", \"ticks\": \"\"}, \"baxis\": {\"gridcolor\": \"white\", \"linecolor\": \"white\", \"ticks\": \"\"}, \"bgcolor\": \"#E5ECF6\", \"caxis\": {\"gridcolor\": \"white\", \"linecolor\": \"white\", \"ticks\": \"\"}}, \"title\": {\"x\": 0.05}, \"xaxis\": {\"automargin\": true, \"gridcolor\": \"white\", \"linecolor\": \"white\", \"ticks\": \"\", \"title\": {\"standoff\": 15}, \"zerolinecolor\": \"white\", \"zerolinewidth\": 2}, \"yaxis\": {\"automargin\": true, \"gridcolor\": \"white\", \"linecolor\": \"white\", \"ticks\": \"\", \"title\": {\"standoff\": 15}, \"zerolinecolor\": \"white\", \"zerolinewidth\": 2}}}, \"title\": {\"text\": \"Mapa de calor: M\\u00e9dia m\\u00f3vel de novas mortes nos \\u00faltimos 5 dias\"}, \"xaxis\": {\"domain\": [0, 0.7]}, \"xaxis2\": {\"domain\": [0.8, 1], \"showticklabels\": true}, \"yaxis\": {\"tickmode\": \"linear\"}, \"yaxis2\": {\"anchor\": \"x2\", \"tickmode\": \"linear\"}},\n",
       "                        {\"responsive\": true}\n",
       "                    ).then(function(){\n",
       "                            \n",
       "var gd = document.getElementById('f2534eb9-ce55-4ae1-a9bf-095e2e77cd21');\n",
       "var x = new MutationObserver(function (mutations, observer) {{\n",
       "        var display = window.getComputedStyle(gd).display;\n",
       "        if (!display || display === 'none') {{\n",
       "            console.log([gd, 'removed!']);\n",
       "            Plotly.purge(gd);\n",
       "            observer.disconnect();\n",
       "        }}\n",
       "}});\n",
       "\n",
       "// Listen for the removal of the full notebook cells\n",
       "var notebookContainer = gd.closest('#notebook-container');\n",
       "if (notebookContainer) {{\n",
       "    x.observe(notebookContainer, {childList: true});\n",
       "}}\n",
       "\n",
       "// Listen for the clearing of the current output cell\n",
       "var outputEl = gd.closest('.output');\n",
       "if (outputEl) {{\n",
       "    x.observe(outputEl, {childList: true});\n",
       "}}\n",
       "\n",
       "                        })\n",
       "                };\n",
       "                });\n",
       "            </script>\n",
       "        </div>"
      ]
     },
     "metadata": {},
     "output_type": "display_data"
    }
   ],
   "source": [
    "# Plotar o mapa de calor com total de mortes por município\n",
    "fig = heatmap(df_heatmap.loc[cities_names].iloc[::-1], city_total_deaths[::-1], title, colors)\n",
    "fig.show()"
   ]
  },
  {
   "cell_type": "code",
   "execution_count": 28,
   "metadata": {},
   "outputs": [],
   "source": [
    "import plotly.io as pio"
   ]
  },
  {
   "cell_type": "code",
   "execution_count": 29,
   "metadata": {},
   "outputs": [],
   "source": [
    "#Salvar imagem\n",
    "#pio.write_image(fig,f'../data/figures/hm0{v}.jpeg',format='jpeg',width=1920, height=1080)\n",
    "#v+=1"
   ]
  },
  {
   "cell_type": "code",
   "execution_count": 30,
   "metadata": {},
   "outputs": [],
   "source": [
    "dfnfilt['first_case'] = first_case\n",
    "dfnfilt['first_death'] = first_death"
   ]
  },
  {
   "cell_type": "code",
   "execution_count": 31,
   "metadata": {},
   "outputs": [],
   "source": [
    "#DataFrame com os dados ordenados\n",
    "##Alterando o nome da coluna, altera a ordenação dos dados, as 10 primeiras linhas serão\n",
    "## as 10 menores observações, as 10 ultimas, serão as 10 maiores\n",
    "### e.g. Municipios com o maior Rt, municípios com o menor Rt ...\n",
    "dfexib = dfnfilt.sort_values('rt_10days_ago_avg', ascending = False) #Alterar essa linha"
   ]
  },
  {
   "cell_type": "code",
   "execution_count": 32,
   "metadata": {},
   "outputs": [],
   "source": [
    "h = dfexib[['city_name','state_id','first_death','deaths','deaths_100khab',\n",
    " 'first_case','confirmed_cases', 'cases_100khab', 'subnotification_rate',\n",
    "        'inloco_last_week_7days_avg','inloco_today_7days_avg',\n",
    "        'rt_17days_ago_avg','rt_10days_ago_avg']]\n",
    "h.to_csv(\"..data/output/dados_g1.csv\", index=False)"
   ]
  },
  {
   "cell_type": "code",
   "execution_count": 33,
   "metadata": {
    "code_folding": []
   },
   "outputs": [
    {
     "data": {
      "text/html": [
       "<div>\n",
       "<style scoped>\n",
       "    .dataframe tbody tr th:only-of-type {\n",
       "        vertical-align: middle;\n",
       "    }\n",
       "\n",
       "    .dataframe tbody tr th {\n",
       "        vertical-align: top;\n",
       "    }\n",
       "\n",
       "    .dataframe thead th {\n",
       "        text-align: right;\n",
       "    }\n",
       "</style>\n",
       "<table border=\"1\" class=\"dataframe\">\n",
       "  <thead>\n",
       "    <tr style=\"text-align: right;\">\n",
       "      <th></th>\n",
       "      <th>city_name</th>\n",
       "      <th>state_id</th>\n",
       "      <th>first_death</th>\n",
       "      <th>deaths</th>\n",
       "      <th>deaths_100khab</th>\n",
       "      <th>first_case</th>\n",
       "      <th>confirmed_cases</th>\n",
       "      <th>cases_100khab</th>\n",
       "      <th>subnotification_rate</th>\n",
       "      <th>inloco_last_week_7days_avg</th>\n",
       "      <th>inloco_today_7days_avg</th>\n",
       "      <th>rt_17days_ago_avg</th>\n",
       "      <th>rt_10days_ago_avg</th>\n",
       "    </tr>\n",
       "  </thead>\n",
       "  <tbody>\n",
       "    <tr>\n",
       "      <th>117</th>\n",
       "      <td>Barcarena</td>\n",
       "      <td>PA</td>\n",
       "      <td>2020-04-24</td>\n",
       "      <td>68.0</td>\n",
       "      <td>54.539621</td>\n",
       "      <td>2020-04-01</td>\n",
       "      <td>983.0</td>\n",
       "      <td>788.418351</td>\n",
       "      <td>0.733238</td>\n",
       "      <td>0.410981</td>\n",
       "      <td>0.373488</td>\n",
       "      <td>2.152857</td>\n",
       "      <td>2.362857</td>\n",
       "    </tr>\n",
       "    <tr>\n",
       "      <th>123</th>\n",
       "      <td>Paragominas</td>\n",
       "      <td>PA</td>\n",
       "      <td>2020-04-26</td>\n",
       "      <td>64.0</td>\n",
       "      <td>56.564585</td>\n",
       "      <td>2020-04-24</td>\n",
       "      <td>940.0</td>\n",
       "      <td>830.792346</td>\n",
       "      <td>0.735089</td>\n",
       "      <td>0.438382</td>\n",
       "      <td>0.409911</td>\n",
       "      <td>1.374286</td>\n",
       "      <td>2.161429</td>\n",
       "    </tr>\n",
       "    <tr>\n",
       "      <th>72</th>\n",
       "      <td>Curuçá</td>\n",
       "      <td>PA</td>\n",
       "      <td>2020-05-04</td>\n",
       "      <td>40.0</td>\n",
       "      <td>99.835272</td>\n",
       "      <td>2020-04-22</td>\n",
       "      <td>475.0</td>\n",
       "      <td>1185.543853</td>\n",
       "      <td>0.784588</td>\n",
       "      <td>0.454609</td>\n",
       "      <td>0.408861</td>\n",
       "      <td>2.167143</td>\n",
       "      <td>2.067143</td>\n",
       "    </tr>\n",
       "    <tr>\n",
       "      <th>27</th>\n",
       "      <td>Tucuruí</td>\n",
       "      <td>PA</td>\n",
       "      <td>2020-05-02</td>\n",
       "      <td>59.0</td>\n",
       "      <td>51.909660</td>\n",
       "      <td>2020-03-31</td>\n",
       "      <td>696.0</td>\n",
       "      <td>612.358018</td>\n",
       "      <td>0.765782</td>\n",
       "      <td>0.470149</td>\n",
       "      <td>0.429766</td>\n",
       "      <td>2.318571</td>\n",
       "      <td>2.048571</td>\n",
       "    </tr>\n",
       "    <tr>\n",
       "      <th>122</th>\n",
       "      <td>Abaetetuba</td>\n",
       "      <td>PA</td>\n",
       "      <td>2020-05-08</td>\n",
       "      <td>68.0</td>\n",
       "      <td>43.120395</td>\n",
       "      <td>2020-03-31</td>\n",
       "      <td>1735.0</td>\n",
       "      <td>1100.204188</td>\n",
       "      <td>0.472154</td>\n",
       "      <td>0.484150</td>\n",
       "      <td>0.447712</td>\n",
       "      <td>1.634286</td>\n",
       "      <td>1.972857</td>\n",
       "    </tr>\n",
       "    <tr>\n",
       "      <th>121</th>\n",
       "      <td>Benevides</td>\n",
       "      <td>PA</td>\n",
       "      <td>2020-04-24</td>\n",
       "      <td>43.0</td>\n",
       "      <td>68.540096</td>\n",
       "      <td>2020-04-03</td>\n",
       "      <td>1034.0</td>\n",
       "      <td>1648.150214</td>\n",
       "      <td>0.545170</td>\n",
       "      <td>0.411787</td>\n",
       "      <td>0.375134</td>\n",
       "      <td>1.622857</td>\n",
       "      <td>1.887143</td>\n",
       "    </tr>\n",
       "    <tr>\n",
       "      <th>119</th>\n",
       "      <td>São Vicente</td>\n",
       "      <td>SP</td>\n",
       "      <td>2020-04-02</td>\n",
       "      <td>91.0</td>\n",
       "      <td>24.877118</td>\n",
       "      <td>2020-03-31</td>\n",
       "      <td>1352.0</td>\n",
       "      <td>369.602896</td>\n",
       "      <td>0.719370</td>\n",
       "      <td>0.420543</td>\n",
       "      <td>0.416872</td>\n",
       "      <td>1.642857</td>\n",
       "      <td>1.837143</td>\n",
       "    </tr>\n",
       "    <tr>\n",
       "      <th>120</th>\n",
       "      <td>Campina Grande</td>\n",
       "      <td>PB</td>\n",
       "      <td>2020-04-16</td>\n",
       "      <td>44.0</td>\n",
       "      <td>10.738753</td>\n",
       "      <td>2020-03-27</td>\n",
       "      <td>2650.0</td>\n",
       "      <td>646.765805</td>\n",
       "      <td>0.000000</td>\n",
       "      <td>0.459431</td>\n",
       "      <td>0.431114</td>\n",
       "      <td>1.592857</td>\n",
       "      <td>1.834286</td>\n",
       "    </tr>\n",
       "    <tr>\n",
       "      <th>1</th>\n",
       "      <td>Marituba</td>\n",
       "      <td>PA</td>\n",
       "      <td>2020-04-16</td>\n",
       "      <td>48.0</td>\n",
       "      <td>36.496073</td>\n",
       "      <td>2020-03-31</td>\n",
       "      <td>497.0</td>\n",
       "      <td>377.886421</td>\n",
       "      <td>0.793501</td>\n",
       "      <td>0.406587</td>\n",
       "      <td>0.381179</td>\n",
       "      <td>2.304286</td>\n",
       "      <td>1.808571</td>\n",
       "    </tr>\n",
       "    <tr>\n",
       "      <th>109</th>\n",
       "      <td>Magé</td>\n",
       "      <td>RJ</td>\n",
       "      <td>2020-04-13</td>\n",
       "      <td>98.0</td>\n",
       "      <td>39.988412</td>\n",
       "      <td>2020-04-02</td>\n",
       "      <td>918.0</td>\n",
       "      <td>374.585324</td>\n",
       "      <td>0.835686</td>\n",
       "      <td>0.439057</td>\n",
       "      <td>0.427219</td>\n",
       "      <td>1.721429</td>\n",
       "      <td>1.775714</td>\n",
       "    </tr>\n",
       "  </tbody>\n",
       "</table>\n",
       "</div>"
      ],
      "text/plain": [
       "          city_name state_id first_death  deaths  deaths_100khab  first_case  \\\n",
       "117       Barcarena       PA  2020-04-24    68.0       54.539621  2020-04-01   \n",
       "123     Paragominas       PA  2020-04-26    64.0       56.564585  2020-04-24   \n",
       "72           Curuçá       PA  2020-05-04    40.0       99.835272  2020-04-22   \n",
       "27          Tucuruí       PA  2020-05-02    59.0       51.909660  2020-03-31   \n",
       "122      Abaetetuba       PA  2020-05-08    68.0       43.120395  2020-03-31   \n",
       "121       Benevides       PA  2020-04-24    43.0       68.540096  2020-04-03   \n",
       "119     São Vicente       SP  2020-04-02    91.0       24.877118  2020-03-31   \n",
       "120  Campina Grande       PB  2020-04-16    44.0       10.738753  2020-03-27   \n",
       "1          Marituba       PA  2020-04-16    48.0       36.496073  2020-03-31   \n",
       "109            Magé       RJ  2020-04-13    98.0       39.988412  2020-04-02   \n",
       "\n",
       "     confirmed_cases  cases_100khab  subnotification_rate  \\\n",
       "117            983.0     788.418351              0.733238   \n",
       "123            940.0     830.792346              0.735089   \n",
       "72             475.0    1185.543853              0.784588   \n",
       "27             696.0     612.358018              0.765782   \n",
       "122           1735.0    1100.204188              0.472154   \n",
       "121           1034.0    1648.150214              0.545170   \n",
       "119           1352.0     369.602896              0.719370   \n",
       "120           2650.0     646.765805              0.000000   \n",
       "1              497.0     377.886421              0.793501   \n",
       "109            918.0     374.585324              0.835686   \n",
       "\n",
       "     inloco_last_week_7days_avg  inloco_today_7days_avg  rt_17days_ago_avg  \\\n",
       "117                    0.410981                0.373488           2.152857   \n",
       "123                    0.438382                0.409911           1.374286   \n",
       "72                     0.454609                0.408861           2.167143   \n",
       "27                     0.470149                0.429766           2.318571   \n",
       "122                    0.484150                0.447712           1.634286   \n",
       "121                    0.411787                0.375134           1.622857   \n",
       "119                    0.420543                0.416872           1.642857   \n",
       "120                    0.459431                0.431114           1.592857   \n",
       "1                      0.406587                0.381179           2.304286   \n",
       "109                    0.439057                0.427219           1.721429   \n",
       "\n",
       "     rt_10days_ago_avg  \n",
       "117           2.362857  \n",
       "123           2.161429  \n",
       "72            2.067143  \n",
       "27            2.048571  \n",
       "122           1.972857  \n",
       "121           1.887143  \n",
       "119           1.837143  \n",
       "120           1.834286  \n",
       "1             1.808571  \n",
       "109           1.775714  "
      ]
     },
     "execution_count": 33,
     "metadata": {},
     "output_type": "execute_result"
    }
   ],
   "source": [
    "#Exibição dos dados mostrando algumas variáveis relevantes\n",
    "## No exemplo, municípios com os 10 menores Rt\n",
    "h.iloc[:10]"
   ]
  },
  {
   "cell_type": "code",
   "execution_count": 34,
   "metadata": {},
   "outputs": [
    {
     "name": "stdout",
     "output_type": "stream",
     "text": [
      "Max: 2.362857\n",
      "Min: 1.775714\n"
     ]
    }
   ],
   "source": [
    "print(\"Max: %f\" % dfnfilt['rt_10days_ago_avg'].sort_values(ascending = False)[:10].max())\n",
    "print(\"Min: %f\" % dfnfilt['rt_10days_ago_avg'].sort_values(ascending = False)[:10].min())\n",
    "\n"
   ]
  }
 ],
 "metadata": {
  "kernelspec": {
   "display_name": "Python 3",
   "language": "python",
   "name": "python3"
  },
  "language_info": {
   "codemirror_mode": {
    "name": "ipython",
    "version": 3
   },
   "file_extension": ".py",
   "mimetype": "text/x-python",
   "name": "python",
   "nbconvert_exporter": "python",
   "pygments_lexer": "ipython3",
   "version": "3.6.10"
  },
  "varInspector": {
   "cols": {
    "lenName": 16,
    "lenType": 16,
    "lenVar": 40
   },
   "kernels_config": {
    "python": {
     "delete_cmd_postfix": "",
     "delete_cmd_prefix": "del ",
     "library": "var_list.py",
     "varRefreshCmd": "print(var_dic_list())"
    },
    "r": {
     "delete_cmd_postfix": ") ",
     "delete_cmd_prefix": "rm(",
     "library": "var_list.r",
     "varRefreshCmd": "cat(var_dic_list()) "
    }
   },
   "types_to_exclude": [
    "module",
    "function",
    "builtin_function_or_method",
    "instance",
    "_Feature"
   ],
   "window_display": false
  }
 },
 "nbformat": 4,
 "nbformat_minor": 4
}
